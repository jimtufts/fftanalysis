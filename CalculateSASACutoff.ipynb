{
 "cells": [
  {
   "cell_type": "code",
   "execution_count": 3,
   "id": "e5b121de-1177-431e-ab92-d64903a2f1fc",
   "metadata": {},
   "outputs": [],
   "source": [
    "import mdtraj as md\n",
    "import numpy as np\n",
    "import sys\n",
    "import os\n",
    "import glob"
   ]
  },
  {
   "cell_type": "code",
   "execution_count": 14,
   "id": "a5983bee-c1b5-4108-ba7e-95820b7f0589",
   "metadata": {},
   "outputs": [],
   "source": [
    "base_dir = '/home/jtufts/Desktop/FFT_PPI/2.redock/'\n",
    "amber_dir = f'{base_dir}1.amber/'\n",
    "min_dir = f'{base_dir}2.minimize/'\n",
    "\n",
    "amber_sub_dirs = glob.glob(os.path.join(amber_dir, \"*\"))\n",
    "amber_sub_dirs = [dir for dir in amber_sub_dirs if os.path.isdir(dir)]\n",
    "complex_names = [os.path.basename(dir) for dir in amber_sub_dirs]\n",
    "complex_names.sort()"
   ]
  },
  {
   "cell_type": "code",
   "execution_count": 15,
   "id": "f2ca8c3c-746d-4111-90d4-f630bd66b65c",
   "metadata": {},
   "outputs": [
    {
     "name": "stdout",
     "output_type": "stream",
     "text": [
      "2OOB_A:B\n"
     ]
    }
   ],
   "source": [
    "print(complex_names[127])"
   ]
  },
  {
   "cell_type": "code",
   "execution_count": 18,
   "id": "61daad9c-5d98-47a3-a24b-3c226a74b62f",
   "metadata": {},
   "outputs": [
    {
     "ename": "FileNotFoundError",
     "evalue": "[Errno 2] No such file or directory: '/home/jtufts/Desktop/FFT_PPI/2.redock/2.minimize/1AHW_AB:C/receptor.inpcrd'",
     "output_type": "error",
     "traceback": [
      "\u001b[0;31m---------------------------------------------------------------------------\u001b[0m",
      "\u001b[0;31mFileNotFoundError\u001b[0m                         Traceback (most recent call last)",
      "\u001b[0;32m/tmp/ipykernel_4079/3137554941.py\u001b[0m in \u001b[0;36m<module>\u001b[0;34m\u001b[0m\n\u001b[1;32m      5\u001b[0m     \u001b[0mlig_inpcrd\u001b[0m \u001b[0;34m=\u001b[0m \u001b[0;34mf'{min_dir}{system}/ligand.inpcrd'\u001b[0m\u001b[0;34m\u001b[0m\u001b[0;34m\u001b[0m\u001b[0m\n\u001b[1;32m      6\u001b[0m     \u001b[0;32mif\u001b[0m \u001b[0mos\u001b[0m\u001b[0;34m.\u001b[0m\u001b[0mpath\u001b[0m\u001b[0;34m.\u001b[0m\u001b[0mexists\u001b[0m\u001b[0;34m(\u001b[0m\u001b[0mrec_prmtop\u001b[0m\u001b[0;34m)\u001b[0m \u001b[0;32mand\u001b[0m \u001b[0mos\u001b[0m\u001b[0;34m.\u001b[0m\u001b[0mpath\u001b[0m\u001b[0;34m.\u001b[0m\u001b[0mexists\u001b[0m\u001b[0;34m(\u001b[0m\u001b[0mlig_prmtop\u001b[0m\u001b[0;34m)\u001b[0m\u001b[0;34m:\u001b[0m\u001b[0;34m\u001b[0m\u001b[0;34m\u001b[0m\u001b[0m\n\u001b[0;32m----> 7\u001b[0;31m         \u001b[0mrec\u001b[0m \u001b[0;34m=\u001b[0m \u001b[0mmd\u001b[0m\u001b[0;34m.\u001b[0m\u001b[0mload_prmtop\u001b[0m\u001b[0;34m(\u001b[0m\u001b[0mrec_inpcrd\u001b[0m\u001b[0;34m,\u001b[0m \u001b[0mtop\u001b[0m\u001b[0;34m=\u001b[0m\u001b[0mrec_prmtop\u001b[0m\u001b[0;34m)\u001b[0m\u001b[0;34m\u001b[0m\u001b[0;34m\u001b[0m\u001b[0m\n\u001b[0m\u001b[1;32m      8\u001b[0m         \u001b[0mprint\u001b[0m\u001b[0;34m(\u001b[0m\u001b[0mrec\u001b[0m\u001b[0;34m.\u001b[0m\u001b[0mn_atoms\u001b[0m\u001b[0;34m)\u001b[0m\u001b[0;34m\u001b[0m\u001b[0;34m\u001b[0m\u001b[0m\n\u001b[1;32m      9\u001b[0m \u001b[0;34m\u001b[0m\u001b[0m\n",
      "\u001b[0;32m~/anaconda3/envs/fft/lib/python3.9/site-packages/mdtraj/formats/prmtop.py\u001b[0m in \u001b[0;36mload_prmtop\u001b[0;34m(filename, **kwargs)\u001b[0m\n\u001b[1;32m    121\u001b[0m     \u001b[0mignoring\u001b[0m \u001b[0;34m=\u001b[0m \u001b[0;32mFalse\u001b[0m\u001b[0;34m\u001b[0m\u001b[0;34m\u001b[0m\u001b[0m\n\u001b[1;32m    122\u001b[0m \u001b[0;34m\u001b[0m\u001b[0m\n\u001b[0;32m--> 123\u001b[0;31m     \u001b[0;32mwith\u001b[0m \u001b[0mopen\u001b[0m\u001b[0;34m(\u001b[0m\u001b[0mfilename\u001b[0m\u001b[0;34m,\u001b[0m \u001b[0;34m'r'\u001b[0m\u001b[0;34m)\u001b[0m \u001b[0;32mas\u001b[0m \u001b[0mf\u001b[0m\u001b[0;34m:\u001b[0m\u001b[0;34m\u001b[0m\u001b[0;34m\u001b[0m\u001b[0m\n\u001b[0m\u001b[1;32m    124\u001b[0m         \u001b[0;32mfor\u001b[0m \u001b[0mline\u001b[0m \u001b[0;32min\u001b[0m \u001b[0mf\u001b[0m\u001b[0;34m:\u001b[0m\u001b[0;34m\u001b[0m\u001b[0;34m\u001b[0m\u001b[0m\n\u001b[1;32m    125\u001b[0m             \u001b[0;32mif\u001b[0m \u001b[0mline\u001b[0m\u001b[0;34m[\u001b[0m\u001b[0;36m0\u001b[0m\u001b[0;34m]\u001b[0m \u001b[0;34m==\u001b[0m \u001b[0;34m'%'\u001b[0m\u001b[0;34m:\u001b[0m\u001b[0;34m\u001b[0m\u001b[0;34m\u001b[0m\u001b[0m\n",
      "\u001b[0;31mFileNotFoundError\u001b[0m: [Errno 2] No such file or directory: '/home/jtufts/Desktop/FFT_PPI/2.redock/2.minimize/1AHW_AB:C/receptor.inpcrd'"
     ]
    }
   ],
   "source": [
    "for system in complex_names:\n",
    "    rec_prmtop = f'{amber_dir}{system}/receptor.prmtop'\n",
    "    rec_inpcrd = f'{min_dir}{system}/receptor.inpcrd'\n",
    "    lig_prmtop = f'{amber_dir}{system}/ligand.prmtop'\n",
    "    lig_inpcrd = f'{min_dir}{system}/ligand.inpcrd'\n",
    "    if os.path.exists(rec_prmtop) and os.path.exists(lig_prmtop):    \n",
    "        rec = md.load_prmtop(rec_inpcrd, top=rec_prmtop)\n",
    "        print(rec.n_atoms)\n",
    "        \n",
    "    "
   ]
  },
  {
   "cell_type": "code",
   "execution_count": null,
   "id": "c7afefd4-11e1-4cf4-b71e-14634bf628c3",
   "metadata": {},
   "outputs": [],
   "source": []
  }
 ],
 "metadata": {
  "kernelspec": {
   "display_name": "Python 3 (ipykernel)",
   "language": "python",
   "name": "python3"
  },
  "language_info": {
   "codemirror_mode": {
    "name": "ipython",
    "version": 3
   },
   "file_extension": ".py",
   "mimetype": "text/x-python",
   "name": "python",
   "nbconvert_exporter": "python",
   "pygments_lexer": "ipython3",
   "version": "3.9.6"
  }
 },
 "nbformat": 4,
 "nbformat_minor": 5
}
