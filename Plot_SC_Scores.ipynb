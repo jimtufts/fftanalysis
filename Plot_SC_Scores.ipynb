{
 "cells": [
  {
   "cell_type": "code",
   "execution_count": 7,
   "id": "884bbd43-b15d-46cc-97b4-35e6762fbdef",
   "metadata": {},
   "outputs": [],
   "source": [
    "import pickle\n",
    "import matplotlib.pyplot as plt"
   ]
  },
  {
   "cell_type": "code",
   "execution_count": 8,
   "id": "7cafa3b7-edba-4e25-b420-3e0a527cb57c",
   "metadata": {},
   "outputs": [],
   "source": [
    "results1 = pickle.load(open('/home/jim/src/p27/FFT_PPI/2.redock/5.fft_sampling/2OOB_A:B/results_0_to_20.p','rb'))\n",
    "results2 = pickle.load(open('/home/jim/src/p27/FFT_PPI/2.redock/5.fft_sampling/2OOB_A:B/results_21_to_35.p','rb'))\n",
    "\n",
    "results = results1 | results2"
   ]
  },
  {
   "cell_type": "code",
   "execution_count": 9,
   "id": "63288c2b-cb2e-45b3-860a-af78e039b067",
   "metadata": {},
   "outputs": [],
   "source": [
    "##Get list of complex names\n",
    "from os import walk\n",
    "import os\n",
    "\n",
    "f = []\n",
    "for root, dirs, files in walk(\"/home/jim/src/p27/FFT_PPI/2.redock/4.receptor_grid\", topdown=False):\n",
    "    for name in dirs:\n",
    "        f.append(name)\n",
    "f.sort()"
   ]
  },
  {
   "cell_type": "code",
   "execution_count": null,
   "id": "e8d91ad7-90e1-41a2-8536-8b806d6ef122",
   "metadata": {},
   "outputs": [],
   "source": [
    "scores = []\n",
    "for system in f[:35]:\n",
    "    try:\n",
    "        scores.append(results[system]['native_sc_score'])\n",
    "        print(results[system]['native_sc_score'])\n",
    "    except:\n",
    "        print(f'skipping {system}')\n",
    "    "
   ]
  },
  {
   "cell_type": "code",
   "execution_count": 28,
   "id": "0b04e95b-8493-42ef-a47c-1f1d87b6a0aa",
   "metadata": {},
   "outputs": [
    {
     "data": {
      "image/png": "[encoded data removed]",
      "text/plain": [
       "<Figure size 432x288 with 1 Axes>"
      ]
     },
     "metadata": {
      "needs_background": "light"
     },
     "output_type": "display_data"
    }
   ],
   "source": [
    "import numpy as np\n",
    "scores = [x for x in scores if x]\n",
    "n, bins, patches = plt.hist(scores, 50, density=True, facecolor='g', alpha=0.75)\n",
    "scores = np.array(scores)\n",
    "plt.grid(True)\n",
    "plt.xlim(scores.min(), scores.max())\n",
    "plt.show()"
   ]
  },
  {
   "cell_type": "code",
   "execution_count": 27,
   "id": "638e149c-2d77-4a0f-8ca1-80cb57ccc020",
   "metadata": {},
   "outputs": [
    {
     "name": "stdout",
     "output_type": "stream",
     "text": [
      "[ 8.11249799e-12 -3.72754293e-10  4.20059555e-10 -4.18024923e-10\n",
      " -7.70651275e-10 -6.71471683e-11 -1.34670804e-10 -1.62029380e-10\n",
      " -5.02906377e-11 -1.96869726e-10 -9.60308266e-10  3.22817873e-10\n",
      " -2.28240533e-10 -5.98181496e-12 -1.80561276e-09  2.91243621e-10\n",
      "  5.01889372e-11 -2.97201345e-10  2.02579934e-10  5.29246460e-10\n",
      " -5.02115985e-11 -9.66546019e-12  6.59987338e-11  2.23013131e-10\n",
      "  4.49126295e-10 -9.34943290e-10 -3.64658794e-10 -2.58545436e-10\n",
      " -4.97528827e-11]\n"
     ]
    }
   ],
   "source": [
    "print(scores)"
   ]
  },
  {
   "cell_type": "code",
   "execution_count": 66,
   "id": "22d3aad8-32bd-4c6a-82c7-00227a74d08d",
   "metadata": {},
   "outputs": [
    {
     "name": "stdout",
     "output_type": "stream",
     "text": [
      "skipping 1ATN_A:D\n",
      "skipping 1DFJ_E:I\n",
      "skipping 1E6E_A:B\n",
      "skipping 1E96_A:B\n",
      "skipping 1FQJ_A:B\n"
     ]
    }
   ],
   "source": [
    "top_scores = []\n",
    "for system in f[1:35]:\n",
    "    try:\n",
    "    # print(results[system]['top_scores'][0]['score'])\n",
    "        # for i,score in enumerate(results[system]['top_scores']):\n",
    "        top_scores.append(results[system]['top_scores'][0]['score'])\n",
    "    # print(results[system]['top_scores'][i][score])\n",
    "    except:\n",
    "        print(f'skipping {system}')"
   ]
  },
  {
   "cell_type": "code",
   "execution_count": 67,
   "id": "2154666e-f6f5-45e0-accb-271c171f40f1",
   "metadata": {},
   "outputs": [
    {
     "name": "stdout",
     "output_type": "stream",
     "text": [
      "[17.00000000013172, 24.0000000006196, 20.99999999961799, 22.000000003715666, 22.000000000171596, 15.99999999978726, 18.000000000140563, 20.000000000068773, 21.000000000436337, 22.000000000376414, 16.000000000300595, 16.999999999329326, 19.999999999842874, 26.000000000250424, 19.999999998839186, 20.000000000549576, 18.000000000956142, 17.000000000059096, 18.000000000549242, 17.000000000483006, 22.00000000033858, 12.999999999759652, 16.000000000147597, 16.999999999822684, 20.000000000548575, 22.999999998473996, 17.999999999662197, 15.99999999985604, 15.999999999989432]\n"
     ]
    }
   ],
   "source": [
    "print(top_scores)"
   ]
  },
  {
   "cell_type": "code",
   "execution_count": 68,
   "id": "a00aa69d-94d2-4537-a128-732ebb0255b0",
   "metadata": {},
   "outputs": [
    {
     "data": {
      "image/png": "[encoded data removed]",
      "text/plain": [
       "<Figure size 432x288 with 1 Axes>"
      ]
     },
     "metadata": {
      "needs_background": "light"
     },
     "output_type": "display_data"
    }
   ],
   "source": [
    "n, bins, patches = plt.hist(top_scores, 50, density=True, facecolor='g', alpha=0.75)\n",
    "top_scores = np.array(top_scores)\n",
    "plt.grid(True)\n",
    "plt.xlim(top_scores.min(), top_scores.max())\n",
    "plt.show()"
   ]
  },
  {
   "cell_type": "code",
   "execution_count": 3,
   "id": "19963815-6344-445f-980b-92331fe3eeab",
   "metadata": {},
   "outputs": [
    {
     "name": "stdout",
     "output_type": "stream",
     "text": [
      "[1 1 1]\n"
     ]
    }
   ],
   "source": [
    "import numpy as np\n",
    "print(np.array([0,0,0])+np.array([1,1,1]))"
   ]
  },
  {
   "cell_type": "code",
   "execution_count": null,
   "id": "0cc4dd4e-4412-4077-b560-9d6835b919dd",
   "metadata": {},
   "outputs": [],
   "source": []
  }
 ],
 "metadata": {
  "kernelspec": {
   "display_name": "Python 3",
   "language": "python",
   "name": "python3"
  },
  "language_info": {
   "codemirror_mode": {
    "name": "ipython",
    "version": 3
   },
   "file_extension": ".py",
   "mimetype": "text/x-python",
   "name": "python",
   "nbconvert_exporter": "python",
   "pygments_lexer": "ipython3",
   "version": "3.9.4"
  }
 },
 "nbformat": 4,
 "nbformat_minor": 5
}
