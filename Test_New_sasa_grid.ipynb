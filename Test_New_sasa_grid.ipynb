{
 "cells": [
  {
   "cell_type": "code",
   "execution_count": 1,
   "id": "82c2a749-00cf-495c-9b90-6f1b3cce89d6",
   "metadata": {},
   "outputs": [
    {
     "name": "stderr",
     "output_type": "stream",
     "text": [
      "Warning: importing 'simtk.openmm' is deprecated.  Import 'openmm' instead.\n"
     ]
    }
   ],
   "source": [
    "import mdtraj as md\n",
    "import bpmfwfft.grids as grids\n",
    "import numpy as np"
   ]
  },
  {
   "cell_type": "code",
   "execution_count": 2,
   "id": "604cc001-c83c-4854-aae4-8e7029a5c28a",
   "metadata": {},
   "outputs": [],
   "source": [
    "from os import walk\n",
    "import socket\n",
    "if socket.gethostname() == 'jim-Mint':\n",
    "    ppi_path = '/media/jim/Research_TWO/FFT_PPI'\n",
    "    home = '/home/jim'\n",
    "else:\n",
    "    ppi_path = '/home/jtufts/Desktop/FFT_PPI'\n",
    "    home = '/home/jtufts'"
   ]
  },
  {
   "cell_type": "code",
   "execution_count": 3,
   "id": "2619c466-19c2-491c-8b77-b2f3a709387c",
   "metadata": {},
   "outputs": [],
   "source": [
    "f = {}\n",
    "for (dirpath, dirnames, filenames) in walk(f'{ppi_path}/2.redock/2.minimize'):\n",
    "    if filenames[0] != 'run_me.sh':\n",
    "        if 'complex.pdb' in filenames:\n",
    "            f[dirpath.split('/')[7]] = dirpath + '/complex.pdb'"
   ]
  },
  {
   "cell_type": "code",
   "execution_count": 24,
   "id": "8dabbeeb-3d11-4882-9580-18011d42c79c",
   "metadata": {},
   "outputs": [
    {
     "data": {
      "text/plain": [
       "'2OOB_A:B'"
      ]
     },
     "execution_count": 24,
     "metadata": {},
     "output_type": "execute_result"
    }
   ],
   "source": [
    "keys = list(f.keys())\n",
    "keys.sort()\n",
    "system = keys[127] #36 \n",
    "system"
   ]
  },
  {
   "cell_type": "code",
   "execution_count": 7,
   "id": "aabee536-3322-43d3-a76a-799dd58e693d",
   "metadata": {},
   "outputs": [
    {
     "name": "stdout",
     "output_type": "stream",
     "text": [
      "/media/jim/Research_TWO/FFT_PPI/2.redock/4.receptor_grid/1AY7_A:B\n",
      "CPU times: user 26.7 ms, sys: 36.6 ms, total: 63.3 ms\n",
      "Wall time: 62.9 ms\n"
     ]
    }
   ],
   "source": [
    "%%time\n",
    "import netCDF4 as nc\n",
    "import numpy as np\n",
    "grid_name = \"shrakerupley.nc\"\n",
    "grid_path = f'{ppi_path}/2.redock/4.receptor_grid/{system}'\n",
    "print(grid_path)\n",
    "grid_nc = '%s/%s'%(grid_path,grid_name)\n",
    "\n",
    "\n",
    "#parsing some of the netcdf variables from grid.nc\n",
    "grid_variables = nc.Dataset(grid_nc, 'r').variables\n",
    "counts = nc.Dataset(grid_nc, 'r').variables[\"counts\"][:]\n",
    "x = nc.Dataset(grid_nc, 'r').variables[\"x\"][:]\n",
    "y = nc.Dataset(grid_nc, 'r').variables[\"y\"][:]\n",
    "z = nc.Dataset(grid_nc, 'r').variables[\"z\"][:]\n",
    "# electrostatic = nc.Dataset(grid_nc, 'r').variables[\"electrostatic\"][:]\n",
    "# lja = nc.Dataset(grid_nc, 'r').variables[\"LJa\"][:]\n",
    "# ljr = nc.Dataset(grid_nc, 'r').variables[\"LJr\"][:]\n",
    "sasa = nc.Dataset(grid_nc, 'r').variables[\"sasa\"][:]\n",
    "occupancy = nc.Dataset(grid_nc, 'r').variables[\"occupancy\"][:]\n",
    "trans_crd = nc.Dataset(grid_nc, 'r').variables[\"trans_crd\"][:]\n",
    "rec_disp = nc.Dataset(grid_nc, 'r').variables[\"displacement\"][:]"
   ]
  },
  {
   "cell_type": "code",
   "execution_count": 8,
   "id": "9e383ab4-a1a2-4421-8ad8-bde31b48dabf",
   "metadata": {
    "tags": []
   },
   "outputs": [
    {
     "name": "stdout",
     "output_type": "stream",
     "text": [
      "/home/jim/src/p39/fftanalysis\n",
      "[1.]\n",
      "/media/jim/Research_TWO/FFT_PPI/2.redock/4.receptor_grid/1AY7_A:B/shrakerupley.nc\n",
      "x\n",
      "[  0.    0.5   1.    1.5   2.    2.5   3.    3.5   4.    4.5   5.    5.5\n",
      "   6.    6.5   7.    7.5   8.    8.5   9.    9.5  10.   10.5  11.   11.5\n",
      "  12.   12.5  13.   13.5  14.   14.5  15.   15.5  16.   16.5  17.   17.5\n",
      "  18.   18.5  19.   19.5  20.   20.5  21.   21.5  22.   22.5  23.   23.5\n",
      "  24.   24.5  25.   25.5  26.   26.5  27.   27.5  28.   28.5  29.   29.5\n",
      "  30.   30.5  31.   31.5  32.   32.5  33.   33.5  34.   34.5  35.   35.5\n",
      "  36.   36.5  37.   37.5  38.   38.5  39.   39.5  40.   40.5  41.   41.5\n",
      "  42.   42.5  43.   43.5  44.   44.5  45.   45.5  46.   46.5  47.   47.5\n",
      "  48.   48.5  49.   49.5  50.   50.5  51.   51.5  52.   52.5  53.   53.5\n",
      "  54.   54.5  55.   55.5  56.   56.5  57.   57.5  58.   58.5  59.   59.5\n",
      "  60.   60.5  61.   61.5  62.   62.5  63.   63.5  64.   64.5  65.   65.5\n",
      "  66.   66.5  67.   67.5  68.   68.5  69.   69.5  70.   70.5  71.   71.5\n",
      "  72.   72.5  73.   73.5  74.   74.5  75.   75.5  76.   76.5  77.   77.5\n",
      "  78.   78.5  79.   79.5  80.   80.5  81.   81.5  82.   82.5  83.   83.5\n",
      "  84.   84.5  85.   85.5  86.   86.5  87.   87.5  88.   88.5  89.   89.5\n",
      "  90.   90.5  91.   91.5  92.   92.5  93.   93.5  94.   94.5  95.   95.5\n",
      "  96.   96.5  97.   97.5  98.   98.5  99.   99.5 100.  100.5 101.  101.5\n",
      " 102.  102.5 103.  103.5 104.  104.5 105.  105.5 106.  106.5 107.  107.5\n",
      " 108.  108.5 109. ]\n",
      "y\n",
      "[  0.    0.5   1.    1.5   2.    2.5   3.    3.5   4.    4.5   5.    5.5\n",
      "   6.    6.5   7.    7.5   8.    8.5   9.    9.5  10.   10.5  11.   11.5\n",
      "  12.   12.5  13.   13.5  14.   14.5  15.   15.5  16.   16.5  17.   17.5\n",
      "  18.   18.5  19.   19.5  20.   20.5  21.   21.5  22.   22.5  23.   23.5\n",
      "  24.   24.5  25.   25.5  26.   26.5  27.   27.5  28.   28.5  29.   29.5\n",
      "  30.   30.5  31.   31.5  32.   32.5  33.   33.5  34.   34.5  35.   35.5\n",
      "  36.   36.5  37.   37.5  38.   38.5  39.   39.5  40.   40.5  41.   41.5\n",
      "  42.   42.5  43.   43.5  44.   44.5  45.   45.5  46.   46.5  47.   47.5\n",
      "  48.   48.5  49.   49.5  50.   50.5  51.   51.5  52.   52.5  53.   53.5\n",
      "  54.   54.5  55.   55.5  56.   56.5  57.   57.5  58.   58.5  59.   59.5\n",
      "  60.   60.5  61.   61.5  62.   62.5  63.   63.5  64.   64.5  65.   65.5\n",
      "  66.   66.5  67.   67.5  68.   68.5  69.   69.5  70.   70.5  71.   71.5\n",
      "  72.   72.5  73.   73.5  74.   74.5  75.   75.5  76.   76.5  77.   77.5\n",
      "  78.   78.5  79.   79.5  80.   80.5  81.   81.5  82.   82.5  83.   83.5\n",
      "  84.   84.5  85.   85.5  86.   86.5  87.   87.5  88.   88.5  89.   89.5\n",
      "  90.   90.5  91.   91.5  92.   92.5  93.   93.5  94.   94.5  95.   95.5\n",
      "  96.   96.5  97.   97.5  98.   98.5  99.   99.5 100.  100.5 101.  101.5\n",
      " 102.  102.5 103.  103.5 104.  104.5 105.  105.5 106.  106.5 107.  107.5\n",
      " 108.  108.5 109. ]\n",
      "z\n",
      "[  0.    0.5   1.    1.5   2.    2.5   3.    3.5   4.    4.5   5.    5.5\n",
      "   6.    6.5   7.    7.5   8.    8.5   9.    9.5  10.   10.5  11.   11.5\n",
      "  12.   12.5  13.   13.5  14.   14.5  15.   15.5  16.   16.5  17.   17.5\n",
      "  18.   18.5  19.   19.5  20.   20.5  21.   21.5  22.   22.5  23.   23.5\n",
      "  24.   24.5  25.   25.5  26.   26.5  27.   27.5  28.   28.5  29.   29.5\n",
      "  30.   30.5  31.   31.5  32.   32.5  33.   33.5  34.   34.5  35.   35.5\n",
      "  36.   36.5  37.   37.5  38.   38.5  39.   39.5  40.   40.5  41.   41.5\n",
      "  42.   42.5  43.   43.5  44.   44.5  45.   45.5  46.   46.5  47.   47.5\n",
      "  48.   48.5  49.   49.5  50.   50.5  51.   51.5  52.   52.5  53.   53.5\n",
      "  54.   54.5  55.   55.5  56.   56.5  57.   57.5  58.   58.5  59.   59.5\n",
      "  60.   60.5  61.   61.5  62.   62.5  63.   63.5  64.   64.5  65.   65.5\n",
      "  66.   66.5  67.   67.5  68.   68.5  69.   69.5  70.   70.5  71.   71.5\n",
      "  72.   72.5  73.   73.5  74.   74.5  75.   75.5  76.   76.5  77.   77.5\n",
      "  78.   78.5  79.   79.5  80.   80.5  81.   81.5  82.   82.5  83.   83.5\n",
      "  84.   84.5  85.   85.5  86.   86.5  87.   87.5  88.   88.5  89.   89.5\n",
      "  90.   90.5  91.   91.5  92.   92.5  93.   93.5  94.   94.5  95.   95.5\n",
      "  96.   96.5  97.   97.5  98.   98.5  99.   99.5 100.  100.5 101.  101.5\n",
      " 102.  102.5 103.  103.5 104.  104.5 105.  105.5 106.  106.5 107.  107.5\n",
      " 108.  108.5 109. ]\n",
      "d0\n",
      "[0.5 0.  0. ]\n",
      "d1\n",
      "[0.  0.5 0. ]\n",
      "d2\n",
      "[0.  0.  0.5]\n",
      "spacing\n",
      "[0.5 0.5 0.5]\n",
      "counts\n",
      "[219 219 219]\n",
      "origin\n",
      "[0. 0. 0.]\n",
      "lj_sigma_scaling_factor\n",
      "[1.]\n",
      "rec_core_scaling\n",
      "[0.76]\n",
      "rec_surface_scaling\n",
      "[0.53]\n",
      "rec_metal_scaling\n",
      "[0.55]\n",
      "Doing FFT for occupancy\n",
      "Doing FFT for sasa\n",
      "Copy entries from receptor_grid ['lj_sigma_scaling_factor', 'x', 'y', 'z', 'd0', 'd1', 'd2', 'spacing', 'counts', 'origin', 'rec_core_scaling', 'rec_surface_scaling', 'rec_metal_scaling']\n",
      "[1.]\n",
      "[  0.    0.5   1.    1.5   2.    2.5   3.    3.5   4.    4.5   5.    5.5\n",
      "   6.    6.5   7.    7.5   8.    8.5   9.    9.5  10.   10.5  11.   11.5\n",
      "  12.   12.5  13.   13.5  14.   14.5  15.   15.5  16.   16.5  17.   17.5\n",
      "  18.   18.5  19.   19.5  20.   20.5  21.   21.5  22.   22.5  23.   23.5\n",
      "  24.   24.5  25.   25.5  26.   26.5  27.   27.5  28.   28.5  29.   29.5\n",
      "  30.   30.5  31.   31.5  32.   32.5  33.   33.5  34.   34.5  35.   35.5\n",
      "  36.   36.5  37.   37.5  38.   38.5  39.   39.5  40.   40.5  41.   41.5\n",
      "  42.   42.5  43.   43.5  44.   44.5  45.   45.5  46.   46.5  47.   47.5\n",
      "  48.   48.5  49.   49.5  50.   50.5  51.   51.5  52.   52.5  53.   53.5\n",
      "  54.   54.5  55.   55.5  56.   56.5  57.   57.5  58.   58.5  59.   59.5\n",
      "  60.   60.5  61.   61.5  62.   62.5  63.   63.5  64.   64.5  65.   65.5\n",
      "  66.   66.5  67.   67.5  68.   68.5  69.   69.5  70.   70.5  71.   71.5\n",
      "  72.   72.5  73.   73.5  74.   74.5  75.   75.5  76.   76.5  77.   77.5\n",
      "  78.   78.5  79.   79.5  80.   80.5  81.   81.5  82.   82.5  83.   83.5\n",
      "  84.   84.5  85.   85.5  86.   86.5  87.   87.5  88.   88.5  89.   89.5\n",
      "  90.   90.5  91.   91.5  92.   92.5  93.   93.5  94.   94.5  95.   95.5\n",
      "  96.   96.5  97.   97.5  98.   98.5  99.   99.5 100.  100.5 101.  101.5\n",
      " 102.  102.5 103.  103.5 104.  104.5 105.  105.5 106.  106.5 107.  107.5\n",
      " 108.  108.5 109. ]\n",
      "[  0.    0.5   1.    1.5   2.    2.5   3.    3.5   4.    4.5   5.    5.5\n",
      "   6.    6.5   7.    7.5   8.    8.5   9.    9.5  10.   10.5  11.   11.5\n",
      "  12.   12.5  13.   13.5  14.   14.5  15.   15.5  16.   16.5  17.   17.5\n",
      "  18.   18.5  19.   19.5  20.   20.5  21.   21.5  22.   22.5  23.   23.5\n",
      "  24.   24.5  25.   25.5  26.   26.5  27.   27.5  28.   28.5  29.   29.5\n",
      "  30.   30.5  31.   31.5  32.   32.5  33.   33.5  34.   34.5  35.   35.5\n",
      "  36.   36.5  37.   37.5  38.   38.5  39.   39.5  40.   40.5  41.   41.5\n",
      "  42.   42.5  43.   43.5  44.   44.5  45.   45.5  46.   46.5  47.   47.5\n",
      "  48.   48.5  49.   49.5  50.   50.5  51.   51.5  52.   52.5  53.   53.5\n",
      "  54.   54.5  55.   55.5  56.   56.5  57.   57.5  58.   58.5  59.   59.5\n",
      "  60.   60.5  61.   61.5  62.   62.5  63.   63.5  64.   64.5  65.   65.5\n",
      "  66.   66.5  67.   67.5  68.   68.5  69.   69.5  70.   70.5  71.   71.5\n",
      "  72.   72.5  73.   73.5  74.   74.5  75.   75.5  76.   76.5  77.   77.5\n",
      "  78.   78.5  79.   79.5  80.   80.5  81.   81.5  82.   82.5  83.   83.5\n",
      "  84.   84.5  85.   85.5  86.   86.5  87.   87.5  88.   88.5  89.   89.5\n",
      "  90.   90.5  91.   91.5  92.   92.5  93.   93.5  94.   94.5  95.   95.5\n",
      "  96.   96.5  97.   97.5  98.   98.5  99.   99.5 100.  100.5 101.  101.5\n",
      " 102.  102.5 103.  103.5 104.  104.5 105.  105.5 106.  106.5 107.  107.5\n",
      " 108.  108.5 109. ]\n",
      "[  0.    0.5   1.    1.5   2.    2.5   3.    3.5   4.    4.5   5.    5.5\n",
      "   6.    6.5   7.    7.5   8.    8.5   9.    9.5  10.   10.5  11.   11.5\n",
      "  12.   12.5  13.   13.5  14.   14.5  15.   15.5  16.   16.5  17.   17.5\n",
      "  18.   18.5  19.   19.5  20.   20.5  21.   21.5  22.   22.5  23.   23.5\n",
      "  24.   24.5  25.   25.5  26.   26.5  27.   27.5  28.   28.5  29.   29.5\n",
      "  30.   30.5  31.   31.5  32.   32.5  33.   33.5  34.   34.5  35.   35.5\n",
      "  36.   36.5  37.   37.5  38.   38.5  39.   39.5  40.   40.5  41.   41.5\n",
      "  42.   42.5  43.   43.5  44.   44.5  45.   45.5  46.   46.5  47.   47.5\n",
      "  48.   48.5  49.   49.5  50.   50.5  51.   51.5  52.   52.5  53.   53.5\n",
      "  54.   54.5  55.   55.5  56.   56.5  57.   57.5  58.   58.5  59.   59.5\n",
      "  60.   60.5  61.   61.5  62.   62.5  63.   63.5  64.   64.5  65.   65.5\n",
      "  66.   66.5  67.   67.5  68.   68.5  69.   69.5  70.   70.5  71.   71.5\n",
      "  72.   72.5  73.   73.5  74.   74.5  75.   75.5  76.   76.5  77.   77.5\n",
      "  78.   78.5  79.   79.5  80.   80.5  81.   81.5  82.   82.5  83.   83.5\n",
      "  84.   84.5  85.   85.5  86.   86.5  87.   87.5  88.   88.5  89.   89.5\n",
      "  90.   90.5  91.   91.5  92.   92.5  93.   93.5  94.   94.5  95.   95.5\n",
      "  96.   96.5  97.   97.5  98.   98.5  99.   99.5 100.  100.5 101.  101.5\n",
      " 102.  102.5 103.  103.5 104.  104.5 105.  105.5 106.  106.5 107.  107.5\n",
      " 108.  108.5 109. ]\n",
      "[0.5 0.  0. ]\n",
      "[0.  0.5 0. ]\n",
      "[0.  0.  0.5]\n",
      "[0.5 0.5 0.5]\n",
      "[219 219 219]\n",
      "[0. 0. 0.]\n",
      "[0.76]\n",
      "[0.53]\n",
      "[0.55]\n",
      "/home/jim/src/p39/fftanalysis\n",
      "[1.]\n",
      "Number of atoms in /media/jim/Research_TWO/FFT_PPI/2.redock/2.minimize/1AY7_A:B/ligand.inpcrd is 1434\n",
      "Ligand translated by [  8.  -12.   19.5]\n",
      "[3.0542818 2.7833495 2.6323199]\n",
      "Ligand translated by [  8.  -12.   19.5]\n",
      "[3.05428171 2.78334904 2.6323204 ]\n",
      "CPU times: user 1.64 s, sys: 121 ms, total: 1.76 s\n",
      "Wall time: 1.34 s\n"
     ]
    }
   ],
   "source": [
    "%%time\n",
    "from bpmfwfft.grids import RecGrid\n",
    "from bpmfwfft.grids import LigGrid\n",
    "\n",
    "rec_prmtop = f\"{ppi_path}/2.redock/1.amber/{system}/receptor.prmtop\"\n",
    "lj_sigma_scal_fact = 1.0\n",
    "rec_inpcrd = f\"{ppi_path}/2.redock/2.minimize/{system}/receptor.inpcrd\"\n",
    "\n",
    "bsite_file = None\n",
    "grid_nc_file = f\"{ppi_path}/2.redock/4.receptor_grid/{system}/{grid_name}\"\n",
    "\n",
    "lig_prmtop = f\"{ppi_path}/2.redock/1.amber/{system}/ligand.prmtop\"\n",
    "# lig_inpcrd = f\"{ppi_path}/2.redock/2.minimze/2OOB_A:B/ligand.inpcrd\"\n",
    "\n",
    "rot_nc = f\"{ppi_path}/2.redock/3.ligand_rand_rot/{system}/rotation.nc\"\n",
    "lig_rot = nc.Dataset(rot_nc, 'r').variables['positions']\n",
    "lig_inpcrd = f\"{ppi_path}/2.redock/2.minimize/{system}/ligand.inpcrd\"\n",
    "\n",
    "rho = 9.0\n",
    "rc_scale = 0.76\n",
    "rs_scale = 0.53\n",
    "rm_scale = 0.55\n",
    "lc_scale = 0.81\n",
    "ls_scale = 0.50\n",
    "lm_scale = 0.54\n",
    "\n",
    "\n",
    "def _create_rec_grid(rec_prmtop, lj_sigma_scal_fact, rc_scale, rs_scale, rm_scale, rho, rec_inpcrd, bsite_file, grid_nc_file):\n",
    "    rec_grid = RecGrid(rec_prmtop, lj_sigma_scal_fact, rc_scale, rs_scale, rm_scale, rho, rec_inpcrd, bsite_file, \n",
    "                        grid_nc_file, new_calculation=False)\n",
    "    return rec_grid\n",
    "\n",
    "def _create_lig_grid(lig_prmtop, lj_sigma_scal_fact, lc_scale, ls_scale, lm_scale, lig_inpcrd, rec_grid):\n",
    "    lig_grid = LigGrid(lig_prmtop, lj_sigma_scal_fact, lc_scale, ls_scale, lm_scale, lig_inpcrd, rec_grid)\n",
    "    return lig_grid\n",
    "\n",
    "rec_grid = _create_rec_grid(rec_prmtop, lj_sigma_scal_fact, rc_scale, rs_scale, rm_scale, rho, rec_inpcrd, bsite_file, grid_nc_file)\n",
    "\n",
    "lig_grid = _create_lig_grid(lig_prmtop, lj_sigma_scal_fact, lc_scale, ls_scale, lm_scale, lig_inpcrd, rec_grid)\n",
    "rot_num = 0\n",
    "lig_grid._crd = np.array(lig_rot[rot_num], dtype=np.float64)\n",
    "lig_grid._move_ligand_to_lower_corner()"
   ]
  },
  {
   "cell_type": "code",
   "execution_count": 9,
   "id": "4af7ed3c-9da3-4437-a7f4-48afbea7bff7",
   "metadata": {},
   "outputs": [
    {
     "name": "stdout",
     "output_type": "stream",
     "text": [
      "1434\n",
      "c_asa_frame\n",
      "debug test\n",
      "1443\n",
      "c_asa_frame\n",
      "debug test\n",
      "CPU times: user 6min 46s, sys: 9.33 s, total: 6min 56s\n",
      "Wall time: 6min 45s\n"
     ]
    }
   ],
   "source": [
    "%%time\n",
    "from util import c_sasa\n",
    "import pickle as p\n",
    "import os\n",
    "l_grid = np.zeros((occupancy.shape), dtype=np.float64)\n",
    "l_grid, l_areas = c_sasa(lig_grid._crd, lig_grid._prmtop[\"VDW_RADII\"], lig_grid._spacing, 1.4, 960, l_grid)\n",
    "r_grid_path = f\"/media/jim/Research_TWO/FFT_PPI/2.redock/4.receptor_grid/{system}/r_grid.p\"\n",
    "if os.path.exists(r_grid_path):\n",
    "    r_grid = p.load(open(r_grid_path, \"rb\"))\n",
    "else:\n",
    "    r_grid = np.zeros((occupancy.shape), dtype=np.float64)\n",
    "    r_grid, r_areas = c_sasa(rec_grid._crd, rec_grid._prmtop[\"VDW_RADII\"], rec_grid._spacing, 1.4, 960, r_grid)\n",
    "    p.dump(r_grid, open(r_grid_path, \"wb\"))"
   ]
  },
  {
   "cell_type": "code",
   "execution_count": 76,
   "id": "62cdf3a2-9702-4d33-a175-61deccf4aba7",
   "metadata": {},
   "outputs": [
    {
     "name": "stdout",
     "output_type": "stream",
     "text": [
      "1231\n",
      "c_asa_frame\n",
      "debug test\n"
     ]
    }
   ],
   "source": [
    "# Only run once to save time\n",
    "from util import c_sasa\n",
    "import pickle as p\n",
    "r_grid = np.zeros((occupancy.shape), dtype=np.float64)\n",
    "r_grid, r_areas = c_sasa(rec_grid._crd, rec_grid._prmtop[\"VDW_RADII\"], rec_grid._spacing, 1.4, 960, r_grid)\n",
    "p.dump(r_grid, open(\"/media/jim/Research_TWO/FFT_PPI/2.redock/4.receptor_grid/2OOB_A:B/r_grid_new.p\", \"wb\"))"
   ]
  },
  {
   "cell_type": "code",
   "execution_count": 37,
   "id": "9e849bd7-4f9e-4cec-b433-6056b7642c81",
   "metadata": {},
   "outputs": [],
   "source": [
    "def write_lig_dx(FN, data, grid):\n",
    "    \"\"\"\n",
    "    Writes a grid in dx format\n",
    "    \"\"\"\n",
    "    n_points = data['counts'][0] * data['counts'][1] * data['counts'][2]\n",
    "    if FN.endswith('.dx'):\n",
    "        F = open(FN, 'w')\n",
    "\n",
    "    F.write(\"\"\"object 1 class gridpositions counts {0[0]} {0[1]} {0[2]}\n",
    "origin {1[0]} {1[1]} {1[2]}\n",
    "delta {2[0]} 0.0 0.0\n",
    "delta 0.0 {2[1]} 0.0\n",
    "delta 0.0 0.0 {2[2]}\n",
    "object 2 class gridconnections counts {0[0]} {0[1]} {0[2]}\n",
    "object 3 class array type double rank 0 items {3} data follows\n",
    "\"\"\".format(data['counts'], data['origin'], data['spacing'], n_points))\n",
    "\n",
    "    for start_n in range(0, len(grid.ravel()), 3):\n",
    "        F.write(' '.join(['%6e' % c\n",
    "                        for c in grid.ravel()[start_n:start_n + 3]]) + '\\n')\n",
    "\n",
    "    F.write('object 4 class field\\n')\n",
    "    F.write('component \"positions\" value 1\\n')\n",
    "    F.write('component \"connections\" value 2\\n')\n",
    "    F.write('component \"data\" value 3\\n')\n",
    "    F.close()"
   ]
  },
  {
   "cell_type": "code",
   "execution_count": 38,
   "id": "c05be268-4964-4b36-94d2-8a2dfda88075",
   "metadata": {},
   "outputs": [],
   "source": [
    "def write(FN, data, grid, multiplier=None):\n",
    "    \"\"\"\n",
    "    Writes a grid in dx or netcdf format.\n",
    "    The multiplier affects the origin and spacing.\n",
    "    \"\"\"\n",
    "    if multiplier is not None:\n",
    "      data_n = {\n",
    "        'origin': multiplier * data['origin'],\n",
    "        'counts': data['counts'],\n",
    "        'spacing': multiplier * data['spacing'],\n",
    "        'vals': grid\n",
    "      }\n",
    "    else:\n",
    "      data_n = data\n",
    "    if FN.endswith('.nc'):\n",
    "        print('skip')\n",
    "#       _write_nc(FN, data_n)\n",
    "    elif FN.endswith('.dx') or FN.endswith('.dx.gz'):\n",
    "      write_lig_dx(FN, data_n, grid)\n",
    "    else:\n",
    "      raise Exception('File type not supported')"
   ]
  },
  {
   "cell_type": "code",
   "execution_count": 39,
   "id": "f6ab95b9-1e1d-44e6-b66f-664c968f625d",
   "metadata": {},
   "outputs": [],
   "source": [
    "# print(mdtraj_areas.sum(), areas.sum(), grid.sum())\n",
    "import bpmfwfft.IO as IO\n",
    "data = {\"origin\": lig_grid._grid['origin'], \"spacing\": lig_grid._spacing, \"counts\": lig_grid._grid[\"counts\"]}\n",
    "FN=\"/media/jim/Research_TWO/FFT_PPI/2.redock/4.receptor_grid/2OOB_A:B/lig_ones.dx\"\n",
    "write(FN, data, l_ones)"
   ]
  },
  {
   "cell_type": "code",
   "execution_count": 10,
   "id": "ef994898-9846-44c5-b1ca-2ae649057bb2",
   "metadata": {},
   "outputs": [
    {
     "name": "stdout",
     "output_type": "stream",
     "text": [
      "CPU times: user 57.8 s, sys: 688 ms, total: 58.5 s\n",
      "Wall time: 58.6 s\n"
     ]
    }
   ],
   "source": [
    "%%time\n",
    "names = [\"occupancy\", \"sasa\"]\n",
    "lgrid = lig_grid.get_ligand_grids(names, [0,0,0])"
   ]
  },
  {
   "cell_type": "code",
   "execution_count": 24,
   "id": "87ae65b9-33d9-492b-8be4-2683c1169a3d",
   "metadata": {},
   "outputs": [
    {
     "name": "stdout",
     "output_type": "stream",
     "text": [
      "Ligand translated by [0. 0. 0.]\n",
      "[2.64105129 2.36711311 2.38056588]\n"
     ]
    }
   ],
   "source": [
    "lig_grid._move_ligand_to_lower_corner()\n",
    "lgrid_trans = grids.translate_grid(lgrid[\"occupancy\"], np.array([68,87,45]))"
   ]
  },
  {
   "cell_type": "code",
   "execution_count": 11,
   "id": "ae913610-f53e-4428-bc06-ada37faacb37",
   "metadata": {},
   "outputs": [],
   "source": [
    "r_ones = np.copy(sasa)\n",
    "l_ones = np.copy(lgrid[\"sasa\"])\n",
    "\n",
    "r_ones[r_ones>0] = 1.\n",
    "l_ones[l_ones>0] = 1."
   ]
  },
  {
   "cell_type": "code",
   "execution_count": 12,
   "id": "a8c21659-e27c-4b98-b353-1e3ea303f9f4",
   "metadata": {},
   "outputs": [],
   "source": [
    "# fft test\n",
    "lo_fft = np.fft.fftn(lgrid[\"occupancy\"])\n",
    "ro_fft = np.fft.fftn(occupancy)\n",
    "occupancy_fft = np.fft.ifftn(ro_fft*lo_fft.conjugate())\n",
    "\n",
    "ls_fft = np.fft.fftn(l_grid)\n",
    "lone_fft = np.fft.fftn(l_ones)\n",
    "rs_fft = np.fft.fftn(r_grid)\n",
    "rone_fft = np.fft.fftn(r_ones)\n",
    "\n",
    "r_dsasa_fft = np.fft.ifftn(rs_fft*lone_fft.conjugate())\n",
    "l_dsasa_fft = np.fft.ifftn(rone_fft*ls_fft.conjugate())\n",
    "score = r_dsasa_fft.real + l_dsasa_fft.real\n",
    "\n",
    "score[occupancy_fft > 0.001] = 0."
   ]
  },
  {
   "cell_type": "code",
   "execution_count": 32,
   "id": "3ae072a3-f9b3-4fbb-8ef7-ca1a638c0252",
   "metadata": {},
   "outputs": [
    {
     "name": "stdout",
     "output_type": "stream",
     "text": [
      "(1640.897055424125-4.028875949174239e-14j)\n"
     ]
    }
   ],
   "source": [
    "a,b,c = [68,87,45]\n",
    "print(r_dsasa_fft[a,b,c]+l_dsasa_fft[a,b,c])"
   ]
  },
  {
   "cell_type": "code",
   "execution_count": 13,
   "id": "1e648f26-6b43-4e07-b168-c20a60112476",
   "metadata": {},
   "outputs": [],
   "source": [
    "def rmsd(P: np.ndarray, Q: np.ndarray, **kwargs) -> float:\n",
    "    \"\"\"\n",
    "    Calculate Root-mean-square deviation from two sets of vectors V and W.\n",
    "    Parameters\n",
    "    ----------\n",
    "    V : array\n",
    "        (N,D) matrix, where N is points and D is dimension.\n",
    "    W : array\n",
    "        (N,D) matrix, where N is points and D is dimension.\n",
    "    Returns\n",
    "    -------\n",
    "    rmsd : float\n",
    "        Root-mean-square deviation between the two vectors\n",
    "    \"\"\"\n",
    "    diff = P - Q\n",
    "    return np.sqrt((diff * diff).sum() / P.shape[0])"
   ]
  },
  {
   "cell_type": "code",
   "execution_count": 14,
   "id": "87457d7e-1eb9-42ba-a55d-94dce844538a",
   "metadata": {},
   "outputs": [
    {
     "name": "stdout",
     "output_type": "stream",
     "text": [
      "Ligand translated by [0. 0. 0.]\n",
      "[3.05428171 2.78334904 2.6323204 ]\n",
      "Ligand translated by [-34.  -43.5 -22.5]\n",
      "[3.05428171 2.78334904 2.6323204 ]\n",
      "rmsd 0.5\n"
     ]
    }
   ],
   "source": [
    "import copy\n",
    "lig_grid._move_ligand_to_lower_corner()\n",
    "lig_grid.translate_ligand(np.array([68,87,45])*lig_grid._spacing)\n",
    "ref = copy.deepcopy(lig_grid._crd)\n",
    "lig_grid._move_ligand_to_lower_corner()\n",
    "lig_grid.translate_ligand(np.array([69,87,45])*lig_grid._spacing)\n",
    "tar = copy.deepcopy(lig_grid._crd)\n",
    "\n",
    "print(\"rmsd\", rmsd(ref, tar))"
   ]
  },
  {
   "cell_type": "code",
   "execution_count": 15,
   "id": "32a3220c-07ff-49c9-81bc-2331bcf672ef",
   "metadata": {},
   "outputs": [
    {
     "name": "stdout",
     "output_type": "stream",
     "text": [
      "1811.8985518679347\n"
     ]
    }
   ],
   "source": [
    "print(np.amax(score))\n",
    "k = 1000  # number of scores to save\n",
    "flat_score = score.flatten()\n",
    "flat_argp = np.argpartition(flat_score, -k)[-k:]"
   ]
  },
  {
   "cell_type": "code",
   "execution_count": 16,
   "id": "8525988b-cf03-4298-94b4-5dd2930bc41f",
   "metadata": {},
   "outputs": [],
   "source": [
    "top_scores = flat_score[flat_argp]\n",
    "top_scores.sort()\n",
    "translations = []\n",
    "trans_scores = []\n",
    "\n",
    "for score_val in top_scores:\n",
    "    t = np.where(score == score_val)\n",
    "    a = np.array(t)\n",
    "    if a.shape == (3,2):\n",
    "        for x,y,z in a.transpose():\n",
    "            x = np.array([x])\n",
    "            y = np.array([y])\n",
    "            z = np.array([z])\n",
    "            translations.append((x,y,z))\n",
    "            trans_scores.append(score[x,y,z])\n",
    "            # print((x,y,z),  score[x,y,z], cfft[x,y,z])\n",
    "    else:\n",
    "        translations.append(t)\n",
    "        trans_scores.append(score[t])\n",
    "        # print(t, score[t], cfft[t])"
   ]
  },
  {
   "cell_type": "code",
   "execution_count": null,
   "id": "eff21db6-aa55-4238-88c6-92918dd6d957",
   "metadata": {},
   "outputs": [],
   "source": [
    "def cat_grids(grid1, grid2):\n",
    "    prmtop = cat_dictionaries(grid1._prmtop,grid2._prmtop)\n",
    "    crd = cat_dictionaries(grid1._crd,grid2._crd)\n",
    "    cat_grid = copy.deepcopy(grid1)\n",
    "    cat_grid._prmtop = prmtop\n",
    "    cat_grid._crd = crd\n",
    "    return cat_grid\n",
    "\n",
    "def cat_dictionaries(dict1, dict2):\n",
    "    dict1_copy = copy.deepcopy(dict1)\n",
    "    dict2_copy = copy.deepcopy(dict2)\n",
    "    \n",
    "    if isinstance(dict1_copy, dict):\n",
    "        keys = list(dict1_copy.keys())\n",
    "        for key in keys:\n",
    "            # print(keys)\n",
    "            # print(key)\n",
    "            dict1_copy[key] = cat_values(dict1[key], dict2[key])\n",
    "        return dict1_copy\n",
    "    \n",
    "    elif isinstance(dict1_copy, np.ndarray):\n",
    "        return np.concatenate((dict1_copy,dict2_copy))\n",
    "\n",
    "def cat_values(a1, a2):\n",
    "    array1 = copy.deepcopy(a1)\n",
    "    array2 = copy.deepcopy(a2)\n",
    "    if isinstance(array1, np.ndarray):\n",
    "        return np.concatenate((array1,array2))\n",
    "    elif isinstance(array1, dict):\n",
    "        return cat_dictionaries(array1, array2)\n",
    "    elif isinstance(array1, (int, np.int64)):\n",
    "        # print(f\"{array1+array2}\")\n",
    "        return array1 + array2\n",
    "    elif isinstance(array1, list):\n",
    "        # print(type(array1))\n",
    "        # print(f'array1:{len(array1)}, array2:{len(array2)}')\n",
    "        array1.extend(array2)\n",
    "        # print(f'complex:{len(array1)}, sum:{len(a1)+len(a2)}')\n",
    "        return array1\n",
    "\n",
    "        \n",
    "        \n",
    "import copy\n",
    "# result = map(cat_dictionaries, rec_grid._prmtop, lig_grid._prmtop)\n",
    "delta_sasas = []\n",
    "colors = []\n",
    "for v,vector in enumerate(translations):\n",
    "    vector = (np.array(vector).transpose()*lig_grid._spacing)[0]\n",
    "    lig_grid._move_ligand_to_lower_corner()\n",
    "    print(vector)\n",
    "    lig_grid.translate_ligand(vector)\n",
    "    com_grid = cat_grids(rec_grid, lig_grid)\n",
    "    c_sasa = com_grid._get_molecule_sasa(0.14, 960).sum()\n",
    "    l_sasa = lig_grid._get_molecule_sasa(0.14, 960).sum()\n",
    "    r_sasa = rec_grid._get_molecule_sasa(0.14, 960).sum()\n",
    "    d_sasa = (l_sasa + r_sasa) - c_sasa\n",
    "    delta_sasas.append(d_sasa)\n",
    "    rmsd_to_native = rmsd(ref, lig_grid._crd)\n",
    "    colors.append(rmsd_to_native)\n",
    "        \n",
    "    print(c_sasa, l_sasa + r_sasa, d_sasa)\n",
    "    # com_grid.write_pdb(f'{home}/Desktop/translations/sasacom/trans{v}.pdb', \"w\")\n",
    "    # lig_grid.write_pdb(f'{home}/Desktop/translations/sasalig/trans{v}.pdb', \"w\")\n",
    "    # rec_grid.write_pdb(f'{home}/Desktop/translations/lig/rec.pdb', \"w\")\n"
   ]
  },
  {
   "cell_type": "code",
   "execution_count": 18,
   "id": "40206c2a-4e77-4bbf-86d1-4e946cb9f6b2",
   "metadata": {
    "tags": []
   },
   "outputs": [
    {
     "data": {
      "image/png": "[encoded data removed]",
      "text/plain": [
       "<Figure size 432x288 with 1 Axes>"
      ]
     },
     "metadata": {
      "needs_background": "light"
     },
     "output_type": "display_data"
    }
   ],
   "source": [
    "import matplotlib.pyplot as plt\n",
    "from scipy.stats import linregress\n",
    "from sklearn.linear_model import LinearRegression\n",
    "x = np.array(trans_scores)\n",
    "y = np.array(delta_sasas)\n",
    "C = np.array(colors)\n",
    "\n",
    "x = x.reshape((-1,1))\n",
    "model = LinearRegression().fit(x, y)\n",
    "r_sq = model.score(x, y)\n",
    "# scatter plot\n",
    "fig, ax = plt.subplots()\n",
    "# ax.scatter(x, y, 10, c=C, alpha=0.01, marker='o', cmap=\"hot\",\n",
    "#         label=\"GRID_SASA vs Delta SASA\", edgecolors=\"black\")\n",
    "ax.scatter(x, y, 10, c=\"black\", alpha=1, marker='o',\n",
    "        label=\"GRID_SASA vs Delta SASA\")\n",
    "# regression plot\n",
    "rx = np.linspace(x.min(), x.max(), 165)\n",
    "ry = model.coef_*rx + model.intercept_\n",
    "\n",
    "ax.plot(rx, ry, '-r', label=f'DELTA_SASA={float(model.coef_):.4f}*GRID_SASA + {float(model.intercept_):.2f}')\n",
    "plt.xlabel(\"Shrake-Rupley GRID SASA SCORE\")\n",
    "plt.ylabel(\"Delta_SASA (A^2)\")\n",
    "ax.set_title(f'Shrake-Rupley Grid SASA score vs Shrake-Rupley R+L-C Delta SASA {chr(10)} System:{system} Rotation:{rot_num}{chr(10)} R2: {r_sq}')\n",
    "ax.legend(loc='upper left')\n",
    "# ax.colorbar()\n",
    "plt.show()"
   ]
  },
  {
   "cell_type": "code",
   "execution_count": null,
   "id": "dc541ab1-66f2-4076-a7b2-fd447180f35c",
   "metadata": {},
   "outputs": [],
   "source": [
    "for u in range(len(translations)):\n",
    "    print(score[translations[u]], delta_sasas[u])"
   ]
  },
  {
   "cell_type": "code",
   "execution_count": 12,
   "id": "0a72279c-5c5e-44d0-a2bc-fdefa3a569f8",
   "metadata": {},
   "outputs": [
    {
     "name": "stdout",
     "output_type": "stream",
     "text": [
      "NATOM:2008\n"
     ]
    }
   ],
   "source": [
    "com_grid.write_pdb('/home/jtufts/Desktop/test.pdb', \"w\")\n",
    "com_grid.write_box('/home/jtufts/Desktop/testbox.pdb')"
   ]
  },
  {
   "cell_type": "code",
   "execution_count": 134,
   "id": "9415e9dd-53e3-4b52-855f-0390d1d3f864",
   "metadata": {},
   "outputs": [
    {
     "name": "stdout",
     "output_type": "stream",
     "text": [
      "7170.8086\n",
      "3486.3755\n",
      "4483.7715\n",
      "7970.147\n"
     ]
    }
   ],
   "source": [
    "# print(cat_dictionaries(rec_grid._prmtop['POINTERS'], lig_grid._prmtop['POINTERS']))\n",
    "print(com_grid._get_molecule_sasa(0.14, 960).sum())\n",
    "print(lig_grid._get_molecule_sasa(0.14, 960).sum())\n",
    "print(rec_grid._get_molecule_sasa(0.14, 960).sum())\n",
    "print(rec_grid._get_molecule_sasa(0.14, 960).sum()+lig_grid._get_molecule_sasa(0.14, 960).sum())"
   ]
  },
  {
   "cell_type": "code",
   "execution_count": 119,
   "id": "d1357300-6a00-4317-9457-3a62518bd9ab",
   "metadata": {},
   "outputs": [
    {
     "name": "stdout",
     "output_type": "stream",
     "text": [
      "5823.7266\n"
     ]
    }
   ],
   "source": [
    "print(lig_grid._molecule_sasa.sum())"
   ]
  },
  {
   "cell_type": "code",
   "execution_count": 140,
   "id": "9e971531-9821-442e-ade6-c67de7779f73",
   "metadata": {},
   "outputs": [],
   "source": [
    "import pickle as p\n",
    "f1 = np.load('/home/jtufts/Desktop/npy/delta_sasa_complex_minus_rl.npy')\n",
    "f2 = p.load(open('/home/jtufts/src/p39/fftanalysis/data/lig_sasa_sums.p', \"rb\"))\n",
    "f3 = p.load(open('/home/jtufts/src/p39/fftanalysis/data/rec_sasa_sums.p', \"rb\"))\n",
    "f4 = p.load(open('/home/jtufts/src/p39/fftanalysis/data/lig_sasas.p', \"rb\"))\n",
    "f5 = p.load(open('/home/jtufts/src/p39/fftanalysis/data/rec_sasas.p', \"rb\"))\n",
    "f6 = p.load(open('/home/jtufts/src/p39/fftanalysis/data/complex_sasas.p', \"rb\"))\n",
    "# f4"
   ]
  },
  {
   "cell_type": "code",
   "execution_count": 138,
   "id": "b1bf97b8-c99d-4095-afb9-4787a4c0b675",
   "metadata": {},
   "outputs": [
    {
     "name": "stdout",
     "output_type": "stream",
     "text": [
      "2OOB_A:B 7970.235824584961\n"
     ]
    }
   ],
   "source": [
    "k2 = list(f2.keys())\n",
    "k2.sort()\n",
    "print(k2[127],f2[k2[127]]*100+f3[k2[127]]*100)"
   ]
  },
  {
   "cell_type": "code",
   "execution_count": null,
   "id": "ba8f8fd3-8748-4352-a5f2-a33b1cbe04f1",
   "metadata": {},
   "outputs": [],
   "source": [
    "lig_grid._move_ligand_to_lower_corner()\n",
    "ls = lig_grid._get_molecule_sasa(0.14, 960)\n",
    "rs = rec_grid._get_molecule_sasa(0.14, 960)\n",
    "\n",
    "for m,val in enumerate(f4[k2[127]][0]):\n",
    "    print(val,ls[0][m])"
   ]
  },
  {
   "cell_type": "code",
   "execution_count": null,
   "id": "2c02cdff-225b-468e-aef8-1e89b2df3acd",
   "metadata": {},
   "outputs": [],
   "source": [
    "for p,l in enumerate(delta_sasas):\n",
    "    print(l, f1[127]*100)"
   ]
  },
  {
   "cell_type": "code",
   "execution_count": 165,
   "id": "d3fd80f5-1aea-4075-baba-666799ddae6b",
   "metadata": {},
   "outputs": [
    {
     "data": {
      "text/plain": [
       "masked_array(data=[68.0, 87.0, 45.0],\n",
       "             mask=[False, False, False],\n",
       "       fill_value=1e+20)"
      ]
     },
     "execution_count": 165,
     "metadata": {},
     "output_type": "execute_result"
    }
   ],
   "source": [
    "(rec_disp - lig_grid._displacement)/0.5"
   ]
  },
  {
   "cell_type": "code",
   "execution_count": 160,
   "id": "29a9e2c8-3ffb-4fdb-ac75-0a32bbdd5f74",
   "metadata": {},
   "outputs": [
    {
     "data": {
      "text/plain": [
       "masked_array(data=[40.5, 56. , 27. ],\n",
       "             mask=False,\n",
       "       fill_value=1e+20)"
      ]
     },
     "execution_count": 160,
     "metadata": {},
     "output_type": "execute_result"
    }
   ],
   "source": [
    "rec_disp"
   ]
  },
  {
   "cell_type": "code",
   "execution_count": 166,
   "id": "9d86513c-1fd4-4d47-a3f0-7efe4698a4c1",
   "metadata": {},
   "outputs": [
    {
     "data": {
      "text/plain": [
       "591.9999999999999"
      ]
     },
     "execution_count": 166,
     "metadata": {},
     "output_type": "execute_result"
    }
   ],
   "source": [
    "score[68,87,45]"
   ]
  },
  {
   "cell_type": "code",
   "execution_count": 167,
   "id": "844ae29b-5855-4419-87c4-d56ebd2eaef6",
   "metadata": {},
   "outputs": [
    {
     "data": {
      "text/plain": [
       "(592.0000000000001+2.326614353372607e-13j)"
      ]
     },
     "execution_count": 167,
     "metadata": {},
     "output_type": "execute_result"
    }
   ],
   "source": [
    "cfft[68,87,45]"
   ]
  },
  {
   "cell_type": "code",
   "execution_count": 48,
   "id": "6b1af7f7-c488-4119-81a6-cb2813422863",
   "metadata": {},
   "outputs": [],
   "source": [
    "def regplot(trans_scores, delta_sasas, colors, name):\n",
    "    import numpy as np\n",
    "    import matplotlib.pyplot as plt\n",
    "    from scipy.stats import linregress\n",
    "    from sklearn.linear_model import LinearRegression\n",
    "\n",
    "    x = np.array(trans_scores)\n",
    "    y = np.array(delta_sasas)\n",
    "    C = np.array(colors, dtype=str)\n",
    "\n",
    "    change = np.where(C == 'yellow')\n",
    "    C[change] = \"black\"\n",
    "\n",
    "    indicies = np.where(y < 1525)\n",
    "    # indicies = np.where(y == 0)\n",
    "\n",
    "    indicies = indicies[::-1]\n",
    "\n",
    "    for i in indicies:\n",
    "        x = np.delete(x, i)\n",
    "        y = np.delete(y, i)\n",
    "        C = np.delete(C, i)\n",
    "\n",
    "    indicies = np.where(x == 0)\n",
    "    indicies = indicies[::-1] \n",
    "\n",
    "    for i in indicies:\n",
    "        x = np.delete(x, i)\n",
    "        y = np.delete(y, i)\n",
    "        C = np.delete(C, i)\n",
    "\n",
    "    x = x.reshape((-1,1))\n",
    "\n",
    "    model = LinearRegression().fit(x, y)\n",
    "    r_sq = model.score(x, y)\n",
    "\n",
    "    print('coefficient of determination:', r_sq)\n",
    "    print('intercept:', model.intercept_)\n",
    "    print('slope:', model.coef_)\n",
    "\n",
    "\n",
    "    # scatter plot\n",
    "    fig, ax = plt.subplots()\n",
    "    ax.scatter(x, y, 10, c=C, alpha=0.5, marker='+',\n",
    "            label=\"SC SCORE vs Delta SASA\")\n",
    "    # regression plot\n",
    "    rx = np.linspace(x.min(), x.max(), 165)\n",
    "    ry = model.coef_*rx + model.intercept_\n",
    "\n",
    "    ax.plot(rx, ry, '-r', label=f'DELTA_SASA={float(model.coef_):.4f}*SC_SCORE + {float(model.intercept_):.2f}')\n",
    "    plt.xlabel(\"SC_score\")\n",
    "    plt.ylabel(\"Delta_SASA (nm^2)\")\n",
    "    ax.set_title(f'R2: {r_sq}')\n",
    "    ax.legend(loc='upper left')\n",
    "    plt.savefig(f'{name}')"
   ]
  },
  {
   "cell_type": "code",
   "execution_count": null,
   "id": "a68aa7aa-519e-4de3-bbd6-38e040f92abb",
   "metadata": {},
   "outputs": [],
   "source": [
    "for i in range(9):\n",
    "    # rx,ry,rz = np.random.randint(0, counts[0], 3)\n",
    "    # rx = np.random.randint(19, 39, 1)\n",
    "    # ry = np.random.randint(81, 101, 1)\n",
    "    # rz = np.random.randint(74, 94, 1)\n",
    "    rx = np.random.randint(26, 32, 1)\n",
    "    ry = np.random.randint(113, 119, 1)\n",
    "    rz = np.random.randint(49, 55, 1)\n",
    "    lgrid_trans = grids.translate_grid(lgrid[\"SASA\"], [rx,ry,rz])\n",
    "    result = (lgrid_trans*rgrid).sum()\n",
    "    print((rx,ry,rz), result, cfft[rx,ry,rz], (np.real(result)-np.imag(result)), score[rx,ry,rz])"
   ]
  },
  {
   "cell_type": "code",
   "execution_count": null,
   "id": "b9c077f7-b477-4338-b6c9-a1a3b30e2ad8",
   "metadata": {},
   "outputs": [],
   "source": [
    "for i in range(len(colors)):\n",
    "    print(i, colors[i])"
   ]
  },
  {
   "cell_type": "code",
   "execution_count": null,
   "id": "2cc76fb7-fffa-400e-8e0a-10d8827de620",
   "metadata": {},
   "outputs": [],
   "source": [
    "rec_grid._prmtop"
   ]
  },
  {
   "cell_type": "code",
   "execution_count": 49,
   "id": "96c5e745-57db-4715-8e80-8bd336b87253",
   "metadata": {},
   "outputs": [
    {
     "data": {
      "text/plain": [
       "162235.20273234017"
      ]
     },
     "execution_count": 49,
     "metadata": {},
     "output_type": "execute_result"
    }
   ],
   "source": [
    "sasa.sum()"
   ]
  },
  {
   "cell_type": "code",
   "execution_count": 50,
   "id": "9c866b9b-554d-498c-a4f3-7a83f4e11f5b",
   "metadata": {},
   "outputs": [
    {
     "data": {
      "text/plain": [
       "125989.38912844221"
      ]
     },
     "execution_count": 50,
     "metadata": {},
     "output_type": "execute_result"
    }
   ],
   "source": [
    "lgrid[\"sasa\"].sum()"
   ]
  },
  {
   "cell_type": "code",
   "execution_count": 36,
   "id": "26b7ddb6-fc9b-4312-9d3a-1dee91844195",
   "metadata": {},
   "outputs": [
    {
     "data": {
      "text/plain": [
       "Text(0, 0.5, 'Number of points')"
      ]
     },
     "execution_count": 36,
     "metadata": {},
     "output_type": "execute_result"
    },
    {
     "data": {
      "image/png": "[encoded data removed]",
      "text/plain": [
       "<Figure size 432x288 with 1 Axes>"
      ]
     },
     "metadata": {
      "needs_background": "light"
     },
     "output_type": "display_data"
    }
   ],
   "source": [
    "import matplotlib.pyplot as plt\n",
    "\n",
    "plt.hist(r_grid.flatten(), bins=100, range=(.01, 0.69))\n",
    "plt.xlabel(\"SASA value for Shrake-Rupley Grid\")\n",
    "plt.ylabel(\"Number of points\")"
   ]
  },
  {
   "cell_type": "code",
   "execution_count": 18,
   "id": "6c70dfe9-f6a8-4b9f-9422-1521a0fd417f",
   "metadata": {},
   "outputs": [
    {
     "name": "stdout",
     "output_type": "stream",
     "text": [
      "[ 1  2  3  4  5  6  7  8  9 10]\n"
     ]
    },
    {
     "data": {
      "text/plain": [
       "array([0.2, 0.4, 0.6, 0.8, 1. , 1.2, 1.4, 1.6, 1.8, 2. ])"
      ]
     },
     "execution_count": 18,
     "metadata": {},
     "output_type": "execute_result"
    }
   ],
   "source": [
    "a = np.array([1,2,3,4,5,6,7,8,9,10])\n",
    "print(a)\n",
    "a = a/5\n",
    "a"
   ]
  },
  {
   "cell_type": "code",
   "execution_count": 13,
   "id": "8d768ff0-3f82-443b-b16e-1af8ce55595c",
   "metadata": {},
   "outputs": [
    {
     "name": "stdout",
     "output_type": "stream",
     "text": [
      "0\n",
      "1\n",
      "2\n",
      "3\n",
      "4\n",
      "5\n",
      "6\n",
      "7\n",
      "8\n",
      "9\n"
     ]
    }
   ],
   "source": [
    "k = 0\n",
    "\n",
    "for j in range(10):\n",
    "    for i in list(range(10))[k:]:\n",
    "        k = k + 10\n",
    "        print(i)"
   ]
  },
  {
   "cell_type": "code",
   "execution_count": 7,
   "id": "82cc004e-30d7-40a0-84c4-df468e3ea68a",
   "metadata": {},
   "outputs": [
    {
     "name": "stdout",
     "output_type": "stream",
     "text": [
      "[0, 1, 2, 3, 4, 5, 6, 7, 8, 9]\n"
     ]
    }
   ],
   "source": [
    "print(list(range(10)))"
   ]
  },
  {
   "cell_type": "code",
   "execution_count": 40,
   "id": "91c569a9-af16-44d1-8f42-7db9dcd2656f",
   "metadata": {},
   "outputs": [
    {
     "data": {
      "text/plain": [
       "2260"
      ]
     },
     "execution_count": 40,
     "metadata": {},
     "output_type": "execute_result"
    }
   ],
   "source": [
    "lig_grid._crd.argmin()"
   ]
  },
  {
   "cell_type": "code",
   "execution_count": 43,
   "id": "80f2753d-7b3d-4b96-9273-9a91f9f65f76",
   "metadata": {},
   "outputs": [
    {
     "data": {
      "text/plain": [
       "array([342, 753,   3])"
      ]
     },
     "execution_count": 43,
     "metadata": {},
     "output_type": "execute_result"
    }
   ],
   "source": [
    "np.array([lig_grid._crd[:,i].argmin() for i in range(3)], dtype=int)"
   ]
  },
  {
   "cell_type": "code",
   "execution_count": 57,
   "id": "4bf39049-8861-4eff-b460-04992a3818b6",
   "metadata": {},
   "outputs": [
    {
     "data": {
      "text/plain": [
       "array([42.17420387, 31.54957533, 60.36855125])"
      ]
     },
     "execution_count": 57,
     "metadata": {},
     "output_type": "execute_result"
    }
   ],
   "source": [
    "np.array([lig_grid._crd[:,i].min() for i in range(3)], dtype=float)"
   ]
  },
  {
   "cell_type": "code",
   "execution_count": 56,
   "id": "d560210a-43bb-4224-b042-679ace09c8cd",
   "metadata": {},
   "outputs": [
    {
     "data": {
      "text/plain": [
       "array([46.4203577 , 31.54957533, 76.50253725])"
      ]
     },
     "execution_count": 56,
     "metadata": {},
     "output_type": "execute_result"
    }
   ],
   "source": [
    "lig_grid._crd[753]"
   ]
  },
  {
   "cell_type": "code",
   "execution_count": 58,
   "id": "687c0df1-9247-4fe3-a0b5-4ca209c9fc30",
   "metadata": {},
   "outputs": [
    {
     "data": {
      "text/plain": [
       "array([56.34309387, 68.54642868, 60.36855125])"
      ]
     },
     "execution_count": 58,
     "metadata": {},
     "output_type": "execute_result"
    }
   ],
   "source": [
    "lig_grid._crd[3]"
   ]
  },
  {
   "cell_type": "code",
   "execution_count": 63,
   "id": "b5fed533-5ff0-4c23-af8c-c0a444f6ec2a",
   "metadata": {},
   "outputs": [
    {
     "name": "stdout",
     "output_type": "stream",
     "text": [
      "[1.2 1.2 1.2]\n"
     ]
    }
   ],
   "source": [
    "edge_ind = np.array([lig_grid._crd[:,i].argmin() for i in range(3)], dtype=int)\n",
    "edge_radii = np.array([lig_grid._prmtop[\"VDW_RADII\"][i] for i in edge_ind], dtype=float)\n",
    "print(edge_radii)"
   ]
  },
  {
   "cell_type": "code",
   "execution_count": 61,
   "id": "ab3f3b23-2c88-4f08-aa76-f4a25d285e09",
   "metadata": {},
   "outputs": [
    {
     "data": {
      "text/plain": [
       "1.2"
      ]
     },
     "execution_count": 61,
     "metadata": {},
     "output_type": "execute_result"
    }
   ],
   "source": [
    "lig_grid._prmtop[\"VDW_RADII\"][342]"
   ]
  },
  {
   "cell_type": "code",
   "execution_count": 40,
   "id": "1a9d90d2-da84-4927-b038-a0978d241991",
   "metadata": {},
   "outputs": [
    {
     "data": {
      "text/plain": [
       "masked_array(data=[-32.5, -42.5, -23. ],\n",
       "             mask=False,\n",
       "       fill_value=1e+20)"
      ]
     },
     "execution_count": 40,
     "metadata": {},
     "output_type": "execute_result"
    }
   ],
   "source": [
    "lig_grid._displacement"
   ]
  },
  {
   "cell_type": "code",
   "execution_count": 55,
   "id": "3da2e0b0-9b95-4dca-a294-d61e2afa3c60",
   "metadata": {},
   "outputs": [
    {
     "data": {
      "text/plain": [
       "numpy.ndarray"
      ]
     },
     "execution_count": 55,
     "metadata": {},
     "output_type": "execute_result"
    }
   ],
   "source": [
    "type(np.array(rec_disp-lig_grid._displacement*lig_grid._spacing))"
   ]
  },
  {
   "cell_type": "code",
   "execution_count": 51,
   "id": "aafd097b-368f-4678-a91e-2da068086c43",
   "metadata": {},
   "outputs": [
    {
     "name": "stdout",
     "output_type": "stream",
     "text": [
      "Ligand translated by [0. 0. 0.]\n",
      "[2.64105129 2.36711311 2.38056588]\n"
     ]
    }
   ],
   "source": [
    "lig_grid._move_ligand_to_lower_corner()"
   ]
  },
  {
   "cell_type": "code",
   "execution_count": 52,
   "id": "a634a48d-8974-4792-a0b1-f2d103c2d68b",
   "metadata": {},
   "outputs": [
    {
     "data": {
      "text/plain": [
       "masked_array(data=[0., 0., 0.],\n",
       "             mask=False,\n",
       "       fill_value=1e+20)"
      ]
     },
     "execution_count": 52,
     "metadata": {},
     "output_type": "execute_result"
    }
   ],
   "source": [
    "lig_grid._displacement"
   ]
  },
  {
   "cell_type": "code",
   "execution_count": 100,
   "id": "c67fee85-eb2f-4990-8b0e-d3d44c69852f",
   "metadata": {},
   "outputs": [
    {
     "data": {
      "text/plain": [
       "937691.0"
      ]
     },
     "execution_count": 100,
     "metadata": {},
     "output_type": "execute_result"
    }
   ],
   "source": [
    "sasa.sum()"
   ]
  },
  {
   "cell_type": "code",
   "execution_count": 17,
   "id": "8a052807-41e1-4185-8d2e-ac33caf1cfd3",
   "metadata": {},
   "outputs": [],
   "source": [
    "good_grid = nc.Dataset(\"/media/jim/Research_TWO/FFT_PPI/2.redock/4.receptor_grid/2OOB_A:B/no_gaussian.nc\")\n",
    "good_sasa = np.array(good_grid.variables[\"sasa\"])\n",
    "error_grid = nc.Dataset(\"/media/jim/Research_TWO/FFT_PPI/2.redock/4.receptor_grid/2OOB_A:B/shrakerupley.nc\")\n",
    "error_sasa = np.array(error_grid.variables[\"sasa\"])"
   ]
  },
  {
   "cell_type": "code",
   "execution_count": 18,
   "id": "0bc56186-076e-4f2a-8877-729988cc4222",
   "metadata": {},
   "outputs": [
    {
     "data": {
      "text/plain": [
       "937691.0"
      ]
     },
     "execution_count": 18,
     "metadata": {},
     "output_type": "execute_result"
    }
   ],
   "source": [
    "error_sasa.sum()"
   ]
  },
  {
   "cell_type": "code",
   "execution_count": 19,
   "id": "69b8a9de-4941-4d18-a138-0f43e54e7b37",
   "metadata": {},
   "outputs": [
    {
     "data": {
      "text/plain": [
       "937691.0"
      ]
     },
     "execution_count": 19,
     "metadata": {},
     "output_type": "execute_result"
    }
   ],
   "source": [
    "good_sasa.sum()"
   ]
  },
  {
   "cell_type": "code",
   "execution_count": 21,
   "id": "16e6bf48-53e8-4ea8-b59b-aea513d64dfc",
   "metadata": {},
   "outputs": [],
   "source": [
    "diff = good_sasa - error_sasa"
   ]
  },
  {
   "cell_type": "code",
   "execution_count": 22,
   "id": "6e27c415-f013-4878-ac3a-20138eaba885",
   "metadata": {},
   "outputs": [
    {
     "data": {
      "text/plain": [
       "0.0"
      ]
     },
     "execution_count": 22,
     "metadata": {},
     "output_type": "execute_result"
    }
   ],
   "source": [
    "import matplotlib.pyplot as plt"
   ]
  },
  {
   "cell_type": "code",
   "execution_count": 47,
   "id": "c3a736f7-b05f-42fc-895e-dc92e36a622f",
   "metadata": {},
   "outputs": [
    {
     "data": {
      "text/plain": [
       "(0.0, 10.0)"
      ]
     },
     "execution_count": 47,
     "metadata": {},
     "output_type": "execute_result"
    },
    {
     "data": {
      "image/png": "[encoded data removed]",
      "text/plain": [
       "<Figure size 432x288 with 1 Axes>"
      ]
     },
     "metadata": {
      "needs_background": "light"
     },
     "output_type": "display_data"
    }
   ],
   "source": [
    "plt.hist(good_ones.flatten(), bins=10)\n",
    "plt.xlim(0, 10)\n"
   ]
  },
  {
   "cell_type": "code",
   "execution_count": 46,
   "id": "f55e5543-c285-41bc-9ff4-aa9cc72e93f1",
   "metadata": {},
   "outputs": [
    {
     "data": {
      "text/plain": [
       "(0.0, 10.0)"
      ]
     },
     "execution_count": 46,
     "metadata": {},
     "output_type": "execute_result"
    },
    {
     "data": {
      "image/png": "[encoded data removed]",
      "text/plain": [
       "<Figure size 432x288 with 1 Axes>"
      ]
     },
     "metadata": {
      "needs_background": "light"
     },
     "output_type": "display_data"
    }
   ],
   "source": [
    "plt.hist(error_ones.flatten(), bins=10)\n",
    "plt.xlim(0, 10)"
   ]
  },
  {
   "cell_type": "code",
   "execution_count": 40,
   "id": "3dd929b1-5e1a-4d06-8854-a9c086a94d79",
   "metadata": {},
   "outputs": [],
   "source": [
    "good_ones = good_sasa[good_sasa>0]\n",
    "error_ones = error_sasa[error_sasa>0]"
   ]
  },
  {
   "cell_type": "code",
   "execution_count": 41,
   "id": "15b23af6-c3a2-4d43-a366-53ae7c68615a",
   "metadata": {},
   "outputs": [
    {
     "data": {
      "text/plain": [
       "array([1., 1., 1., ..., 1., 1., 1.])"
      ]
     },
     "execution_count": 41,
     "metadata": {},
     "output_type": "execute_result"
    }
   ],
   "source": [
    "good_ones"
   ]
  },
  {
   "cell_type": "code",
   "execution_count": 42,
   "id": "77ed7142-7959-49bc-9008-7c4f10f3895c",
   "metadata": {},
   "outputs": [
    {
     "data": {
      "text/plain": [
       "array([1., 1., 1., ..., 1., 1., 1.])"
      ]
     },
     "execution_count": 42,
     "metadata": {},
     "output_type": "execute_result"
    }
   ],
   "source": [
    "error_ones"
   ]
  },
  {
   "cell_type": "code",
   "execution_count": null,
   "id": "2e60fe03-1c7f-4336-bdf4-5bfe08099a3c",
   "metadata": {},
   "outputs": [],
   "source": []
  }
 ],
 "metadata": {
  "kernelspec": {
   "display_name": "Python 3",
   "language": "python",
   "name": "python3"
  },
  "language_info": {
   "codemirror_mode": {
    "name": "ipython",
    "version": 3
   },
   "file_extension": ".py",
   "mimetype": "text/x-python",
   "name": "python",
   "nbconvert_exporter": "python",
   "pygments_lexer": "ipython3",
   "version": "3.9.4"
  }
 },
 "nbformat": 4,
 "nbformat_minor": 5
}
