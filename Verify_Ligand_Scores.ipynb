{
 "cells": [
  {
   "cell_type": "code",
   "execution_count": 2,
   "id": "82c2a749-00cf-495c-9b90-6f1b3cce89d6",
   "metadata": {},
   "outputs": [
    {
     "name": "stderr",
     "output_type": "stream",
     "text": [
      "Warning: importing 'simtk.openmm' is deprecated.  Import 'openmm' instead.\n"
     ]
    }
   ],
   "source": [
    "import mdtraj as md\n",
    "import bpmfwfft.grids as grids\n",
    "import numpy as np"
   ]
  },
  {
   "cell_type": "code",
   "execution_count": 17,
   "id": "604cc001-c83c-4854-aae4-8e7029a5c28a",
   "metadata": {},
   "outputs": [],
   "source": [
    "from os import walk\n",
    "import socket\n",
    "if socket.gethostname() == 'jim-Mint':\n",
    "    ppi_path = '/media/jim/Research_TWO/FFT_PPI'\n",
    "    home = '/home/jim'\n",
    "else:\n",
    "    ppi_path = '/home/jtufts/Desktop/FFT_PPI'\n",
    "    home = '/home/jtufts'"
   ]
  },
  {
   "cell_type": "code",
   "execution_count": 3,
   "id": "2619c466-19c2-491c-8b77-b2f3a709387c",
   "metadata": {},
   "outputs": [],
   "source": [
    "f = {}\n",
    "for (dirpath, dirnames, filenames) in walk(f'{ppi_path}/2.redock/2.minimize'):\n",
    "    if filenames[0] != 'run_me.sh':\n",
    "        if 'complex.pdb' in filenames:\n",
    "            f[dirpath.split('/')[7]] = dirpath + '/complex.pdb'"
   ]
  },
  {
   "cell_type": "code",
   "execution_count": 44,
   "id": "aabee536-3322-43d3-a76a-799dd58e693d",
   "metadata": {},
   "outputs": [],
   "source": [
    "import netCDF4 as nc\n",
    "import numpy as np\n",
    "\n",
    "grid_path = f'{ppi_path}/2.redock/4.receptor_grid/2OOB_A:B'\n",
    "grid_nc = '%s/grid.nc'%grid_path\n",
    "\n",
    "\n",
    "#parsing some of the netcdf variables from grid.nc\n",
    "grid_variables = nc.Dataset(grid_nc, 'r').variables\n",
    "counts = nc.Dataset(grid_nc, 'r').variables[\"counts\"][:]\n",
    "x = nc.Dataset(grid_nc, 'r').variables[\"x\"][:]\n",
    "y = nc.Dataset(grid_nc, 'r').variables[\"y\"][:]\n",
    "z = nc.Dataset(grid_nc, 'r').variables[\"z\"][:]\n",
    "electrostatic = nc.Dataset(grid_nc, 'r').variables[\"electrostatic\"][:]\n",
    "lja = nc.Dataset(grid_nc, 'r').variables[\"LJa\"][:]\n",
    "ljr = nc.Dataset(grid_nc, 'r').variables[\"LJr\"][:]\n",
    "sasai = nc.Dataset(grid_nc, 'r').variables[\"SASAi\"][:]\n",
    "sasar = nc.Dataset(grid_nc, 'r').variables[\"SASAr\"][:]\n",
    "trans_crd = nc.Dataset(grid_nc, 'r').variables[\"trans_crd\"][:]\n",
    "rec_disp = nc.Dataset(grid_nc, 'r').variables[\"displacement\"][:]"
   ]
  },
  {
   "cell_type": "code",
   "execution_count": 45,
   "id": "9e383ab4-a1a2-4421-8ad8-bde31b48dabf",
   "metadata": {
    "scrolled": true,
    "tags": []
   },
   "outputs": [
    {
     "name": "stdout",
     "output_type": "stream",
     "text": [
      "/home/jim/src/p39/fftanalysis\n",
      "[1.]\n",
      "/media/jim/Research_TWO/FFT_PPI/2.redock/4.receptor_grid/2OOB_A:B/grid.nc\n",
      "[  0.    0.5   1.    1.5   2.    2.5   3.    3.5   4.    4.5   5.    5.5\n",
      "   6.    6.5   7.    7.5   8.    8.5   9.    9.5  10.   10.5  11.   11.5\n",
      "  12.   12.5  13.   13.5  14.   14.5  15.   15.5  16.   16.5  17.   17.5\n",
      "  18.   18.5  19.   19.5  20.   20.5  21.   21.5  22.   22.5  23.   23.5\n",
      "  24.   24.5  25.   25.5  26.   26.5  27.   27.5  28.   28.5  29.   29.5\n",
      "  30.   30.5  31.   31.5  32.   32.5  33.   33.5  34.   34.5  35.   35.5\n",
      "  36.   36.5  37.   37.5  38.   38.5  39.   39.5  40.   40.5  41.   41.5\n",
      "  42.   42.5  43.   43.5  44.   44.5  45.   45.5  46.   46.5  47.   47.5\n",
      "  48.   48.5  49.   49.5  50.   50.5  51.   51.5  52.   52.5  53.   53.5\n",
      "  54.   54.5  55.   55.5  56.   56.5  57.   57.5  58.   58.5  59.   59.5\n",
      "  60.   60.5  61.   61.5  62.   62.5  63.   63.5  64.   64.5  65.   65.5\n",
      "  66.   66.5  67.   67.5  68.   68.5  69.   69.5  70.   70.5  71.   71.5\n",
      "  72.   72.5  73.   73.5  74.   74.5  75.   75.5  76.   76.5  77.   77.5\n",
      "  78.   78.5  79.   79.5  80.   80.5  81.   81.5  82.   82.5  83.   83.5\n",
      "  84.   84.5  85.   85.5  86.   86.5  87.   87.5  88.   88.5  89.   89.5\n",
      "  90.   90.5  91.   91.5  92.   92.5  93.   93.5  94.   94.5  95.   95.5\n",
      "  96.   96.5  97.   97.5  98.   98.5  99.   99.5 100.  100.5 101.  101.5\n",
      " 102.  102.5 103.  103.5 104.  104.5 105.  105.5 106.  106.5 107. ]\n",
      "[  0.    0.5   1.    1.5   2.    2.5   3.    3.5   4.    4.5   5.    5.5\n",
      "   6.    6.5   7.    7.5   8.    8.5   9.    9.5  10.   10.5  11.   11.5\n",
      "  12.   12.5  13.   13.5  14.   14.5  15.   15.5  16.   16.5  17.   17.5\n",
      "  18.   18.5  19.   19.5  20.   20.5  21.   21.5  22.   22.5  23.   23.5\n",
      "  24.   24.5  25.   25.5  26.   26.5  27.   27.5  28.   28.5  29.   29.5\n",
      "  30.   30.5  31.   31.5  32.   32.5  33.   33.5  34.   34.5  35.   35.5\n",
      "  36.   36.5  37.   37.5  38.   38.5  39.   39.5  40.   40.5  41.   41.5\n",
      "  42.   42.5  43.   43.5  44.   44.5  45.   45.5  46.   46.5  47.   47.5\n",
      "  48.   48.5  49.   49.5  50.   50.5  51.   51.5  52.   52.5  53.   53.5\n",
      "  54.   54.5  55.   55.5  56.   56.5  57.   57.5  58.   58.5  59.   59.5\n",
      "  60.   60.5  61.   61.5  62.   62.5  63.   63.5  64.   64.5  65.   65.5\n",
      "  66.   66.5  67.   67.5  68.   68.5  69.   69.5  70.   70.5  71.   71.5\n",
      "  72.   72.5  73.   73.5  74.   74.5  75.   75.5  76.   76.5  77.   77.5\n",
      "  78.   78.5  79.   79.5  80.   80.5  81.   81.5  82.   82.5  83.   83.5\n",
      "  84.   84.5  85.   85.5  86.   86.5  87.   87.5  88.   88.5  89.   89.5\n",
      "  90.   90.5  91.   91.5  92.   92.5  93.   93.5  94.   94.5  95.   95.5\n",
      "  96.   96.5  97.   97.5  98.   98.5  99.   99.5 100.  100.5 101.  101.5\n",
      " 102.  102.5 103.  103.5 104.  104.5 105.  105.5 106.  106.5 107. ]\n",
      "[  0.    0.5   1.    1.5   2.    2.5   3.    3.5   4.    4.5   5.    5.5\n",
      "   6.    6.5   7.    7.5   8.    8.5   9.    9.5  10.   10.5  11.   11.5\n",
      "  12.   12.5  13.   13.5  14.   14.5  15.   15.5  16.   16.5  17.   17.5\n",
      "  18.   18.5  19.   19.5  20.   20.5  21.   21.5  22.   22.5  23.   23.5\n",
      "  24.   24.5  25.   25.5  26.   26.5  27.   27.5  28.   28.5  29.   29.5\n",
      "  30.   30.5  31.   31.5  32.   32.5  33.   33.5  34.   34.5  35.   35.5\n",
      "  36.   36.5  37.   37.5  38.   38.5  39.   39.5  40.   40.5  41.   41.5\n",
      "  42.   42.5  43.   43.5  44.   44.5  45.   45.5  46.   46.5  47.   47.5\n",
      "  48.   48.5  49.   49.5  50.   50.5  51.   51.5  52.   52.5  53.   53.5\n",
      "  54.   54.5  55.   55.5  56.   56.5  57.   57.5  58.   58.5  59.   59.5\n",
      "  60.   60.5  61.   61.5  62.   62.5  63.   63.5  64.   64.5  65.   65.5\n",
      "  66.   66.5  67.   67.5  68.   68.5  69.   69.5  70.   70.5  71.   71.5\n",
      "  72.   72.5  73.   73.5  74.   74.5  75.   75.5  76.   76.5  77.   77.5\n",
      "  78.   78.5  79.   79.5  80.   80.5  81.   81.5  82.   82.5  83.   83.5\n",
      "  84.   84.5  85.   85.5  86.   86.5  87.   87.5  88.   88.5  89.   89.5\n",
      "  90.   90.5  91.   91.5  92.   92.5  93.   93.5  94.   94.5  95.   95.5\n",
      "  96.   96.5  97.   97.5  98.   98.5  99.   99.5 100.  100.5 101.  101.5\n",
      " 102.  102.5 103.  103.5 104.  104.5 105.  105.5 106.  106.5 107. ]\n",
      "[0.5 0.  0. ]\n",
      "[0.  0.5 0. ]\n",
      "[0.  0.  0.5]\n",
      "[0.5 0.5 0.5]\n",
      "[215 215 215]\n",
      "[0. 0. 0.]\n",
      "[1.]\n",
      "[0.76]\n",
      "[0.53]\n",
      "[0.55]\n",
      "Doing FFT for electrostatic\n",
      "Doing FFT for LJr\n",
      "Doing FFT for LJa\n",
      "Doing FFT for SASA\n",
      "Copy entries from receptor_grid ['lj_sigma_scaling_factor', 'x', 'y', 'z', 'd0', 'd1', 'd2', 'spacing', 'counts', 'origin', 'rec_core_scaling', 'rec_surface_scaling', 'rec_metal_scaling']\n",
      "[1.]\n",
      "[  0.    0.5   1.    1.5   2.    2.5   3.    3.5   4.    4.5   5.    5.5\n",
      "   6.    6.5   7.    7.5   8.    8.5   9.    9.5  10.   10.5  11.   11.5\n",
      "  12.   12.5  13.   13.5  14.   14.5  15.   15.5  16.   16.5  17.   17.5\n",
      "  18.   18.5  19.   19.5  20.   20.5  21.   21.5  22.   22.5  23.   23.5\n",
      "  24.   24.5  25.   25.5  26.   26.5  27.   27.5  28.   28.5  29.   29.5\n",
      "  30.   30.5  31.   31.5  32.   32.5  33.   33.5  34.   34.5  35.   35.5\n",
      "  36.   36.5  37.   37.5  38.   38.5  39.   39.5  40.   40.5  41.   41.5\n",
      "  42.   42.5  43.   43.5  44.   44.5  45.   45.5  46.   46.5  47.   47.5\n",
      "  48.   48.5  49.   49.5  50.   50.5  51.   51.5  52.   52.5  53.   53.5\n",
      "  54.   54.5  55.   55.5  56.   56.5  57.   57.5  58.   58.5  59.   59.5\n",
      "  60.   60.5  61.   61.5  62.   62.5  63.   63.5  64.   64.5  65.   65.5\n",
      "  66.   66.5  67.   67.5  68.   68.5  69.   69.5  70.   70.5  71.   71.5\n",
      "  72.   72.5  73.   73.5  74.   74.5  75.   75.5  76.   76.5  77.   77.5\n",
      "  78.   78.5  79.   79.5  80.   80.5  81.   81.5  82.   82.5  83.   83.5\n",
      "  84.   84.5  85.   85.5  86.   86.5  87.   87.5  88.   88.5  89.   89.5\n",
      "  90.   90.5  91.   91.5  92.   92.5  93.   93.5  94.   94.5  95.   95.5\n",
      "  96.   96.5  97.   97.5  98.   98.5  99.   99.5 100.  100.5 101.  101.5\n",
      " 102.  102.5 103.  103.5 104.  104.5 105.  105.5 106.  106.5 107. ]\n",
      "[  0.    0.5   1.    1.5   2.    2.5   3.    3.5   4.    4.5   5.    5.5\n",
      "   6.    6.5   7.    7.5   8.    8.5   9.    9.5  10.   10.5  11.   11.5\n",
      "  12.   12.5  13.   13.5  14.   14.5  15.   15.5  16.   16.5  17.   17.5\n",
      "  18.   18.5  19.   19.5  20.   20.5  21.   21.5  22.   22.5  23.   23.5\n",
      "  24.   24.5  25.   25.5  26.   26.5  27.   27.5  28.   28.5  29.   29.5\n",
      "  30.   30.5  31.   31.5  32.   32.5  33.   33.5  34.   34.5  35.   35.5\n",
      "  36.   36.5  37.   37.5  38.   38.5  39.   39.5  40.   40.5  41.   41.5\n",
      "  42.   42.5  43.   43.5  44.   44.5  45.   45.5  46.   46.5  47.   47.5\n",
      "  48.   48.5  49.   49.5  50.   50.5  51.   51.5  52.   52.5  53.   53.5\n",
      "  54.   54.5  55.   55.5  56.   56.5  57.   57.5  58.   58.5  59.   59.5\n",
      "  60.   60.5  61.   61.5  62.   62.5  63.   63.5  64.   64.5  65.   65.5\n",
      "  66.   66.5  67.   67.5  68.   68.5  69.   69.5  70.   70.5  71.   71.5\n",
      "  72.   72.5  73.   73.5  74.   74.5  75.   75.5  76.   76.5  77.   77.5\n",
      "  78.   78.5  79.   79.5  80.   80.5  81.   81.5  82.   82.5  83.   83.5\n",
      "  84.   84.5  85.   85.5  86.   86.5  87.   87.5  88.   88.5  89.   89.5\n",
      "  90.   90.5  91.   91.5  92.   92.5  93.   93.5  94.   94.5  95.   95.5\n",
      "  96.   96.5  97.   97.5  98.   98.5  99.   99.5 100.  100.5 101.  101.5\n",
      " 102.  102.5 103.  103.5 104.  104.5 105.  105.5 106.  106.5 107. ]\n",
      "[  0.    0.5   1.    1.5   2.    2.5   3.    3.5   4.    4.5   5.    5.5\n",
      "   6.    6.5   7.    7.5   8.    8.5   9.    9.5  10.   10.5  11.   11.5\n",
      "  12.   12.5  13.   13.5  14.   14.5  15.   15.5  16.   16.5  17.   17.5\n",
      "  18.   18.5  19.   19.5  20.   20.5  21.   21.5  22.   22.5  23.   23.5\n",
      "  24.   24.5  25.   25.5  26.   26.5  27.   27.5  28.   28.5  29.   29.5\n",
      "  30.   30.5  31.   31.5  32.   32.5  33.   33.5  34.   34.5  35.   35.5\n",
      "  36.   36.5  37.   37.5  38.   38.5  39.   39.5  40.   40.5  41.   41.5\n",
      "  42.   42.5  43.   43.5  44.   44.5  45.   45.5  46.   46.5  47.   47.5\n",
      "  48.   48.5  49.   49.5  50.   50.5  51.   51.5  52.   52.5  53.   53.5\n",
      "  54.   54.5  55.   55.5  56.   56.5  57.   57.5  58.   58.5  59.   59.5\n",
      "  60.   60.5  61.   61.5  62.   62.5  63.   63.5  64.   64.5  65.   65.5\n",
      "  66.   66.5  67.   67.5  68.   68.5  69.   69.5  70.   70.5  71.   71.5\n",
      "  72.   72.5  73.   73.5  74.   74.5  75.   75.5  76.   76.5  77.   77.5\n",
      "  78.   78.5  79.   79.5  80.   80.5  81.   81.5  82.   82.5  83.   83.5\n",
      "  84.   84.5  85.   85.5  86.   86.5  87.   87.5  88.   88.5  89.   89.5\n",
      "  90.   90.5  91.   91.5  92.   92.5  93.   93.5  94.   94.5  95.   95.5\n",
      "  96.   96.5  97.   97.5  98.   98.5  99.   99.5 100.  100.5 101.  101.5\n",
      " 102.  102.5 103.  103.5 104.  104.5 105.  105.5 106.  106.5 107. ]\n",
      "[0.5 0.  0. ]\n",
      "[0.  0.5 0. ]\n",
      "[0.  0.  0.5]\n",
      "[0.5 0.5 0.5]\n",
      "[215 215 215]\n",
      "[0. 0. 0.]\n",
      "[0.76]\n",
      "[0.53]\n",
      "[0.55]\n",
      "/home/jim/src/p39/fftanalysis\n",
      "[1.]\n",
      "Number of atoms in /media/jim/Research_TWO/FFT_PPI/2.redock/2.minimize/2OOB_A:B/ligand.inpcrd is 777\n",
      "Ligand translated by [ 6.5 12.5  4.5]\n",
      "[1.1410512 1.3671129 1.3805658]\n",
      "Ligand translated by [ 6.5 12.5  4.5]\n",
      "[1.14105129 1.36711311 1.38056588]\n"
     ]
    }
   ],
   "source": [
    "from bpmfwfft.grids import RecGrid\n",
    "from bpmfwfft.grids import LigGrid\n",
    "\n",
    "rec_prmtop = f\"{ppi_path}/2.redock/1.amber/2OOB_A:B/receptor.prmtop\"\n",
    "lj_sigma_scal_fact = 1.0\n",
    "rec_inpcrd = f\"{ppi_path}/2.redock/2.minimize/2OOB_A:B/receptor.inpcrd\"\n",
    "\n",
    "bsite_file = None\n",
    "grid_nc_file = f\"{ppi_path}/2.redock/4.receptor_grid/2OOB_A:B/grid.nc\"\n",
    "\n",
    "lig_prmtop = f\"{ppi_path}/2.redock/1.amber/2OOB_A:B/ligand.prmtop\"\n",
    "# lig_inpcrd = f\"{ppi_path}/2.redock/2.minimze/2OOB_A:B/ligand.inpcrd\"\n",
    "\n",
    "rot_nc = f\"{ppi_path}/2.redock/3.ligand_rand_rot/2OOB_A:B/rotation.nc\"\n",
    "lig_rot = nc.Dataset(rot_nc, 'r').variables['positions']\n",
    "lig_inpcrd = f\"{ppi_path}/2.redock/2.minimize/2OOB_A:B/ligand.inpcrd\"\n",
    "\n",
    "rho = 9.0\n",
    "rc_scale = 0.76\n",
    "rs_scale = 0.53\n",
    "rm_scale = 0.55\n",
    "lc_scale = 0.81\n",
    "ls_scale = 0.50\n",
    "lm_scale = 0.54\n",
    "\n",
    "\n",
    "def _create_rec_grid(rec_prmtop, lj_sigma_scal_fact, rc_scale, rs_scale, rm_scale, rho, rec_inpcrd, bsite_file, grid_nc_file):\n",
    "    rec_grid = RecGrid(rec_prmtop, lj_sigma_scal_fact, rc_scale, rs_scale, rm_scale, rho, rec_inpcrd, bsite_file, \n",
    "                        grid_nc_file, new_calculation=False)\n",
    "    return rec_grid\n",
    "\n",
    "def _create_lig_grid(lig_prmtop, lj_sigma_scal_fact, lc_scale, ls_scale, lm_scale, lig_inpcrd, rec_grid):\n",
    "    lig_grid = LigGrid(lig_prmtop, lj_sigma_scal_fact, lc_scale, ls_scale, lm_scale, lig_inpcrd, rec_grid)\n",
    "    return lig_grid\n",
    "\n",
    "rec_grid = _create_rec_grid(rec_prmtop, lj_sigma_scal_fact, rc_scale, rs_scale, rm_scale, rho, rec_inpcrd, bsite_file, grid_nc_file)\n",
    "\n",
    "lig_grid = _create_lig_grid(lig_prmtop, lj_sigma_scal_fact, lc_scale, ls_scale, lm_scale, lig_inpcrd, rec_grid)\n",
    "\n",
    "lig_grid._crd = np.array(lig_rot[0], dtype=np.float64)\n",
    "lig_grid._move_ligand_to_lower_corner()"
   ]
  },
  {
   "cell_type": "code",
   "execution_count": 46,
   "id": "ef994898-9846-44c5-b1ca-2ae649057bb2",
   "metadata": {},
   "outputs": [],
   "source": [
    "names = [\"SASA\"]\n",
    "lgrid = lig_grid.get_ligand_grids(names, [0,0,0])"
   ]
  },
  {
   "cell_type": "code",
   "execution_count": 47,
   "id": "3645d89e-207e-4586-b985-fe1f74d6f440",
   "metadata": {},
   "outputs": [],
   "source": [
    "import numpy as np\n",
    "rgrid = np.add(sasar, sasai*1.j)"
   ]
  },
  {
   "cell_type": "code",
   "execution_count": 8,
   "id": "c3583b3d-4490-460d-a8b3-90701cdaf98b",
   "metadata": {},
   "outputs": [
    {
     "name": "stdout",
     "output_type": "stream",
     "text": [
      "0j\n"
     ]
    }
   ],
   "source": [
    "print((lgrid[\"SASA\"]*rgrid).sum())"
   ]
  },
  {
   "cell_type": "code",
   "execution_count": 9,
   "id": "87ae65b9-33d9-492b-8be4-2683c1169a3d",
   "metadata": {},
   "outputs": [],
   "source": [
    "lgrid_trans = grids.translate_grid(lgrid[\"SASA\"], np.array([68,87,45]))"
   ]
  },
  {
   "cell_type": "code",
   "execution_count": 10,
   "id": "ae913610-f53e-4428-bc06-ada37faacb37",
   "metadata": {},
   "outputs": [
    {
     "name": "stdout",
     "output_type": "stream",
     "text": [
      "(551+0j)\n"
     ]
    }
   ],
   "source": [
    "print((lgrid_trans*rgrid).sum())"
   ]
  },
  {
   "cell_type": "code",
   "execution_count": 71,
   "id": "a8c21659-e27c-4b98-b353-1e3ea303f9f4",
   "metadata": {},
   "outputs": [],
   "source": [
    "# fft test\n",
    "lfft = np.fft.fftn(lgrid[\"SASA\"].conjugate())\n",
    "rfft = np.fft.fftn(rgrid)\n",
    "cfft = np.fft.ifftn(rfft*lfft.conjugate())\n",
    "score = np.real(cfft) - np.imag(cfft)*1000000"
   ]
  },
  {
   "cell_type": "code",
   "execution_count": 49,
   "id": "1e648f26-6b43-4e07-b168-c20a60112476",
   "metadata": {},
   "outputs": [],
   "source": [
    "def rmsd(P: np.ndarray, Q: np.ndarray, **kwargs) -> float:\n",
    "    \"\"\"\n",
    "    Calculate Root-mean-square deviation from two sets of vectors V and W.\n",
    "    Parameters\n",
    "    ----------\n",
    "    V : array\n",
    "        (N,D) matrix, where N is points and D is dimension.\n",
    "    W : array\n",
    "        (N,D) matrix, where N is points and D is dimension.\n",
    "    Returns\n",
    "    -------\n",
    "    rmsd : float\n",
    "        Root-mean-square deviation between the two vectors\n",
    "    \"\"\"\n",
    "    diff = P - Q\n",
    "    return np.sqrt((diff * diff).sum() / P.shape[0])"
   ]
  },
  {
   "cell_type": "code",
   "execution_count": 72,
   "id": "87457d7e-1eb9-42ba-a55d-94dce844538a",
   "metadata": {},
   "outputs": [
    {
     "name": "stdout",
     "output_type": "stream",
     "text": [
      "Ligand translated by [-33.5 -44.  -24.5]\n",
      "[1.14105129 1.36711311 1.38056588]\n",
      "Ligand translated by [-34.  -43.5 -22.5]\n",
      "[1.14105129 1.36711311 1.38056588]\n",
      "rmsd 0.5\n"
     ]
    }
   ],
   "source": [
    "import copy\n",
    "lig_grid._move_ligand_to_lower_corner()\n",
    "lig_grid.translate_ligand(np.array([68,87,45])*lig_grid._spacing)\n",
    "ref = copy.deepcopy(lig_grid._crd)\n",
    "lig_grid._move_ligand_to_lower_corner()\n",
    "lig_grid.translate_ligand(np.array([69,87,45])*lig_grid._spacing)\n",
    "tar = copy.deepcopy(lig_grid._crd)\n",
    "\n",
    "print(\"rmsd\", rmsd(ref, tar))"
   ]
  },
  {
   "cell_type": "code",
   "execution_count": 73,
   "id": "32a3220c-07ff-49c9-81bc-2331bcf672ef",
   "metadata": {},
   "outputs": [
    {
     "name": "stdout",
     "output_type": "stream",
     "text": [
      "1386.0000002326615\n"
     ]
    }
   ],
   "source": [
    "print(np.amax(score))\n",
    "k = 200  # number of scores to save\n",
    "flat_score = score.flatten()\n",
    "flat_argp = np.argpartition(flat_score, -k)[-k:]"
   ]
  },
  {
   "cell_type": "code",
   "execution_count": 74,
   "id": "8525988b-cf03-4298-94b4-5dd2930bc41f",
   "metadata": {},
   "outputs": [],
   "source": [
    "top_scores = flat_score[flat_argp]\n",
    "top_scores.sort()\n",
    "translations = []\n",
    "trans_scores = []\n",
    "\n",
    "for score_val in top_scores:\n",
    "    t = np.where(score == score_val)\n",
    "    a = np.array(t)\n",
    "    if a.shape == (3,2):\n",
    "        for x,y,z in a.transpose():\n",
    "            x = np.array([x])\n",
    "            y = np.array([y])\n",
    "            z = np.array([z])\n",
    "            translations.append((x,y,z))\n",
    "            trans_scores.append(score[x,y,z])\n",
    "            # print((x,y,z),  score[x,y,z], cfft[x,y,z])\n",
    "    else:\n",
    "        translations.append(t)\n",
    "        trans_scores.append(score[t])\n",
    "        # print(t, score[t], cfft[t])"
   ]
  },
  {
   "cell_type": "code",
   "execution_count": null,
   "id": "eff21db6-aa55-4238-88c6-92918dd6d957",
   "metadata": {},
   "outputs": [],
   "source": [
    "def cat_grids(grid1, grid2):\n",
    "    prmtop = cat_dictionaries(grid1._prmtop,grid2._prmtop)\n",
    "    crd = cat_dictionaries(grid1._crd,grid2._crd)\n",
    "    cat_grid = copy.deepcopy(grid1)\n",
    "    cat_grid._prmtop = prmtop\n",
    "    cat_grid._crd = crd\n",
    "    return cat_grid\n",
    "\n",
    "def cat_dictionaries(dict1, dict2):\n",
    "    dict1_copy = copy.deepcopy(dict1)\n",
    "    dict2_copy = copy.deepcopy(dict2)\n",
    "    \n",
    "    if isinstance(dict1_copy, dict):\n",
    "        keys = list(dict1_copy.keys())\n",
    "        for key in keys:\n",
    "            # print(keys)\n",
    "            # print(key)\n",
    "            dict1_copy[key] = cat_values(dict1[key], dict2[key])\n",
    "        return dict1_copy\n",
    "    \n",
    "    elif isinstance(dict1_copy, np.ndarray):\n",
    "        return np.concatenate((dict1_copy,dict2_copy))\n",
    "\n",
    "def cat_values(a1, a2):\n",
    "    array1 = copy.deepcopy(a1)\n",
    "    array2 = copy.deepcopy(a2)\n",
    "    if isinstance(array1, np.ndarray):\n",
    "        return np.concatenate((array1,array2))\n",
    "    elif isinstance(array1, dict):\n",
    "        return cat_dictionaries(array1, array2)\n",
    "    elif isinstance(array1, (int, np.int64)):\n",
    "        # print(f\"{array1+array2}\")\n",
    "        return array1 + array2\n",
    "    elif isinstance(array1, list):\n",
    "        # print(type(array1))\n",
    "        # print(f'array1:{len(array1)}, array2:{len(array2)}')\n",
    "        array1.extend(array2)\n",
    "        # print(f'complex:{len(array1)}, sum:{len(a1)+len(a2)}')\n",
    "        return array1\n",
    "\n",
    "        \n",
    "        \n",
    "import copy\n",
    "# result = map(cat_dictionaries, rec_grid._prmtop, lig_grid._prmtop)\n",
    "delta_sasas = []\n",
    "colors = []\n",
    "for v,vector in enumerate(translations):\n",
    "    vector = (np.array(vector).transpose()*lig_grid._spacing)[0]\n",
    "    lig_grid._move_ligand_to_lower_corner()\n",
    "    print(vector)\n",
    "    lig_grid.translate_ligand(vector)\n",
    "    com_grid = cat_grids(rec_grid, lig_grid)\n",
    "    c_sasa = com_grid._get_molecule_sasa(0.14, 960).sum()\n",
    "    l_sasa = lig_grid._get_molecule_sasa(0.14, 960).sum()\n",
    "    r_sasa = rec_grid._get_molecule_sasa(0.14, 960).sum()\n",
    "    d_sasa = (l_sasa + r_sasa) - c_sasa\n",
    "    delta_sasas.append(d_sasa)\n",
    "    rmsd_to_native = rmsd(ref, lig_grid._crd)\n",
    "    if rmsd_to_native < 5.:\n",
    "        # colors.append([255, 0, 0])\n",
    "        colors.append(\"red\")\n",
    "    else:\n",
    "        # colors.append([0, 255, 255])\n",
    "        colors.append(\"black\")\n",
    "        \n",
    "    print(c_sasa, l_sasa + r_sasa, d_sasa)\n",
    "    com_grid.write_pdb(f'{home}/Desktop/translations/com/trans{v}.pdb', \"w\")\n",
    "    lig_grid.write_pdb(f'{home}/Desktop/translations/lig/trans{v}.pdb', \"w\")\n",
    "    rec_grid.write_pdb(f'{home}/Desktop/translations/lig/rec.pdb', \"w\")\n"
   ]
  },
  {
   "cell_type": "code",
   "execution_count": 76,
   "id": "40206c2a-4e77-4bbf-86d1-4e946cb9f6b2",
   "metadata": {},
   "outputs": [
    {
     "data": {
      "image/png": "[encoded data removed]",
      "text/plain": [
       "<Figure size 432x288 with 1 Axes>"
      ]
     },
     "metadata": {
      "needs_background": "light"
     },
     "output_type": "display_data"
    }
   ],
   "source": [
    "import matplotlib.pyplot as plt\n",
    "plt.scatter(trans_scores, delta_sasas)\n",
    "plt.show()"
   ]
  },
  {
   "cell_type": "code",
   "execution_count": null,
   "id": "dc541ab1-66f2-4076-a7b2-fd447180f35c",
   "metadata": {},
   "outputs": [],
   "source": [
    "for u in range(len(translations)):\n",
    "    print(score[translations[u]], delta_sasas[u])"
   ]
  },
  {
   "cell_type": "code",
   "execution_count": 12,
   "id": "0a72279c-5c5e-44d0-a2bc-fdefa3a569f8",
   "metadata": {},
   "outputs": [
    {
     "name": "stdout",
     "output_type": "stream",
     "text": [
      "NATOM:2008\n"
     ]
    }
   ],
   "source": [
    "com_grid.write_pdb('/home/jtufts/Desktop/test.pdb', \"w\")\n",
    "com_grid.write_box('/home/jtufts/Desktop/testbox.pdb')"
   ]
  },
  {
   "cell_type": "code",
   "execution_count": 134,
   "id": "9415e9dd-53e3-4b52-855f-0390d1d3f864",
   "metadata": {},
   "outputs": [
    {
     "name": "stdout",
     "output_type": "stream",
     "text": [
      "7170.8086\n",
      "3486.3755\n",
      "4483.7715\n",
      "7970.147\n"
     ]
    }
   ],
   "source": [
    "# print(cat_dictionaries(rec_grid._prmtop['POINTERS'], lig_grid._prmtop['POINTERS']))\n",
    "print(com_grid._get_molecule_sasa(0.14, 960).sum())\n",
    "print(lig_grid._get_molecule_sasa(0.14, 960).sum())\n",
    "print(rec_grid._get_molecule_sasa(0.14, 960).sum())\n",
    "print(rec_grid._get_molecule_sasa(0.14, 960).sum()+lig_grid._get_molecule_sasa(0.14, 960).sum())"
   ]
  },
  {
   "cell_type": "code",
   "execution_count": 119,
   "id": "d1357300-6a00-4317-9457-3a62518bd9ab",
   "metadata": {},
   "outputs": [
    {
     "name": "stdout",
     "output_type": "stream",
     "text": [
      "5823.7266\n"
     ]
    }
   ],
   "source": [
    "print(lig_grid._molecule_sasa.sum())"
   ]
  },
  {
   "cell_type": "code",
   "execution_count": 140,
   "id": "9e971531-9821-442e-ade6-c67de7779f73",
   "metadata": {},
   "outputs": [],
   "source": [
    "import pickle as p\n",
    "f1 = np.load('/home/jtufts/Desktop/npy/delta_sasa_complex_minus_rl.npy')\n",
    "f2 = p.load(open('/home/jtufts/src/p39/fftanalysis/data/lig_sasa_sums.p', \"rb\"))\n",
    "f3 = p.load(open('/home/jtufts/src/p39/fftanalysis/data/rec_sasa_sums.p', \"rb\"))\n",
    "f4 = p.load(open('/home/jtufts/src/p39/fftanalysis/data/lig_sasas.p', \"rb\"))\n",
    "f5 = p.load(open('/home/jtufts/src/p39/fftanalysis/data/rec_sasas.p', \"rb\"))\n",
    "f6 = p.load(open('/home/jtufts/src/p39/fftanalysis/data/complex_sasas.p', \"rb\"))\n",
    "# f4"
   ]
  },
  {
   "cell_type": "code",
   "execution_count": 138,
   "id": "b1bf97b8-c99d-4095-afb9-4787a4c0b675",
   "metadata": {},
   "outputs": [
    {
     "name": "stdout",
     "output_type": "stream",
     "text": [
      "2OOB_A:B 7970.235824584961\n"
     ]
    }
   ],
   "source": [
    "k2 = list(f2.keys())\n",
    "k2.sort()\n",
    "print(k2[127],f2[k2[127]]*100+f3[k2[127]]*100)"
   ]
  },
  {
   "cell_type": "code",
   "execution_count": null,
   "id": "ba8f8fd3-8748-4352-a5f2-a33b1cbe04f1",
   "metadata": {},
   "outputs": [],
   "source": [
    "lig_grid._move_ligand_to_lower_corner()\n",
    "ls = lig_grid._get_molecule_sasa(0.14, 960)\n",
    "rs = rec_grid._get_molecule_sasa(0.14, 960)\n",
    "\n",
    "for m,val in enumerate(f4[k2[127]][0]):\n",
    "    print(val,ls[0][m])"
   ]
  },
  {
   "cell_type": "code",
   "execution_count": null,
   "id": "2c02cdff-225b-468e-aef8-1e89b2df3acd",
   "metadata": {},
   "outputs": [],
   "source": [
    "for p,l in enumerate(delta_sasas):\n",
    "    print(l, f1[127]*100)"
   ]
  },
  {
   "cell_type": "code",
   "execution_count": 165,
   "id": "d3fd80f5-1aea-4075-baba-666799ddae6b",
   "metadata": {},
   "outputs": [
    {
     "data": {
      "text/plain": [
       "masked_array(data=[68.0, 87.0, 45.0],\n",
       "             mask=[False, False, False],\n",
       "       fill_value=1e+20)"
      ]
     },
     "execution_count": 165,
     "metadata": {},
     "output_type": "execute_result"
    }
   ],
   "source": [
    "(rec_disp - lig_grid._displacement)/0.5"
   ]
  },
  {
   "cell_type": "code",
   "execution_count": 160,
   "id": "29a9e2c8-3ffb-4fdb-ac75-0a32bbdd5f74",
   "metadata": {},
   "outputs": [
    {
     "data": {
      "text/plain": [
       "masked_array(data=[40.5, 56. , 27. ],\n",
       "             mask=False,\n",
       "       fill_value=1e+20)"
      ]
     },
     "execution_count": 160,
     "metadata": {},
     "output_type": "execute_result"
    }
   ],
   "source": [
    "rec_disp"
   ]
  },
  {
   "cell_type": "code",
   "execution_count": 166,
   "id": "9d86513c-1fd4-4d47-a3f0-7efe4698a4c1",
   "metadata": {},
   "outputs": [
    {
     "data": {
      "text/plain": [
       "591.9999999999999"
      ]
     },
     "execution_count": 166,
     "metadata": {},
     "output_type": "execute_result"
    }
   ],
   "source": [
    "score[68,87,45]"
   ]
  },
  {
   "cell_type": "code",
   "execution_count": 167,
   "id": "844ae29b-5855-4419-87c4-d56ebd2eaef6",
   "metadata": {},
   "outputs": [
    {
     "data": {
      "text/plain": [
       "(592.0000000000001+2.326614353372607e-13j)"
      ]
     },
     "execution_count": 167,
     "metadata": {},
     "output_type": "execute_result"
    }
   ],
   "source": [
    "cfft[68,87,45]"
   ]
  },
  {
   "cell_type": "code",
   "execution_count": 81,
   "id": "6b1af7f7-c488-4119-81a6-cb2813422863",
   "metadata": {},
   "outputs": [],
   "source": [
    "def regplot(trans_scores, delta_sasas, colors, name):\n",
    "    import numpy as np\n",
    "    import matplotlib.pyplot as plt\n",
    "    from scipy.stats import linregress\n",
    "    from sklearn.linear_model import LinearRegression\n",
    "\n",
    "    x = np.array(trans_scores)\n",
    "    y = np.array(delta_sasas)\n",
    "    C = np.array(colors, dtype=str)\n",
    "\n",
    "    change = np.where(C == 'yellow')\n",
    "    C[change] = \"black\"\n",
    "\n",
    "    indicies = np.where(y < 1525)\n",
    "    # indicies = np.where(y == 0)\n",
    "\n",
    "    indicies = indicies[::-1]\n",
    "\n",
    "    for i in indicies:\n",
    "        x = np.delete(x, i)\n",
    "        y = np.delete(y, i)\n",
    "        C = np.delete(C, i)\n",
    "\n",
    "    indicies = np.where(x == 0)\n",
    "    indicies = indicies[::-1] \n",
    "\n",
    "    for i in indicies:\n",
    "        x = np.delete(x, i)\n",
    "        y = np.delete(y, i)\n",
    "        C = np.delete(C, i)\n",
    "\n",
    "    x = x.reshape((-1,1))\n",
    "\n",
    "    model = LinearRegression().fit(x, y)\n",
    "    r_sq = model.score(x, y)\n",
    "\n",
    "    print('coefficient of determination:', r_sq)\n",
    "    print('intercept:', model.intercept_)\n",
    "    print('slope:', model.coef_)\n",
    "\n",
    "\n",
    "    # scatter plot\n",
    "    fig, ax = plt.subplots()\n",
    "    ax.scatter(x, y, 10, c=C, alpha=0.5, marker='+',\n",
    "            label=\"SC SCORE vs Delta SASA\")\n",
    "    # regression plot\n",
    "    rx = np.linspace(x.min(), x.max(), 165)\n",
    "    ry = model.coef_*rx + model.intercept_\n",
    "\n",
    "    ax.plot(rx, ry, '-r', label=f'DELTA_SASA={float(model.coef_):.4f}*SC_SCORE + {float(model.intercept_):.2f}')\n",
    "    plt.xlabel(\"SC_score\")\n",
    "    plt.ylabel(\"Delta_SASA (nm^2)\")\n",
    "    ax.set_title(f'R2: {r_sq}')\n",
    "    ax.legend(loc='upper left')\n",
    "    plt.savefig(f'{name}')"
   ]
  },
  {
   "cell_type": "code",
   "execution_count": 34,
   "id": "a68aa7aa-519e-4de3-bbd6-38e040f92abb",
   "metadata": {},
   "outputs": [
    {
     "name": "stdout",
     "output_type": "stream",
     "text": [
      "(array([29]), array([115]), array([49])) (1324+432j) [1324.+432.j] 892.0 [892.]\n",
      "(array([30]), array([115]), array([53])) (1523+837j) [1523.+837.j] 686.0 [686.]\n",
      "(array([26]), array([117]), array([54])) (1295+504j) [1295.+504.j] 791.0 [791.]\n",
      "(array([28]), array([114]), array([51])) (1426+738j) [1426.+738.j] 688.0 [688.]\n",
      "(array([27]), array([113]), array([49])) (1281+990j) [1281.+990.j] 291.0 [291.]\n",
      "(array([31]), array([114]), array([49])) (1395+756j) [1395.+756.j] 639.0 [639.]\n",
      "(array([28]), array([116]), array([52])) (1363+234j) [1363.+234.j] 1129.0 [1129.]\n",
      "(array([30]), array([117]), array([50])) (1251+216j) [1251.+216.j] 1035.0 [1035.]\n",
      "(array([31]), array([114]), array([54])) (1584+1728j) [1584.+1728.j] -144.0 [-144.]\n"
     ]
    }
   ],
   "source": [
    "for i in range(9):\n",
    "    # rx,ry,rz = np.random.randint(0, counts[0], 3)\n",
    "    # rx = np.random.randint(19, 39, 1)\n",
    "    # ry = np.random.randint(81, 101, 1)\n",
    "    # rz = np.random.randint(74, 94, 1)\n",
    "    rx = np.random.randint(26, 32, 1)\n",
    "    ry = np.random.randint(113, 119, 1)\n",
    "    rz = np.random.randint(49, 55, 1)\n",
    "    lgrid_trans = grids.translate_grid(lgrid[\"SASA\"], [rx,ry,rz])\n",
    "    result = (lgrid_trans*rgrid).sum()\n",
    "    print((rx,ry,rz), result, cfft[rx,ry,rz], (np.real(result)-np.imag(result)), score[rx,ry,rz])"
   ]
  },
  {
   "cell_type": "code",
   "execution_count": 78,
   "id": "b9c077f7-b477-4338-b6c9-a1a3b30e2ad8",
   "metadata": {},
   "outputs": [
    {
     "name": "stdout",
     "output_type": "stream",
     "text": [
      "0 yellow\n",
      "1 yellow\n",
      "2 yellow\n",
      "3 yellow\n",
      "4 yellow\n",
      "5 red\n",
      "6 red\n",
      "7 yellow\n",
      "8 yellow\n",
      "9 yellow\n",
      "10 yellow\n",
      "11 yellow\n",
      "12 yellow\n",
      "13 red\n",
      "14 yellow\n",
      "15 yellow\n",
      "16 yellow\n",
      "17 yellow\n",
      "18 red\n",
      "19 yellow\n",
      "20 red\n",
      "21 yellow\n",
      "22 yellow\n",
      "23 red\n",
      "24 red\n",
      "25 yellow\n",
      "26 yellow\n",
      "27 yellow\n",
      "28 yellow\n",
      "29 yellow\n",
      "30 red\n",
      "31 red\n",
      "32 red\n",
      "33 red\n",
      "34 yellow\n",
      "35 red\n",
      "36 yellow\n",
      "37 red\n",
      "38 yellow\n",
      "39 red\n",
      "40 yellow\n",
      "41 yellow\n",
      "42 yellow\n",
      "43 yellow\n",
      "44 yellow\n",
      "45 red\n",
      "46 red\n",
      "47 yellow\n",
      "48 yellow\n",
      "49 red\n",
      "50 yellow\n",
      "51 yellow\n",
      "52 yellow\n",
      "53 red\n",
      "54 yellow\n",
      "55 yellow\n",
      "56 yellow\n",
      "57 yellow\n",
      "58 red\n",
      "59 yellow\n",
      "60 yellow\n",
      "61 yellow\n",
      "62 yellow\n",
      "63 red\n",
      "64 yellow\n",
      "65 yellow\n",
      "66 yellow\n",
      "67 yellow\n",
      "68 yellow\n",
      "69 yellow\n",
      "70 yellow\n",
      "71 yellow\n",
      "72 yellow\n",
      "73 yellow\n",
      "74 yellow\n",
      "75 yellow\n",
      "76 yellow\n",
      "77 yellow\n",
      "78 yellow\n",
      "79 red\n",
      "80 red\n",
      "81 yellow\n",
      "82 yellow\n",
      "83 yellow\n",
      "84 yellow\n",
      "85 yellow\n",
      "86 yellow\n",
      "87 yellow\n",
      "88 yellow\n",
      "89 red\n",
      "90 red\n",
      "91 red\n",
      "92 yellow\n",
      "93 yellow\n",
      "94 yellow\n",
      "95 yellow\n",
      "96 yellow\n",
      "97 red\n",
      "98 yellow\n",
      "99 red\n",
      "100 yellow\n",
      "101 yellow\n",
      "102 red\n",
      "103 yellow\n",
      "104 yellow\n",
      "105 yellow\n",
      "106 yellow\n",
      "107 yellow\n",
      "108 yellow\n",
      "109 red\n",
      "110 red\n",
      "111 yellow\n",
      "112 red\n",
      "113 yellow\n",
      "114 yellow\n",
      "115 yellow\n",
      "116 yellow\n",
      "117 red\n",
      "118 yellow\n",
      "119 red\n",
      "120 yellow\n",
      "121 yellow\n",
      "122 red\n",
      "123 red\n",
      "124 yellow\n",
      "125 red\n",
      "126 red\n",
      "127 red\n",
      "128 red\n",
      "129 yellow\n",
      "130 red\n",
      "131 red\n",
      "132 red\n",
      "133 yellow\n",
      "134 red\n",
      "135 red\n",
      "136 red\n",
      "137 yellow\n",
      "138 yellow\n",
      "139 red\n",
      "140 red\n",
      "141 yellow\n",
      "142 yellow\n",
      "143 red\n",
      "144 yellow\n",
      "145 yellow\n",
      "146 red\n",
      "147 yellow\n",
      "148 red\n",
      "149 yellow\n",
      "150 red\n",
      "151 red\n",
      "152 red\n",
      "153 red\n",
      "154 red\n",
      "155 red\n",
      "156 yellow\n",
      "157 red\n",
      "158 red\n",
      "159 yellow\n",
      "160 red\n",
      "161 yellow\n",
      "162 red\n",
      "163 red\n",
      "164 red\n",
      "165 red\n",
      "166 yellow\n",
      "167 red\n",
      "168 red\n",
      "169 red\n",
      "170 red\n",
      "171 red\n",
      "172 red\n",
      "173 red\n",
      "174 red\n",
      "175 red\n",
      "176 red\n",
      "177 red\n",
      "178 red\n",
      "179 red\n",
      "180 red\n",
      "181 red\n",
      "182 red\n",
      "183 red\n",
      "184 red\n",
      "185 red\n",
      "186 red\n",
      "187 red\n",
      "188 red\n",
      "189 red\n",
      "190 red\n",
      "191 red\n",
      "192 red\n",
      "193 red\n",
      "194 red\n",
      "195 red\n",
      "196 red\n",
      "197 red\n",
      "198 red\n",
      "199 red\n"
     ]
    }
   ],
   "source": [
    "for i in range(len(colors)):\n",
    "    print(i, colors[i])"
   ]
  },
  {
   "cell_type": "code",
   "execution_count": null,
   "id": "2cc76fb7-fffa-400e-8e0a-10d8827de620",
   "metadata": {},
   "outputs": [],
   "source": []
  }
 ],
 "metadata": {
  "kernelspec": {
   "display_name": "Python 3",
   "language": "python",
   "name": "python3"
  },
  "language_info": {
   "codemirror_mode": {
    "name": "ipython",
    "version": 3
   },
   "file_extension": ".py",
   "mimetype": "text/x-python",
   "name": "python",
   "nbconvert_exporter": "python",
   "pygments_lexer": "ipython3",
   "version": "3.9.4"
  }
 },
 "nbformat": 4,
 "nbformat_minor": 5
}
