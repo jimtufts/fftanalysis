{
 "cells": [
  {
   "cell_type": "code",
   "execution_count": 1,
   "id": "d8d84a27-b6bc-4874-b908-7bae6d25eb8f",
   "metadata": {},
   "outputs": [],
   "source": [
    "%load_ext cython"
   ]
  },
  {
   "cell_type": "code",
   "execution_count": 5,
   "id": "3f7e4aeb-73d9-441e-b65d-9414e44d5c5a",
   "metadata": {},
   "outputs": [
    {
     "ename": "SyntaxError",
     "evalue": "invalid syntax (4262595832.py, line 3)",
     "output_type": "error",
     "traceback": [
      "\u001b[0;36m  Cell \u001b[0;32mIn[5], line 3\u001b[0;36m\u001b[0m\n\u001b[0;31m    cimport cython\u001b[0m\n\u001b[0m            ^\u001b[0m\n\u001b[0;31mSyntaxError\u001b[0m\u001b[0;31m:\u001b[0m invalid syntax\n"
     ]
    }
   ],
   "source": [
    "% cython\n",
    "\n",
    "cimport cython\n",
    "\n",
    "# Define a Cython class to mimic a dictionary\n",
    "cdef class CythonDict:\n",
    "    cdef int[:] keys\n",
    "    cdef double[:] values\n",
    "    cdef int size\n",
    "\n",
    "    def __init__(self):\n",
    "        self.keys = cython.view.array(int, shape=(0,), itemsize=sizeof(int))\n",
    "        self.values = cython.view.array(double, shape=(0,), itemsize=sizeof(double))\n",
    "        self.size = 0\n",
    "\n",
    "    @cython.ccall\n",
    "    def set_value(self, int key, double value):\n",
    "        self.keys = cython.view.array(self.keys, shape=(self.size + 1,), itemsize=sizeof(int))\n",
    "        self.values = cython.view.array(self.values, shape=(self.size + 1,), itemsize=sizeof(double))\n",
    "        self.keys[self.size] = key\n",
    "        self.values[self.size] = value\n",
    "        self.size += 1\n",
    "\n",
    "    @cython.ccall\n",
    "    def get_value(self, int key):\n",
    "        for i in range(self.size):\n",
    "            if self.keys[i] == key:\n",
    "                return self.values[i]\n",
    "        return -1.0  # Example default value\n",
    "\n",
    "# Usage example\n",
    "def main():\n",
    "    cdef CythonDict my_dict = CythonDict()\n",
    "    my_dict.set_value(1, 42.0)\n",
    "    my_dict.set_value(2, 3.14)\n",
    "\n",
    "    value = my_dict.get_value(1)\n",
    "    print(value)  # Output: 42.0\n",
    "\n",
    "if __name__ == \"__main__\":\n",
    "    main()\n",
    "\n"
   ]
  },
  {
   "cell_type": "code",
   "execution_count": null,
   "id": "451c3a17-5124-47c3-bd22-3cbeb9e88c6c",
   "metadata": {},
   "outputs": [],
   "source": []
  }
 ],
 "metadata": {
  "kernelspec": {
   "display_name": "Python 3 (ipykernel)",
   "language": "python",
   "name": "python3"
  },
  "language_info": {
   "codemirror_mode": {
    "name": "ipython",
    "version": 3
   },
   "file_extension": ".py",
   "mimetype": "text/x-python",
   "name": "python",
   "nbconvert_exporter": "python",
   "pygments_lexer": "ipython3",
   "version": "3.9.17"
  }
 },
 "nbformat": 4,
 "nbformat_minor": 5
}
