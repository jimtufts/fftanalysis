{
 "cells": [
  {
   "cell_type": "code",
   "execution_count": 6,
   "id": "c092ba22-f352-4ec8-91bb-81b38666c06d",
   "metadata": {},
   "outputs": [
    {
     "ename": "ImportError",
     "evalue": "cannot import name 'c_asa_frame' from 'util' (/home/jim/anaconda3/envs/FFTp39/lib/python3.9/site-packages/util-0.0.0-py3.9-linux-x86_64.egg/util.cpython-39-x86_64-linux-gnu.so)",
     "output_type": "error",
     "traceback": [
      "\u001b[0;31m---------------------------------------------------------------------------\u001b[0m",
      "\u001b[0;31mImportError\u001b[0m                               Traceback (most recent call last)",
      "\u001b[0;32m<ipython-input-6-eedf1b3e223f>\u001b[0m in \u001b[0;36m<module>\u001b[0;34m\u001b[0m\n\u001b[1;32m      1\u001b[0m \u001b[0;32mimport\u001b[0m \u001b[0mbpmfwfft\u001b[0m\u001b[0;34m.\u001b[0m\u001b[0mgrids\u001b[0m \u001b[0;32mas\u001b[0m \u001b[0mgrids\u001b[0m\u001b[0;34m\u001b[0m\u001b[0;34m\u001b[0m\u001b[0m\n\u001b[1;32m      2\u001b[0m \u001b[0;32mimport\u001b[0m \u001b[0mcython\u001b[0m\u001b[0;34m\u001b[0m\u001b[0;34m\u001b[0m\u001b[0m\n\u001b[0;32m----> 3\u001b[0;31m \u001b[0;32mfrom\u001b[0m \u001b[0mutil\u001b[0m \u001b[0;32mimport\u001b[0m \u001b[0mc_asa_frame\u001b[0m\u001b[0;34m\u001b[0m\u001b[0;34m\u001b[0m\u001b[0m\n\u001b[0m",
      "\u001b[0;31mImportError\u001b[0m: cannot import name 'c_asa_frame' from 'util' (/home/jim/anaconda3/envs/FFTp39/lib/python3.9/site-packages/util-0.0.0-py3.9-linux-x86_64.egg/util.cpython-39-x86_64-linux-gnu.so)"
     ]
    }
   ],
   "source": [
    "import bpmfwfft.grids as grids\n",
    "import cython\n",
    "from util import "
   ]
  },
  {
   "cell_type": "code",
   "execution_count": null,
   "id": "a3a66f38-08f8-4b58-914d-fcae2aaf3e8c",
   "metadata": {},
   "outputs": [],
   "source": [
    "import pstats, cProfile\n",
    "\n",
    "import calc_pi\n",
    "\n",
    "cProfile.runctx(\"calc_pi.approx_pi()\", globals(), locals(), \"Profile.prof\")\n",
    "\n",
    "s = pstats.Stats(\"Profile.prof\")\n",
    "s.strip_dirs().sort_stats(\"time\").print_stats"
   ]
  },
  {
   "cell_type": "code",
   "execution_count": 8,
   "id": "86893310-d0ff-4295-a823-406ce9f361c4",
   "metadata": {},
   "outputs": [
    {
     "name": "stdout",
     "output_type": "stream",
     "text": [
      "0\n",
      "1\n",
      "2\n",
      "3\n",
      "4\n",
      "5\n",
      "6\n",
      "7\n",
      "8\n",
      "9\n"
     ]
    }
   ],
   "source": [
    "b = 0\n",
    "for k in range(10+b)[b:]:\n",
    "    print(k)"
   ]
  },
  {
   "cell_type": "code",
   "execution_count": 21,
   "id": "dcb8ed5e-ab38-4883-9f9d-114a1a9fb1c8",
   "metadata": {},
   "outputs": [
    {
     "name": "stdout",
     "output_type": "stream",
     "text": [
      "[0.  0.5 1. ] [0. 1. 2.] [0 1 2]\n"
     ]
    },
    {
     "data": {
      "text/plain": [
       "(3, 255, 255)"
      ]
     },
     "execution_count": 21,
     "metadata": {},
     "output_type": "execute_result"
    }
   ],
   "source": [
    "import numpy as np\n",
    "lmax = 3\n",
    "aligned_crd = np.zeros(lmax, dtype=float)\n",
    "grid = np.zeros((255,255,255), dtype=float)\n",
    "m = np.array([0.5,0.5,0.5])\n",
    "crd = np.array([0.2,0.5,1.])\n",
    "for i in range(lmax):\n",
    "    aligned_crd[i] = m[i] * round(crd[i]/m[i])\n",
    "grid_crd = aligned_crd/m\n",
    "\n",
    "grid[grid_crd.astype(int)] = 1.\n",
    "print(aligned_crd, grid_crd, grid_crd.astype(int))\n",
    "grid[grid_crd.astype(int)].shape"
   ]
  },
  {
   "cell_type": "code",
   "execution_count": null,
   "id": "0f86cae0-80d3-4434-b4fb-b759eb13e750",
   "metadata": {},
   "outputs": [],
   "source": []
  }
 ],
 "metadata": {
  "kernelspec": {
   "display_name": "Python 3",
   "language": "python",
   "name": "python3"
  },
  "language_info": {
   "codemirror_mode": {
    "name": "ipython",
    "version": 3
   },
   "file_extension": ".py",
   "mimetype": "text/x-python",
   "name": "python",
   "nbconvert_exporter": "python",
   "pygments_lexer": "ipython3",
   "version": "3.9.4"
  }
 },
 "nbformat": 4,
 "nbformat_minor": 5
}
