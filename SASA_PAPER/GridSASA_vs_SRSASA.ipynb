{
 "cells": [
  {
   "cell_type": "markdown",
   "id": "8113aa92-14be-4f4c-923c-5445a0ab512d",
   "metadata": {
    "editable": true,
    "slideshow": {
     "slide_type": ""
    },
    "tags": []
   },
   "source": [
    "This notebook is for plotting the linear correlation between the grid-based FFT SASA result vs the change in Shrake-Rupley surface area as calculated by (SASA_receptor - SASA_ligand) - (SASA_complex)"
   ]
  },
  {
   "cell_type": "code",
   "execution_count": 12,
   "id": "39fae750-2689-4165-970a-66b885a8f7a2",
   "metadata": {
    "editable": true,
    "slideshow": {
     "slide_type": ""
    },
    "tags": []
   },
   "outputs": [],
   "source": [
    "import mdtraj as md\n",
    "import bpmfwfft.grids as grids\n",
    "import netCDF4 as nc\n",
    "import numpy as np\n",
    "from os import walk\n",
    "import os\n",
    "import socket\n",
    "from bpmfwfft.grids import RecGrid\n",
    "from bpmfwfft.grids import LigGrid\n",
    "import copy\n",
    "import pickle as p\n",
    "from bpmfwfft.util import c_sasa"
   ]
  },
  {
   "cell_type": "code",
   "execution_count": 13,
   "id": "6ed9668a-e915-4073-bca7-ae3d9f761fa5",
   "metadata": {
    "editable": true,
    "slideshow": {
     "slide_type": ""
    },
    "tags": []
   },
   "outputs": [],
   "source": [
    "if socket.gethostname() == 'jim-Mint':\n",
    "    ppi_path = '/media/jim/Research_TWO/FFT_PPI'\n",
    "    home = '/home/jim'\n",
    "else:\n",
    "    ppi_path = '/mnt/fft/FFT_PPI'\n",
    "    home = '/home/jtufts'\n",
    "\n",
    "def get_directory_names(path):\n",
    "    return sorted((name for name in os.listdir(path) if os.path.isdir(os.path.join(path, name))))\n",
    "\n",
    "\n",
    "dir_path = f'{ppi_path}/2.redock/5.fft_sampling'\n",
    "systems = get_directory_names(dir_path)"
   ]
  },
  {
   "cell_type": "code",
   "execution_count": 14,
   "id": "c3be21ac-8f23-406d-8596-3d088271b8af",
   "metadata": {
    "editable": true,
    "slideshow": {
     "slide_type": ""
    },
    "tags": []
   },
   "outputs": [],
   "source": [
    "def get_system(receptor_prmtop, receptor_inpcrd, ligand_prmtop, ligand_inpcrd):\n",
    "    receptor = md.load(receptor_inpcrd, top=receptor_prmtop)\n",
    "    ligand = md.load(ligand_inpcrd, top=ligand_prmtop)\n",
    "    return receptor, ligand\n",
    "\n",
    "def get_complex(receptor_traj, ligand_traj, spacing, grid_displacement=np.array([0,0,0])):\n",
    "    xyz_displacement = grid_displacement*spacing*.1\n",
    "    for xyz in ligand_traj.xyz:\n",
    "        xyz += xyz_displacement\n",
    "    complex_top = receptor_traj.topology.join(ligand_traj.topology)\n",
    "    complex_xyz = np.concatenate([receptor_traj.xyz, ligand_traj.xyz], axis=1)\n",
    "    complex = md.Trajectory(complex_xyz, complex_top)\n",
    "    return complex"
   ]
  },
  {
   "cell_type": "code",
   "execution_count": 15,
   "id": "43806799-c20c-4a3e-aec3-86e49ccfcd20",
   "metadata": {
    "editable": true,
    "slideshow": {
     "slide_type": ""
    },
    "tags": []
   },
   "outputs": [],
   "source": [
    "def move_receptor_to_grid_center(receptor_traj, spacing, counts, origin=np.array([0.0,0.0,0.0])):\n",
    "    \"\"\"\n",
    "    Moves receptor to be positioned inside of the \"grid\", this is intended to be a 1-to-1 recreation of the grid-based FFT system.\n",
    "    Some rounding helps to keep the original complex accessible in the discrete grid space. Origin assumed as (0,0,0).\n",
    "    \n",
    "    receptor_traj: MDTraj Trajectory, single frame\n",
    "    spacing: numpy array, shape (1,3)\n",
    "    \n",
    "    \"\"\"\n",
    "\n",
    "    spacing = spacing * 0.1\n",
    "    # Calculate the lower and upper corners of the receptor box\n",
    "    lower_receptor_corner = np.min(receptor_traj.xyz, axis=1)\n",
    "    upper_receptor_corner = np.max(receptor_traj.xyz, axis=1)\n",
    "    \n",
    "    # Align lower and upper corners with the grid\n",
    "    lower_receptor_corner_grid_aligned = np.floor((lower_receptor_corner - spacing) / spacing) * spacing\n",
    "    upper_receptor_corner_grid_aligned = np.ceil((upper_receptor_corner + spacing) / spacing) * spacing\n",
    "    \n",
    "    # Calculate the grid-aligned receptor box center\n",
    "    receptor_box_center_grid_aligned = (upper_receptor_corner_grid_aligned + lower_receptor_corner_grid_aligned) / 2.0\n",
    "    \n",
    "    # Calculate the receptor box center without grid alignment\n",
    "    receptor_box_center = (upper_receptor_corner + lower_receptor_corner) / 2.0\n",
    "    \n",
    "    # Calculate the grid center\n",
    "    corner_crd = np.array((counts-1)*spacing, dtype=float)\n",
    "    grid_center = (origin + corner_crd) / 2.0\n",
    "    \n",
    "    # Calculate the dimensions of the receptor box\n",
    "    receptor_box_length = upper_receptor_corner - lower_receptor_corner\n",
    "    receptor_box_length_grid_aligned = upper_receptor_corner_grid_aligned - lower_receptor_corner_grid_aligned\n",
    "    \n",
    "    # Adjust the receptor box center for grid alignment\n",
    "    receptor_box_center = (upper_receptor_corner_grid_aligned + lower_receptor_corner_grid_aligned) / 2.0\n",
    "    \n",
    "    # Check if the receptor box center is not aligned with the grid\n",
    "    grid_snap = np.mod(receptor_box_center, spacing)\n",
    "    if np.any(grid_snap != 0):\n",
    "        receptor_box_center += spacing - grid_snap\n",
    "    \n",
    "    displacement = grid_center - receptor_box_center\n",
    "\n",
    "    for atom_ind in range(len(receptor_traj.xyz)):\n",
    "        receptor_traj.xyz[atom_ind] += displacement\n",
    "    return None"
   ]
  },
  {
   "cell_type": "code",
   "execution_count": 16,
   "id": "25831b5e-8f4c-4ba6-8aa3-059e85e549f8",
   "metadata": {
    "editable": true,
    "slideshow": {
     "slide_type": ""
    },
    "tags": []
   },
   "outputs": [],
   "source": [
    "def move_ligand_to_lower_corner(ligand_traj, spacing, counts, origin=np.array([0.0,0.0,0.0])):\n",
    "    \"\"\"\n",
    "    move ligand to near the grid lower corner\n",
    "    store self._max_grid_indices and self._initial_com\n",
    "    \"\"\"\n",
    "    import numpy as np\n",
    "\n",
    "    # Find the minimum and maximum edge indices for x, y, and z coordinates\n",
    "    min_edge_ind = np.array([ligand_traj.xyz[:, :, i].argmin() for i in range(3)], dtype=int)\n",
    "    max_edge_ind = np.array([ligand_traj.xyz[:, :, i].argmax() for i in range(3)], dtype=int)\n",
    "\n",
    "    # Get the minimum and maximum radii based on the edge indices\n",
    "    ligand_atoms = list(ligand_traj.topology.atoms)\n",
    "    min_edge_radii = np.array([md.geometry.sasa._ATOMIC_RADII[ligand_atoms[min_edge_ind[i]].element.symbol] for i in range(3)])\n",
    "    max_edge_radii = np.array([md.geometry.sasa._ATOMIC_RADII[ligand_atoms[max_edge_ind[i]].element.symbol] for i in range(3)])\n",
    "    \n",
    "    spacing = spacing*0.1\n",
    "    # Calculate lower and upper ligand corners\n",
    "    lower_ligand_corner = (ligand_traj.xyz.min(axis=1) - min_edge_radii - .28 * 0.5).astype(float)\n",
    "    upper_ligand_corner = (ligand_traj.xyz.max(axis=1) + max_edge_radii + .28 * 0.5).astype(float)\n",
    "\n",
    "    # Align lower and upper ligand corners with the grid #FIXME: DEBUG np.ceil for lower corner\n",
    "    lower_ligand_corner_grid_aligned = (np.floor((lower_ligand_corner - spacing) / spacing) * spacing).astype(float)\n",
    "    upper_ligand_corner_grid_aligned = (np.ceil((upper_ligand_corner + spacing) / spacing) * spacing).astype(float)\n",
    "\n",
    "    # Calculate ligand box lengths\n",
    "    ligand_box_lengths = upper_ligand_corner_grid_aligned - lower_ligand_corner_grid_aligned\n",
    "    \n",
    "    # Check if any ligand box lengths are negative\n",
    "    if np.any(ligand_box_lengths < 0):\n",
    "        raise RuntimeError(\"One of the ligand box lengths is negative\")\n",
    "\n",
    "    # Calculate max grid indices\n",
    "    max_grid_indices = np.ceil(ligand_box_lengths / spacing).astype(int)\n",
    "    max_grid_indices = counts - (max_grid_indices)\n",
    "\n",
    "    # Check if any max grid indices are less than or equal to 1\n",
    "    if np.any(max_grid_indices <= 1):\n",
    "        raise RuntimeError(\"At least one of the max grid indices is <= one\")\n",
    "\n",
    "    # Calculate displacement\n",
    "    displacement = origin - lower_ligand_corner_grid_aligned\n",
    "\n",
    "    # Translate ligand coordinates\n",
    "    ligand_traj.xyz += displacement\n",
    "    # print(f\"Ligand translated by {displacement}\")\n",
    "    new_displacement = displacement\n",
    "\n",
    "    # Calculate the absolute coordinates of the lower corner of the \"ligand box\" \n",
    "    lower_corner_origin = (ligand_traj.xyz.min(axis=1) - 1.5 * spacing).astype(float)\n",
    "\n",
    "    # print(f\"min_edge_ind:{min_edge_ind}, max_edge_index:{max_edge_ind}, min_edge_radii{min_edge_radii}, \\\n",
    "    # max_edge_radii{max_edge_radii}, lower_ligand_corner:{lower_ligand_corner}, lower_ligand_corner_grid_aligned:{lower_ligand_corner_grid_aligned}, \\\n",
    "    # upper_ligand_corner:{upper_ligand_corner}, upper_ligand_corner_grid_aligned{upper_ligand_corner_grid_aligned}, displacement{displacement}, max_grid_indicies:{max_grid_indices}, counts:{counts}\")\n",
    "\n",
    "    return None"
   ]
  },
  {
   "cell_type": "code",
   "execution_count": 17,
   "id": "4c8a267b-bc04-4d3b-8dad-a1cc140b7812",
   "metadata": {},
   "outputs": [],
   "source": [
    "from mdtraj.geometry import _geometry\n",
    "def _get_molecule_sasa(traj, probe_radius=0.14, n_sphere_points=960):\n",
    "    \"\"\"\n",
    "    return the per atom SASA of the target molecule in Angstroms\n",
    "    probe radius is in nm...\n",
    "    \"\"\"\n",
    "    atoms = list(traj.topology.atoms)\n",
    "    atom_radii = np.array([md.geometry.sasa._ATOMIC_RADII[atoms[i].element.symbol] for i in range(len(atoms))])\n",
    "    # atom_radii = self._prmtop[\"VDW_RADII\"] / 10.\n",
    "    radii = np.array(atom_radii, np.float32) + probe_radius\n",
    "    dim1 = traj.xyz.shape[1]\n",
    "    atom_mapping = np.arange(dim1, dtype=np.int32)\n",
    "    out = np.zeros((traj.xyz.shape[0], dim1), dtype=np.float32)\n",
    "    _geometry._sasa(traj.xyz, radii, int(n_sphere_points), atom_mapping, out)\n",
    "    # out, centered_sphere_points = c_sasa(xyz, radii, int(n_sphere_points))\n",
    "    # convert values from nm^2 to A^2\n",
    "    out = out * 100.\n",
    "    return out"
   ]
  },
  {
   "cell_type": "code",
   "execution_count": 62,
   "id": "730e3554-7581-449e-83f7-dd22042c96d9",
   "metadata": {
    "editable": true,
    "slideshow": {
     "slide_type": ""
    },
    "tags": []
   },
   "outputs": [
    {
     "name": "stdout",
     "output_type": "stream",
     "text": [
      "(105, 1000, 3)\n"
     ]
    },
    {
     "data": {
      "text/plain": [
       "<matplotlib.collections.PathCollection at 0x7fd1b8194bb0>"
      ]
     },
     "execution_count": 62,
     "metadata": {},
     "output_type": "execute_result"
    },
    {
     "data": {
      "image/png": "[encoded data removed]",
      "text/plain": [
       "<Figure size 640x480 with 1 Axes>"
      ]
     },
     "metadata": {},
     "output_type": "display_data"
    }
   ],
   "source": [
    "# calculate 2OOB sasa changes as test\n",
    "rec_prmtop_test = '/mnt/fft/FFT_PPI/2.redock/1.amber/2OOB_A:B/receptor.prmtop'\n",
    "rec_inpcrd_test = '/mnt/fft/FFT_PPI/2.redock/2.minimize/2OOB_A:B/receptor.inpcrd'\n",
    "\n",
    "lig_prmtop_test = '/mnt/fft/FFT_PPI/2.redock/1.amber/2OOB_A:B/ligand.prmtop'\n",
    "lig_inpcrd_test = '/mnt/fft/FFT_PPI/2.redock/2.minimize/2OOB_A:B/ligand.inpcrd'\n",
    "\n",
    "fft_nc = nc.Dataset('/mnt/fft/FFT_PPI/2.redock/5.fft_sampling/2OOB_A:B/fft_sampling_maintest.nc')\n",
    "# fft_nc = nc.Dataset('/mnt/sasa/FFT_PPI/2.redock/5.fft_sampling/2OOB_A:B/fft_sample.nc')\n",
    "fft_crd = nc.Dataset('/mnt/fft/FFT_PPI/2.redock/3.ligand_rand_rot/2OOB_A:B/rotation.nc').variables[\"positions\"][:]/10.\n",
    "rec, lig = get_system(rec_prmtop_test, rec_inpcrd_test, lig_prmtop_test, lig_inpcrd_test)\n",
    "\n",
    "# fft_dsasa = fft_nc.variables[\"sasa_resampled_energies\"][:]/-0.005\n",
    "fft_dsasa = fft_nc.variables[\"sasa_resampled_energies\"][:]/-0.005\n",
    "# fft_calc_dsasa = (fft_nc.variables[\"resampled_energies\"][:]/0.005) - (fft_nc.variables[\"no_sasa_resampled_energies\"][:]/0.005)\n",
    "fft_vectors = fft_nc.variables[\"sasa_resampled_trans_vectors\"][:]\n",
    "# fft_vectors = fft_nc.variables[\"resampled_trans_vectors\"][:]\n",
    "spacing = fft_nc.variables[\"spacing\"][:]\n",
    "counts = fft_nc.variables[\"counts\"][:]\n",
    "\n",
    "x = []\n",
    "y = []\n",
    "move_receptor_to_grid_center(rec, spacing, counts)\n",
    "print(fft_vectors.shape)\n",
    "for i in range(fft_vectors.shape[0]):\n",
    "    # for i in range(100):\n",
    "    lig.xyz = fft_crd[i]\n",
    "    for j in range(fft_vectors.shape[1]):\n",
    "        move_ligand_to_lower_corner(lig, spacing, counts)\n",
    "        lig.xyz += np.array(fft_vectors[i,j]*0.1*spacing)\n",
    "        com = get_complex(rec, lig, spacing)\n",
    "        # print(fft_dsasa[i,j], (md.shrake_rupley(rec).sum()+md.shrake_rupley(lig).sum())-md.shrake_rupley(com).sum(), (_get_molecule_sasa(lig).sum()+_get_molecule_sasa(rec).sum())-_get_molecule_sasa(com).sum())\n",
    "        # com.save(f\"/mnt/fft/FFT_PPI/2.redock/7.analysis/2OOB_A:B/sasa_test/lig_{i}_{j}.pdb\")\n",
    "        x.append(fft_dsasa[i,j])\n",
    "        # y.append((md.shrake_rupley(rec).sum()+md.shrake_rupley(lig).sum())-md.shrake_rupley(com).sum())\n",
    "        y.append((_get_molecule_sasa(lig).sum()+_get_molecule_sasa(rec).sum())-_get_molecule_sasa(com).sum())\n",
    "\n",
    "import matplotlib.pyplot as plt\n",
    "\n",
    "plt.scatter(x,y)\n",
    "    \n",
    "\n",
    "\n"
   ]
  },
  {
   "cell_type": "code",
   "execution_count": 1,
   "id": "7c4fc8a0-4cdc-4234-9b6f-944f77663d0a",
   "metadata": {},
   "outputs": [
    {
     "ename": "NameError",
     "evalue": "name 'md' is not defined",
     "output_type": "error",
     "traceback": [
      "\u001b[0;31m---------------------------------------------------------------------------\u001b[0m",
      "\u001b[0;31mNameError\u001b[0m                                 Traceback (most recent call last)",
      "Cell \u001b[0;32mIn[1], line 1\u001b[0m\n\u001b[0;32m----> 1\u001b[0m \u001b[43mmd\u001b[49m\u001b[38;5;241m.\u001b[39mshrake_rupley(lig)\u001b[38;5;241m.\u001b[39msum()\n",
      "\u001b[0;31mNameError\u001b[0m: name 'md' is not defined"
     ]
    }
   ],
   "source": [
    "md.shrake_rupley(lig).sum()"
   ]
  },
  {
   "cell_type": "code",
   "execution_count": null,
   "id": "222bd5c4-db3c-46c1-8ff0-24d22c3b6420",
   "metadata": {},
   "outputs": [],
   "source": [
    "rec, lig = get_system(rec_prmtop_test, rec_inpcrd_test, lig_prmtop_test, lig_inpcrd_test)\n",
    "\n",
    "grid_displacement = np.array([0,0,0])\n",
    "xyz_displacement = grid_displacement*spacing*.1\n",
    "for xyz in lig.xyz:\n",
    "    xyz += xyz_displacement\n",
    "complex_top = rec.topology.join(lig.topology)\n",
    "complex_xyz = np.concatenate([rec.xyz, lig.xyz], axis=1)\n",
    "complex = md.Trajectory(complex_xyz, complex_top)\n",
    "for bond in complex.topology.bonds:\n",
    "    print(bond)"
   ]
  },
  {
   "cell_type": "code",
   "execution_count": 60,
   "id": "08f34eb7-b24a-4c95-b366-df69b9ebe533",
   "metadata": {},
   "outputs": [
    {
     "name": "stdout",
     "output_type": "stream",
     "text": [
      "777 1231 2008 2008\n"
     ]
    }
   ],
   "source": [
    "print(len(list(lig.topology.atoms)), len(list(rec.topology.atoms)), len(list(lig.topology.atoms))+len(list(rec.topology.atoms)), len(list(complex.topology.atoms)))"
   ]
  },
  {
   "cell_type": "code",
   "execution_count": null,
   "id": "1bd571dc-1fcb-459f-9c3c-e82d4c7ee2da",
   "metadata": {},
   "outputs": [],
   "source": [
    "import matplotlib.pyplot as plt\n",
    "x = np.array(x)\n",
    "y = np.array(y)\n",
    "plt.scatter(x,y*100)"
   ]
  },
  {
   "cell_type": "code",
   "execution_count": 40,
   "id": "40d85a84-ad1a-4cc2-bc66-b5815bd1d76c",
   "metadata": {},
   "outputs": [
    {
     "name": "stdout",
     "output_type": "stream",
     "text": [
      "(1, 3) (1, 3) (1, 1231, 3)\n"
     ]
    }
   ],
   "source": [
    "rec, lig = get_system(rec_prmtop_test, rec_inpcrd_test, lig_prmtop_test, lig_inpcrd_test)\n",
    "lower_receptor_corner = np.min(rec.xyz, axis=1)\n",
    "upper_receptor_corner = np.max(rec.xyz, axis=1)\n",
    "\n",
    "print(lower_receptor_corner.shape, upper_receptor_corner.shape, rec.xyz.shape)"
   ]
  },
  {
   "cell_type": "code",
   "execution_count": 71,
   "id": "9c61068f-b532-4211-9d12-69e03b5ce7d9",
   "metadata": {
    "editable": true,
    "slideshow": {
     "slide_type": ""
    },
    "tags": []
   },
   "outputs": [
    {
     "data": {
      "text/plain": [
       "array([[[-0.05000019,  0.04999971,  0.04999971],\n",
       "        [-0.04999971,  0.05000019,  0.05000019],\n",
       "        [-0.05000019,  0.05000019,  0.04999971],\n",
       "        ...,\n",
       "        [-0.04999971,  0.04999971,  0.04999995],\n",
       "        [-0.04999971,  0.05000019,  0.04999995],\n",
       "        [-0.04999971,  0.04999971,  0.04999995]]], dtype=float32)"
      ]
     },
     "execution_count": 71,
     "metadata": {},
     "output_type": "execute_result"
    }
   ],
   "source": [
    "a = md.load_pdb(\"/mnt/fft/lig.pdb\")\n",
    "b = md.load_pdb(\"/mnt/fft/FFT_PPI/2.redock/4.receptor_grid/2OOB_A:B/native_pose.pdb\")\n",
    "\n",
    "a.xyz - b.xyz"
   ]
  },
  {
   "cell_type": "code",
   "execution_count": 79,
   "id": "e04982e8-6574-4842-b79f-3ffb499ebbc1",
   "metadata": {},
   "outputs": [
    {
     "ename": "ValueError",
     "evalue": "The truth value of an array with more than one element is ambiguous. Use a.any() or a.all()",
     "output_type": "error",
     "traceback": [
      "\u001b[0;31m---------------------------------------------------------------------------\u001b[0m",
      "\u001b[0;31mValueError\u001b[0m                                Traceback (most recent call last)",
      "Cell \u001b[0;32mIn[79], line 3\u001b[0m\n\u001b[1;32m      1\u001b[0m \u001b[38;5;28;01mfor\u001b[39;00m rotation \u001b[38;5;129;01min\u001b[39;00m fft_vectors[:\u001b[38;5;241m100\u001b[39m]:\n\u001b[1;32m      2\u001b[0m     \u001b[38;5;28;01mfor\u001b[39;00m fft_vector \u001b[38;5;129;01min\u001b[39;00m rotation[:\u001b[38;5;241m100\u001b[39m]:\n\u001b[0;32m----> 3\u001b[0m         \u001b[38;5;28;01mif\u001b[39;00m fft_vector \u001b[38;5;241m==\u001b[39m np\u001b[38;5;241m.\u001b[39mall([\u001b[38;5;241m65\u001b[39m, \u001b[38;5;241m85\u001b[39m, \u001b[38;5;241m42\u001b[39m]):\n\u001b[1;32m      4\u001b[0m             \u001b[38;5;28mprint\u001b[39m(fft_vector)\n",
      "\u001b[0;31mValueError\u001b[0m: The truth value of an array with more than one element is ambiguous. Use a.any() or a.all()"
     ]
    }
   ],
   "source": [
    "for rotation in fft_vectors[:100]:\n",
    "    for fft_vector in rotation[:100]:\n",
    "        if fft_vector == np.all([65, 85, 42]):\n",
    "            print(fft_vector)"
   ]
  },
  {
   "cell_type": "code",
   "execution_count": null,
   "id": "23a33f79-4b67-4ad1-b38d-360bf3330f7a",
   "metadata": {},
   "outputs": [],
   "source": []
  },
  {
   "cell_type": "code",
   "execution_count": null,
   "id": "3a49afa0-8e78-46b5-96f9-c70a8e56a100",
   "metadata": {},
   "outputs": [],
   "source": []
  },
  {
   "cell_type": "code",
   "execution_count": 66,
   "id": "ffb695c6-08a0-4ed2-a460-e9d5b11fd06d",
   "metadata": {
    "editable": true,
    "slideshow": {
     "slide_type": ""
    },
    "tags": []
   },
   "outputs": [
    {
     "ename": "FileNotFoundError",
     "evalue": "[Errno 2] No such file or directory: '/media/jim/Research_TWO/FFT_PPI/2.redock/7.analysis/1A2K_C:AB/sasa'",
     "output_type": "error",
     "traceback": [
      "\u001b[0;31m---------------------------------------------------------------------------\u001b[0m",
      "\u001b[0;31mRemoteTraceback\u001b[0m                           Traceback (most recent call last)",
      "\u001b[0;31mRemoteTraceback\u001b[0m: \n\"\"\"\nTraceback (most recent call last):\n  File \"/home/jtufts/anaconda3/envs/fft/lib/python3.9/multiprocessing/pool.py\", line 125, in worker\n    result = (True, func(*args, **kwds))\n  File \"/home/jtufts/anaconda3/envs/fft/lib/python3.9/multiprocessing/pool.py\", line 48, in mapstar\n    return list(map(*args))\n  File \"/tmp/ipykernel_129429/1380637812.py\", line 296, in f\n    return fft_plot(system)\n  File \"/tmp/ipykernel_129429/1380637812.py\", line 202, in fft_plot\n    rec_grid, lig_grid, sasa, occupancy, rec_disp, lig_rot = get_grids(system)\n  File \"/tmp/ipykernel_129429/1380637812.py\", line 150, in get_grids\n    grid_nc = get_grid_nc(system)\n  File \"/tmp/ipykernel_129429/1380637812.py\", line 141, in get_grid_nc\n    os.mkdir(f\"/media/jim/Research_TWO/FFT_PPI/2.redock/7.analysis/{system}/sasa\")\nFileNotFoundError: [Errno 2] No such file or directory: '/media/jim/Research_TWO/FFT_PPI/2.redock/7.analysis/1A2K_C:AB/sasa'\n\"\"\"",
      "\nThe above exception was the direct cause of the following exception:\n",
      "\u001b[0;31mFileNotFoundError\u001b[0m                         Traceback (most recent call last)",
      "Cell \u001b[0;32mIn[66], line 312\u001b[0m\n\u001b[1;32m    309\u001b[0m system_list\u001b[38;5;241m.\u001b[39msort()\n\u001b[1;32m    311\u001b[0m \u001b[38;5;28;01mwith\u001b[39;00m Pool(\u001b[38;5;241m22\u001b[39m) \u001b[38;5;28;01mas\u001b[39;00m p:\n\u001b[0;32m--> 312\u001b[0m     system_map \u001b[38;5;241m=\u001b[39m \u001b[43mp\u001b[49m\u001b[38;5;241;43m.\u001b[39;49m\u001b[43mmap\u001b[49m\u001b[43m(\u001b[49m\u001b[43mf\u001b[49m\u001b[43m,\u001b[49m\u001b[43m \u001b[49m\u001b[43msystem_list\u001b[49m\u001b[43m)\u001b[49m    \n\u001b[1;32m    313\u001b[0m     \u001b[38;5;28;01mfor\u001b[39;00m j, system \u001b[38;5;129;01min\u001b[39;00m \u001b[38;5;28menumerate\u001b[39m(system_map):\n\u001b[1;32m    314\u001b[0m         \u001b[38;5;28mprint\u001b[39m(\u001b[38;5;124mf\u001b[39m\u001b[38;5;124m'\u001b[39m\u001b[38;5;124mDoing FFT and Plotting for \u001b[39m\u001b[38;5;132;01m{\u001b[39;00msystem_list[j]\u001b[38;5;132;01m}\u001b[39;00m\u001b[38;5;124m.\u001b[39m\u001b[38;5;124m'\u001b[39m)\n",
      "File \u001b[0;32m~/anaconda3/envs/fft/lib/python3.9/multiprocessing/pool.py:364\u001b[0m, in \u001b[0;36mPool.map\u001b[0;34m(self, func, iterable, chunksize)\u001b[0m\n\u001b[1;32m    359\u001b[0m \u001b[38;5;28;01mdef\u001b[39;00m \u001b[38;5;21mmap\u001b[39m(\u001b[38;5;28mself\u001b[39m, func, iterable, chunksize\u001b[38;5;241m=\u001b[39m\u001b[38;5;28;01mNone\u001b[39;00m):\n\u001b[1;32m    360\u001b[0m \u001b[38;5;250m    \u001b[39m\u001b[38;5;124;03m'''\u001b[39;00m\n\u001b[1;32m    361\u001b[0m \u001b[38;5;124;03m    Apply `func` to each element in `iterable`, collecting the results\u001b[39;00m\n\u001b[1;32m    362\u001b[0m \u001b[38;5;124;03m    in a list that is returned.\u001b[39;00m\n\u001b[1;32m    363\u001b[0m \u001b[38;5;124;03m    '''\u001b[39;00m\n\u001b[0;32m--> 364\u001b[0m     \u001b[38;5;28;01mreturn\u001b[39;00m \u001b[38;5;28;43mself\u001b[39;49m\u001b[38;5;241;43m.\u001b[39;49m\u001b[43m_map_async\u001b[49m\u001b[43m(\u001b[49m\u001b[43mfunc\u001b[49m\u001b[43m,\u001b[49m\u001b[43m \u001b[49m\u001b[43miterable\u001b[49m\u001b[43m,\u001b[49m\u001b[43m \u001b[49m\u001b[43mmapstar\u001b[49m\u001b[43m,\u001b[49m\u001b[43m \u001b[49m\u001b[43mchunksize\u001b[49m\u001b[43m)\u001b[49m\u001b[38;5;241;43m.\u001b[39;49m\u001b[43mget\u001b[49m\u001b[43m(\u001b[49m\u001b[43m)\u001b[49m\n",
      "File \u001b[0;32m~/anaconda3/envs/fft/lib/python3.9/multiprocessing/pool.py:771\u001b[0m, in \u001b[0;36mApplyResult.get\u001b[0;34m(self, timeout)\u001b[0m\n\u001b[1;32m    769\u001b[0m     \u001b[38;5;28;01mreturn\u001b[39;00m \u001b[38;5;28mself\u001b[39m\u001b[38;5;241m.\u001b[39m_value\n\u001b[1;32m    770\u001b[0m \u001b[38;5;28;01melse\u001b[39;00m:\n\u001b[0;32m--> 771\u001b[0m     \u001b[38;5;28;01mraise\u001b[39;00m \u001b[38;5;28mself\u001b[39m\u001b[38;5;241m.\u001b[39m_value\n",
      "\u001b[0;31mFileNotFoundError\u001b[0m: [Errno 2] No such file or directory: '/media/jim/Research_TWO/FFT_PPI/2.redock/7.analysis/1A2K_C:AB/sasa'"
     ]
    }
   ],
   "source": [
    "# Main functions for concatenating grids, calculating sasa using Shrake-Rupley, retrieving results from FFT calculations for grid-based sasa, and plotting the results\n",
    "\n",
    "\n",
    "\n",
    "if socket.gethostname() == 'jim-Mint':\n",
    "    ppi_path = '/media/jim/Research_TWO/FFT_PPI'\n",
    "    home = '/home/jim'\n",
    "else:\n",
    "    ppi_path = '/home/jtufts/Desktop/FFT_PPI'\n",
    "    home = '/home/jtufts'\n",
    "\n",
    "def rmsd(P: np.ndarray, Q: np.ndarray, **kwargs) -> float:\n",
    "    diff = P - Q\n",
    "    return np.sqrt((diff * diff).sum() / P.shape[0])\n",
    "\n",
    "def _create_rec_grid(rec_prmtop, lj_sigma_scal_fact, rc_scale, rs_scale, rm_scale, rho, rec_inpcrd, bsite_file, grid_nc_file):\n",
    "    rec_grid = RecGrid(rec_prmtop, lj_sigma_scal_fact, rc_scale, rs_scale, rm_scale, rho, rec_inpcrd, bsite_file, \n",
    "                        grid_nc_file, new_calculation=False)\n",
    "    return rec_grid\n",
    "\n",
    "def _create_lig_grid(lig_prmtop, lj_sigma_scal_fact, lc_scale, ls_scale, lm_scale, lig_inpcrd, rec_grid):\n",
    "    lig_grid = LigGrid(lig_prmtop, lj_sigma_scal_fact, lc_scale, ls_scale, lm_scale, lig_inpcrd, rec_grid)\n",
    "    return lig_grid\n",
    "\n",
    "def get_top_scores(score, k):\n",
    "\n",
    "\tflat_score = score.flatten()\n",
    "\tflat_argp = np.argpartition(flat_score, -k)[-k:]\n",
    "\n",
    "\ttop_scores = flat_score[flat_argp]\n",
    "\ttop_scores.sort()\n",
    "\ttranslations = []\n",
    "\ttrans_scores = []\n",
    "\n",
    "\tfor score_val in top_scores:\n",
    "\t    t = np.where(score == score_val)\n",
    "\t    a = np.array(t)\n",
    "\t    if a.shape == (3,2):\n",
    "\t        for x,y,z in a.transpose():\n",
    "\t            x = np.array([x])\n",
    "\t            y = np.array([y])\n",
    "\t            z = np.array([z])\n",
    "\t            translations.append((x,y,z))\n",
    "\t            trans_scores.append(score[x,y,z])\n",
    "\t            # print((x,y,z),  score[x,y,z], cfft[x,y,z])\n",
    "\t    else:\n",
    "\t        translations.append(t)\n",
    "\t        trans_scores.append(score[t])\n",
    "\n",
    "\treturn translations, trans_scores\n",
    "\n",
    "\n",
    "def cat_grids(grid1, grid2):\n",
    "    prmtop = cat_dictionaries(grid1._prmtop,grid2._prmtop)\n",
    "    crd = cat_dictionaries(grid1._crd,grid2._crd)\n",
    "    cat_grid = copy.deepcopy(grid1)\n",
    "    cat_grid._prmtop = prmtop\n",
    "    cat_grid._crd = crd\n",
    "    return cat_grid\n",
    "\n",
    "def cat_dictionaries(dict1, dict2):\n",
    "    dict1_copy = copy.deepcopy(dict1)\n",
    "    dict2_copy = copy.deepcopy(dict2)\n",
    "    \n",
    "    if isinstance(dict1_copy, dict):\n",
    "        keys = list(dict1_copy.keys())\n",
    "        for key in keys:\n",
    "            # print(keys)\n",
    "            # print(key)\n",
    "            dict1_copy[key] = cat_values(dict1[key], dict2[key])\n",
    "        return dict1_copy\n",
    "    \n",
    "    elif isinstance(dict1_copy, np.ndarray):\n",
    "        return np.concatenate((dict1_copy,dict2_copy))\n",
    "\n",
    "def cat_values(a1, a2):\n",
    "    array1 = copy.deepcopy(a1)\n",
    "    array2 = copy.deepcopy(a2)\n",
    "    if isinstance(array1, np.ndarray):\n",
    "        return np.concatenate((array1,array2))\n",
    "    elif isinstance(array1, dict):\n",
    "        return cat_dictionaries(array1, array2)\n",
    "    elif isinstance(array1, (int, np.int64)):\n",
    "        # print(f\"{array1+array2}\")\n",
    "        return array1 + array2\n",
    "    elif isinstance(array1, list):\n",
    "        # print(type(array1))\n",
    "        # print(f'array1:{len(array1)}, array2:{len(array2)}')\n",
    "        array1.extend(array2)\n",
    "        # print(f'complex:{len(array1)}, sum:{len(a1)+len(a2)}')\n",
    "        return array1\n",
    "\n",
    "def regplot(trans_scores, delta_sasas, colors, name, num, system):\n",
    "    import numpy as np\n",
    "    import matplotlib.pyplot as plt\n",
    "    from scipy.stats import linregress\n",
    "    from sklearn.linear_model import LinearRegression\n",
    "    from sklearn.metrics import mean_squared_error\n",
    "    import math\n",
    "\n",
    "    x = np.array(trans_scores)\n",
    "    y = np.array(delta_sasas)\n",
    "    C = np.array(colors)\n",
    "\n",
    "    x = x.reshape((-1,1))\n",
    "\n",
    "    model = LinearRegression().fit(x, y)\n",
    "    r_sq = model.score(x, y)\n",
    "\n",
    "    print('coefficient of determination:', r_sq)\n",
    "    print('intercept:', model.intercept_)\n",
    "    print('slope:', model.coef_)\n",
    "\n",
    "    pred_y = np.zeros(len(y), dtype=float)\n",
    "    for ind,point in enumerate(x):\n",
    "        pred_y[ind] = point*model.coef_ + model.intercept_\n",
    "    \n",
    "        \n",
    "    MSE = mean_squared_error(y, pred_y)\n",
    " \n",
    "    RMSE = math.sqrt(MSE)\n",
    "\n",
    "    # scatter plot\n",
    "    fig, ax = plt.subplots()\n",
    "    ax.scatter(x, y, 10, c=C, alpha=0.5, marker='o', cmap=\"hot\",\n",
    "            label=\"Shrake-Rupley GRID_SASA vs Delta SASA\", edgecolors=\"black\")\n",
    "    # regression plot\n",
    "    rx = np.linspace(x.min(), x.max(), 165)\n",
    "    ry = model.coef_*rx + model.intercept_\n",
    "\n",
    "    ax.plot(rx, ry, '-r', label=f'y={float(model.coef_):.4f}*x + {float(model.intercept_):.2f}')\n",
    "    plt.xlabel(\"Shrake-Rupley GRID SASA SCORE\")\n",
    "    plt.ylabel(\"Delta_SASA (A^2)\")\n",
    "    ax.set_title(f'Shrake-Rupley Grid SASA score vs Shrake-Rupley R+L-C Delta SASA {chr(10)} System:{system} Rotation:{num}{chr(10)} R2: {r_sq}, RMSE: {RMSE}')\n",
    "    ax.legend(loc='upper left')\n",
    "    plt.savefig(f'{name}', dpi=360)\n",
    "\n",
    "\n",
    "def get_grid_nc(system):\n",
    "    if not os.path.exists(f\"/media/jim/Research_TWO/FFT_PPI/2.redock/7.analysis/{system}/sasa\"):\n",
    "        os.mkdir(f\"/media/jim/Research_TWO/FFT_PPI/2.redock/7.analysis/{system}/sasa\")\n",
    "    grid_path = f'{ppi_path}/2.redock/4.receptor_grid/{system}'\n",
    "    grid_nc = '%s/shrakerupley.nc'%grid_path\n",
    "    \n",
    "    return grid_nc\n",
    "\n",
    "\n",
    "def get_grids(system):\n",
    "\n",
    "    grid_nc = get_grid_nc(system)\n",
    "    #parsing some of the netcdf variables from grid.nc\n",
    "    grid_variables = nc.Dataset(grid_nc, 'r').variables\n",
    "    counts = nc.Dataset(grid_nc, 'r').variables[\"counts\"][:]\n",
    "    x = nc.Dataset(grid_nc, 'r').variables[\"x\"][:]\n",
    "    y = nc.Dataset(grid_nc, 'r').variables[\"y\"][:]\n",
    "    z = nc.Dataset(grid_nc, 'r').variables[\"z\"][:]\n",
    "    sasa = nc.Dataset(grid_nc, 'r').variables[\"sasa\"][:]\n",
    "    occupancy = nc.Dataset(grid_nc, 'r').variables[\"occupancy\"][:]\n",
    "    trans_crd = nc.Dataset(grid_nc, 'r').variables[\"trans_crd\"][:]\n",
    "    rec_disp = nc.Dataset(grid_nc, 'r').variables[\"displacement\"][:]\n",
    "\n",
    "\n",
    "    rec_prmtop = f\"{ppi_path}/2.redock/1.amber/{system}/receptor.prmtop\"\n",
    "    lj_sigma_scal_fact = 1.0\n",
    "    rec_inpcrd = f\"{ppi_path}/2.redock/2.minimize/{system}/receptor.inpcrd\"\n",
    "\n",
    "    bsite_file = None\n",
    "    grid_nc_file = f\"{ppi_path}/2.redock/4.receptor_grid/{system}/shrakerupley.nc\"\n",
    "\n",
    "    lig_prmtop = f\"{ppi_path}/2.redock/1.amber/{system}/ligand.prmtop\"\n",
    "    # lig_inpcrd = f\"{ppi_path}/2.redock/2.minimze/2OOB_A:B/ligand.inpcrd\"\n",
    "\n",
    "    rot_nc = f\"{ppi_path}/2.redock/3.ligand_rand_rot/{system}/rotation.nc\"\n",
    "    lig_rot = nc.Dataset(rot_nc, 'r').variables['positions']\n",
    "    lig_inpcrd = f\"{ppi_path}/2.redock/2.minimize/{system}/ligand.inpcrd\"\n",
    "\n",
    "    rho = 9.0\n",
    "    rc_scale = 0.76\n",
    "    rs_scale = 0.53\n",
    "    rm_scale = 0.55\n",
    "    lc_scale = 0.81\n",
    "    ls_scale = 0.50\n",
    "    lm_scale = 0.54\n",
    "\n",
    "    rec_grid = _create_rec_grid(rec_prmtop, lj_sigma_scal_fact, rc_scale, rs_scale, rm_scale, rho, rec_inpcrd, bsite_file, grid_nc_file)\n",
    "\n",
    "    lig_grid = _create_lig_grid(lig_prmtop, lj_sigma_scal_fact, lc_scale, ls_scale, lm_scale, lig_inpcrd, rec_grid)\n",
    "\n",
    "    return rec_grid, lig_grid, sasa, occupancy, rec_disp, lig_rot \n",
    "\n",
    "def calc_rec_sasa(system):\n",
    "    r_grid_path = f\"/media/jim/Research_TWO/FFT_PPI/2.redock/4.receptor_grid/{system}/r_grid.p\"\n",
    "    if os.path.exists(r_grid_path):\n",
    "        r_grid = p.load(open(f\"/media/jim/Research_TWO/FFT_PPI/2.redock/4.receptor_grid/{system}/r_grid.p\", \"rb\"))\n",
    "    else:\n",
    "        r_grid = np.zeros((occupancy.shape), dtype=np.float64)\n",
    "        r_grid, r_areas = c_sasa(rec_grid._crd, rec_grid._prmtop[\"VDW_RADII\"], rec_grid._spacing, 1.4, 960, r_grid)\n",
    "        p.dump(r_grid, open(f\"/media/jim/Research_TWO/FFT_PPI/2.redock/4.receptor_grid/{system}/r_grid.p\", \"wb\"))\n",
    "    return r_grid\n",
    "\n",
    "def fft_plot(system):\n",
    "    rec_grid, lig_grid, sasa, occupancy, rec_disp, lig_rot = get_grids(system)\n",
    "    lig_grid._move_ligand_to_lower_corner()\n",
    "    ref_disp = rec_disp - lig_grid._displacement*lig_grid._spacing\n",
    "    lig_grid.translate_ligand(np.array(ref_disp))\n",
    "    #crystal pose for rmsd\n",
    "    ref = copy.deepcopy(lig_grid._crd)\n",
    "\n",
    "    all_translations = [] \n",
    "    all_trans_scores = []\n",
    "    all_delta_sasas = []\n",
    "    all_colors = []\n",
    "\n",
    "    rotations = {}\n",
    "    \n",
    "    r_grid = calc_rec_sasa(system)\n",
    "\n",
    "    for i,rot_crd in enumerate(lig_rot):\n",
    "        lig_grid._crd = np.array(rot_crd, dtype=np.float64)\n",
    "        lig_grid._move_ligand_to_lower_corner()\n",
    "\n",
    "        # Make new Shrake-Rupley SASA Grid\n",
    "        l_grid = np.zeros(occupancy.shape, dtype=np.float64)\n",
    "        l_grid, l_areas = c_sasa(lig_grid._crd, lig_grid._prmtop[\"VDW_RADII\"], lig_grid._spacing, 1.4, 960, l_grid)\n",
    "\n",
    "        names = [\"occupancy\", \"sasa\"]\n",
    "        lgrid = lig_grid.get_ligand_grids(names, [0,0,0])\n",
    "        r_ones = np.copy(sasa)\n",
    "        l_ones = np.copy(lgrid[\"sasa\"])\n",
    "\n",
    "        r_ones[r_ones>0] = 1.\n",
    "        l_ones[l_ones>0] = 1.\n",
    "\n",
    "        # do FFT for grids\n",
    "        lo_fft = np.fft.fftn(lgrid[\"occupancy\"])\n",
    "        ro_fft = np.fft.fftn(occupancy)\n",
    "        occupancy_fft = np.fft.ifftn(ro_fft*lo_fft.conjugate())\n",
    "\n",
    "        ls_fft = np.fft.fftn(l_grid)\n",
    "        lone_fft = np.fft.fftn(l_ones)\n",
    "        rs_fft = np.fft.fftn(r_grid)\n",
    "        rone_fft = np.fft.fftn(r_ones)\n",
    "\n",
    "        r_dsasa_fft = np.fft.ifftn(rs_fft*lone_fft.conjugate())\n",
    "        l_dsasa_fft = np.fft.ifftn(rone_fft*ls_fft.conjugate())\n",
    "        score = r_dsasa_fft.real + l_dsasa_fft.real\n",
    "\n",
    "        score[occupancy_fft > 0.001] = 0.\n",
    "\n",
    "        k = 1000  # number of scores to save\n",
    "        translations, trans_scores = get_top_scores(score, k)\n",
    "        all_translations.extend(translations)\n",
    "        all_trans_scores.extend(trans_scores)\n",
    "\n",
    "        delta_sasas = []\n",
    "        colors = []\n",
    "        for v,vector in enumerate(translations):\n",
    "            vector = (np.array(vector).transpose()*lig_grid._spacing)[0]\n",
    "            lig_grid._move_ligand_to_lower_corner()\n",
    "            print(vector)\n",
    "            lig_grid.translate_ligand(vector)\n",
    "            com_grid = cat_grids(rec_grid, lig_grid)\n",
    "            com_sasa = com_grid._get_molecule_sasa(0.14, 960).sum()\n",
    "            l_sasa = lig_grid._get_molecule_sasa(0.14, 960).sum()\n",
    "            r_sasa = rec_grid._get_molecule_sasa(0.14, 960).sum()\n",
    "            d_sasa = (l_sasa + r_sasa) - com_sasa\n",
    "            delta_sasas.append(d_sasa)\n",
    "            rmsd_to_native = rmsd(ref, lig_grid._crd)\n",
    "            colors.append(rmsd_to_native)\n",
    "\n",
    "            all_delta_sasas.extend(delta_sasas)\n",
    "            all_colors.extend(colors)\n",
    "\n",
    "        name = f'/media/jim/Research_TWO/FFT_PPI/2.redock/7.analysis/{system}/sasa/{i}.jpg'\n",
    "\n",
    "        regplot(trans_scores, delta_sasas, colors, name, i, system)\n",
    "        print('plot saved')\n",
    "        values = {}\n",
    "        values['translations'] = translations\n",
    "        values['trans_scores'] = trans_scores\n",
    "        values['delta_sasas'] = delta_sasas\n",
    "        values['colors'] = colors\n",
    "        p.dump(values, open( f\"{name[:-4]}values.p\", \"wb\" ) )\n",
    "        rotations[i] = values\n",
    "        del l_grid\n",
    "\n",
    "\n",
    "    final = f'/media/jim/Research_TWO/FFT_PPI/2.redock/7.analysis/{system}/sasa/{system}.jpg'\n",
    "    p.dump(rotations, open(f\"/media/jim/Research_TWO/FFT_PPI/2.redock/7.analysis/{system}/sasa/rotations.p\", \"wb\" ) )\n",
    "    # regplot(all_trans_scores, all_delta_sasas, all_colors, final, \"All\")\n",
    "\n",
    "\n",
    "from multiprocessing import Pool\n",
    "\n",
    "def f(system):\n",
    "    return fft_plot(system)\n",
    "\n",
    "#MAIN SCRIPT, this is awful and lazy, I know. #FIXME\n",
    "\n",
    "system_list = []\n",
    "for root, dirs, files in walk(\"/mnt/fft/FFT_PPI/2.redock/4.receptor_grid\", topdown=False):\n",
    "   # for name in files:\n",
    "   #    print(os.path.join(root, name))\n",
    "    for name in dirs:\n",
    "        # print(os.path.join(name))\n",
    "        if name[0] != '.':\n",
    "            system_list.append(name)\n",
    "\n",
    "system_list.sort()\n",
    "\n",
    "with Pool(22) as p:\n",
    "    system_map = p.map(f, system_list)    \n",
    "    for j, system in enumerate(system_map):\n",
    "        print(f'Doing FFT and Plotting for {system_list[j]}.')"
   ]
  },
  {
   "cell_type": "code",
   "execution_count": 54,
   "id": "eee7d8cf-1301-47a7-8725-7563adfb738f",
   "metadata": {
    "editable": true,
    "slideshow": {
     "slide_type": ""
    },
    "tags": []
   },
   "outputs": [
    {
     "name": "stdout",
     "output_type": "stream",
     "text": [
      "you abandoned me for so long\n"
     ]
    }
   ],
   "source": [
    "!echo you abandoned me for so long "
   ]
  },
  {
   "cell_type": "code",
   "execution_count": 56,
   "id": "0dcfaee5-9f6e-4331-a848-a9edf64fcff6",
   "metadata": {
    "editable": true,
    "slideshow": {
     "slide_type": ""
    },
    "tags": []
   },
   "outputs": [
    {
     "name": "stdout",
     "output_type": "stream",
     "text": [
      "Hello! New World!\n"
     ]
    }
   ],
   "source": [
    "!echo Hello! New World!\n"
   ]
  },
  {
   "cell_type": "code",
   "execution_count": null,
   "id": "af1f1111-3eac-4166-a0ac-4367f3290cd1",
   "metadata": {},
   "outputs": [],
   "source": []
  }
 ],
 "metadata": {
  "kernelspec": {
   "display_name": "Python 3 (ipykernel)",
   "language": "python",
   "name": "python3"
  },
  "language_info": {
   "codemirror_mode": {
    "name": "ipython",
    "version": 3
   },
   "file_extension": ".py",
   "mimetype": "text/x-python",
   "name": "python",
   "nbconvert_exporter": "python",
   "pygments_lexer": "ipython3",
   "version": "3.9.18"
  }
 },
 "nbformat": 4,
 "nbformat_minor": 5
}
