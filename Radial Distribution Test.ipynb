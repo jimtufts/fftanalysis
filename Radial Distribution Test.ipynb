{
 "cells": [
  {
   "cell_type": "code",
   "execution_count": 1,
   "id": "b0b91578-0e62-42db-a8b7-8bc0ed3c9a08",
   "metadata": {},
   "outputs": [],
   "source": [
    "import numpy as np\n",
    "from util import c_corners_within_radius as corners_within_radius\n",
    "from util import c_ten_corners\n",
    "from util import c_get_corner_crd\n",
    "from util import c_distr_charge_one_atom"
   ]
  },
  {
   "cell_type": "code",
   "execution_count": 2,
   "id": "b898af42-33c2-4bf6-b967-1412154283dc",
   "metadata": {},
   "outputs": [],
   "source": [
    "grid_spacing = np.array([0.5,0.5,0.5])\n",
    "origin_crd = np.array([0.,0.,0.])\n",
    "grid_counts = np.array([50,50,50])"
   ]
  },
  {
   "cell_type": "code",
   "execution_count": 3,
   "id": "c4a00420-8781-410a-ab2b-7d9129d9b982",
   "metadata": {},
   "outputs": [],
   "source": [
    "grid_x = np.linspace(\n",
    "        origin_crd[0],\n",
    "        origin_crd[0] + ((grid_counts[0]-1) * grid_spacing[0]),\n",
    "        num=grid_counts[0]\n",
    "    )\n",
    "grid_y = np.linspace(\n",
    "    origin_crd[1],\n",
    "    origin_crd[1] + ((grid_counts[1] - 1) * grid_spacing[1]),\n",
    "    num=grid_counts[1]\n",
    ")\n",
    "grid_z = np.linspace(\n",
    "    origin_crd[2],\n",
    "    origin_crd[2] + ((grid_counts[2] - 1) * grid_spacing[2]),\n",
    "    num=grid_counts[2]\n",
    ")\n",
    "\n",
    "i_max = grid_x.shape[0]\n",
    "j_max = grid_y.shape[0]\n",
    "k_max = grid_z.shape[0]"
   ]
  },
  {
   "cell_type": "code",
   "execution_count": 4,
   "id": "f58ad26a-bf15-4421-a112-398a15ccb332",
   "metadata": {},
   "outputs": [
    {
     "name": "stdout",
     "output_type": "stream",
     "text": [
      "164.3310675105338\n"
     ]
    }
   ],
   "source": [
    "grid_tmp = np.empty([i_max, j_max, k_max], dtype=float)\n",
    "atom_coordinate = np.array([i_max/2,j_max/2,k_max/2])*grid_spacing\n",
    "uper_most_corner = np.array([i_max,j_max,k_max])\n",
    "uper_most_corner_crd = uper_most_corner*grid_spacing\n",
    "    \n",
    "lj_diameter = 1.2\n",
    "exponent = 1\n",
    "charge = 3.24999852\n",
    "\n",
    "dx2 = (atom_coordinate[0] - grid_x)**2\n",
    "dy2 = (atom_coordinate[1] - grid_y)**2\n",
    "dz2 = (atom_coordinate[2] - grid_z)**2\n",
    "\n",
    "corners = corners_within_radius(atom_coordinate, lj_diameter, origin_crd, uper_most_corner_crd,\n",
    "                                    uper_most_corner, grid_spacing, grid_x, grid_y, grid_z, grid_counts)\n",
    "for i in range(i_max):\n",
    "    dx_tmp = dx2[i]\n",
    "    for j in range(j_max):\n",
    "        dy_tmp = dy2[j]\n",
    "        for k in range(k_max):\n",
    "\n",
    "            d = dx_tmp + dy_tmp + dz2[k]\n",
    "            # d = d - lj_diameter\n",
    "            # d = d**exponent\n",
    "            # grid_tmp[i,j,k] = charge / d\n",
    "            # norm_charge = charge / grid_tmp.size\n",
    "            sigma = .93333\n",
    "            exp = np.exp(-(d-lj_diameter)**2/(2*(sigma**2)))\n",
    "            pdf = charge*(1/np.sqrt(2*np.pi*sigma**2))*exp\n",
    "            # pdf = pdf/grid_tmp.size\n",
    "            if d != 0:\n",
    "                # grid_tmp[i,j,k] = norm_charge / d\n",
    "                grid_tmp[i,j,k] = pdf\n",
    "            else:\n",
    "                grid_tmp[i,j,k] = pdf\n",
    "lj_radius = lj_diameter\n",
    "corners = corners_within_radius(atom_coordinate, lj_radius, origin_crd, uper_most_corner_crd,\n",
    "                                    uper_most_corner, grid_spacing, grid_x, grid_y, grid_z, grid_counts)\n",
    "# print(grid_tmp[corners].sum())\n",
    "print(grid_tmp.sum())\n",
    "for i, j, k in corners:\n",
    "    grid_tmp[i,j,k] = 0"
   ]
  },
  {
   "cell_type": "code",
   "execution_count": 5,
   "id": "62c940c3-1ce6-4856-b13e-b47fea105db5",
   "metadata": {},
   "outputs": [
    {
     "data": {
      "text/plain": [
       "<matplotlib.colorbar.Colorbar at 0x7f518ff1b0a0>"
      ]
     },
     "execution_count": 5,
     "metadata": {},
     "output_type": "execute_result"
    },
    {
     "data": {
      "image/png": "[encoded data removed]",
      "text/plain": [
       "<Figure size 1200x1200 with 2 Axes>"
      ]
     },
     "metadata": {
      "needs_background": "light"
     },
     "output_type": "display_data"
    }
   ],
   "source": [
    "import matplotlib.pyplot as plt\n",
    "\n",
    "# grid_tmp[grid_tmp < 0.1] = 0.\n",
    "fig = plt.figure(figsize=(6, 6), dpi=200)\n",
    "# ax = fig.add_subplot(projection='3d')\n",
    "\n",
    "# ax.view_init(30, 60)\n",
    "# ax.scatter(grid_x_r, grid_y_r, grid_z_r, c=grid_tmp)\n",
    "# plt.scatter(grid_x_r, grid_z_r, c=grid_tmp, marker='.', vmin=1, vmax=2.16666568)\n",
    "plt.imshow(grid_tmp[:,:,25], cmap='hot', interpolation='nearest')\n",
    "plt.colorbar()"
   ]
  },
  {
   "cell_type": "code",
   "execution_count": 46,
   "id": "310cbffa-7e5d-46ed-92b3-c9033a01a9f8",
   "metadata": {},
   "outputs": [],
   "source": [
    "grid_x_r = np.tile(grid_x, (1,grid_counts[1],grid_counts[2]))\n",
    "# grid_x_r = np.tile(grid_x_r, (1,grid_counts[2]))\n",
    "# grid_y_r = np.tile(grid_y, (1,grid_counts[0]*grid_counts[2]))\n",
    "# grid_y_r = np.repeat(grid_y, grid_counts[0]*grid_counts[2])\n",
    "grid_z_r = np.repeat(grid_z, grid_counts[0]*grid_counts[1])\n",
    "grid_y_r = np.tile(grid_y, (1,grid_counts[1],grid_counts[2]))\n",
    "# grid_z_r = np.tile(grid_z, (1,grid_counts[1],grid_counts[2]))"
   ]
  },
  {
   "cell_type": "code",
   "execution_count": 73,
   "id": "ccdd8e55-8507-41c8-8364-aa68497a5679",
   "metadata": {},
   "outputs": [
    {
     "data": {
      "text/plain": [
       "(1, 50, 2500)"
      ]
     },
     "execution_count": 73,
     "metadata": {},
     "output_type": "execute_result"
    }
   ],
   "source": [
    "grid_x_r.shape"
   ]
  },
  {
   "cell_type": "code",
   "execution_count": null,
   "id": "c099681e-c7d9-48f8-bba1-f5e2d78e96a5",
   "metadata": {},
   "outputs": [],
   "source": [
    "for angle in range(0, 360):\n",
    "    ax.view_init(30, angle)\n",
    "    plt.draw()\n",
    "    plt.pause(.001)"
   ]
  },
  {
   "cell_type": "code",
   "execution_count": 19,
   "id": "faf6c66a-fe90-4258-a2aa-10dc9294e91c",
   "metadata": {},
   "outputs": [
    {
     "data": {
      "text/plain": [
       "2.16666568"
      ]
     },
     "execution_count": 19,
     "metadata": {},
     "output_type": "execute_result"
    }
   ],
   "source": [
    "grid_tmp.max()"
   ]
  },
  {
   "cell_type": "code",
   "execution_count": 6,
   "id": "0cf8994d-2b84-467a-af2a-d4a1fd032718",
   "metadata": {},
   "outputs": [],
   "source": [
    "six_corner_shifts = []\n",
    "for i in [-1, 1]:\n",
    "    six_corner_shifts.append(np.array([i,0,0], dtype=int))\n",
    "    six_corner_shifts.append(np.array([0,i,0], dtype=int))\n",
    "    six_corner_shifts.append(np.array([0,0,i], dtype=int))\n",
    "\n",
    "six_corner_shifts = np.array(six_corner_shifts, dtype=int)\n",
    "eight_corner_shifts = np.array([np.array([i,j,k], dtype=int) for i in range(2) for j in range(2) for k in range(2)])\n",
    "\n",
    "b_vector = np.zeros([10], dtype=float)\n",
    "a_matrix = np.zeros([10,10], dtype=float)"
   ]
  },
  {
   "cell_type": "code",
   "execution_count": 132,
   "id": "9fc4a9ca-0e4c-455c-9dbf-a003090ef4e3",
   "metadata": {},
   "outputs": [],
   "source": [
    "\n",
    "    ten_corners = c_ten_corners(atom_coordinate, origin_crd, uper_most_corner_crd, uper_most_corner,\n",
    "                                    grid_spacing, eight_corner_shifts, six_corner_shifts, grid_x, grid_y, grid_z)\n",
    "    b_vector[0] = charge\n",
    "    a_matrix[0,:] = 1.0\n",
    "\n",
    "    delta_vectors = []\n",
    "    for corner in ten_corners:\n",
    "        corner_crd = c_get_corner_crd(corner, grid_x, grid_y, grid_z)\n",
    "        delta_vectors.append(corner_crd - atom_coordinate)\n",
    "\n",
    "    for j in range(10):\n",
    "        a_matrix[1][j] = delta_vectors[j][0]\n",
    "        a_matrix[2][j] = delta_vectors[j][1]\n",
    "        a_matrix[3][j] = delta_vectors[j][2]\n",
    "\n",
    "    row = 3\n",
    "    for i in range(3):\n",
    "        for j in range(i, 3):\n",
    "            row += 1\n",
    "            for k in range(10):\n",
    "                a_matrix[row][k] = delta_vectors[k][i] * delta_vectors[k][j]\n",
    "\n",
    "    distributed_charges = np.linalg.solve(a_matrix, b_vector)"
   ]
  },
  {
   "cell_type": "code",
   "execution_count": 17,
   "id": "cc71a8db-9a5d-4c4f-8ad7-823ec2a41397",
   "metadata": {},
   "outputs": [],
   "source": [
    "grid = np.zeros([i_max, j_max, k_max], dtype=float)\n",
    "ten_corners, distributed_charges = c_distr_charge_one_atom( atom_coordinate, charge,\n",
    "                                                        origin_crd, uper_most_corner_crd,\n",
    "                                                        uper_most_corner, grid_spacing,\n",
    "                                                        eight_corner_shifts, six_corner_shifts,\n",
    "                                                        grid_x, grid_y, grid_z)\n",
    "for i in range(len(ten_corners)):\n",
    "    l, m, n = ten_corners[i]\n",
    "    # below is effectively grid[l, m, n] += distributed_charges[i] for complex nums\n",
    "    grid[l, m, n] += distributed_charges[i]"
   ]
  },
  {
   "cell_type": "code",
   "execution_count": 31,
   "id": "bb489132-e798-4133-961e-c98fd06f3aa0",
   "metadata": {},
   "outputs": [
    {
     "data": {
      "text/plain": [
       "<matplotlib.colorbar.Colorbar at 0x7f7b840e2b80>"
      ]
     },
     "execution_count": 31,
     "metadata": {},
     "output_type": "execute_result"
    },
    {
     "data": {
      "image/png": "[encoded data removed]",
      "text/plain": [
       "<Figure size 432x288 with 2 Axes>"
      ]
     },
     "metadata": {
      "needs_background": "light"
     },
     "output_type": "display_data"
    }
   ],
   "source": [
    "plt.imshow(grid[:,:,25], cmap='hot', interpolation='nearest')\n",
    "plt.colorbar()"
   ]
  },
  {
   "cell_type": "code",
   "execution_count": 24,
   "id": "9426d9b2-d785-4ad7-ac63-1e1188b1403e",
   "metadata": {},
   "outputs": [
    {
     "data": {
      "text/plain": [
       "(array([24]), array([24]), array([24]))"
      ]
     },
     "execution_count": 24,
     "metadata": {},
     "output_type": "execute_result"
    }
   ],
   "source": [
    "grid.max()\n",
    "np.where(grid == grid.max())"
   ]
  },
  {
   "cell_type": "code",
   "execution_count": 26,
   "id": "94bd2491-6ae3-4146-b1b7-b295368432f4",
   "metadata": {},
   "outputs": [
    {
     "name": "stdout",
     "output_type": "stream",
     "text": [
      "[array([23, 23, 24]), array([23, 24, 23]), array([23, 24, 24]), array([24, 23, 23]), array([24, 23, 24]), array([24, 24, 23]), array([24, 24, 24]), array([25, 24, 24]), array([24, 25, 24]), array([24, 24, 25])]\n"
     ]
    }
   ],
   "source": [
    "print(b_vector)"
   ]
  },
  {
   "cell_type": "code",
   "execution_count": 29,
   "id": "f50da745-50b4-4137-af10-a400cdd61d60",
   "metadata": {},
   "outputs": [
    {
     "name": "stdout",
     "output_type": "stream",
     "text": [
      "[ 0.11791378  0.11791378  0.132653    0.11791378  0.132653    0.132653\n",
      "  3.24999852 -0.25056678 -0.25056678 -0.25056678]\n"
     ]
    }
   ],
   "source": [
    "print(distributed_charges)"
   ]
  },
  {
   "cell_type": "code",
   "execution_count": 40,
   "id": "8e81beae-2f01-4d3e-805a-0795236add07",
   "metadata": {},
   "outputs": [],
   "source": [
    "from bpmfwfft.grids import LigGrid"
   ]
  },
  {
   "cell_type": "code",
   "execution_count": null,
   "id": "bdd83bf8-96ff-47dc-bf6c-179dd32787bd",
   "metadata": {},
   "outputs": [],
   "source": [
    "LigGrid."
   ]
  }
 ],
 "metadata": {
  "kernelspec": {
   "display_name": "Python 3",
   "language": "python",
   "name": "python3"
  },
  "language_info": {
   "codemirror_mode": {
    "name": "ipython",
    "version": 3
   },
   "file_extension": ".py",
   "mimetype": "text/x-python",
   "name": "python",
   "nbconvert_exporter": "python",
   "pygments_lexer": "ipython3",
   "version": "3.9.4"
  }
 },
 "nbformat": 4,
 "nbformat_minor": 5
}
