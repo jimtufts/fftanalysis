{
 "cells": [
  {
   "cell_type": "code",
   "execution_count": 4,
   "id": "390616a6-d372-44e2-8e7e-de379860becd",
   "metadata": {},
   "outputs": [],
   "source": [
    "import pickle\n",
    "systems = pickle.load( open(\"systems.p\", \"rb\"))"
   ]
  },
  {
   "cell_type": "code",
   "execution_count": 2,
   "id": "d73fa271-3874-4a2e-b16f-1a3f2c19b32c",
   "metadata": {},
   "outputs": [],
   "source": [
    "keys = list(systems.keys())"
   ]
  },
  {
   "cell_type": "code",
   "execution_count": 31,
   "id": "744673c6-f9e2-45d3-a768-3fed5a7a6890",
   "metadata": {},
   "outputs": [
    {
     "data": {
      "image/png": "[encoded data removed]",
      "text/plain": [
       "<Figure size 432x288 with 1 Axes>"
      ]
     },
     "metadata": {
      "needs_background": "light"
     },
     "output_type": "display_data"
    }
   ],
   "source": [
    "import matplotlib.pyplot as plt\n",
    "\n",
    "x = systems[keys[0]][\"receptor\"]._get_molecule_sasa(0.14, 960) \n",
    "y = systems[keys[0]][\"ligand\"]._get_molecule_sasa(0.14, 960)\n",
    "x_labels = systems[keys[0]][\"receptor\"]._prmtop[\"PDB_TEMPLATE\"]['ATOM_NAME']\n",
    "# the histogram of the data\n",
    "n, bins, patches = plt.hist(x, density=True, facecolor='g', alpha=0.75)\n",
    "\n"
   ]
  },
  {
   "cell_type": "code",
   "execution_count": 11,
   "id": "61dfd965-63a0-4496-a35e-75a030bb9f87",
   "metadata": {},
   "outputs": [],
   "source": [
    "plt.show()"
   ]
  },
  {
   "cell_type": "code",
   "execution_count": 19,
   "id": "eef6f84e-0008-4e9e-8010-5f5220e7bdfa",
   "metadata": {},
   "outputs": [],
   "source": [
    "import numpy as np\n",
    "grey1 = np.where(x > 0)\n",
    "grey2 = np.where(x < 0.01)"
   ]
  },
  {
   "cell_type": "code",
   "execution_count": null,
   "id": "52baf567-04d5-4d32-be88-594fc07efcea",
   "metadata": {},
   "outputs": [],
   "source": [
    "print()"
   ]
  },
  {
   "cell_type": "code",
   "execution_count": 24,
   "id": "d0eeb75b-8f41-4cb1-9d4f-1697bf7a1b15",
   "metadata": {},
   "outputs": [],
   "source": [
    "import pandas as pd"
   ]
  },
  {
   "cell_type": "code",
   "execution_count": 33,
   "id": "bd67f017-bcdb-4c93-9a99-a9f96eca12db",
   "metadata": {},
   "outputs": [
    {
     "data": {
      "text/plain": [
       "N       1.366986\n",
       "H1     24.245764\n",
       "H2     23.006929\n",
       "H3     17.697638\n",
       "CA      0.000000\n",
       "         ...    \n",
       "HA2    16.281826\n",
       "HA3    23.449369\n",
       "C       5.534963\n",
       "O      37.835896\n",
       "OXT    37.947506\n",
       "Length: 3996, dtype: float32"
      ]
     },
     "execution_count": 33,
     "metadata": {},
     "output_type": "execute_result"
    }
   ],
   "source": [
    "pd.Series(data=x[0], index=x_labels)"
   ]
  },
  {
   "cell_type": "code",
   "execution_count": 37,
   "id": "f8c8580e-b89d-47ec-9ad1-1cd1d5906a80",
   "metadata": {},
   "outputs": [],
   "source": [
    "df = pd.DataFrame(x[0], index=x_labels, columns=['SASA'])"
   ]
  },
  {
   "cell_type": "code",
   "execution_count": 40,
   "id": "fe28180c-b5f5-4cac-8f16-0a824ad2c1e9",
   "metadata": {},
   "outputs": [],
   "source": [
    "newdf = df[(df>0) & (df<1)]"
   ]
  },
  {
   "cell_type": "code",
   "execution_count": 42,
   "id": "ab6b7382-9c20-4eda-9665-dbe5267b7522",
   "metadata": {},
   "outputs": [
    {
     "data": {
      "text/html": [
       "<div>\n",
       "<style scoped>\n",
       "    .dataframe tbody tr th:only-of-type {\n",
       "        vertical-align: middle;\n",
       "    }\n",
       "\n",
       "    .dataframe tbody tr th {\n",
       "        vertical-align: top;\n",
       "    }\n",
       "\n",
       "    .dataframe thead th {\n",
       "        text-align: right;\n",
       "    }\n",
       "</style>\n",
       "<table border=\"1\" class=\"dataframe\">\n",
       "  <thead>\n",
       "    <tr style=\"text-align: right;\">\n",
       "      <th></th>\n",
       "      <th>SASA</th>\n",
       "    </tr>\n",
       "  </thead>\n",
       "  <tbody>\n",
       "    <tr>\n",
       "      <th>CB</th>\n",
       "      <td>0.251589</td>\n",
       "    </tr>\n",
       "    <tr>\n",
       "      <th>CG</th>\n",
       "      <td>0.754768</td>\n",
       "    </tr>\n",
       "    <tr>\n",
       "      <th>HE1</th>\n",
       "      <td>0.973370</td>\n",
       "    </tr>\n",
       "    <tr>\n",
       "      <th>N</th>\n",
       "      <td>0.341746</td>\n",
       "    </tr>\n",
       "    <tr>\n",
       "      <th>HA</th>\n",
       "      <td>0.973370</td>\n",
       "    </tr>\n",
       "    <tr>\n",
       "      <th>...</th>\n",
       "      <td>...</td>\n",
       "    </tr>\n",
       "    <tr>\n",
       "      <th>C</th>\n",
       "      <td>0.880562</td>\n",
       "    </tr>\n",
       "    <tr>\n",
       "      <th>CB</th>\n",
       "      <td>0.125795</td>\n",
       "    </tr>\n",
       "    <tr>\n",
       "      <th>HB2</th>\n",
       "      <td>0.088488</td>\n",
       "    </tr>\n",
       "    <tr>\n",
       "      <th>CE2</th>\n",
       "      <td>0.251589</td>\n",
       "    </tr>\n",
       "    <tr>\n",
       "      <th>HE2</th>\n",
       "      <td>0.619417</td>\n",
       "    </tr>\n",
       "  </tbody>\n",
       "</table>\n",
       "<p>412 rows × 1 columns</p>\n",
       "</div>"
      ],
      "text/plain": [
       "         SASA\n",
       "CB   0.251589\n",
       "CG   0.754768\n",
       "HE1  0.973370\n",
       "N    0.341746\n",
       "HA   0.973370\n",
       "..        ...\n",
       "C    0.880562\n",
       "CB   0.125795\n",
       "HB2  0.088488\n",
       "CE2  0.251589\n",
       "HE2  0.619417\n",
       "\n",
       "[412 rows x 1 columns]"
      ]
     },
     "execution_count": 42,
     "metadata": {},
     "output_type": "execute_result"
    }
   ],
   "source": [
    "newdf.dropna()"
   ]
  },
  {
   "cell_type": "code",
   "execution_count": null,
   "id": "46c168d9-a9ca-4d34-b627-423f36c022bf",
   "metadata": {},
   "outputs": [],
   "source": []
  }
 ],
 "metadata": {
  "kernelspec": {
   "display_name": "Python 3",
   "language": "python",
   "name": "python3"
  },
  "language_info": {
   "codemirror_mode": {
    "name": "ipython",
    "version": 3
   },
   "file_extension": ".py",
   "mimetype": "text/x-python",
   "name": "python",
   "nbconvert_exporter": "python",
   "pygments_lexer": "ipython3",
   "version": "3.9.4"
  }
 },
 "nbformat": 4,
 "nbformat_minor": 5
}
