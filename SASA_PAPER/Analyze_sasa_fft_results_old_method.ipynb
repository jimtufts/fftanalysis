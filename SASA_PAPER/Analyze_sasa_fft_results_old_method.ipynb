{
 "cells": [
  {
   "cell_type": "code",
   "execution_count": 60,
   "id": "80912ed6-51eb-438c-b811-b4ca8d244115",
   "metadata": {},
   "outputs": [
    {
     "data": {
      "text/plain": [
       "62.464767"
      ]
     },
     "execution_count": 60,
     "metadata": {},
     "output_type": "execute_result"
    }
   ],
   "source": [
    "_get_molecule_sasa_fft(com_grid, complex, 0.14, 960).sum()"
   ]
  },
  {
   "cell_type": "code",
   "execution_count": null,
   "id": "81622fd9-9392-4f92-bcff-3fcbf6e7f63f",
   "metadata": {},
   "outputs": [],
   "source": [
    "compare_coordinates_with_diff(complex.xyz[0], com_grid._crd/10.)"
   ]
  },
  {
   "cell_type": "code",
   "execution_count": 1,
   "id": "7948669d-b6d1-41db-a87d-e693686fd6a0",
   "metadata": {},
   "outputs": [],
   "source": [
    "def average_distance(coordinates):\n",
    "    total_distance = 0\n",
    "    total_pairs = 0\n",
    "    \n",
    "    # Iterate through each coordinate pair\n",
    "    for i in range(len(coordinates)):\n",
    "        for j in range(i+1, len(coordinates)):\n",
    "            # Calculate distance between points\n",
    "            distance = math.sqrt(sum((a - b) ** 2 for a, b in zip(coordinates[i], coordinates[j])))\n",
    "            total_distance += distance\n",
    "            total_pairs += 1\n",
    "    \n",
    "    # Calculate average distance\n",
    "    if total_pairs > 0:\n",
    "        avg_distance = total_distance / total_pairs\n",
    "        return avg_distance\n",
    "    else:\n",
    "        return 0"
   ]
  },
  {
   "cell_type": "code",
   "execution_count": 68,
   "id": "a9593813-587e-4ec1-8b3c-b3dc49ec66a5",
   "metadata": {},
   "outputs": [
    {
     "data": {
      "text/plain": [
       "1.8810086077051094"
      ]
     },
     "execution_count": 68,
     "metadata": {},
     "output_type": "execute_result"
    }
   ],
   "source": [
    "average_distance(complex.xyz[0])"
   ]
  },
  {
   "cell_type": "code",
   "execution_count": 69,
   "id": "77e15992-d10c-4414-8119-a4e8123c54b9",
   "metadata": {},
   "outputs": [
    {
     "data": {
      "text/plain": [
       "1.8392805623930593"
      ]
     },
     "execution_count": 69,
     "metadata": {},
     "output_type": "execute_result"
    }
   ],
   "source": [
    "average_distance(com_grid._crd/10.)"
   ]
  },
  {
   "cell_type": "code",
   "execution_count": 1,
   "id": "74f1d942",
   "metadata": {
    "editable": true,
    "slideshow": {
     "slide_type": ""
    },
    "tags": []
   },
   "outputs": [],
   "source": [
    "import mdtraj as md\n",
    "import bpmfwfft.grids as grids\n",
    "import numpy as np"
   ]
  },
  {
   "cell_type": "code",
   "execution_count": 2,
   "id": "19c2a5cd",
   "metadata": {},
   "outputs": [],
   "source": [
    "from os import walk\n",
    "import socket\n",
    "if socket.gethostname() == 'jim-Mint':\n",
    "    ppi_path = '/media/jim/Research_TWO/FFT_PPI'\n",
    "    home = '/home/jim'\n",
    "else:\n",
    "    ppi_path = '/mnt/elpis/jtufts/fft/FFT_PPI_1_0'\n",
    "    home = '/home/jtufts'"
   ]
  },
  {
   "cell_type": "code",
   "execution_count": 3,
   "id": "b6964ee0",
   "metadata": {},
   "outputs": [],
   "source": [
    "f = {}\n",
    "for (dirpath, dirnames, filenames) in walk(f'{ppi_path}/2.redock/2.minimize'):\n",
    "    if filenames[0] != 'run_me.sh':\n",
    "        if 'complex.pdb' in filenames:\n",
    "            f[dirpath.split('/')[8]] = dirpath + '/complex.pdb'"
   ]
  },
  {
   "cell_type": "code",
   "execution_count": 4,
   "id": "7274798d",
   "metadata": {},
   "outputs": [
    {
     "data": {
      "text/plain": [
       "'2OOB_A:B'"
      ]
     },
     "execution_count": 4,
     "metadata": {},
     "output_type": "execute_result"
    }
   ],
   "source": [
    "keys = list(f.keys())\n",
    "keys.sort()\n",
    "system = keys[127] #36 \n",
    "system"
   ]
  },
  {
   "cell_type": "code",
   "execution_count": 5,
   "id": "f70aaf97",
   "metadata": {},
   "outputs": [
    {
     "name": "stdout",
     "output_type": "stream",
     "text": [
      "/mnt/elpis/jtufts/fft/FFT_PPI_1_0/2.redock/4.receptor_grid/2OOB_A:B\n",
      "CPU times: user 28.7 ms, sys: 38.7 ms, total: 67.4 ms\n",
      "Wall time: 19.4 s\n"
     ]
    }
   ],
   "source": [
    "%%time\n",
    "import netCDF4 as nc\n",
    "import numpy as np\n",
    "# grid_name = \"sasa1.nc\"\n",
    "grid_name = \"grid.nc\"\n",
    "grid_path = f'{ppi_path}/2.redock/4.receptor_grid/{system}'\n",
    "print(grid_path)\n",
    "grid_nc = '%s/%s'%(grid_path,grid_name)\n",
    "\n",
    "\n",
    "#parsing some of the netcdf variables from grid.nc\n",
    "grid_variables = nc.Dataset(grid_nc, 'r').variables\n",
    "counts = nc.Dataset(grid_nc, 'r').variables[\"counts\"][:]\n",
    "x = nc.Dataset(grid_nc, 'r').variables[\"x\"][:]\n",
    "y = nc.Dataset(grid_nc, 'r').variables[\"y\"][:]\n",
    "z = nc.Dataset(grid_nc, 'r').variables[\"z\"][:]\n",
    "# electrostatic = nc.Dataset(grid_nc, 'r').variables[\"electrostatic\"][:]\n",
    "# lja = nc.Dataset(grid_nc, 'r').variables[\"LJa\"][:]\n",
    "# ljr = nc.Dataset(grid_nc, 'r').variables[\"LJr\"][:]\n",
    "sasa = nc.Dataset(grid_nc, 'r').variables[\"sasa\"][:]\n",
    "occupancy = nc.Dataset(grid_nc, 'r').variables[\"occupancy\"][:]\n",
    "trans_crd = nc.Dataset(grid_nc, 'r').variables[\"trans_crd\"][:]\n",
    "rec_disp = nc.Dataset(grid_nc, 'r').variables[\"displacement\"][:]\n",
    "water = nc.Dataset(grid_nc, 'r').variables[\"water\"][:]"
   ]
  },
  {
   "cell_type": "code",
   "execution_count": 6,
   "id": "6fc7d680",
   "metadata": {
    "tags": []
   },
   "outputs": [
    {
     "name": "stdout",
     "output_type": "stream",
     "text": [
      "[1.]\n",
      "/mnt/elpis/jtufts/fft/FFT_PPI_1_0/2.redock/4.receptor_grid/2OOB_A:B/grid.nc\n",
      "x\n",
      "[  0.   1.   2.   3.   4.   5.   6.   7.   8.   9.  10.  11.  12.  13.\n",
      "  14.  15.  16.  17.  18.  19.  20.  21.  22.  23.  24.  25.  26.  27.\n",
      "  28.  29.  30.  31.  32.  33.  34.  35.  36.  37.  38.  39.  40.  41.\n",
      "  42.  43.  44.  45.  46.  47.  48.  49.  50.  51.  52.  53.  54.  55.\n",
      "  56.  57.  58.  59.  60.  61.  62.  63.  64.  65.  66.  67.  68.  69.\n",
      "  70.  71.  72.  73.  74.  75.  76.  77.  78.  79.  80.  81.  82.  83.\n",
      "  84.  85.  86.  87.  88.  89.  90.  91.  92.  93.  94.  95.  96.  97.\n",
      "  98.  99. 100. 101. 102. 103. 104. 105. 106. 107. 108.]\n",
      "y\n",
      "[  0.   1.   2.   3.   4.   5.   6.   7.   8.   9.  10.  11.  12.  13.\n",
      "  14.  15.  16.  17.  18.  19.  20.  21.  22.  23.  24.  25.  26.  27.\n",
      "  28.  29.  30.  31.  32.  33.  34.  35.  36.  37.  38.  39.  40.  41.\n",
      "  42.  43.  44.  45.  46.  47.  48.  49.  50.  51.  52.  53.  54.  55.\n",
      "  56.  57.  58.  59.  60.  61.  62.  63.  64.  65.  66.  67.  68.  69.\n",
      "  70.  71.  72.  73.  74.  75.  76.  77.  78.  79.  80.  81.  82.  83.\n",
      "  84.  85.  86.  87.  88.  89.  90.  91.  92.  93.  94.  95.  96.  97.\n",
      "  98.  99. 100. 101. 102. 103. 104. 105. 106. 107. 108.]\n",
      "z\n",
      "[  0.   1.   2.   3.   4.   5.   6.   7.   8.   9.  10.  11.  12.  13.\n",
      "  14.  15.  16.  17.  18.  19.  20.  21.  22.  23.  24.  25.  26.  27.\n",
      "  28.  29.  30.  31.  32.  33.  34.  35.  36.  37.  38.  39.  40.  41.\n",
      "  42.  43.  44.  45.  46.  47.  48.  49.  50.  51.  52.  53.  54.  55.\n",
      "  56.  57.  58.  59.  60.  61.  62.  63.  64.  65.  66.  67.  68.  69.\n",
      "  70.  71.  72.  73.  74.  75.  76.  77.  78.  79.  80.  81.  82.  83.\n",
      "  84.  85.  86.  87.  88.  89.  90.  91.  92.  93.  94.  95.  96.  97.\n",
      "  98.  99. 100. 101. 102. 103. 104. 105. 106. 107. 108.]\n",
      "d0\n",
      "[1. 0. 0.]\n",
      "d1\n",
      "[0. 1. 0.]\n",
      "d2\n",
      "[0. 0. 1.]\n",
      "spacing\n",
      "[1. 1. 1.]\n",
      "counts\n",
      "[109 109 109]\n",
      "origin\n",
      "[0. 0. 0.]\n",
      "lj_sigma_scaling_factor\n",
      "[1.]\n",
      "rec_core_scaling\n",
      "[0.76]\n",
      "rec_surface_scaling\n",
      "[0.53]\n",
      "rec_metal_scaling\n",
      "[0.55]\n",
      "Doing FFT for occupancy\n",
      "Doing FFT for LJr\n",
      "Doing FFT for LJa\n",
      "Doing FFT for electrostatic\n",
      "Doing FFT for sasa\n",
      "Doing FFT for water\n",
      "Copy entries from receptor_grid ['lj_sigma_scaling_factor', 'x', 'y', 'z', 'd0', 'd1', 'd2', 'spacing', 'counts', 'origin', 'rec_core_scaling', 'rec_surface_scaling', 'rec_metal_scaling']\n",
      "[1.]\n",
      "[  0.   1.   2.   3.   4.   5.   6.   7.   8.   9.  10.  11.  12.  13.\n",
      "  14.  15.  16.  17.  18.  19.  20.  21.  22.  23.  24.  25.  26.  27.\n",
      "  28.  29.  30.  31.  32.  33.  34.  35.  36.  37.  38.  39.  40.  41.\n",
      "  42.  43.  44.  45.  46.  47.  48.  49.  50.  51.  52.  53.  54.  55.\n",
      "  56.  57.  58.  59.  60.  61.  62.  63.  64.  65.  66.  67.  68.  69.\n",
      "  70.  71.  72.  73.  74.  75.  76.  77.  78.  79.  80.  81.  82.  83.\n",
      "  84.  85.  86.  87.  88.  89.  90.  91.  92.  93.  94.  95.  96.  97.\n",
      "  98.  99. 100. 101. 102. 103. 104. 105. 106. 107. 108.]\n",
      "[  0.   1.   2.   3.   4.   5.   6.   7.   8.   9.  10.  11.  12.  13.\n",
      "  14.  15.  16.  17.  18.  19.  20.  21.  22.  23.  24.  25.  26.  27.\n",
      "  28.  29.  30.  31.  32.  33.  34.  35.  36.  37.  38.  39.  40.  41.\n",
      "  42.  43.  44.  45.  46.  47.  48.  49.  50.  51.  52.  53.  54.  55.\n",
      "  56.  57.  58.  59.  60.  61.  62.  63.  64.  65.  66.  67.  68.  69.\n",
      "  70.  71.  72.  73.  74.  75.  76.  77.  78.  79.  80.  81.  82.  83.\n",
      "  84.  85.  86.  87.  88.  89.  90.  91.  92.  93.  94.  95.  96.  97.\n",
      "  98.  99. 100. 101. 102. 103. 104. 105. 106. 107. 108.]\n",
      "[  0.   1.   2.   3.   4.   5.   6.   7.   8.   9.  10.  11.  12.  13.\n",
      "  14.  15.  16.  17.  18.  19.  20.  21.  22.  23.  24.  25.  26.  27.\n",
      "  28.  29.  30.  31.  32.  33.  34.  35.  36.  37.  38.  39.  40.  41.\n",
      "  42.  43.  44.  45.  46.  47.  48.  49.  50.  51.  52.  53.  54.  55.\n",
      "  56.  57.  58.  59.  60.  61.  62.  63.  64.  65.  66.  67.  68.  69.\n",
      "  70.  71.  72.  73.  74.  75.  76.  77.  78.  79.  80.  81.  82.  83.\n",
      "  84.  85.  86.  87.  88.  89.  90.  91.  92.  93.  94.  95.  96.  97.\n",
      "  98.  99. 100. 101. 102. 103. 104. 105. 106. 107. 108.]\n",
      "[1. 0. 0.]\n",
      "[0. 1. 0.]\n",
      "[0. 0. 1.]\n",
      "[1. 1. 1.]\n",
      "[109 109 109]\n",
      "[0. 0. 0.]\n",
      "[0.76]\n",
      "[0.53]\n",
      "[0.55]\n",
      "[1.]\n",
      "Number of atoms in /mnt/elpis/jtufts/fft/FFT_PPI_1_0/2.redock/2.minimize/2OOB_A:B/ligand.inpcrd is 777\n",
      "lower ligand corner print [ -8.6089488 -14.3828871  -6.3694342]\n",
      "Ligand translated by [10.0 16.0 8.0]\n",
      "move_ligand_to_lower_corner [10.0 16.0 8.0]\n"
     ]
    },
    {
     "ename": "NameError",
     "evalue": "name 'cat_grids' is not defined",
     "output_type": "error",
     "traceback": [
      "\u001b[0;31m---------------------------------------------------------------------------\u001b[0m",
      "\u001b[0;31mNameError\u001b[0m                                 Traceback (most recent call last)",
      "File \u001b[0;32m<timed exec>:40\u001b[0m\n",
      "\u001b[0;31mNameError\u001b[0m: name 'cat_grids' is not defined"
     ]
    }
   ],
   "source": [
    "%%time\n",
    "from bpmfwfft.grids import RecGrid\n",
    "from bpmfwfft.grids import LigGrid\n",
    "\n",
    "rec_prmtop = f\"{ppi_path}/2.redock/1.amber/{system}/receptor.prmtop\"\n",
    "lj_sigma_scal_fact = 1.0\n",
    "rec_inpcrd = f\"{ppi_path}/2.redock/2.minimize/{system}/receptor.inpcrd\"\n",
    "\n",
    "bsite_file = None\n",
    "grid_nc_file = f\"{ppi_path}/2.redock/4.receptor_grid/{system}/{grid_name}\"\n",
    "\n",
    "lig_prmtop = f\"{ppi_path}/2.redock/1.amber/{system}/ligand.prmtop\"\n",
    "# lig_inpcrd = f\"{ppi_path}/2.redock/2.minimze/2OOB_A:B/ligand.inpcrd\"\n",
    "\n",
    "rot_nc = f\"{ppi_path}/2.redock/3.ligand_rand_rot/{system}/rotation.nc\"\n",
    "lig_rot = nc.Dataset(rot_nc, 'r').variables['positions']\n",
    "lig_inpcrd = f\"{ppi_path}/2.redock/2.minimize/{system}/ligand.inpcrd\"\n",
    "\n",
    "rho = 9.0\n",
    "rc_scale = 0.76\n",
    "rs_scale = 0.53\n",
    "rm_scale = 0.55\n",
    "lc_scale = 0.81\n",
    "ls_scale = 0.50\n",
    "lm_scale = 0.54\n",
    "\n",
    "\n",
    "def _create_rec_grid(rec_prmtop, lj_sigma_scal_fact, rc_scale, rs_scale, rm_scale, rho, rec_inpcrd, bsite_file, grid_nc_file):\n",
    "    rec_grid = RecGrid(rec_prmtop, lj_sigma_scal_fact, rc_scale, rs_scale, rm_scale, rho, rec_inpcrd, bsite_file, \n",
    "                        grid_nc_file, new_calculation=False)\n",
    "    return rec_grid\n",
    "\n",
    "def _create_lig_grid(lig_prmtop, lj_sigma_scal_fact, lc_scale, ls_scale, lm_scale, lig_inpcrd, rec_grid):\n",
    "    lig_grid = LigGrid(lig_prmtop, lj_sigma_scal_fact, lc_scale, ls_scale, lm_scale, lig_inpcrd, rec_grid)\n",
    "    return lig_grid\n",
    "\n",
    "rec_grid = _create_rec_grid(rec_prmtop, lj_sigma_scal_fact, rc_scale, rs_scale, rm_scale, rho, rec_inpcrd, bsite_file, grid_nc_file)\n",
    "\n",
    "lig_grid = _create_lig_grid(lig_prmtop, lj_sigma_scal_fact, lc_scale, ls_scale, lm_scale, lig_inpcrd, rec_grid)\n",
    "lig_grid.translate_ligand([68,87,45]*lig_grid._spacing)\n",
    "com_grid = cat_grids(rec_grid, lig_grid)\n",
    "com_pa_sasa = com_grid._get_molecule_sasa(0.14, 960)\n",
    "com_pa_sasa_nm = com_grid._get_molecule_sasa_nanometer(0.14, 960)\n",
    "print(\"Complex:\",com_grid._get_molecule_sasa(0.14, 960).sum(), \"Unbound:\", lig_grid._get_molecule_sasa(0.14, 960).sum() + rec_grid._get_molecule_sasa(0.14, 960).sum(), \"Ligand:\", lig_grid._get_molecule_sasa(0.14, 960).sum(), \"Receptor:\", rec_grid._get_molecule_sasa(0.14, 960).sum(), \"Change in SASA (R+L)-C:\", (lig_grid._get_molecule_sasa(0.14, 960).sum() + rec_grid._get_molecule_sasa(0.14, 960).sum()) - com_grid._get_molecule_sasa(0.14, 960).sum())\n",
    "rot_num = 0\n",
    "lig_grid._crd = np.array(lig_rot[rot_num], dtype=np.float64)\n",
    "lig_grid._move_ligand_to_lower_corner()"
   ]
  },
  {
   "cell_type": "code",
   "execution_count": 12,
   "id": "8b5ce5b0",
   "metadata": {},
   "outputs": [
    {
     "name": "stdout",
     "output_type": "stream",
     "text": [
      "[1281273]\n",
      "5156657\n",
      "0.0 0.0\n"
     ]
    },
    {
     "data": {
      "text/plain": [
       "array([5156657])"
      ]
     },
     "execution_count": 12,
     "metadata": {},
     "output_type": "execute_result"
    }
   ],
   "source": [
    "w = np.where(sasa == sasa.max())\n",
    "a = 1\n",
    "for i in w:\n",
    "    a = a*i\n",
    "print(a)\n",
    "print(sasa.argmax())\n",
    "flatsa = sasa.flatten()\n",
    "print(flatsa[1294482], flatsa[5156658])\n",
    "np.ravel_multi_index(w, sasa.shape)"
   ]
  },
  {
   "cell_type": "code",
   "execution_count": 11,
   "id": "bd907e7e-6e15-422a-bea4-4786bcb79493",
   "metadata": {},
   "outputs": [
    {
     "data": {
      "text/plain": [
       "3486.464"
      ]
     },
     "execution_count": 11,
     "metadata": {},
     "output_type": "execute_result"
    }
   ],
   "source": [
    "lig_grid._get_molecule_sasa(0.14,960).sum()"
   ]
  },
  {
   "cell_type": "code",
   "execution_count": 13,
   "id": "add04edf-96ce-4492-bfc6-7fc674d0edfc",
   "metadata": {},
   "outputs": [
    {
     "data": {
      "text/plain": [
       "array([1.55, 1.2 , 1.2 , ..., 1.7 , 1.52, 1.52])"
      ]
     },
     "execution_count": 13,
     "metadata": {},
     "output_type": "execute_result"
    }
   ],
   "source": [
    "rec_grid._prmtop[\"VDW_RADII\"]"
   ]
  },
  {
   "cell_type": "code",
   "execution_count": 15,
   "id": "bbb94e6e-0eb1-4101-9806-564759a46c58",
   "metadata": {},
   "outputs": [
    {
     "data": {
      "text/plain": [
       "masked_array(\n",
       "  data=[[61.0819392, 46.7228166, 66.0893216],\n",
       "        [60.1320844, 46.6854695, 65.7510295],\n",
       "        [61.1340814, 47.4683115, 66.7760267],\n",
       "        ...,\n",
       "        [37.2154223, 64.9233494, 39.3382921],\n",
       "        [37.3659827, 64.4399015, 40.4774942],\n",
       "        [36.6371842, 64.3307749, 38.4072223]],\n",
       "  mask=False,\n",
       "  fill_value=1e+20)"
      ]
     },
     "execution_count": 15,
     "metadata": {},
     "output_type": "execute_result"
    }
   ],
   "source": [
    "rec_grid._crd"
   ]
  },
  {
   "cell_type": "code",
   "execution_count": 12,
   "id": "32103add",
   "metadata": {},
   "outputs": [],
   "source": [
    "def write_lig_dx(FN, data, grid):\n",
    "    \"\"\"\n",
    "    Writes a grid in dx format\n",
    "    \"\"\"\n",
    "    n_points = data['counts'][0] * data['counts'][1] * data['counts'][2]\n",
    "    if FN.endswith('.dx'):\n",
    "        F = open(FN, 'w')\n",
    "\n",
    "    F.write(\"\"\"object 1 class gridpositions counts {0[0]} {0[1]} {0[2]}\n",
    "origin {1[0]} {1[1]} {1[2]}\n",
    "delta {2[0]} 0.0 0.0\n",
    "delta 0.0 {2[1]} 0.0\n",
    "delta 0.0 0.0 {2[2]}\n",
    "object 2 class gridconnections counts {0[0]} {0[1]} {0[2]}\n",
    "object 3 class array type double rank 0 items {3} data follows\n",
    "\"\"\".format(data['counts'], data['origin'], data['spacing'], n_points))\n",
    "\n",
    "    for start_n in range(0, len(grid.ravel()), 3):\n",
    "        F.write(' '.join(['%6e' % c\n",
    "                        for c in grid.ravel()[start_n:start_n + 3]]) + '\\n')\n",
    "\n",
    "    F.write('object 4 class field\\n')\n",
    "    F.write('component \"positions\" value 1\\n')\n",
    "    F.write('component \"connections\" value 2\\n')\n",
    "    F.write('component \"data\" value 3\\n')\n",
    "    F.close()"
   ]
  },
  {
   "cell_type": "code",
   "execution_count": 13,
   "id": "c7ae938a",
   "metadata": {},
   "outputs": [],
   "source": [
    "def write(FN, data, grid, multiplier=None):\n",
    "    \"\"\"\n",
    "    Writes a grid in dx or netcdf format.\n",
    "    The multiplier affects the origin and spacing.\n",
    "    \"\"\"\n",
    "    if multiplier is not None:\n",
    "      data_n = {\n",
    "        'origin': multiplier * data['origin'],\n",
    "        'counts': data['counts'],\n",
    "        'spacing': multiplier * data['spacing'],\n",
    "        'vals': grid\n",
    "      }\n",
    "    else:\n",
    "      data_n = data\n",
    "    if FN.endswith('.nc'):\n",
    "        print('skip')\n",
    "#       _write_nc(FN, data_n)\n",
    "    elif FN.endswith('.dx') or FN.endswith('.dx.gz'):\n",
    "      write_lig_dx(FN, data_n, grid)\n",
    "    else:\n",
    "      raise Exception('File type not supported')"
   ]
  },
  {
   "cell_type": "code",
   "execution_count": 11,
   "id": "b6e47861",
   "metadata": {},
   "outputs": [
    {
     "ename": "NameError",
     "evalue": "name 'write' is not defined",
     "output_type": "error",
     "traceback": [
      "\u001b[0;31m---------------------------------------------------------------------------\u001b[0m",
      "\u001b[0;31mNameError\u001b[0m                                 Traceback (most recent call last)",
      "\u001b[0;32m<ipython-input-11-7990b4f8133a>\u001b[0m in \u001b[0;36m<module>\u001b[0;34m\u001b[0m\n\u001b[1;32m      3\u001b[0m \u001b[0mdata\u001b[0m \u001b[0;34m=\u001b[0m \u001b[0;34m{\u001b[0m\u001b[0;34m\"origin\"\u001b[0m\u001b[0;34m:\u001b[0m \u001b[0mlig_grid\u001b[0m\u001b[0;34m.\u001b[0m\u001b[0m_grid\u001b[0m\u001b[0;34m[\u001b[0m\u001b[0;34m'origin'\u001b[0m\u001b[0;34m]\u001b[0m\u001b[0;34m,\u001b[0m \u001b[0;34m\"spacing\"\u001b[0m\u001b[0;34m:\u001b[0m \u001b[0mlig_grid\u001b[0m\u001b[0;34m.\u001b[0m\u001b[0m_spacing\u001b[0m\u001b[0;34m,\u001b[0m \u001b[0;34m\"counts\"\u001b[0m\u001b[0;34m:\u001b[0m \u001b[0mlig_grid\u001b[0m\u001b[0;34m.\u001b[0m\u001b[0m_grid\u001b[0m\u001b[0;34m[\u001b[0m\u001b[0;34m\"counts\"\u001b[0m\u001b[0;34m]\u001b[0m\u001b[0;34m}\u001b[0m\u001b[0;34m\u001b[0m\u001b[0;34m\u001b[0m\u001b[0m\n\u001b[1;32m      4\u001b[0m \u001b[0mFN\u001b[0m\u001b[0;34m=\u001b[0m\u001b[0;34m\"/media/jim/Research_TWO/FFT_PPI/2.redock/4.receptor_grid/2OOB_A:B/lig_ones.dx\"\u001b[0m\u001b[0;34m\u001b[0m\u001b[0;34m\u001b[0m\u001b[0m\n\u001b[0;32m----> 5\u001b[0;31m \u001b[0mwrite\u001b[0m\u001b[0;34m(\u001b[0m\u001b[0mFN\u001b[0m\u001b[0;34m,\u001b[0m \u001b[0mdata\u001b[0m\u001b[0;34m,\u001b[0m \u001b[0ml_ones\u001b[0m\u001b[0;34m)\u001b[0m\u001b[0;34m\u001b[0m\u001b[0;34m\u001b[0m\u001b[0m\n\u001b[0m",
      "\u001b[0;31mNameError\u001b[0m: name 'write' is not defined"
     ]
    }
   ],
   "source": [
    "# print(mdtraj_areas.sum(), areas.sum(), grid.sum())\n",
    "import bpmfwfft.IO as IO\n",
    "data = {\"origin\": lig_grid._grid['origin'], \"spacing\": lig_grid._spacing, \"counts\": lig_grid._grid[\"counts\"]}\n",
    "FN=\"/media/jim/Research_TWO/FFT_PPI/2.redock/4.receptor_grid/2OOB_A:B/lig_ones.dx\"\n",
    "write(FN, data, l_ones)"
   ]
  },
  {
   "cell_type": "code",
   "execution_count": 24,
   "id": "fce3710a",
   "metadata": {},
   "outputs": [],
   "source": [
    "def rmsd(P: np.ndarray, Q: np.ndarray, **kwargs) -> float:\n",
    "    \"\"\"\n",
    "    Calculate Root-mean-square deviation from two sets of vectors V and W.\n",
    "    Parameters\n",
    "    ----------\n",
    "    V : array\n",
    "        (N,D) matrix, where N is points and D is dimension.\n",
    "    W : array\n",
    "        (N,D) matrix, where N is points and D is dimension.\n",
    "    Returns\n",
    "    -------\n",
    "    rmsd : float\n",
    "        Root-mean-square deviation between the two vectors\n",
    "    \"\"\"\n",
    "    diff = P - Q\n",
    "    return np.sqrt((diff * diff).sum() / P.shape[0])"
   ]
  },
  {
   "cell_type": "code",
   "execution_count": 58,
   "id": "e60381bb",
   "metadata": {},
   "outputs": [
    {
     "name": "stdout",
     "output_type": "stream",
     "text": [
      "lower ligand corner print [1.39105129 1.61711311 1.63056588]\n",
      "Ligand translated by [0.0 0.0 0.0]\n",
      "move_ligand_to_lower_corner [0.0 0.0 0.0]\n",
      "lower ligand corner print [69.39105129 88.61711311 46.63056588]\n",
      "Ligand translated by [-68.0 -87.0 -45.0]\n",
      "move_ligand_to_lower_corner [-68.0 -87.0 -45.0]\n",
      "rmsd 1.0\n"
     ]
    }
   ],
   "source": [
    "import copy\n",
    "lig_grid._move_ligand_to_lower_corner()\n",
    "lig_grid.translate_ligand(np.array([68,87,45])*lig_grid._spacing)\n",
    "ref = copy.deepcopy(lig_grid._crd)\n",
    "lig_grid._move_ligand_to_lower_corner()\n",
    "lig_grid.translate_ligand(np.array([69,87,45])*lig_grid._spacing)\n",
    "tar = copy.deepcopy(lig_grid._crd)\n",
    "\n",
    "print(\"rmsd\", rmsd(ref, tar))"
   ]
  },
  {
   "cell_type": "code",
   "execution_count": 59,
   "id": "4475fe5a",
   "metadata": {},
   "outputs": [],
   "source": [
    "fft_path = f'{ppi_path}/2.redock/5.fft_sampling/{system}'\n",
    "# fft_path = '/mnt/fft/FFT_PPI/2.redock/5.fft_sampling/2OOB_A:B'\n",
    "fft_name = \"fft_sample.nc\"\n",
    "fft_nc = '%s/%s'%(fft_path,fft_name)\n",
    "fft_variables = nc.Dataset(fft_nc, 'r').variables\n",
    "resampled_trans_vectors = nc.Dataset(fft_nc, 'r').variables[\"sasa_resampled_trans_vectors\"][rot_num][:]\n",
    "resampled_energies = nc.Dataset(fft_nc, 'r').variables[\"sasa_resampled_energies\"][rot_num][:]/-0.005\n",
    "native_pose_energy = nc.Dataset(fft_nc, 'r').variables[\"native_pose_energy\"][:]/-0.005\n",
    "native_translation = nc.Dataset(fft_nc, 'r').variables[\"native_translation\"][:]\n",
    "# inds = resampled_energies.argsort()\n",
    "# translations = list(resampled_trans_vectors[inds[::-1]])\n",
    "# trans_scores = list(resampled_energies[inds[::-1]])\n",
    "# inds = resampled_energies.argsort()\n",
    "translations = list(resampled_trans_vectors)\n",
    "trans_scores = list(resampled_energies)"
   ]
  },
  {
   "cell_type": "code",
   "execution_count": null,
   "id": "d1f530b0",
   "metadata": {},
   "outputs": [],
   "source": [
    "# print(trans_scores[0], translations[0], native_pose_energy, native_translation)\n",
    "print(trans_scores)"
   ]
  },
  {
   "cell_type": "code",
   "execution_count": null,
   "id": "50711aac",
   "metadata": {},
   "outputs": [],
   "source": [
    "def cat_grids(grid1, grid2):\n",
    "    prmtop = cat_dictionaries(grid1._prmtop,grid2._prmtop)\n",
    "    crd = cat_dictionaries(grid1._crd,grid2._crd)\n",
    "    cat_grid = copy.deepcopy(grid1)\n",
    "    cat_grid._prmtop = prmtop\n",
    "    cat_grid._crd = crd\n",
    "    return cat_grid\n",
    "\n",
    "def cat_dictionaries(dict1, dict2):\n",
    "    dict1_copy = copy.deepcopy(dict1)\n",
    "    dict2_copy = copy.deepcopy(dict2)\n",
    "    \n",
    "    if isinstance(dict1_copy, dict):\n",
    "        keys = list(dict1_copy.keys())\n",
    "        for key in keys:\n",
    "            # print(keys)\n",
    "            # print(key)\n",
    "            dict1_copy[key] = cat_values(dict1[key], dict2[key])\n",
    "        return dict1_copy\n",
    "    \n",
    "    elif isinstance(dict1_copy, np.ndarray):\n",
    "        return np.concatenate((dict1_copy,dict2_copy))\n",
    "\n",
    "def cat_values(a1, a2):\n",
    "    array1 = copy.deepcopy(a1)\n",
    "    array2 = copy.deepcopy(a2)\n",
    "    if isinstance(array1, np.ndarray):\n",
    "        return np.concatenate((array1,array2))\n",
    "    elif isinstance(array1, dict):\n",
    "        return cat_dictionaries(array1, array2)\n",
    "    elif isinstance(array1, (int, np.int64)):\n",
    "        # print(f\"{array1+array2}\")\n",
    "        return array1 + array2\n",
    "    elif isinstance(array1, list):\n",
    "        # print(type(array1))\n",
    "        # print(f'array1:{len(array1)}, array2:{len(array2)}')\n",
    "        array1.extend(array2)\n",
    "        # print(f'complex:{len(array1)}, sum:{len(a1)+len(a2)}')\n",
    "        return array1\n",
    "\n",
    "        \n",
    "# Note for later, try to use MDTraj Geometry sasa here with xyz from grid objects, if it's the same it's ok.\n",
    "import copy\n",
    "# result = map(cat_dictionaries, rec_grid._prmtop, lig_grid._prmtop)\n",
    "delta_sasas = []\n",
    "colors = []\n",
    "for v,vector in enumerate(translations):\n",
    "    vector = np.array(vector*lig_grid._spacing)\n",
    "    lig_grid._move_ligand_to_lower_corner()\n",
    "    print(vector)\n",
    "    lig_grid.translate_ligand(vector)\n",
    "    com_grid = cat_grids(rec_grid, lig_grid)\n",
    "    c_sasa = com_grid._get_molecule_sasa(0.14, 960).sum()\n",
    "    l_sasa = lig_grid._get_molecule_sasa(0.14, 960).sum()\n",
    "    r_sasa = rec_grid._get_molecule_sasa(0.14, 960).sum()\n",
    "    d_sasa = (l_sasa + r_sasa) - c_sasa\n",
    "    delta_sasas.append(d_sasa)\n",
    "    rmsd_to_native = rmsd(ref, lig_grid._crd)\n",
    "    colors.append(rmsd_to_native)\n",
    "    print(c_sasa, l_sasa + r_sasa, d_sasa, resampled_energies[v])\n",
    "    # com_grid.write_pdb(f'{home}/Desktop/translations/sasacom/trans{v}.pdb', \"w\")\n",
    "    # lig_grid.write_pdb(f'{home}/Desktop/translations/sasalig/trans{v}.pdb', \"w\")\n",
    "    # rec_grid.write_pdb(f'{home}/Desktop/translations/lig/rec.pdb', \"w\")\n"
   ]
  },
  {
   "cell_type": "code",
   "execution_count": 61,
   "id": "a7eb1abd",
   "metadata": {
    "tags": []
   },
   "outputs": [
    {
     "name": "stderr",
     "output_type": "stream",
     "text": [
      "/tmp/ipykernel_32557/196212140.py:16: DeprecationWarning: Conversion of an array with ndim > 0 to a scalar is deprecated, and will error in future. Ensure you extract a single element from your array before performing this operation. (Deprecated NumPy 1.25.)\n",
      "  pred_y[ind] = point*model.coef_ + model.intercept_\n",
      "/tmp/ipykernel_32557/196212140.py:30: DeprecationWarning: Conversion of an array with ndim > 0 to a scalar is deprecated, and will error in future. Ensure you extract a single element from your array before performing this operation. (Deprecated NumPy 1.25.)\n",
      "  ax.plot(rx, ry, '-r', label=f'DELTA_SASA={float(model.coef_):.4f}*GRID_SASA + {float(model.intercept_):.2f}')\n"
     ]
    },
    {
     "data": {
      "image/png": "[encoded data removed]",
      "text/plain": [
       "<Figure size 640x480 with 2 Axes>"
      ]
     },
     "metadata": {},
     "output_type": "display_data"
    }
   ],
   "source": [
    "import matplotlib.pyplot as plt\n",
    "from scipy.stats import linregress\n",
    "from sklearn.linear_model import LinearRegression\n",
    "from sklearn.metrics import mean_squared_error\n",
    "import math\n",
    "x = np.array(trans_scores)\n",
    "y = np.array(delta_sasas)\n",
    "C = np.array(colors)\n",
    "\n",
    "x = x.reshape((-1,1))\n",
    "model = LinearRegression().fit(x, y)\n",
    "r_sq = model.score(x, y)\n",
    "\n",
    "pred_y = np.zeros(len(y), dtype=float)\n",
    "for ind,point in enumerate(x):\n",
    "    pred_y[ind] = point*model.coef_ + model.intercept_\n",
    "MSE = mean_squared_error(y, pred_y)\n",
    "RMSE = math.sqrt(MSE)\n",
    "\n",
    "# scatter plot\n",
    "fig, ax = plt.subplots()\n",
    "# ax.scatter(x, y, 10, c=C, alpha=0.01, marker='o', cmap=\"hot\",\n",
    "#         label=\"GRID_SASA vs Delta SASA\", edgecolors=\"black\")\n",
    "sc = ax.scatter(x, y, 10, c=C, alpha=1, marker='o',\n",
    "        label=\"GRID_SASA vs Delta SASA\", cmap='hot')\n",
    "# regression plot\n",
    "rx = np.linspace(x.min(), x.max(), 165)\n",
    "ry = model.coef_*rx + model.intercept_\n",
    "\n",
    "ax.plot(rx, ry, '-r', label=f'DELTA_SASA={float(model.coef_):.4f}*GRID_SASA + {float(model.intercept_):.2f}')\n",
    "plt.xlabel(\"Shrake-Rupley GRID SASA SCORE\")\n",
    "plt.ylabel(\"Delta_SASA (A^2)\")\n",
    "ax.set_title(f'Shrake-Rupley Grid SASA score vs Shrake-Rupley R+L-C Delta SASA {chr(10)} System:{system} Rotation:{rot_num}{chr(10)} R2: {r_sq}, RMSE:{RMSE}')\n",
    "ax.legend(loc='upper left')\n",
    "# cax = plt.axes([0.85, 0.1, 0.075, 0.8])\n",
    "plt.colorbar(sc)\n",
    "# ax.colorbar()\n",
    "plt.savefig('1A.png')\n",
    "plt.show()"
   ]
  },
  {
   "cell_type": "code",
   "execution_count": null,
   "id": "6c2d38de",
   "metadata": {},
   "outputs": [],
   "source": [
    "for u in range(len(translations)):\n",
    "    print(score[translations[u]], delta_sasas[u])"
   ]
  },
  {
   "cell_type": "code",
   "execution_count": 12,
   "id": "daa7e6fe",
   "metadata": {},
   "outputs": [
    {
     "name": "stdout",
     "output_type": "stream",
     "text": [
      "NATOM:2008\n"
     ]
    }
   ],
   "source": [
    "com_grid.write_pdb('/home/jtufts/Desktop/test.pdb', \"w\")\n",
    "com_grid.write_box('/home/jtufts/Desktop/testbox.pdb')"
   ]
  },
  {
   "cell_type": "code",
   "execution_count": 134,
   "id": "d684ac88",
   "metadata": {},
   "outputs": [
    {
     "name": "stdout",
     "output_type": "stream",
     "text": [
      "7170.8086\n",
      "3486.3755\n",
      "4483.7715\n",
      "7970.147\n"
     ]
    }
   ],
   "source": [
    "# print(cat_dictionaries(rec_grid._prmtop['POINTERS'], lig_grid._prmtop['POINTERS']))\n",
    "print(com_grid._get_molecule_sasa(0.14, 960).sum())\n",
    "print(lig_grid._get_molecule_sasa(0.14, 960).sum())\n",
    "print(rec_grid._get_molecule_sasa(0.14, 960).sum())\n",
    "print(rec_grid._get_molecule_sasa(0.14, 960).sum()+lig_grid._get_molecule_sasa(0.14, 960).sum())"
   ]
  },
  {
   "cell_type": "code",
   "execution_count": 32,
   "id": "e1e990f8",
   "metadata": {},
   "outputs": [
    {
     "name": "stdout",
     "output_type": "stream",
     "text": [
      "3486.464\n"
     ]
    }
   ],
   "source": [
    "print(lig_grid._molecule_sasa.sum())"
   ]
  },
  {
   "cell_type": "code",
   "execution_count": 140,
   "id": "08717a7a",
   "metadata": {},
   "outputs": [],
   "source": [
    "import pickle as p\n",
    "f1 = np.load('/home/jtufts/Desktop/npy/delta_sasa_complex_minus_rl.npy')\n",
    "f2 = p.load(open('/home/jtufts/src/p39/fftanalysis/data/lig_sasa_sums.p', \"rb\"))\n",
    "f3 = p.load(open('/home/jtufts/src/p39/fftanalysis/data/rec_sasa_sums.p', \"rb\"))\n",
    "f4 = p.load(open('/home/jtufts/src/p39/fftanalysis/data/lig_sasas.p', \"rb\"))\n",
    "f5 = p.load(open('/home/jtufts/src/p39/fftanalysis/data/rec_sasas.p', \"rb\"))\n",
    "f6 = p.load(open('/home/jtufts/src/p39/fftanalysis/data/complex_sasas.p', \"rb\"))\n",
    "# f4"
   ]
  },
  {
   "cell_type": "code",
   "execution_count": 138,
   "id": "8d38e181",
   "metadata": {},
   "outputs": [
    {
     "name": "stdout",
     "output_type": "stream",
     "text": [
      "2OOB_A:B 7970.235824584961\n"
     ]
    }
   ],
   "source": [
    "k2 = list(f2.keys())\n",
    "k2.sort()\n",
    "print(k2[127],f2[k2[127]]*100+f3[k2[127]]*100)"
   ]
  },
  {
   "cell_type": "code",
   "execution_count": null,
   "id": "6370f1a6",
   "metadata": {},
   "outputs": [],
   "source": [
    "lig_grid._move_ligand_to_lower_corner()\n",
    "ls = lig_grid._get_molecule_sasa(0.14, 960)\n",
    "rs = rec_grid._get_molecule_sasa(0.14, 960)\n",
    "\n",
    "for m,val in enumerate(f4[k2[127]][0]):\n",
    "    print(val,ls[0][m])"
   ]
  },
  {
   "cell_type": "code",
   "execution_count": null,
   "id": "64d6908f",
   "metadata": {},
   "outputs": [],
   "source": [
    "for p,l in enumerate(delta_sasas):\n",
    "    print(l, f1[127]*100)"
   ]
  },
  {
   "cell_type": "code",
   "execution_count": 165,
   "id": "b089885a",
   "metadata": {},
   "outputs": [
    {
     "data": {
      "text/plain": [
       "masked_array(data=[68.0, 87.0, 45.0],\n",
       "             mask=[False, False, False],\n",
       "       fill_value=1e+20)"
      ]
     },
     "execution_count": 165,
     "metadata": {},
     "output_type": "execute_result"
    }
   ],
   "source": [
    "(rec_disp - lig_grid._displacement)/0.5"
   ]
  },
  {
   "cell_type": "code",
   "execution_count": 160,
   "id": "7fc2f5ca",
   "metadata": {},
   "outputs": [
    {
     "data": {
      "text/plain": [
       "masked_array(data=[40.5, 56. , 27. ],\n",
       "             mask=False,\n",
       "       fill_value=1e+20)"
      ]
     },
     "execution_count": 160,
     "metadata": {},
     "output_type": "execute_result"
    }
   ],
   "source": [
    "rec_disp"
   ]
  },
  {
   "cell_type": "code",
   "execution_count": 166,
   "id": "74c84e58",
   "metadata": {},
   "outputs": [
    {
     "data": {
      "text/plain": [
       "591.9999999999999"
      ]
     },
     "execution_count": 166,
     "metadata": {},
     "output_type": "execute_result"
    }
   ],
   "source": [
    "score[68,87,45]"
   ]
  },
  {
   "cell_type": "code",
   "execution_count": 167,
   "id": "41572949",
   "metadata": {},
   "outputs": [
    {
     "data": {
      "text/plain": [
       "(592.0000000000001+2.326614353372607e-13j)"
      ]
     },
     "execution_count": 167,
     "metadata": {},
     "output_type": "execute_result"
    }
   ],
   "source": [
    "cfft[68,87,45]"
   ]
  },
  {
   "cell_type": "code",
   "execution_count": 48,
   "id": "763ed193",
   "metadata": {},
   "outputs": [],
   "source": [
    "def regplot(trans_scores, delta_sasas, colors, name):\n",
    "    import numpy as np\n",
    "    import matplotlib.pyplot as plt\n",
    "    from scipy.stats import linregress\n",
    "    from sklearn.linear_model import LinearRegression\n",
    "\n",
    "    x = np.array(trans_scores)\n",
    "    y = np.array(delta_sasas)\n",
    "    C = np.array(colors, dtype=str)\n",
    "\n",
    "    change = np.where(C == 'yellow')\n",
    "    C[change] = \"black\"\n",
    "\n",
    "    indicies = np.where(y < 1525)\n",
    "    # indicies = np.where(y == 0)\n",
    "\n",
    "    indicies = indicies[::-1]\n",
    "\n",
    "    for i in indicies:\n",
    "        x = np.delete(x, i)\n",
    "        y = np.delete(y, i)\n",
    "        C = np.delete(C, i)\n",
    "\n",
    "    indicies = np.where(x == 0)\n",
    "    indicies = indicies[::-1] \n",
    "\n",
    "    for i in indicies:\n",
    "        x = np.delete(x, i)\n",
    "        y = np.delete(y, i)\n",
    "        C = np.delete(C, i)\n",
    "\n",
    "    x = x.reshape((-1,1))\n",
    "\n",
    "    model = LinearRegression().fit(x, y)\n",
    "    r_sq = model.score(x, y)\n",
    "\n",
    "    print('coefficient of determination:', r_sq)\n",
    "    print('intercept:', model.intercept_)\n",
    "    print('slope:', model.coef_)\n",
    "\n",
    "\n",
    "    # scatter plot\n",
    "    fig, ax = plt.subplots()\n",
    "    ax.scatter(x, y, 10, c=C, alpha=0.5, marker='+',\n",
    "            label=\"SC SCORE vs Delta SASA\")\n",
    "    # regression plot\n",
    "    rx = np.linspace(x.min(), x.max(), 165)\n",
    "    ry = model.coef_*rx + model.intercept_\n",
    "\n",
    "    ax.plot(rx, ry, '-r', label=f'DELTA_SASA={float(model.coef_):.4f}*SC_SCORE + {float(model.intercept_):.2f}')\n",
    "    plt.xlabel(\"SC_score\")\n",
    "    plt.ylabel(\"Delta_SASA (nm^2)\")\n",
    "    ax.set_title(f'R2: {r_sq}')\n",
    "    ax.legend(loc='upper left')\n",
    "    plt.savefig(f'{name}')"
   ]
  },
  {
   "cell_type": "code",
   "execution_count": null,
   "id": "62e60d8f",
   "metadata": {},
   "outputs": [],
   "source": [
    "for i in range(9):\n",
    "    # rx,ry,rz = np.random.randint(0, counts[0], 3)\n",
    "    # rx = np.random.randint(19, 39, 1)\n",
    "    # ry = np.random.randint(81, 101, 1)\n",
    "    # rz = np.random.randint(74, 94, 1)\n",
    "    rx = np.random.randint(26, 32, 1)\n",
    "    ry = np.random.randint(113, 119, 1)\n",
    "    rz = np.random.randint(49, 55, 1)\n",
    "    lgrid_trans = grids.translate_grid(lgrid[\"SASA\"], [rx,ry,rz])\n",
    "    result = (lgrid_trans*rgrid).sum()\n",
    "    print((rx,ry,rz), result, cfft[rx,ry,rz], (np.real(result)-np.imag(result)), score[rx,ry,rz])"
   ]
  },
  {
   "cell_type": "code",
   "execution_count": null,
   "id": "c3973652",
   "metadata": {},
   "outputs": [],
   "source": [
    "for i in range(len(colors)):\n",
    "    print(i, colors[i])"
   ]
  },
  {
   "cell_type": "code",
   "execution_count": null,
   "id": "54d9a8ef",
   "metadata": {},
   "outputs": [],
   "source": [
    "rec_grid._prmtop"
   ]
  },
  {
   "cell_type": "code",
   "execution_count": 49,
   "id": "07028966",
   "metadata": {},
   "outputs": [
    {
     "data": {
      "text/plain": [
       "162235.20273234017"
      ]
     },
     "execution_count": 49,
     "metadata": {},
     "output_type": "execute_result"
    }
   ],
   "source": [
    "sasa.sum()"
   ]
  },
  {
   "cell_type": "code",
   "execution_count": 50,
   "id": "27f59759",
   "metadata": {},
   "outputs": [
    {
     "data": {
      "text/plain": [
       "125989.38912844221"
      ]
     },
     "execution_count": 50,
     "metadata": {},
     "output_type": "execute_result"
    }
   ],
   "source": [
    "lgrid[\"sasa\"].sum()"
   ]
  },
  {
   "cell_type": "code",
   "execution_count": 36,
   "id": "a865dd2e",
   "metadata": {},
   "outputs": [
    {
     "data": {
      "text/plain": [
       "Text(0, 0.5, 'Number of points')"
      ]
     },
     "execution_count": 36,
     "metadata": {},
     "output_type": "execute_result"
    },
    {
     "data": {
      "image/png": "[encoded data removed]",
      "text/plain": [
       "<Figure size 432x288 with 1 Axes>"
      ]
     },
     "metadata": {
      "needs_background": "light"
     },
     "output_type": "display_data"
    }
   ],
   "source": [
    "import matplotlib.pyplot as plt\n",
    "\n",
    "plt.hist(r_grid.flatten(), bins=100, range=(.01, 0.69))\n",
    "plt.xlabel(\"SASA value for Shrake-Rupley Grid\")\n",
    "plt.ylabel(\"Number of points\")"
   ]
  },
  {
   "cell_type": "code",
   "execution_count": 18,
   "id": "c50098cb",
   "metadata": {},
   "outputs": [
    {
     "name": "stdout",
     "output_type": "stream",
     "text": [
      "[ 1  2  3  4  5  6  7  8  9 10]\n"
     ]
    },
    {
     "data": {
      "text/plain": [
       "array([0.2, 0.4, 0.6, 0.8, 1. , 1.2, 1.4, 1.6, 1.8, 2. ])"
      ]
     },
     "execution_count": 18,
     "metadata": {},
     "output_type": "execute_result"
    }
   ],
   "source": [
    "a = np.array([1,2,3,4,5,6,7,8,9,10])\n",
    "print(a)\n",
    "a = a/5\n",
    "a"
   ]
  },
  {
   "cell_type": "code",
   "execution_count": 13,
   "id": "b8a05ece",
   "metadata": {},
   "outputs": [
    {
     "name": "stdout",
     "output_type": "stream",
     "text": [
      "0\n",
      "1\n",
      "2\n",
      "3\n",
      "4\n",
      "5\n",
      "6\n",
      "7\n",
      "8\n",
      "9\n"
     ]
    }
   ],
   "source": [
    "k = 0\n",
    "\n",
    "for j in range(10):\n",
    "    for i in list(range(10))[k:]:\n",
    "        k = k + 10\n",
    "        print(i)"
   ]
  },
  {
   "cell_type": "code",
   "execution_count": 7,
   "id": "19319327",
   "metadata": {},
   "outputs": [
    {
     "name": "stdout",
     "output_type": "stream",
     "text": [
      "[0, 1, 2, 3, 4, 5, 6, 7, 8, 9]\n"
     ]
    }
   ],
   "source": [
    "print(list(range(10)))"
   ]
  },
  {
   "cell_type": "code",
   "execution_count": 40,
   "id": "d3300ea1",
   "metadata": {},
   "outputs": [
    {
     "data": {
      "text/plain": [
       "2260"
      ]
     },
     "execution_count": 40,
     "metadata": {},
     "output_type": "execute_result"
    }
   ],
   "source": [
    "lig_grid._crd.argmin()"
   ]
  },
  {
   "cell_type": "code",
   "execution_count": 43,
   "id": "18ae152a",
   "metadata": {},
   "outputs": [
    {
     "data": {
      "text/plain": [
       "array([342, 753,   3])"
      ]
     },
     "execution_count": 43,
     "metadata": {},
     "output_type": "execute_result"
    }
   ],
   "source": [
    "np.array([lig_grid._crd[:,i].argmin() for i in range(3)], dtype=int)"
   ]
  },
  {
   "cell_type": "code",
   "execution_count": 57,
   "id": "120b7b03",
   "metadata": {},
   "outputs": [
    {
     "data": {
      "text/plain": [
       "array([42.17420387, 31.54957533, 60.36855125])"
      ]
     },
     "execution_count": 57,
     "metadata": {},
     "output_type": "execute_result"
    }
   ],
   "source": [
    "np.array([lig_grid._crd[:,i].min() for i in range(3)], dtype=float)"
   ]
  },
  {
   "cell_type": "code",
   "execution_count": 56,
   "id": "d66d10c1",
   "metadata": {},
   "outputs": [
    {
     "data": {
      "text/plain": [
       "array([46.4203577 , 31.54957533, 76.50253725])"
      ]
     },
     "execution_count": 56,
     "metadata": {},
     "output_type": "execute_result"
    }
   ],
   "source": [
    "lig_grid._crd[753]"
   ]
  },
  {
   "cell_type": "code",
   "execution_count": 58,
   "id": "e21e7964",
   "metadata": {},
   "outputs": [
    {
     "data": {
      "text/plain": [
       "array([56.34309387, 68.54642868, 60.36855125])"
      ]
     },
     "execution_count": 58,
     "metadata": {},
     "output_type": "execute_result"
    }
   ],
   "source": [
    "lig_grid._crd[3]"
   ]
  },
  {
   "cell_type": "code",
   "execution_count": 63,
   "id": "653dac34",
   "metadata": {},
   "outputs": [
    {
     "name": "stdout",
     "output_type": "stream",
     "text": [
      "[1.2 1.2 1.2]\n"
     ]
    }
   ],
   "source": [
    "edge_ind = np.array([lig_grid._crd[:,i].argmin() for i in range(3)], dtype=int)\n",
    "edge_radii = np.array([lig_grid._prmtop[\"VDW_RADII\"][i] for i in edge_ind], dtype=float)\n",
    "print(edge_radii)"
   ]
  },
  {
   "cell_type": "code",
   "execution_count": 61,
   "id": "dbda8934",
   "metadata": {},
   "outputs": [
    {
     "data": {
      "text/plain": [
       "1.2"
      ]
     },
     "execution_count": 61,
     "metadata": {},
     "output_type": "execute_result"
    }
   ],
   "source": [
    "lig_grid._prmtop[\"VDW_RADII\"][342]"
   ]
  },
  {
   "cell_type": "code",
   "execution_count": 40,
   "id": "645f180e",
   "metadata": {},
   "outputs": [
    {
     "data": {
      "text/plain": [
       "masked_array(data=[-32.5, -42.5, -23. ],\n",
       "             mask=False,\n",
       "       fill_value=1e+20)"
      ]
     },
     "execution_count": 40,
     "metadata": {},
     "output_type": "execute_result"
    }
   ],
   "source": [
    "lig_grid._displacement"
   ]
  },
  {
   "cell_type": "code",
   "execution_count": 55,
   "id": "5d62ad48",
   "metadata": {},
   "outputs": [
    {
     "data": {
      "text/plain": [
       "numpy.ndarray"
      ]
     },
     "execution_count": 55,
     "metadata": {},
     "output_type": "execute_result"
    }
   ],
   "source": [
    "type(np.array(rec_disp-lig_grid._displacement*lig_grid._spacing))"
   ]
  },
  {
   "cell_type": "code",
   "execution_count": 51,
   "id": "13531345",
   "metadata": {},
   "outputs": [
    {
     "name": "stdout",
     "output_type": "stream",
     "text": [
      "Ligand translated by [0. 0. 0.]\n",
      "[2.64105129 2.36711311 2.38056588]\n"
     ]
    }
   ],
   "source": [
    "lig_grid._move_ligand_to_lower_corner()"
   ]
  },
  {
   "cell_type": "code",
   "execution_count": 52,
   "id": "27254b68",
   "metadata": {},
   "outputs": [
    {
     "data": {
      "text/plain": [
       "masked_array(data=[0., 0., 0.],\n",
       "             mask=False,\n",
       "       fill_value=1e+20)"
      ]
     },
     "execution_count": 52,
     "metadata": {},
     "output_type": "execute_result"
    }
   ],
   "source": [
    "lig_grid._displacement"
   ]
  },
  {
   "cell_type": "code",
   "execution_count": 100,
   "id": "b05ff48c",
   "metadata": {},
   "outputs": [
    {
     "data": {
      "text/plain": [
       "937691.0"
      ]
     },
     "execution_count": 100,
     "metadata": {},
     "output_type": "execute_result"
    }
   ],
   "source": [
    "sasa.sum()"
   ]
  },
  {
   "cell_type": "code",
   "execution_count": 17,
   "id": "8031ffbe",
   "metadata": {},
   "outputs": [],
   "source": [
    "good_grid = nc.Dataset(\"/media/jim/Research_TWO/FFT_PPI/2.redock/4.receptor_grid/2OOB_A:B/no_gaussian.nc\")\n",
    "good_sasa = np.array(good_grid.variables[\"sasa\"])\n",
    "error_grid = nc.Dataset(\"/media/jim/Research_TWO/FFT_PPI/2.redock/4.receptor_grid/2OOB_A:B/shrakerupley.nc\")\n",
    "error_sasa = np.array(error_grid.variables[\"sasa\"])"
   ]
  },
  {
   "cell_type": "code",
   "execution_count": 18,
   "id": "5052dd20",
   "metadata": {},
   "outputs": [
    {
     "data": {
      "text/plain": [
       "937691.0"
      ]
     },
     "execution_count": 18,
     "metadata": {},
     "output_type": "execute_result"
    }
   ],
   "source": [
    "error_sasa.sum()"
   ]
  },
  {
   "cell_type": "code",
   "execution_count": 19,
   "id": "d12db00e",
   "metadata": {},
   "outputs": [
    {
     "data": {
      "text/plain": [
       "937691.0"
      ]
     },
     "execution_count": 19,
     "metadata": {},
     "output_type": "execute_result"
    }
   ],
   "source": [
    "good_sasa.sum()"
   ]
  },
  {
   "cell_type": "code",
   "execution_count": 21,
   "id": "af0f4eff",
   "metadata": {},
   "outputs": [],
   "source": [
    "diff = good_sasa - error_sasa"
   ]
  },
  {
   "cell_type": "code",
   "execution_count": 22,
   "id": "629e4413",
   "metadata": {},
   "outputs": [
    {
     "data": {
      "text/plain": [
       "0.0"
      ]
     },
     "execution_count": 22,
     "metadata": {},
     "output_type": "execute_result"
    }
   ],
   "source": [
    "import matplotlib.pyplot as plt"
   ]
  },
  {
   "cell_type": "code",
   "execution_count": 47,
   "id": "c3257071",
   "metadata": {},
   "outputs": [
    {
     "data": {
      "text/plain": [
       "(0.0, 10.0)"
      ]
     },
     "execution_count": 47,
     "metadata": {},
     "output_type": "execute_result"
    },
    {
     "data": {
      "image/png": "[encoded data removed]",
      "text/plain": [
       "<Figure size 432x288 with 1 Axes>"
      ]
     },
     "metadata": {
      "needs_background": "light"
     },
     "output_type": "display_data"
    }
   ],
   "source": [
    "plt.hist(good_ones.flatten(), bins=10)\n",
    "plt.xlim(0, 10)\n"
   ]
  },
  {
   "cell_type": "code",
   "execution_count": 46,
   "id": "d71e5a1b",
   "metadata": {},
   "outputs": [
    {
     "data": {
      "text/plain": [
       "(0.0, 10.0)"
      ]
     },
     "execution_count": 46,
     "metadata": {},
     "output_type": "execute_result"
    },
    {
     "data": {
      "image/png": "[encoded data removed]",
      "text/plain": [
       "<Figure size 432x288 with 1 Axes>"
      ]
     },
     "metadata": {
      "needs_background": "light"
     },
     "output_type": "display_data"
    }
   ],
   "source": [
    "plt.hist(error_ones.flatten(), bins=10)\n",
    "plt.xlim(0, 10)"
   ]
  },
  {
   "cell_type": "code",
   "execution_count": 40,
   "id": "fe152b89",
   "metadata": {},
   "outputs": [],
   "source": [
    "good_ones = good_sasa[good_sasa>0]\n",
    "error_ones = error_sasa[error_sasa>0]"
   ]
  },
  {
   "cell_type": "code",
   "execution_count": 41,
   "id": "7495350f",
   "metadata": {},
   "outputs": [
    {
     "data": {
      "text/plain": [
       "array([1., 1., 1., ..., 1., 1., 1.])"
      ]
     },
     "execution_count": 41,
     "metadata": {},
     "output_type": "execute_result"
    }
   ],
   "source": [
    "good_ones"
   ]
  },
  {
   "cell_type": "code",
   "execution_count": 42,
   "id": "414b39ae",
   "metadata": {},
   "outputs": [
    {
     "data": {
      "text/plain": [
       "array([1., 1., 1., ..., 1., 1., 1.])"
      ]
     },
     "execution_count": 42,
     "metadata": {},
     "output_type": "execute_result"
    }
   ],
   "source": [
    "error_ones"
   ]
  },
  {
   "cell_type": "code",
   "execution_count": 18,
   "id": "003a6af2",
   "metadata": {},
   "outputs": [
    {
     "data": {
      "text/plain": [
       "1333.8928316099477"
      ]
     },
     "execution_count": 18,
     "metadata": {},
     "output_type": "execute_result"
    }
   ],
   "source": [
    "score.max()"
   ]
  },
  {
   "cell_type": "code",
   "execution_count": 20,
   "id": "46cf7885",
   "metadata": {},
   "outputs": [
    {
     "data": {
      "text/plain": [
       "masked_array(\n",
       "  data=[[46.5, 45.5, 44.5],\n",
       "        [46.5, 45.5, 45. ],\n",
       "        [47. , 45. , 45. ],\n",
       "        ...,\n",
       "        [56.5, 76.5, 45.5],\n",
       "        [43. , 64. , 51.5],\n",
       "        [39.5, 75.5, 46.5]],\n",
       "  mask=False,\n",
       "  fill_value=999999)"
      ]
     },
     "execution_count": 20,
     "metadata": {},
     "output_type": "execute_result"
    }
   ],
   "source": [
    "translations*lig_grid._spacing"
   ]
  },
  {
   "cell_type": "code",
   "execution_count": 79,
   "id": "62106656",
   "metadata": {},
   "outputs": [],
   "source": [
    "complex = md.load(\"/mnt/fft/FFT_PPI/2.redock/2.minimize/2OOB_A:B/complex.pdb\")\n",
    "receptor = md.load(\"/mnt/fft/FFT_PPI/2.redock/2.minimize/2OOB_A:B/receptor.inpcrd\",top=\"/mnt/fft/FFT_PPI/2.redock/1.amber/2OOB_A:B/receptor.prmtop\")\n",
    "ligand = md.load(\"/mnt/fft/FFT_PPI/2.redock/2.minimize/2OOB_A:B/ligand.inpcrd\",top=\"/mnt/fft/FFT_PPI/2.redock/1.amber/2OOB_A:B/ligand.prmtop\")\n",
    "complex_pa_sasa_mdtraj = md.shrake_rupley(complex)"
   ]
  },
  {
   "cell_type": "code",
   "execution_count": null,
   "id": "869d89b5-dab7-41bf-8ee8-fec9618986b5",
   "metadata": {},
   "outputs": [],
   "source": [
    "sasa_diff = 0.0\n",
    "for i in range(complex_pa_sasa_mdtraj.shape[1]):\n",
    "    if complex_pa_sasa_mdtraj[0][i]*100-com_pa_sasa[0][i] > 1:\n",
    "        print(i)\n",
    "        sasa_diff += (complex_pa_sasa_mdtraj[0][i]*100-com_pa_sasa[0][i])\n",
    "print(sasa_diff)"
   ]
  },
  {
   "cell_type": "code",
   "execution_count": 37,
   "id": "12d7a656-5303-4b22-90a0-675686ce0829",
   "metadata": {},
   "outputs": [
    {
     "data": {
      "text/plain": [
       "62.464767"
      ]
     },
     "execution_count": 37,
     "metadata": {},
     "output_type": "execute_result"
    }
   ],
   "source": [
    "com_pa_sasa_nm.sum()"
   ]
  },
  {
   "cell_type": "code",
   "execution_count": 38,
   "id": "78241a04-4001-40d6-bd26-90a0e6bb09fe",
   "metadata": {},
   "outputs": [
    {
     "data": {
      "text/plain": [
       "64.1425"
      ]
     },
     "execution_count": 38,
     "metadata": {},
     "output_type": "execute_result"
    }
   ],
   "source": [
    "complex_pa_sasa_mdtraj.sum()"
   ]
  },
  {
   "cell_type": "code",
   "execution_count": 81,
   "id": "39666ebc-2e95-42f2-b349-7c3019dc6099",
   "metadata": {},
   "outputs": [],
   "source": [
    "from mdtraj.geometry import _geometry\n",
    "from mdtraj.geometry.sasa import _ATOMIC_RADII\n",
    "from bpmfwfft.util import c_sasa\n",
    "def _get_molecule_sasa(traj, probe_radius, n_sphere_points):\n",
    "    \"\"\"\n",
    "    return the per atom SASA of the target molecule in Angstroms\n",
    "    probe radius is in nm...\n",
    "    \"\"\"\n",
    "    xyz = traj.xyz\n",
    "    atom_radii = [_ATOMIC_RADII[atom.element.symbol] for atom in traj.topology.atoms]\n",
    "    radii = np.array(atom_radii, np.float32) + probe_radius\n",
    "    dim1 = xyz.shape[1]\n",
    "    atom_mapping = np.arange(dim1, dtype=np.int32)\n",
    "    out = np.zeros((xyz.shape[0], dim1), dtype=np.float32)\n",
    "    _geometry._sasa(xyz, radii, int(n_sphere_points), atom_mapping, out)\n",
    "    out, centered_sphere_points = c_sasa(xyz, radii, int(n_sphere_points))\n",
    "    # convert values from nm^2 to A^2\n",
    "    out = out*100\n",
    "    return out"
   ]
  },
  {
   "cell_type": "code",
   "execution_count": null,
   "id": "41b08504-18fc-40d0-9d2f-1995c34b6de3",
   "metadata": {},
   "outputs": [],
   "source": [
    "_get_molecule_sasa(complex, 0.14, 960)"
   ]
  },
  {
   "cell_type": "code",
   "execution_count": 40,
   "id": "622776bc-9540-4aa5-b246-f276d57bf68b",
   "metadata": {},
   "outputs": [
    {
     "data": {
      "text/plain": [
       "array([[[ 2.0582, -0.9277,  3.9589],\n",
       "        [ 1.9632, -0.9315,  3.9251],\n",
       "        [ 2.0634, -0.8532,  4.0276],\n",
       "        ...,\n",
       "        [ 0.1103,  0.7235,  0.934 ],\n",
       "        [ 0.1809,  0.7314,  1.037 ],\n",
       "        [ 0.0173,  0.641 ,  0.922 ]]], dtype=float32)"
      ]
     },
     "execution_count": 40,
     "metadata": {},
     "output_type": "execute_result"
    }
   ],
   "source": [
    "complex.xyz"
   ]
  },
  {
   "cell_type": "code",
   "execution_count": null,
   "id": "7f0bc88e-9b87-4b1f-96e9-c304e91b67c9",
   "metadata": {},
   "outputs": [],
   "source": [
    "import os\n",
    "import copy\n",
    "import numpy as np\n",
    "import netCDF4 as nc\n",
    "from sklearn.linear_model import LinearRegression\n",
    "from sklearn.metrics import mean_squared_error\n",
    "from bpmfwfft.grids import RecGrid, LigGrid\n",
    "import matplotlib.pyplot as plt\n",
    "from itertools import cycle\n",
    "\n",
    "# Constants and paths\n",
    "PPI_PATH = '/mnt/elpis/jtufts/fft/FFT_PPI_1_0'\n",
    "HOME = '/home/jtufts'\n",
    "\n",
    "# Set this to the name of your system (e.g., '1A', '2A', etc.)\n",
    "SYSTEM_TYPE = '1A'\n",
    "\n",
    "# Create a directory for plots if it doesn't exist\n",
    "PLOT_DIR = f'plots_{SYSTEM_TYPE}'\n",
    "os.makedirs(PLOT_DIR, exist_ok=True)\n",
    "\n",
    "# Grid parameters\n",
    "LJ_SIGMA_SCAL_FACT = 1.0\n",
    "RHO = 9.0\n",
    "RC_SCALE, RS_SCALE, RM_SCALE = 0.76, 0.53, 0.55\n",
    "LC_SCALE, LS_SCALE, LM_SCALE = 0.81, 0.50, 0.54\n",
    "\n",
    "def create_rec_grid(rec_prmtop, lj_sigma_scal_fact, rc_scale, rs_scale, rm_scale, rho, rec_inpcrd, grid_nc_file):\n",
    "    return RecGrid(rec_prmtop, lj_sigma_scal_fact, rc_scale, rs_scale, rm_scale, rho, rec_inpcrd, None, grid_nc_file, new_calculation=False)\n",
    "\n",
    "def create_lig_grid(lig_prmtop, lj_sigma_scal_fact, lc_scale, ls_scale, lm_scale, lig_inpcrd, rec_grid):\n",
    "    return LigGrid(lig_prmtop, lj_sigma_scal_fact, lc_scale, ls_scale, lm_scale, lig_inpcrd, rec_grid)\n",
    "\n",
    "def cat_grids(grid1, grid2):\n",
    "    prmtop = cat_dictionaries(grid1._prmtop, grid2._prmtop)\n",
    "    crd = cat_dictionaries(grid1._crd, grid2._crd)\n",
    "    cat_grid = copy.deepcopy(grid1)\n",
    "    cat_grid._prmtop = prmtop\n",
    "    cat_grid._crd = crd\n",
    "    return cat_grid\n",
    "\n",
    "def cat_dictionaries(dict1, dict2):\n",
    "    dict1_copy = copy.deepcopy(dict1)\n",
    "    dict2_copy = copy.deepcopy(dict2)\n",
    "    \n",
    "    if isinstance(dict1_copy, dict):\n",
    "        for key in dict1_copy.keys():\n",
    "            dict1_copy[key] = cat_values(dict1[key], dict2[key])\n",
    "        return dict1_copy\n",
    "    elif isinstance(dict1_copy, np.ndarray):\n",
    "        return np.concatenate((dict1_copy, dict2_copy))\n",
    "\n",
    "def cat_values(a1, a2):\n",
    "    array1, array2 = copy.deepcopy(a1), copy.deepcopy(a2)\n",
    "    if isinstance(array1, np.ndarray):\n",
    "        return np.concatenate((array1, array2))\n",
    "    elif isinstance(array1, dict):\n",
    "        return cat_dictionaries(array1, array2)\n",
    "    elif isinstance(array1, (int, np.int64)):\n",
    "        return array1 + array2\n",
    "    elif isinstance(array1, list):\n",
    "        array1.extend(array2)\n",
    "        return array1\n",
    "\n",
    "def create_combined_plot(results):\n",
    "    plt.figure(figsize=(12, 8))\n",
    "    colors = cycle('bgrcmyk')  # Cycle through these colors for different systems\n",
    "    \n",
    "    all_x = []\n",
    "    all_y = []\n",
    "    \n",
    "    for result in results:\n",
    "        if result['status'] == 'success':\n",
    "            system = result['system']\n",
    "            color = next(colors)\n",
    "            plt.scatter(result['x'], result['y'], alpha=0.3, color=color, label=f'{system}')\n",
    "            \n",
    "            all_x.extend(result['x'])\n",
    "            all_y.extend(result['y'])\n",
    "\n",
    "    # Perform a single linear regression on all data\n",
    "    all_x = np.array(all_x).reshape(-1, 1)\n",
    "    all_y = np.array(all_y)\n",
    "    \n",
    "    model = LinearRegression().fit(all_x, all_y)\n",
    "    r_sq = model.score(all_x, all_y)\n",
    "    rmse = np.sqrt(mean_squared_error(all_y, model.predict(all_x)))\n",
    "    \n",
    "    # Plot the single regression line\n",
    "    x_range = np.linspace(min(all_x), max(all_x), 100).reshape(-1, 1)\n",
    "    y_pred = model.predict(x_range)\n",
    "    plt.plot(x_range, y_pred, color='red', linestyle='--', label='Combined fit')\n",
    "\n",
    "    plt.xlabel('Resampled Energy')\n",
    "    plt.ylabel('Delta SASA')\n",
    "    plt.title(f'Combined Plot of All {SYSTEM_TYPE} Systems\\n' \n",
    "              f'R-squared: {r_sq:.4f}, RMSE: {rmse:.4f}\\n'\n",
    "              f'Slope: {model.coef_[0]:.4f}, Intercept: {model.intercept_:.4f}')\n",
    "    plt.legend(bbox_to_anchor=(1.05, 1), loc='upper left')\n",
    "    plt.tight_layout()\n",
    "    plt.savefig(os.path.join(PLOT_DIR, f'{SYSTEM_TYPE}_combined_plot.png'))\n",
    "    plt.close()\n",
    "\n",
    "    return {\n",
    "        'r_squared': r_sq,\n",
    "        'rmse': rmse,\n",
    "        'slope': model.coef_[0],\n",
    "        'intercept': model.intercept_\n",
    "    }\n",
    "\n",
    "def process_system(system):\n",
    "    try:\n",
    "        # File paths\n",
    "        GRID_PATH = f'{PPI_PATH}/2.redock/4.receptor_grid/{system}'\n",
    "        GRID_NC = f'{GRID_PATH}/grid.nc'\n",
    "        REC_PRMTOP = f\"{PPI_PATH}/2.redock/1.amber/{system}/receptor.prmtop\"\n",
    "        REC_INPCRD = f\"{PPI_PATH}/2.redock/2.minimize/{system}/receptor.inpcrd\"\n",
    "        LIG_PRMTOP = f\"{PPI_PATH}/2.redock/1.amber/{system}/ligand.prmtop\"\n",
    "        LIG_INPCRD = f\"{PPI_PATH}/2.redock/2.minimize/{system}/ligand.inpcrd\"\n",
    "        ROT_NC = f\"{PPI_PATH}/2.redock/3.ligand_rand_rot/{system}/rotation.nc\"\n",
    "        FFT_PATH = f'{PPI_PATH}/2.redock/5.fft_sampling/{system}'\n",
    "        FFT_NC = f'{FFT_PATH}/fft_sample.nc'\n",
    "\n",
    "        # Check if all required files exist\n",
    "        for file_path in [GRID_NC, REC_PRMTOP, REC_INPCRD, LIG_PRMTOP, LIG_INPCRD, ROT_NC, FFT_NC]:\n",
    "            if not os.path.exists(file_path):\n",
    "                raise FileNotFoundError(f\"File not found: {file_path}\")\n",
    "\n",
    "        # Create grids\n",
    "        rec_grid = create_rec_grid(REC_PRMTOP, LJ_SIGMA_SCAL_FACT, RC_SCALE, RS_SCALE, RM_SCALE, RHO, REC_INPCRD, GRID_NC)\n",
    "        lig_grid = create_lig_grid(LIG_PRMTOP, LJ_SIGMA_SCAL_FACT, LC_SCALE, LS_SCALE, LM_SCALE, LIG_INPCRD, rec_grid)\n",
    "        \n",
    "        # Load rotations and translations\n",
    "        rot_num = 0\n",
    "        with nc.Dataset(ROT_NC, 'r') as rot_data:\n",
    "            lig_rot = rot_data.variables['positions']\n",
    "            lig_grid._crd = np.array(lig_rot[rot_num], dtype=np.float64)\n",
    "        lig_grid._move_ligand_to_lower_corner()\n",
    "        \n",
    "        with nc.Dataset(FFT_NC, 'r') as fft_data:\n",
    "            resampled_trans_vectors = fft_data.variables[\"sasa_resampled_trans_vectors\"][rot_num][:10]  # Only first 10\n",
    "            resampled_energies = fft_data.variables[\"sasa_resampled_energies\"][rot_num][:10] / -0.005  # Only first 10\n",
    "        \n",
    "        # Calculate SASA for different translations\n",
    "        delta_sasas = []\n",
    "        for v, vector in enumerate(resampled_trans_vectors):\n",
    "            vector = np.array(vector * lig_grid._spacing)\n",
    "            lig_grid._move_ligand_to_lower_corner()\n",
    "            lig_grid.translate_ligand(vector)\n",
    "            com_grid = cat_grids(rec_grid, lig_grid)\n",
    "            \n",
    "            c_sasa = com_grid._get_molecule_sasa(0.14, 960).sum()\n",
    "            l_sasa = lig_grid._get_molecule_sasa(0.14, 960).sum()\n",
    "            r_sasa = rec_grid._get_molecule_sasa(0.14, 960).sum()\n",
    "            d_sasa = (l_sasa + r_sasa) - c_sasa\n",
    "            \n",
    "            delta_sasas.append(d_sasa)\n",
    "        \n",
    "        # Prepare data for analysis\n",
    "        x = resampled_energies.reshape((-1, 1))\n",
    "        y = np.array(delta_sasas)\n",
    "        \n",
    "        # Linear regression\n",
    "        model = LinearRegression().fit(x, y)\n",
    "        r_sq = model.score(x, y)\n",
    "        rmse = np.sqrt(mean_squared_error(y, model.predict(x)))\n",
    "        \n",
    "        # Create individual plot\n",
    "        plt.figure(figsize=(10, 6))\n",
    "        plt.scatter(x, y, color='blue', alpha=0.5)\n",
    "        plt.plot(x, model.predict(x), color='red', linewidth=2)\n",
    "        plt.title(f'System: {system}\\nR-squared: {r_sq:.4f}, RMSE: {rmse:.4f}')\n",
    "        plt.xlabel('Resampled Energy')\n",
    "        plt.ylabel('Delta SASA')\n",
    "        plot_file = os.path.join(PLOT_DIR, f'{system}_plot.png')\n",
    "        plt.savefig(plot_file)\n",
    "        plt.close()\n",
    "        \n",
    "        return {\n",
    "            'system': system,\n",
    "            'r_squared': r_sq,\n",
    "            'rmse': rmse,\n",
    "            'slope': model.coef_[0],\n",
    "            'intercept': model.intercept_,\n",
    "            'status': 'success',\n",
    "            'plot_file': plot_file,\n",
    "            'x': x.flatten(),  # Flatten for easier plotting\n",
    "            'y': y,\n",
    "            'x_min': x.min(),\n",
    "            'x_max': x.max()\n",
    "        }\n",
    "\n",
    "    except FileNotFoundError as e:\n",
    "        print(f\"Error processing system {system}: {str(e)}\")\n",
    "        return {\n",
    "            'system': system,\n",
    "            'status': 'file_not_found',\n",
    "            'error': str(e)\n",
    "        }\n",
    "    except Exception as e:\n",
    "        print(f\"Unexpected error processing system {system}: {str(e)}\")\n",
    "        return {\n",
    "            'system': system,\n",
    "            'status': 'error',\n",
    "            'error': str(e)\n",
    "        }\n",
    "\n",
    "def main():\n",
    "    # Get all system keys\n",
    "    systems = []\n",
    "    for dirpath, dirnames, filenames in os.walk(f'{PPI_PATH}/2.redock/2.minimize'):\n",
    "        if filenames and filenames[0] != 'run_me.sh':\n",
    "            if 'complex.pdb' in filenames:\n",
    "                system = dirpath.split('/')[8]\n",
    "                systems.append(system)\n",
    "    \n",
    "    results = []\n",
    "    for system in systems:\n",
    "        print(f\"Processing system: {system}\")\n",
    "        result = process_system(system)\n",
    "        results.append(result)\n",
    "        print(f\"Completed: {system}\")\n",
    "    \n",
    "    # Print summary and create combined plot\n",
    "    print(\"\\nSummary of Results:\")\n",
    "    successful_results = []\n",
    "    for result in results:\n",
    "        print(f\"System: {result['system']}\")\n",
    "        if result['status'] == 'success':\n",
    "            print(f\"  Status: Success\")\n",
    "            print(f\"  R-squared: {result['r_squared']:.4f}\")\n",
    "            print(f\"  RMSE: {result['rmse']:.4f}\")\n",
    "            print(f\"  Slope: {result['slope']:.4f}\")\n",
    "            print(f\"  Intercept: {result['intercept']:.4f}\")\n",
    "            print(f\"  Plot saved as: {result['plot_file']}\")\n",
    "            successful_results.append(result)\n",
    "        else:\n",
    "            print(f\"  Status: {result['status']}\")\n",
    "            print(f\"  Error: {result['error']}\")\n",
    "        print()\n",
    "\n",
    "     # Create combined plot\n",
    "    if successful_results:\n",
    "        combined_stats = create_combined_plot(successful_results)\n",
    "        print(f\"Combined plot saved as: {os.path.join(PLOT_DIR, f'{SYSTEM_TYPE}_combined_plot.png')}\")\n",
    "        print(f\"Combined R-squared: {combined_stats['r_squared']:.4f}\")\n",
    "        print(f\"Combined RMSE: {combined_stats['rmse']:.4f}\")\n",
    "        print(f\"Combined Slope: {combined_stats['slope']:.4f}\")\n",
    "        print(f\"Combined Intercept: {combined_stats['intercept']:.4f}\")\n",
    "    else:\n",
    "        print(\"No successful results to create combined plot.\")\n",
    "\n",
    "    # Print statistics\n",
    "    total_systems = len(results)\n",
    "    successful_systems = len(successful_results)\n",
    "    failed_systems = total_systems - successful_systems\n",
    "    print(f\"Total systems processed: {total_systems}\")\n",
    "    print(f\"Successful: {successful_systems}\")\n",
    "    print(f\"Failed: {failed_systems}\")\n",
    "\n",
    "if __name__ == \"__main__\":\n",
    "    main()"
   ]
  },
  {
   "cell_type": "code",
   "execution_count": 77,
   "id": "e810f4c7-a30c-4f49-ae87-4feb7c12f118",
   "metadata": {},
   "outputs": [
    {
     "ename": "NameError",
     "evalue": "name 'results' is not defined",
     "output_type": "error",
     "traceback": [
      "\u001b[0;31m---------------------------------------------------------------------------\u001b[0m",
      "\u001b[0;31mNameError\u001b[0m                                 Traceback (most recent call last)",
      "Cell \u001b[0;32mIn[77], line 1\u001b[0m\n\u001b[0;32m----> 1\u001b[0m \u001b[43mresults\u001b[49m\n",
      "\u001b[0;31mNameError\u001b[0m: name 'results' is not defined"
     ]
    }
   ],
   "source": [
    "results"
   ]
  },
  {
   "cell_type": "code",
   "execution_count": 72,
   "id": "639613db-56f3-4e44-855c-9d83c4e19ec0",
   "metadata": {},
   "outputs": [],
   "source": [
    "systems = []\n",
    "for dirpath, dirnames, filenames in os.walk(f'{PPI_PATH}/2.redock/2.minimize'):\n",
    "    if filenames and filenames[0] != 'run_me.sh':\n",
    "        if 'complex.pdb' in filenames:\n",
    "            system = dirpath.split('/')[8]\n",
    "            systems.append(system)"
   ]
  },
  {
   "cell_type": "code",
   "execution_count": 18,
   "id": "7bbc027f-d8f8-4ce1-a1b4-46478099c02d",
   "metadata": {},
   "outputs": [],
   "source": [
    "%load_ext cython"
   ]
  },
  {
   "cell_type": "code",
   "execution_count": 26,
   "id": "7743e9da-555e-48d0-b8c4-0aa513a11d11",
   "metadata": {},
   "outputs": [
    {
     "name": "stderr",
     "output_type": "stream",
     "text": [
      "\n",
      "Error compiling Cython file:\n",
      "------------------------------------------------------------\n",
      "...\n",
      "            for dim in range(3):\n",
      "                centered_sphere_points[i, j, dim] = crd[i + atomind, dim] + atom_radius_i * sphere_points[j, dim]\n",
      "\n",
      "    # Parallel accessibility check\n",
      "    with nogil, parallel():\n",
      "        cdef vector[NeighborInfo] neighbors\n",
      "             ^\n",
      "------------------------------------------------------------\n",
      "\n",
      "/home/jtufts/.cache/ipython/cython/_cython_magic_4362fb458f2b9b2efab919dcc83fe5f23c2fe6ab.pyx:67:13: cdef statement not allowed here\n"
     ]
    }
   ],
   "source": [
    "%%cython --cplus\n",
    "# cython: language_level=3\n",
    "# cython: boundscheck=False\n",
    "# cython: wraparound=False\n",
    "# cython: cdivision=True\n",
    "\n",
    "cdef extern from \"math.h\":\n",
    "    double sqrt(double)\n",
    "    double cos(double)\n",
    "    double sin(double)\n",
    "    double fmod(double x, double y)\n",
    "    double M_PI\n",
    "\n",
    "from cython.parallel cimport prange, parallel\n",
    "from libcpp.vector cimport vector\n",
    "cimport openmp\n",
    "\n",
    "import numpy as np\n",
    "cimport cython\n",
    "import numpy as np\n",
    "cimport numpy as np\n",
    "import math\n",
    "from cython cimport view\n",
    "from scipy.optimize import nnls\n",
    "\n",
    "cdef struct NeighborInfo:\n",
    "    Py_ssize_t index\n",
    "    double radius_squared\n",
    "\n",
    "def c_asa_frame(double[:, ::1] crd,\n",
    "                double[::1] atom_radii,\n",
    "                double[::1] spacing,\n",
    "                double[:, ::1] sphere_points,\n",
    "                int n_sphere_points,\n",
    "                int natoms_i,\n",
    "                int atomind):\n",
    "\n",
    "    cdef:\n",
    "        Py_ssize_t i, j, k, dim\n",
    "        int natoms = crd.shape[0]\n",
    "        double atom_radius_i, r2\n",
    "        bint is_accessible\n",
    "        double[:, :, ::1] accessible_sphere_points = np.zeros((natoms_i, n_sphere_points, 4), dtype=np.float64)\n",
    "        vector[vector[NeighborInfo]] all_neighbors = vector[vector[NeighborInfo]](natoms_i)\n",
    "        double[:, :, ::1] centered_sphere_points = np.zeros((natoms_i, n_sphere_points, 3), dtype=np.float64)\n",
    "\n",
    "    # Pre-compute neighbor information and centered sphere points\n",
    "    for i in range(natoms_i):\n",
    "        atom_radius_i = atom_radii[i + atomind]\n",
    "        for j in range(natoms):\n",
    "            if i + atomind == j:\n",
    "                continue\n",
    "\n",
    "            r2 = 0\n",
    "            for dim in range(3):\n",
    "                r2 += (crd[i + atomind, dim] - crd[j, dim]) ** 2\n",
    "\n",
    "            if r2 < (atom_radius_i + atom_radii[j]) ** 2:\n",
    "                neighbor = NeighborInfo(j, atom_radii[j] ** 2)\n",
    "                all_neighbors[i].push_back(neighbor)\n",
    "\n",
    "        for j in range(n_sphere_points):\n",
    "            for dim in range(3):\n",
    "                centered_sphere_points[i, j, dim] = crd[i + atomind, dim] + atom_radius_i * sphere_points[j, dim]\n",
    "\n",
    "    # Parallel accessibility check\n",
    "    with nogil, parallel():\n",
    "        cdef vector[NeighborInfo] neighbors\n",
    "        cdef NeighborInfo neighbor\n",
    "        for i in prange(natoms_i, schedule='dynamic'):\n",
    "            neighbors = all_neighbors[i]\n",
    "            for j in range(n_sphere_points):\n",
    "                is_accessible = True\n",
    "                for k in range(neighbors.size()):\n",
    "                    neighbor = neighbors[k]\n",
    "                    r2 = 0\n",
    "                    for dim in range(3):\n",
    "                        r2 += (centered_sphere_points[i, j, dim] - crd[neighbor.index, dim]) ** 2\n",
    "                    if r2 < neighbor.radius_squared:\n",
    "                        is_accessible = False\n",
    "                        break\n",
    "\n",
    "                if is_accessible:\n",
    "                    for dim in range(3):\n",
    "                        accessible_sphere_points[i, j, dim] = centered_sphere_points[i, j, dim]\n",
    "                    accessible_sphere_points[i, j, 3] = atom_radii[i + atomind]\n",
    "\n",
    "    return np.asarray(accessible_sphere_points)\n",
    "\n",
    "@cython.boundscheck(False)\n",
    "def c_generate_sphere_points(int n_points):\n",
    "    cdef:\n",
    "        int i\n",
    "        float y, r, phi\n",
    "        float inc = M_PI * (3.0 - sqrt(5.0))\n",
    "        float offset = 2.0 / n_points\n",
    "        np.ndarray[np.float64_t, ndim = 2] sphere_points = np.empty([n_points, 3], dtype=np.float64)\n",
    "\n",
    "    for i in range(n_points):\n",
    "        y = i * offset - 1.0 + (offset / 2.0)\n",
    "        r = sqrt(1.0 - y*y)\n",
    "        phi = i * inc\n",
    "\n",
    "        sphere_points[i, 0] = cos(phi) * r\n",
    "        sphere_points[i, 1] = y\n",
    "        sphere_points[i, 2] = sin(phi) * r\n",
    "    return sphere_points\n",
    "\n",
    "\n",
    "@cython.boundscheck(False)\n",
    "def c_sasa(         np.ndarray[np.float64_t, ndim=2] crd,\n",
    "                    np.ndarray[np.float64_t, ndim=1] atom_radii,\n",
    "                    np.ndarray[np.float64_t, ndim=1] spacing,\n",
    "                    float probe_size,\n",
    "                    int n_sphere_points,\n",
    "                    int natoms_i,\n",
    "                    int atomind\n",
    "                    ):\n",
    "    cdef:\n",
    "        int natoms = crd.shape[0]\n",
    "        int i, j\n",
    "        np.ndarray[np.float64_t, ndim = 2] sphere_points = np.empty([n_sphere_points, 3], dtype=np.float64)\n",
    "        np.ndarray[np.float64_t, ndim = 3] accessible_sphere_points = np.zeros([natoms_i, n_sphere_points, 4], dtype=np.float64)\n",
    "    sphere_points = c_generate_sphere_points(n_sphere_points)\n",
    "    accessible_sphere_points = c_asa_frame(crd, atom_radii+probe_size, spacing, sphere_points, n_sphere_points, natoms_i, atomind)\n",
    "\n",
    "    return accessible_sphere_points"
   ]
  },
  {
   "cell_type": "code",
   "execution_count": 14,
   "id": "0ca0eb2a-82c1-4096-8aa2-33776e246829",
   "metadata": {},
   "outputs": [
    {
     "name": "stdout",
     "output_type": "stream",
     "text": [
      "CPU times: user 6.3 s, sys: 248 ms, total: 6.54 s\n",
      "Wall time: 6.32 s\n"
     ]
    }
   ],
   "source": [
    "%%time\n",
    "from bpmfwfft.util import c_sasa, c_points_to_grid\n",
    "points = c_sasa(lig_grid._crd, lig_grid._prmtop[\"VDW_RADII\"], lig_grid._spacing, 1.4, 960, lig_grid._crd.shape[0], 0)\n",
    "grid = c_points_to_grid(points, lig_grid._spacing, lig_grid._grid[\"counts\"])"
   ]
  },
  {
   "cell_type": "code",
   "execution_count": null,
   "id": "d516b2b0-46da-4891-9980-9681eaed0b72",
   "metadata": {},
   "outputs": [],
   "source": [
    "%%time\n",
    "lig_grid._get_molecule_sasa(1.4,960)"
   ]
  },
  {
   "cell_type": "code",
   "execution_count": null,
   "id": "bc0bad1e-d94e-4ef0-b78f-0682db318f94",
   "metadata": {},
   "outputs": [],
   "source": [
    "np.save(\"crd.npy\", lig_grid._crd)\n",
    "np.save(\"atomradii.npy\", lig_grid._prmtop[\"VDW_RADII\"], "
   ]
  }
 ],
 "metadata": {
  "kernelspec": {
   "display_name": "Python 3 (ipykernel)",
   "language": "python",
   "name": "python3"
  },
  "language_info": {
   "codemirror_mode": {
    "name": "ipython",
    "version": 3
   },
   "file_extension": ".py",
   "mimetype": "text/x-python",
   "name": "python",
   "nbconvert_exporter": "python",
   "pygments_lexer": "ipython3",
   "version": "3.9.18"
  }
 },
 "nbformat": 4,
 "nbformat_minor": 5
}
