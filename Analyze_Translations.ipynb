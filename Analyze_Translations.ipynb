{
 "cells": [
  {
   "cell_type": "markdown",
   "metadata": {},
   "source": [
    "This area is a workspace for demystifying the important translation vectors of the receptor and the ligand."
   ]
  },
  {
   "cell_type": "code",
   "execution_count": 2,
   "metadata": {},
   "outputs": [
    {
     "name": "stdout",
     "output_type": "stream",
     "text": [
      "[-70.00961419999999, -15.4027696, 44.8502733]\n",
      "[-70.01044820000001, -15.403691299999998, 44.850259300000005]\n",
      "[-75.30638809999999, 27.852359300000003, 119.0659763] [-150.61277619999998, 55.70471860000001, 238.1319526]\n"
     ]
    }
   ],
   "source": [
    "atom_1_initial = [3.9383858, 23.4722304, 80.4332733]\n",
    "atom_1_trans = [73.948, 38.875, 35.583]\n",
    "\n",
    "atom_1_disp = []\n",
    "\n",
    "atom_1_zip = zip(atom_1_initial, atom_1_trans)\n",
    "\n",
    "for atom_1_initial_i, atom_1_trans_i in atom_1_zip:\n",
    "    atom_1_disp.append(atom_1_initial_i-atom_1_trans_i)\n",
    "    \n",
    "print(atom_1_disp)\n",
    "\n",
    "atom_2_initial = [4.6425518, 24.1953087, 80.5282593]\n",
    "atom_2_trans = [74.653, 39.599, 35.678]\n",
    "\n",
    "atom_2_disp = []\n",
    "\n",
    "atom_2_zip = zip(atom_2_initial, atom_2_trans)\n",
    "\n",
    "for atom_2_initial_i, atom_2_trans_i in atom_2_zip:\n",
    "    atom_2_disp.append(atom_2_initial_i-atom_2_trans_i)\n",
    "\n",
    "print(atom_2_disp)\n",
    "\n",
    "lig_1_initial = [-5.2967739, 43.2551289, 74.2157030]\n",
    "\n",
    "lig_1_disp = []\n",
    "lig_1_zip = zip(lig_1_initial, atom_1_disp)\n",
    "\n",
    "for lig_1_initial_i, atom_1_trans_i in lig_1_zip:\n",
    "    lig_1_disp.append(lig_1_initial_i+atom_1_trans_i)\n",
    "\n",
    "lig_disp_adj = []\n",
    "for x in lig_1_disp:\n",
    "    lig_disp_adj.append(x/0.5)\n",
    "print(lig_1_disp, lig_disp_adj)\n"
   ]
  },
  {
   "cell_type": "code",
   "execution_count": null,
   "metadata": {},
   "outputs": [],
   "source": [
    "upper_most_corner = [122.500, 122.500, 122.500]\n"
   ]
  }
 ],
 "metadata": {
  "kernelspec": {
   "display_name": "Python 3",
   "language": "python",
   "name": "python3"
  },
  "language_info": {
   "codemirror_mode": {
    "name": "ipython",
    "version": 3
   },
   "file_extension": ".py",
   "mimetype": "text/x-python",
   "name": "python",
   "nbconvert_exporter": "python",
   "pygments_lexer": "ipython3",
   "version": "3.6.11"
  }
 },
 "nbformat": 4,
 "nbformat_minor": 2
}
