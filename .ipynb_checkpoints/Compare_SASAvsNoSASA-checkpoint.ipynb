{
 "cells": [
  {
   "cell_type": "code",
   "execution_count": 1,
   "metadata": {
    "tags": []
   },
   "outputs": [],
   "source": [
    "from os import walk\n",
    "import socket\n",
    "if socket.gethostname() == 'jim-Mint':\n",
    "    ppi_path = '/home/jim/src/p39/fftanalysis/test_systems'\n",
    "    home = '/home/jim'\n",
    "elif socket.gethostname() == 'host252.ent.iit.edu':\n",
    "    ppi_path = '/home/jtufts/Downloads/test_systems'\n",
    "    home = '/home/jtufts'\n",
    "else:\n",
    "    ppi_path = '/home/jtufts/src/p39/fftanalysis/test_systems'\n",
    "    home = '/home/jtufts'"
   ]
  },
  {
   "cell_type": "code",
   "execution_count": 2,
   "metadata": {},
   "outputs": [],
   "source": [
    "f = {}\n",
    "for (dirpath, dirnames, filenames) in walk(f'{ppi_path}/2.redock/2.minimize'):\n",
    "    if len(filenames) > 0:\n",
    "        if filenames[0] != 'run_me.sh':\n",
    "            if 'ligand.inpcrd' in filenames:\n",
    "                f[dirpath.split('/')[9]] = dirpath + '/ligand.inpcrd'"
   ]
  },
  {
   "cell_type": "code",
   "execution_count": 3,
   "metadata": {},
   "outputs": [
    {
     "name": "stdout",
     "output_type": "stream",
     "text": [
      "2OOB_A:B /home/jim/src/p39/fftanalysis/test_systems/2.redock/2.minimize/2OOB_A:B/ligand.inpcrd\n"
     ]
    }
   ],
   "source": [
    "keys = list(f.keys())\n",
    "keys.sort()\n",
    "system = keys[1] #36 \n",
    "print(system, f[system])"
   ]
  },
  {
   "cell_type": "code",
   "execution_count": 4,
   "metadata": {},
   "outputs": [
    {
     "name": "stderr",
     "output_type": "stream",
     "text": [
      "Warning: importing 'simtk.openmm' is deprecated.  Import 'openmm' instead.\n"
     ]
    }
   ],
   "source": [
    "from bpmfwfft.IO import InpcrdLoad\n",
    "from bpmfwfft.grids import Grid, RecGrid\n",
    "import numpy as np\n",
    "\n",
    "\n",
    "def _distance(coord1, coord2):\n",
    "    assert len(coord1)==len(coord1)==3, \"coord must have len 3\"\n",
    "    d = np.array(coord1) - np.array(coord2)\n",
    "    d = (d**2).sum()\n",
    "    return np.sqrt(d)\n",
    "\n",
    "\n",
    "def _max_inter_atom_distance(inpcrd):\n",
    "    \"\"\"\n",
    "    inpcrd: str, name of inpcrd file\n",
    "    \"\"\"\n",
    "    crd = InpcrdLoad(inpcrd).get_coordinates()\n",
    "    max_d = 0.\n",
    "    for i in range(crd.shape[0]-1):\n",
    "        for j in range(i+1, crd.shape[0]):\n",
    "            d = _distance(crd[i], crd[j])\n",
    "            if d > max_d:\n",
    "                max_d = d\n",
    "    return max_d\n",
    "\n",
    "\n",
    "def _max_box_edge(inpcrd):\n",
    "    \"\"\"\n",
    "    \"\"\"\n",
    "    crd = InpcrdLoad(inpcrd).get_coordinates()\n",
    "    dx = crd[:,0].max() - crd[:,0].min()\n",
    "    dy = crd[:,1].max() - crd[:,1].min()\n",
    "    dz = crd[:,2].max() - crd[:,2].min()\n",
    "    return max([dx, dy, dz])\n",
    "\n",
    "\n",
    "def rec_grid_cal(prmtop, lj_scale, sc_scale, ss_scale, sm_scale, rho,\n",
    "                 rec_inpcrd, lig_inpcrd, spacing, buffer,\n",
    "                 grid_out, pdb_out, box_out, radii_type, exclude_H):\n",
    "    \"\"\"\n",
    "    prmtop: str, prmtop file for receptor\n",
    "    lj_scale:   float, 0 < lj_scale <=1\n",
    "    rc_scale:   float, 0 < rc_scale\n",
    "    rs_scale:   float, 0 < rs_scale\n",
    "    rm_scale:   float, 0 < rm_scale\n",
    "    rec_inpcrd: str, inpcrd file for receptor\n",
    "    lig_inpcrd: str, inpcrd file for ligand, used to determine grid size\n",
    "    spacing:    float, distance between grid points in Angstroms\n",
    "    buffer:     float, extra box padding\n",
    "    grid_out:   str, name of output nc file\n",
    "    pdb_out:    str, name of output pdb file\n",
    "    box_out:    str, name of output box\n",
    "    radii_type: str, name of radii to use, LJ_SIGMA or VDW_RADII\n",
    "    exclude_H:  bool, exclude hydrogen from grid calculation\n",
    "    \"\"\"\n",
    "    #ligand_max_size = _max_inter_atom_distance(lig_inpcrd)\n",
    "    #print \"Ligand maximum inter-atomic distance: %f\"%ligand_max_size\n",
    "\n",
    "    ligand_max_box_edge = _max_box_edge(lig_inpcrd)\n",
    "    print(\"Ligand maximum box edge: %f\" % ligand_max_box_edge)\n",
    "    total_buffer = np.ceil(ligand_max_box_edge + buffer)\n",
    "    print(\"Total buffer for receptor grid: %f\" % total_buffer)\n",
    "\n",
    "    bsite_file = None\n",
    "    potential_grid = RecGrid(prmtop,\n",
    "                             lj_scale,\n",
    "                             sc_scale,\n",
    "                             ss_scale,\n",
    "                             sm_scale,\n",
    "                             rho,\n",
    "                             rec_inpcrd,\n",
    "                             bsite_file,\n",
    "                             grid_out,\n",
    "                             new_calculation=True,\n",
    "                             spacing=spacing,\n",
    "                             extra_buffer=total_buffer,\n",
    "                             radii_type=radii_type,\n",
    "                             exclude_H=exclude_H)\n",
    "    # potential_grid = RecGrid(prmtop, lj_scale, sc_scale, ss_scale, rho, rec_inpcrd, bsite_file, grid_out, new_calculation=True, spacing=spacing, )\n",
    "\n",
    "    potential_grid.write_pdb(pdb_out, \"w\")\n",
    "    potential_grid.write_box(box_out)\n",
    "\n",
    "    return None\n",
    "\n",
    "\n",
    "def is_nc_grid_good(nc_grid_file):\n",
    "    if not os.path.exists(nc_grid_file):\n",
    "        return False\n",
    "\n",
    "    if os.path.getsize(nc_grid_file) == 0:\n",
    "        return False\n",
    "\n",
    "    nc_handle = netCDF4.Dataset(nc_grid_file, \"r\")\n",
    "    nc_keys = nc_handle.variables.keys()\n",
    "    grid_keys = Grid().get_allowed_keys()\n",
    "    for key in grid_keys:\n",
    "        if key not in nc_keys:\n",
    "            return False\n",
    "    return True\n",
    "\n",
    "\n",
    "def get_grid_size_from_nc(grid_nc_file):\n",
    "    nc_handle = netCDF4.Dataset(grid_nc_file, \"r\")\n",
    "    return nc_handle.variables[\"counts\"][0]\n",
    "\n",
    "\n",
    "def get_grid_size_from_lig_rec_crd(rec_inpcrd, lig_inpcrd, buffer):\n",
    "    ligand_max_box_edge = _max_box_edge(lig_inpcrd)\n",
    "    buffer_due_to_ligand = np.ceil(ligand_max_box_edge + buffer)\n",
    "    box_size = _max_box_edge(rec_inpcrd) +  2.0*buffer_due_to_ligand\n",
    "    return box_size"
   ]
  },
  {
   "cell_type": "code",
   "execution_count": 5,
   "metadata": {},
   "outputs": [
    {
     "name": "stdout",
     "output_type": "stream",
     "text": [
      "Number of atoms in /home/jim/src/p39/fftanalysis/test_systems/2.redock/2.minimize/2OOB_A:B/ligand.inpcrd is 777\n",
      "Ligand maximum box edge: 34.376128\n",
      "Total buffer for receptor grid: 36.000000\n",
      "[1.]\n",
      "Number of atoms in /home/jim/src/p39/fftanalysis/test_systems/2.redock/2.minimize/2OOB_A:B/receptor.inpcrd is 1231\n",
      "Writing lj_sigma_scaling_factor into nc file\n",
      "Writing rec_core_scaling into nc file\n",
      "Writing rec_surface_scaling into nc file\n",
      "Writing rec_metal_scaling into nc file\n",
      "Writing rho into nc file\n",
      "Writing molecule_sasa into nc file\n",
      "No binding site specified, box encloses the whole receptor\n",
      "[0. 0. 0.]\n",
      "[0.5 0.  0. ]\n",
      "[0.  0.5 0. ]\n",
      "[0.  0.  0.5]\n",
      "[0.5 0.5 0.5]\n",
      "Receptor enclosing box [34.993732, 33.049136, 34.502023]\n",
      "extra_buffer: 36.000000\n",
      "[215 215 215]\n",
      "counts  [215 215 215]\n",
      "Total box size 107.000000\n",
      "Writing origin into nc file\n",
      "Writing d0 into nc file\n",
      "Writing d1 into nc file\n",
      "Writing d2 into nc file\n",
      "Writing spacing into nc file\n",
      "Writing counts into nc file\n",
      "calculating grid coordinates\n",
      "[  0.    0.5   1.    1.5   2.    2.5   3.    3.5   4.    4.5   5.    5.5\n",
      "   6.    6.5   7.    7.5   8.    8.5   9.    9.5  10.   10.5  11.   11.5\n",
      "  12.   12.5  13.   13.5  14.   14.5  15.   15.5  16.   16.5  17.   17.5\n",
      "  18.   18.5  19.   19.5  20.   20.5  21.   21.5  22.   22.5  23.   23.5\n",
      "  24.   24.5  25.   25.5  26.   26.5  27.   27.5  28.   28.5  29.   29.5\n",
      "  30.   30.5  31.   31.5  32.   32.5  33.   33.5  34.   34.5  35.   35.5\n",
      "  36.   36.5  37.   37.5  38.   38.5  39.   39.5  40.   40.5  41.   41.5\n",
      "  42.   42.5  43.   43.5  44.   44.5  45.   45.5  46.   46.5  47.   47.5\n",
      "  48.   48.5  49.   49.5  50.   50.5  51.   51.5  52.   52.5  53.   53.5\n",
      "  54.   54.5  55.   55.5  56.   56.5  57.   57.5  58.   58.5  59.   59.5\n",
      "  60.   60.5  61.   61.5  62.   62.5  63.   63.5  64.   64.5  65.   65.5\n",
      "  66.   66.5  67.   67.5  68.   68.5  69.   69.5  70.   70.5  71.   71.5\n",
      "  72.   72.5  73.   73.5  74.   74.5  75.   75.5  76.   76.5  77.   77.5\n",
      "  78.   78.5  79.   79.5  80.   80.5  81.   81.5  82.   82.5  83.   83.5\n",
      "  84.   84.5  85.   85.5  86.   86.5  87.   87.5  88.   88.5  89.   89.5\n",
      "  90.   90.5  91.   91.5  92.   92.5  93.   93.5  94.   94.5  95.   95.5\n",
      "  96.   96.5  97.   97.5  98.   98.5  99.   99.5 100.  100.5 101.  101.5\n",
      " 102.  102.5 103.  103.5 104.  104.5 105.  105.5 106.  106.5 107. ]\n",
      "[  0.    0.5   1.    1.5   2.    2.5   3.    3.5   4.    4.5   5.    5.5\n",
      "   6.    6.5   7.    7.5   8.    8.5   9.    9.5  10.   10.5  11.   11.5\n",
      "  12.   12.5  13.   13.5  14.   14.5  15.   15.5  16.   16.5  17.   17.5\n",
      "  18.   18.5  19.   19.5  20.   20.5  21.   21.5  22.   22.5  23.   23.5\n",
      "  24.   24.5  25.   25.5  26.   26.5  27.   27.5  28.   28.5  29.   29.5\n",
      "  30.   30.5  31.   31.5  32.   32.5  33.   33.5  34.   34.5  35.   35.5\n",
      "  36.   36.5  37.   37.5  38.   38.5  39.   39.5  40.   40.5  41.   41.5\n",
      "  42.   42.5  43.   43.5  44.   44.5  45.   45.5  46.   46.5  47.   47.5\n",
      "  48.   48.5  49.   49.5  50.   50.5  51.   51.5  52.   52.5  53.   53.5\n",
      "  54.   54.5  55.   55.5  56.   56.5  57.   57.5  58.   58.5  59.   59.5\n",
      "  60.   60.5  61.   61.5  62.   62.5  63.   63.5  64.   64.5  65.   65.5\n",
      "  66.   66.5  67.   67.5  68.   68.5  69.   69.5  70.   70.5  71.   71.5\n",
      "  72.   72.5  73.   73.5  74.   74.5  75.   75.5  76.   76.5  77.   77.5\n",
      "  78.   78.5  79.   79.5  80.   80.5  81.   81.5  82.   82.5  83.   83.5\n",
      "  84.   84.5  85.   85.5  86.   86.5  87.   87.5  88.   88.5  89.   89.5\n",
      "  90.   90.5  91.   91.5  92.   92.5  93.   93.5  94.   94.5  95.   95.5\n",
      "  96.   96.5  97.   97.5  98.   98.5  99.   99.5 100.  100.5 101.  101.5\n",
      " 102.  102.5 103.  103.5 104.  104.5 105.  105.5 106.  106.5 107. ]\n",
      "[  0.    0.5   1.    1.5   2.    2.5   3.    3.5   4.    4.5   5.    5.5\n",
      "   6.    6.5   7.    7.5   8.    8.5   9.    9.5  10.   10.5  11.   11.5\n",
      "  12.   12.5  13.   13.5  14.   14.5  15.   15.5  16.   16.5  17.   17.5\n",
      "  18.   18.5  19.   19.5  20.   20.5  21.   21.5  22.   22.5  23.   23.5\n",
      "  24.   24.5  25.   25.5  26.   26.5  27.   27.5  28.   28.5  29.   29.5\n",
      "  30.   30.5  31.   31.5  32.   32.5  33.   33.5  34.   34.5  35.   35.5\n",
      "  36.   36.5  37.   37.5  38.   38.5  39.   39.5  40.   40.5  41.   41.5\n",
      "  42.   42.5  43.   43.5  44.   44.5  45.   45.5  46.   46.5  47.   47.5\n",
      "  48.   48.5  49.   49.5  50.   50.5  51.   51.5  52.   52.5  53.   53.5\n",
      "  54.   54.5  55.   55.5  56.   56.5  57.   57.5  58.   58.5  59.   59.5\n",
      "  60.   60.5  61.   61.5  62.   62.5  63.   63.5  64.   64.5  65.   65.5\n",
      "  66.   66.5  67.   67.5  68.   68.5  69.   69.5  70.   70.5  71.   71.5\n",
      "  72.   72.5  73.   73.5  74.   74.5  75.   75.5  76.   76.5  77.   77.5\n",
      "  78.   78.5  79.   79.5  80.   80.5  81.   81.5  82.   82.5  83.   83.5\n",
      "  84.   84.5  85.   85.5  86.   86.5  87.   87.5  88.   88.5  89.   89.5\n",
      "  90.   90.5  91.   91.5  92.   92.5  93.   93.5  94.   94.5  95.   95.5\n",
      "  96.   96.5  97.   97.5  98.   98.5  99.   99.5 100.  100.5 101.  101.5\n",
      " 102.  102.5 103.  103.5 104.  104.5 105.  105.5 106.  106.5 107. ]\n",
      "Writing x into nc file\n",
      "Writing y into nc file\n",
      "Writing z into nc file\n",
      "[215. 215. 215.]\n",
      "68.0\n",
      "64.0\n",
      "67.0\n",
      "receptor_box_center [13.  -2.5 26.5]\n",
      "lower_receptor_corner_grid_aligned:  [ -4.75 -19.25   9.5 ] \n",
      "upper_receptor_corner_grid_aligned:  [29.75 13.25 43.  ] \n",
      "lower_receptor_corner:  [ -3.8628158 -18.1750035  10.0942314] \n",
      "upper_receptor_corner:  [29.0144563 12.5886631 42.5205898] \n",
      "receptor_box_center:  [13.  -2.5 26.5] \n",
      "receptor_box_center_grid_aligned [12.5  -3.   26.25] \n",
      "grid_center:  [53.5 53.5 53.5] \n",
      "receptor_box_length:  [32.8772721 30.7636666 32.4263584] \n",
      "receptor_box_length_grid_aligned:  [34.  32.  33.5] \n",
      "spacing num [68. 64. 67.]\n",
      "Receptor is translated by  [40.5 56.  27. ]\n",
      "Writing displacement into nc file\n",
      "calculating receptor occupancy grid\n",
      "Writing occupancy into nc file\n",
      "calculating receptor LJr grid\n",
      "Writing LJr into nc file\n",
      "calculating receptor LJa grid\n",
      "Writing LJa into nc file\n",
      "calculating receptor electrostatic grid\n",
      "Writing electrostatic into nc file\n",
      "calculating receptor sasa grid\n",
      "Writing sasa into nc file\n",
      "calculating receptor water grid\n",
      "Writing water into nc file\n",
      "Writing trans_crd into nc file\n",
      "/home/jim/src/p39/fftanalysis/test_systems/2.redock/4.receptor_grid/2OOB_A:B/grid.nc\n",
      "x\n",
      "[  0.    0.5   1.    1.5   2.    2.5   3.    3.5   4.    4.5   5.    5.5\n",
      "   6.    6.5   7.    7.5   8.    8.5   9.    9.5  10.   10.5  11.   11.5\n",
      "  12.   12.5  13.   13.5  14.   14.5  15.   15.5  16.   16.5  17.   17.5\n",
      "  18.   18.5  19.   19.5  20.   20.5  21.   21.5  22.   22.5  23.   23.5\n",
      "  24.   24.5  25.   25.5  26.   26.5  27.   27.5  28.   28.5  29.   29.5\n",
      "  30.   30.5  31.   31.5  32.   32.5  33.   33.5  34.   34.5  35.   35.5\n",
      "  36.   36.5  37.   37.5  38.   38.5  39.   39.5  40.   40.5  41.   41.5\n",
      "  42.   42.5  43.   43.5  44.   44.5  45.   45.5  46.   46.5  47.   47.5\n",
      "  48.   48.5  49.   49.5  50.   50.5  51.   51.5  52.   52.5  53.   53.5\n",
      "  54.   54.5  55.   55.5  56.   56.5  57.   57.5  58.   58.5  59.   59.5\n",
      "  60.   60.5  61.   61.5  62.   62.5  63.   63.5  64.   64.5  65.   65.5\n",
      "  66.   66.5  67.   67.5  68.   68.5  69.   69.5  70.   70.5  71.   71.5\n",
      "  72.   72.5  73.   73.5  74.   74.5  75.   75.5  76.   76.5  77.   77.5\n",
      "  78.   78.5  79.   79.5  80.   80.5  81.   81.5  82.   82.5  83.   83.5\n",
      "  84.   84.5  85.   85.5  86.   86.5  87.   87.5  88.   88.5  89.   89.5\n",
      "  90.   90.5  91.   91.5  92.   92.5  93.   93.5  94.   94.5  95.   95.5\n",
      "  96.   96.5  97.   97.5  98.   98.5  99.   99.5 100.  100.5 101.  101.5\n",
      " 102.  102.5 103.  103.5 104.  104.5 105.  105.5 106.  106.5 107. ]\n",
      "y\n",
      "[  0.    0.5   1.    1.5   2.    2.5   3.    3.5   4.    4.5   5.    5.5\n",
      "   6.    6.5   7.    7.5   8.    8.5   9.    9.5  10.   10.5  11.   11.5\n",
      "  12.   12.5  13.   13.5  14.   14.5  15.   15.5  16.   16.5  17.   17.5\n",
      "  18.   18.5  19.   19.5  20.   20.5  21.   21.5  22.   22.5  23.   23.5\n",
      "  24.   24.5  25.   25.5  26.   26.5  27.   27.5  28.   28.5  29.   29.5\n",
      "  30.   30.5  31.   31.5  32.   32.5  33.   33.5  34.   34.5  35.   35.5\n",
      "  36.   36.5  37.   37.5  38.   38.5  39.   39.5  40.   40.5  41.   41.5\n",
      "  42.   42.5  43.   43.5  44.   44.5  45.   45.5  46.   46.5  47.   47.5\n",
      "  48.   48.5  49.   49.5  50.   50.5  51.   51.5  52.   52.5  53.   53.5\n",
      "  54.   54.5  55.   55.5  56.   56.5  57.   57.5  58.   58.5  59.   59.5\n",
      "  60.   60.5  61.   61.5  62.   62.5  63.   63.5  64.   64.5  65.   65.5\n",
      "  66.   66.5  67.   67.5  68.   68.5  69.   69.5  70.   70.5  71.   71.5\n",
      "  72.   72.5  73.   73.5  74.   74.5  75.   75.5  76.   76.5  77.   77.5\n",
      "  78.   78.5  79.   79.5  80.   80.5  81.   81.5  82.   82.5  83.   83.5\n",
      "  84.   84.5  85.   85.5  86.   86.5  87.   87.5  88.   88.5  89.   89.5\n",
      "  90.   90.5  91.   91.5  92.   92.5  93.   93.5  94.   94.5  95.   95.5\n",
      "  96.   96.5  97.   97.5  98.   98.5  99.   99.5 100.  100.5 101.  101.5\n",
      " 102.  102.5 103.  103.5 104.  104.5 105.  105.5 106.  106.5 107. ]\n",
      "z\n",
      "[  0.    0.5   1.    1.5   2.    2.5   3.    3.5   4.    4.5   5.    5.5\n",
      "   6.    6.5   7.    7.5   8.    8.5   9.    9.5  10.   10.5  11.   11.5\n",
      "  12.   12.5  13.   13.5  14.   14.5  15.   15.5  16.   16.5  17.   17.5\n",
      "  18.   18.5  19.   19.5  20.   20.5  21.   21.5  22.   22.5  23.   23.5\n",
      "  24.   24.5  25.   25.5  26.   26.5  27.   27.5  28.   28.5  29.   29.5\n",
      "  30.   30.5  31.   31.5  32.   32.5  33.   33.5  34.   34.5  35.   35.5\n",
      "  36.   36.5  37.   37.5  38.   38.5  39.   39.5  40.   40.5  41.   41.5\n",
      "  42.   42.5  43.   43.5  44.   44.5  45.   45.5  46.   46.5  47.   47.5\n",
      "  48.   48.5  49.   49.5  50.   50.5  51.   51.5  52.   52.5  53.   53.5\n",
      "  54.   54.5  55.   55.5  56.   56.5  57.   57.5  58.   58.5  59.   59.5\n",
      "  60.   60.5  61.   61.5  62.   62.5  63.   63.5  64.   64.5  65.   65.5\n",
      "  66.   66.5  67.   67.5  68.   68.5  69.   69.5  70.   70.5  71.   71.5\n",
      "  72.   72.5  73.   73.5  74.   74.5  75.   75.5  76.   76.5  77.   77.5\n",
      "  78.   78.5  79.   79.5  80.   80.5  81.   81.5  82.   82.5  83.   83.5\n",
      "  84.   84.5  85.   85.5  86.   86.5  87.   87.5  88.   88.5  89.   89.5\n",
      "  90.   90.5  91.   91.5  92.   92.5  93.   93.5  94.   94.5  95.   95.5\n",
      "  96.   96.5  97.   97.5  98.   98.5  99.   99.5 100.  100.5 101.  101.5\n",
      " 102.  102.5 103.  103.5 104.  104.5 105.  105.5 106.  106.5 107. ]\n",
      "d0\n",
      "[0.5 0.  0. ]\n",
      "d1\n",
      "[0.  0.5 0. ]\n",
      "d2\n",
      "[0.  0.  0.5]\n",
      "spacing\n",
      "[0.5 0.5 0.5]\n",
      "counts\n",
      "[215 215 215]\n",
      "origin\n",
      "[0. 0. 0.]\n",
      "lj_sigma_scaling_factor\n",
      "[1.]\n",
      "rec_core_scaling\n",
      "[0.76]\n",
      "rec_surface_scaling\n",
      "[0.53]\n",
      "rec_metal_scaling\n",
      "[0.55]\n",
      "Doing FFT for occupancy\n",
      "Doing FFT for LJr\n",
      "Doing FFT for LJa\n",
      "Doing FFT for electrostatic\n",
      "Doing FFT for sasa\n",
      "Doing FFT for water\n"
     ]
    }
   ],
   "source": [
    "prmtop = f\"{ppi_path}/2.redock/1.amber/{system}/receptor.prmtop\"\n",
    "lj_scale = 1.0\n",
    "rc_scale = 0.76\n",
    "rs_scale = 0.53\n",
    "rm_scale = 0.55\n",
    "rec_inpcrd = f\"{ppi_path}/2.redock/2.minimize/{system}/receptor.inpcrd\"\n",
    "lig_inpcrd = f\"{ppi_path}/2.redock/2.minimize/{system}/ligand.inpcrd\"\n",
    "rho = 9.0\n",
    "exclude_H = True\n",
    "\n",
    "spacing = 0.5\n",
    "buffer = 1\n",
    "radii_type = \"VDW_RADII\"\n",
    "\n",
    "grid_out = f\"{ppi_path}/2.redock/4.receptor_grid/{system}/grid.nc\"\n",
    "pdb_out = f\"{ppi_path}/2.redock/4.receptor_grid/{system}/receptor_trans.pdb\"\n",
    "box_out = f\"{ppi_path}/2.redock/4.receptor_grid/{system}/box.pdb\"\n",
    "\n",
    "rec_grid_cal(prmtop, lj_scale, rc_scale, rs_scale, rm_scale, rho,\n",
    "             rec_inpcrd, lig_inpcrd, spacing, buffer, grid_out, pdb_out, box_out, radii_type, exclude_H)"
   ]
  },
  {
   "cell_type": "code",
   "execution_count": 6,
   "metadata": {},
   "outputs": [
    {
     "name": "stdout",
     "output_type": "stream",
     "text": [
      "/home/jim/src/p39/fftanalysis/test_systems/2.redock/4.receptor_grid/2OOB_A:B\n",
      "CPU times: user 45.8 ms, sys: 76.7 ms, total: 122 ms\n",
      "Wall time: 122 ms\n"
     ]
    }
   ],
   "source": [
    "%%time\n",
    "import netCDF4 as nc\n",
    "import numpy as np\n",
    "grid_name = \"grid.nc\"\n",
    "grid_path = f'{ppi_path}/2.redock/4.receptor_grid/{system}'\n",
    "print(grid_path)\n",
    "grid_nc = '%s/%s'%(grid_path,grid_name)\n",
    "\n",
    "\n",
    "#parsing some of the netcdf variables from grid.nc\n",
    "grid_variables = nc.Dataset(grid_nc, 'r').variables\n",
    "counts = nc.Dataset(grid_nc, 'r').variables[\"counts\"][:]\n",
    "x = nc.Dataset(grid_nc, 'r').variables[\"x\"][:]\n",
    "y = nc.Dataset(grid_nc, 'r').variables[\"y\"][:]\n",
    "z = nc.Dataset(grid_nc, 'r').variables[\"z\"][:]\n",
    "electrostatic = nc.Dataset(grid_nc, 'r').variables[\"electrostatic\"][:]\n",
    "lja = nc.Dataset(grid_nc, 'r').variables[\"LJa\"][:]\n",
    "ljr = nc.Dataset(grid_nc, 'r').variables[\"LJr\"][:]\n",
    "sasa = nc.Dataset(grid_nc, 'r').variables[\"sasa\"][:]\n",
    "occupancy = nc.Dataset(grid_nc, 'r').variables[\"occupancy\"][:]\n",
    "trans_crd = nc.Dataset(grid_nc, 'r').variables[\"trans_crd\"][:]\n",
    "rec_disp = nc.Dataset(grid_nc, 'r').variables[\"displacement\"][:]"
   ]
  },
  {
   "cell_type": "code",
   "execution_count": 9,
   "metadata": {
    "tags": []
   },
   "outputs": [
    {
     "name": "stdout",
     "output_type": "stream",
     "text": [
      "[1.]\n",
      "/home/jim/src/p39/fftanalysis/test_systems/2.redock/4.receptor_grid/2OOB_A:B/grid.nc\n",
      "x\n",
      "[  0.    0.5   1.    1.5   2.    2.5   3.    3.5   4.    4.5   5.    5.5\n",
      "   6.    6.5   7.    7.5   8.    8.5   9.    9.5  10.   10.5  11.   11.5\n",
      "  12.   12.5  13.   13.5  14.   14.5  15.   15.5  16.   16.5  17.   17.5\n",
      "  18.   18.5  19.   19.5  20.   20.5  21.   21.5  22.   22.5  23.   23.5\n",
      "  24.   24.5  25.   25.5  26.   26.5  27.   27.5  28.   28.5  29.   29.5\n",
      "  30.   30.5  31.   31.5  32.   32.5  33.   33.5  34.   34.5  35.   35.5\n",
      "  36.   36.5  37.   37.5  38.   38.5  39.   39.5  40.   40.5  41.   41.5\n",
      "  42.   42.5  43.   43.5  44.   44.5  45.   45.5  46.   46.5  47.   47.5\n",
      "  48.   48.5  49.   49.5  50.   50.5  51.   51.5  52.   52.5  53.   53.5\n",
      "  54.   54.5  55.   55.5  56.   56.5  57.   57.5  58.   58.5  59.   59.5\n",
      "  60.   60.5  61.   61.5  62.   62.5  63.   63.5  64.   64.5  65.   65.5\n",
      "  66.   66.5  67.   67.5  68.   68.5  69.   69.5  70.   70.5  71.   71.5\n",
      "  72.   72.5  73.   73.5  74.   74.5  75.   75.5  76.   76.5  77.   77.5\n",
      "  78.   78.5  79.   79.5  80.   80.5  81.   81.5  82.   82.5  83.   83.5\n",
      "  84.   84.5  85.   85.5  86.   86.5  87.   87.5  88.   88.5  89.   89.5\n",
      "  90.   90.5  91.   91.5  92.   92.5  93.   93.5  94.   94.5  95.   95.5\n",
      "  96.   96.5  97.   97.5  98.   98.5  99.   99.5 100.  100.5 101.  101.5\n",
      " 102.  102.5 103.  103.5 104.  104.5 105.  105.5 106.  106.5 107. ]\n",
      "y\n",
      "[  0.    0.5   1.    1.5   2.    2.5   3.    3.5   4.    4.5   5.    5.5\n",
      "   6.    6.5   7.    7.5   8.    8.5   9.    9.5  10.   10.5  11.   11.5\n",
      "  12.   12.5  13.   13.5  14.   14.5  15.   15.5  16.   16.5  17.   17.5\n",
      "  18.   18.5  19.   19.5  20.   20.5  21.   21.5  22.   22.5  23.   23.5\n",
      "  24.   24.5  25.   25.5  26.   26.5  27.   27.5  28.   28.5  29.   29.5\n",
      "  30.   30.5  31.   31.5  32.   32.5  33.   33.5  34.   34.5  35.   35.5\n",
      "  36.   36.5  37.   37.5  38.   38.5  39.   39.5  40.   40.5  41.   41.5\n",
      "  42.   42.5  43.   43.5  44.   44.5  45.   45.5  46.   46.5  47.   47.5\n",
      "  48.   48.5  49.   49.5  50.   50.5  51.   51.5  52.   52.5  53.   53.5\n",
      "  54.   54.5  55.   55.5  56.   56.5  57.   57.5  58.   58.5  59.   59.5\n",
      "  60.   60.5  61.   61.5  62.   62.5  63.   63.5  64.   64.5  65.   65.5\n",
      "  66.   66.5  67.   67.5  68.   68.5  69.   69.5  70.   70.5  71.   71.5\n",
      "  72.   72.5  73.   73.5  74.   74.5  75.   75.5  76.   76.5  77.   77.5\n",
      "  78.   78.5  79.   79.5  80.   80.5  81.   81.5  82.   82.5  83.   83.5\n",
      "  84.   84.5  85.   85.5  86.   86.5  87.   87.5  88.   88.5  89.   89.5\n",
      "  90.   90.5  91.   91.5  92.   92.5  93.   93.5  94.   94.5  95.   95.5\n",
      "  96.   96.5  97.   97.5  98.   98.5  99.   99.5 100.  100.5 101.  101.5\n",
      " 102.  102.5 103.  103.5 104.  104.5 105.  105.5 106.  106.5 107. ]\n",
      "z\n",
      "[  0.    0.5   1.    1.5   2.    2.5   3.    3.5   4.    4.5   5.    5.5\n",
      "   6.    6.5   7.    7.5   8.    8.5   9.    9.5  10.   10.5  11.   11.5\n",
      "  12.   12.5  13.   13.5  14.   14.5  15.   15.5  16.   16.5  17.   17.5\n",
      "  18.   18.5  19.   19.5  20.   20.5  21.   21.5  22.   22.5  23.   23.5\n",
      "  24.   24.5  25.   25.5  26.   26.5  27.   27.5  28.   28.5  29.   29.5\n",
      "  30.   30.5  31.   31.5  32.   32.5  33.   33.5  34.   34.5  35.   35.5\n",
      "  36.   36.5  37.   37.5  38.   38.5  39.   39.5  40.   40.5  41.   41.5\n",
      "  42.   42.5  43.   43.5  44.   44.5  45.   45.5  46.   46.5  47.   47.5\n",
      "  48.   48.5  49.   49.5  50.   50.5  51.   51.5  52.   52.5  53.   53.5\n",
      "  54.   54.5  55.   55.5  56.   56.5  57.   57.5  58.   58.5  59.   59.5\n",
      "  60.   60.5  61.   61.5  62.   62.5  63.   63.5  64.   64.5  65.   65.5\n",
      "  66.   66.5  67.   67.5  68.   68.5  69.   69.5  70.   70.5  71.   71.5\n",
      "  72.   72.5  73.   73.5  74.   74.5  75.   75.5  76.   76.5  77.   77.5\n",
      "  78.   78.5  79.   79.5  80.   80.5  81.   81.5  82.   82.5  83.   83.5\n",
      "  84.   84.5  85.   85.5  86.   86.5  87.   87.5  88.   88.5  89.   89.5\n",
      "  90.   90.5  91.   91.5  92.   92.5  93.   93.5  94.   94.5  95.   95.5\n",
      "  96.   96.5  97.   97.5  98.   98.5  99.   99.5 100.  100.5 101.  101.5\n",
      " 102.  102.5 103.  103.5 104.  104.5 105.  105.5 106.  106.5 107. ]\n",
      "d0\n",
      "[0.5 0.  0. ]\n",
      "d1\n",
      "[0.  0.5 0. ]\n",
      "d2\n",
      "[0.  0.  0.5]\n",
      "spacing\n",
      "[0.5 0.5 0.5]\n",
      "counts\n",
      "[215 215 215]\n",
      "origin\n",
      "[0. 0. 0.]\n",
      "lj_sigma_scaling_factor\n",
      "[1.]\n",
      "rec_core_scaling\n",
      "[0.76]\n",
      "rec_surface_scaling\n",
      "[0.53]\n",
      "rec_metal_scaling\n",
      "[0.55]\n",
      "Doing FFT for occupancy\n",
      "Doing FFT for LJr\n",
      "Doing FFT for LJa\n",
      "Doing FFT for electrostatic\n",
      "Doing FFT for sasa\n",
      "Doing FFT for water\n",
      "Copy entries from receptor_grid ['lj_sigma_scaling_factor', 'x', 'y', 'z', 'd0', 'd1', 'd2', 'spacing', 'counts', 'origin', 'rec_core_scaling', 'rec_surface_scaling', 'rec_metal_scaling']\n",
      "[1.]\n",
      "[  0.    0.5   1.    1.5   2.    2.5   3.    3.5   4.    4.5   5.    5.5\n",
      "   6.    6.5   7.    7.5   8.    8.5   9.    9.5  10.   10.5  11.   11.5\n",
      "  12.   12.5  13.   13.5  14.   14.5  15.   15.5  16.   16.5  17.   17.5\n",
      "  18.   18.5  19.   19.5  20.   20.5  21.   21.5  22.   22.5  23.   23.5\n",
      "  24.   24.5  25.   25.5  26.   26.5  27.   27.5  28.   28.5  29.   29.5\n",
      "  30.   30.5  31.   31.5  32.   32.5  33.   33.5  34.   34.5  35.   35.5\n",
      "  36.   36.5  37.   37.5  38.   38.5  39.   39.5  40.   40.5  41.   41.5\n",
      "  42.   42.5  43.   43.5  44.   44.5  45.   45.5  46.   46.5  47.   47.5\n",
      "  48.   48.5  49.   49.5  50.   50.5  51.   51.5  52.   52.5  53.   53.5\n",
      "  54.   54.5  55.   55.5  56.   56.5  57.   57.5  58.   58.5  59.   59.5\n",
      "  60.   60.5  61.   61.5  62.   62.5  63.   63.5  64.   64.5  65.   65.5\n",
      "  66.   66.5  67.   67.5  68.   68.5  69.   69.5  70.   70.5  71.   71.5\n",
      "  72.   72.5  73.   73.5  74.   74.5  75.   75.5  76.   76.5  77.   77.5\n",
      "  78.   78.5  79.   79.5  80.   80.5  81.   81.5  82.   82.5  83.   83.5\n",
      "  84.   84.5  85.   85.5  86.   86.5  87.   87.5  88.   88.5  89.   89.5\n",
      "  90.   90.5  91.   91.5  92.   92.5  93.   93.5  94.   94.5  95.   95.5\n",
      "  96.   96.5  97.   97.5  98.   98.5  99.   99.5 100.  100.5 101.  101.5\n",
      " 102.  102.5 103.  103.5 104.  104.5 105.  105.5 106.  106.5 107. ]\n",
      "[  0.    0.5   1.    1.5   2.    2.5   3.    3.5   4.    4.5   5.    5.5\n",
      "   6.    6.5   7.    7.5   8.    8.5   9.    9.5  10.   10.5  11.   11.5\n",
      "  12.   12.5  13.   13.5  14.   14.5  15.   15.5  16.   16.5  17.   17.5\n",
      "  18.   18.5  19.   19.5  20.   20.5  21.   21.5  22.   22.5  23.   23.5\n",
      "  24.   24.5  25.   25.5  26.   26.5  27.   27.5  28.   28.5  29.   29.5\n",
      "  30.   30.5  31.   31.5  32.   32.5  33.   33.5  34.   34.5  35.   35.5\n",
      "  36.   36.5  37.   37.5  38.   38.5  39.   39.5  40.   40.5  41.   41.5\n",
      "  42.   42.5  43.   43.5  44.   44.5  45.   45.5  46.   46.5  47.   47.5\n",
      "  48.   48.5  49.   49.5  50.   50.5  51.   51.5  52.   52.5  53.   53.5\n",
      "  54.   54.5  55.   55.5  56.   56.5  57.   57.5  58.   58.5  59.   59.5\n",
      "  60.   60.5  61.   61.5  62.   62.5  63.   63.5  64.   64.5  65.   65.5\n",
      "  66.   66.5  67.   67.5  68.   68.5  69.   69.5  70.   70.5  71.   71.5\n",
      "  72.   72.5  73.   73.5  74.   74.5  75.   75.5  76.   76.5  77.   77.5\n",
      "  78.   78.5  79.   79.5  80.   80.5  81.   81.5  82.   82.5  83.   83.5\n",
      "  84.   84.5  85.   85.5  86.   86.5  87.   87.5  88.   88.5  89.   89.5\n",
      "  90.   90.5  91.   91.5  92.   92.5  93.   93.5  94.   94.5  95.   95.5\n",
      "  96.   96.5  97.   97.5  98.   98.5  99.   99.5 100.  100.5 101.  101.5\n",
      " 102.  102.5 103.  103.5 104.  104.5 105.  105.5 106.  106.5 107. ]\n",
      "[  0.    0.5   1.    1.5   2.    2.5   3.    3.5   4.    4.5   5.    5.5\n",
      "   6.    6.5   7.    7.5   8.    8.5   9.    9.5  10.   10.5  11.   11.5\n",
      "  12.   12.5  13.   13.5  14.   14.5  15.   15.5  16.   16.5  17.   17.5\n",
      "  18.   18.5  19.   19.5  20.   20.5  21.   21.5  22.   22.5  23.   23.5\n",
      "  24.   24.5  25.   25.5  26.   26.5  27.   27.5  28.   28.5  29.   29.5\n",
      "  30.   30.5  31.   31.5  32.   32.5  33.   33.5  34.   34.5  35.   35.5\n",
      "  36.   36.5  37.   37.5  38.   38.5  39.   39.5  40.   40.5  41.   41.5\n",
      "  42.   42.5  43.   43.5  44.   44.5  45.   45.5  46.   46.5  47.   47.5\n",
      "  48.   48.5  49.   49.5  50.   50.5  51.   51.5  52.   52.5  53.   53.5\n",
      "  54.   54.5  55.   55.5  56.   56.5  57.   57.5  58.   58.5  59.   59.5\n",
      "  60.   60.5  61.   61.5  62.   62.5  63.   63.5  64.   64.5  65.   65.5\n",
      "  66.   66.5  67.   67.5  68.   68.5  69.   69.5  70.   70.5  71.   71.5\n",
      "  72.   72.5  73.   73.5  74.   74.5  75.   75.5  76.   76.5  77.   77.5\n",
      "  78.   78.5  79.   79.5  80.   80.5  81.   81.5  82.   82.5  83.   83.5\n",
      "  84.   84.5  85.   85.5  86.   86.5  87.   87.5  88.   88.5  89.   89.5\n",
      "  90.   90.5  91.   91.5  92.   92.5  93.   93.5  94.   94.5  95.   95.5\n",
      "  96.   96.5  97.   97.5  98.   98.5  99.   99.5 100.  100.5 101.  101.5\n",
      " 102.  102.5 103.  103.5 104.  104.5 105.  105.5 106.  106.5 107. ]\n",
      "[0.5 0.  0. ]\n",
      "[0.  0.5 0. ]\n",
      "[0.  0.  0.5]\n",
      "[0.5 0.5 0.5]\n",
      "[215 215 215]\n",
      "[0. 0. 0.]\n",
      "[0.76]\n",
      "[0.53]\n",
      "[0.55]\n",
      "[1.]\n",
      "Number of atoms in /home/jim/src/p39/fftanalysis/test_systems/2.redock/2.minimize/2OOB_A:B/ligand.inpcrd is 777\n",
      "Ligand translated by [ 8.  13.5  5.5]\n",
      "[2.6410512 2.3671129 2.3805658]\n",
      "Ligand translated by [0. 0. 0.]\n",
      "[2.6410512 2.3671129 2.3805658]\n",
      "CPU times: user 2.54 s, sys: 331 ms, total: 2.87 s\n",
      "Wall time: 2.51 s\n"
     ]
    }
   ],
   "source": [
    "%%time\n",
    "from bpmfwfft.grids import RecGrid\n",
    "from bpmfwfft.grids import LigGrid\n",
    "import netCDF4 as nc\n",
    "\n",
    "rec_prmtop = f\"{ppi_path}/2.redock/1.amber/{system}/receptor.prmtop\"\n",
    "lj_sigma_scal_fact = 1.0\n",
    "rec_inpcrd = f\"{ppi_path}/2.redock/2.minimize/{system}/receptor.inpcrd\"\n",
    "\n",
    "bsite_file = None\n",
    "grid_nc_file = f\"{ppi_path}/2.redock/4.receptor_grid/{system}/grid.nc\"\n",
    "\n",
    "lig_prmtop = f\"{ppi_path}/2.redock/1.amber/{system}/ligand.prmtop\"\n",
    "# lig_inpcrd = f\"{ppi_path}/2.redock/2.minimze/2OOB_A:B/ligand.inpcrd\"\n",
    "\n",
    "# rot_nc = f\"{ppi_path}/2.redock/3.ligand_rand_rot/{system}/trajectory.nc\"\n",
    "# lig_rot = nc.Dataset(rot_nc, 'r').variables['positions']\n",
    "lig_inpcrd = f\"{ppi_path}/2.redock/2.minimize/{system}/ligand.inpcrd\"\n",
    "\n",
    "rho = 9.0\n",
    "rc_scale = 0.76\n",
    "rs_scale = 0.53\n",
    "rm_scale = 0.55\n",
    "lc_scale = 0.81\n",
    "ls_scale = 0.50\n",
    "lm_scale = 0.54\n",
    "\n",
    "\n",
    "def _create_rec_grid(rec_prmtop, lj_sigma_scal_fact, rc_scale, rs_scale, rm_scale, rho, rec_inpcrd, bsite_file, grid_nc_file):\n",
    "    rec_grid = RecGrid(rec_prmtop, lj_sigma_scal_fact, rc_scale, rs_scale, rm_scale, rho, rec_inpcrd, bsite_file, \n",
    "                        grid_nc_file, new_calculation=False)\n",
    "    return rec_grid\n",
    "\n",
    "def _create_lig_grid(lig_prmtop, lj_sigma_scal_fact, lc_scale, ls_scale, lm_scale, lig_inpcrd, rec_grid):\n",
    "    lig_grid = LigGrid(lig_prmtop, lj_sigma_scal_fact, lc_scale, ls_scale, lm_scale, lig_inpcrd, rec_grid)\n",
    "    return lig_grid\n",
    "\n",
    "rec_grid = _create_rec_grid(rec_prmtop, lj_sigma_scal_fact, rc_scale, rs_scale, rm_scale, rho, rec_inpcrd, bsite_file, grid_nc_file)\n",
    "\n",
    "lig_grid = _create_lig_grid(lig_prmtop, lj_sigma_scal_fact, lc_scale, ls_scale, lm_scale, lig_inpcrd, rec_grid)\n",
    "# rot_num = 0\n",
    "# lig_grid._crd = np.array(lig_rot[rot_num], dtype=np.float64)\n",
    "lig_grid._move_ligand_to_lower_corner()"
   ]
  },
  {
   "cell_type": "code",
   "execution_count": 10,
   "metadata": {},
   "outputs": [
    {
     "name": "stdout",
     "output_type": "stream",
     "text": [
      "calculating Ligand LJr grid\n",
      "(10, array([ 148.13328362,  170.56798633,   32.24372078,   37.77315981,\n",
      "        896.53712822,   21.34211915,  -16.82299891,  -32.11736692,\n",
      "       -127.14489844, -109.19914047]))(60, array([  26.30398524,  108.99847006,   -2.19705807,   60.95610185,\n",
      "        -18.61936879,  210.29579343,  903.23603448,  -86.0700052 ,\n",
      "        -53.93052647, -127.66043338]))\n",
      "\n",
      "(62, array([  25.73243773,   47.09809567,  159.5523195 ,  939.04076206,\n",
      "        -32.12744108,  119.54664772,   63.76773784, -126.843311  ,\n",
      "        -59.91485526, -114.53940003]))(16, array([ 860.94374433,   -4.93185541,    8.24078732,    6.60385511,\n",
      "        268.5715496 ,   20.73117784,   75.63435302, -127.50164347,\n",
      "        -66.38589701,  -20.59307817]))\n",
      "\n",
      "(65, array([ 185.0839914 ,   17.35303209,   82.47110977,   58.41274576,\n",
      "        967.63966429,   93.9507064 ,  -52.10318316,  -82.45537427,\n",
      "       -122.4390816 , -126.60061752]))\n",
      "(19, array([ 101.42631635,  -74.67608593,   98.20459055,   33.90656798,\n",
      "        235.86078222,  942.60678855,   21.59165938, -127.28817899,\n",
      "        -82.72427389, -127.59517306]))\n",
      "(67, array([  50.22632063,  887.88668788,   15.87251054,  -12.62147803,\n",
      "        150.18945979,  168.64596304,   22.69481659, -126.78650145,\n",
      "        -23.54738708, -111.24739874]))(116, array([ 125.14501933,  148.02635382,   54.04746124,  938.54569464,\n",
      "         33.43222062,  -25.66713644,   39.77020169,  -53.62960924,\n",
      "       -112.30528904, -126.05192346]))\n",
      "(19, array([ 101.42631635,  -74.67608593,   98.20459055,   33.90656798,\n",
      "        235.86078222,  942.60678855,   21.59165938, -127.28817899,\n",
      "        -82.72427389, -127.59517306]))\n",
      "(151, array([ 2.39058471e+01,  5.62358765e+01, -1.57415033e+01,  1.02577175e+02,\n",
      "        8.36175590e-01,  2.10053535e+02,  9.06018953e+02, -5.12943197e+01,\n",
      "       -8.37136845e+01, -1.27565062e+02]))\n",
      "\n",
      "(71, array([  56.04468317,  966.53942144,  186.9252    ,   20.17021039,\n",
      "         92.78467721,  -52.60712269,   82.89086035,  -81.9236055 ,\n",
      "       -122.99328102, -126.5180502 ]))\n",
      "(27, array([ 129.32692473,   77.8964951 ,    1.4988184 ,  992.22607942,\n",
      "         97.01289491,   69.75317675,  -25.01880134,  -89.42284043,\n",
      "       -124.36810023, -107.59165415]))(197, array([   2.57567814,   93.67796539,   16.93351489,  886.45019859,\n",
      "        235.74552936,  -12.1028283 ,   44.52672674,  -41.30862633,\n",
      "       -127.62373865,  -77.56142668]))(176, array([ 159.95550392,  -83.32545736,  144.89223192,  -10.44153862,\n",
      "       1002.60271256,  212.32382702,  -39.45056605, -125.4365487 ,\n",
      "       -112.36679509, -127.44037643]))\n",
      "\n",
      "\n",
      "(136, array([   8.92501398,  937.2395383 ,  135.40261166,  150.36424956,\n",
      "         40.29078724,  -26.02889141,   67.16777101,  -61.44303336,\n",
      "       -127.20830032, -103.39675349]))(176, array([ 159.95550392,  -83.32545736,  144.89223192,  -10.44153862,\n",
      "       1002.60271256,  212.32382702,  -39.45056605, -125.4365487 ,\n",
      "       -112.36679509, -127.44037643]))\n",
      "\n",
      "(199, array([ 161.82193305,   30.117725  ,   93.54228582,  954.6400225 ,\n",
      "         56.80859106,   70.01383824,  -35.3139722 ,  -66.92966589,\n",
      "       -117.44740558, -125.94035884]))\n",
      "(138, array([  51.163949  ,  919.8704223 ,  125.29807862,  151.56374006,\n",
      "         17.76532595,  -10.98303971,   25.22476744,  -28.43057253,\n",
      "       -124.177388  , -105.98228995]))(81, array([ 245.1932449 ,   15.64490468,   19.96386134,  946.54312024,\n",
      "        109.20500961,  110.43507986,  -82.98211386,  -87.47202042,\n",
      "       -127.58097507, -127.63711813]))(179, array([ -20.22681094,  148.7106936 ,  234.37057059,  989.76475554,\n",
      "        -94.92128697,  -21.66576966,  148.06484455, -127.41694393,\n",
      "       -107.90548587, -127.46157375]))\n",
      "\n",
      "(202, array([  -9.28415974,   10.74733794,   15.71343921,  868.10818576,\n",
      "         51.67806336,  183.56261857,  155.82571058, -127.27252881,\n",
      "       -111.67281611,  -16.09285761]))(40, array([  63.42372589,  -50.9483376 ,   24.12961943,  923.32749513,\n",
      "         76.73183538,  207.10585228,   94.37778904, -127.65290031,\n",
      "        -65.7090036 , -123.47308247]))(246, array([ 129.64548866, 1867.85352389,   14.96315971,   -6.25094667,\n",
      "        193.89715073,  289.32032439,   20.64518108, -236.3361534 ,\n",
      "        -27.76419308, -197.97353531]))\n",
      "\n",
      "(81, array([ 245.1932449 ,   15.64490468,   19.96386134,  946.54312024,\n",
      "        109.20500961,  110.43507986,  -82.98211386,  -87.47202042,\n",
      "       -127.58097507, -127.63711813]))\n",
      "\n",
      "\n",
      "(179, array([ -20.22681094,  148.7106936 ,  234.37057059,  989.76475554,\n",
      "        -94.92128697,  -21.66576966,  148.06484455, -127.41694393,\n",
      "       -107.90548587, -127.46157375]))(246, array([ 129.64548866, 1867.85352389,   14.96315971,   -6.25094667,\n",
      "        193.89715073,  289.32032439,   20.64518108, -236.3361534 ,\n",
      "        -27.76419308, -197.97353531]))\n",
      "\n",
      "(208, array([ 202.79171869,  -82.0699473 ,  223.33172849,  -96.76758421,\n",
      "       1019.77852919,  208.55375411,  -74.88337153, -127.32473228,\n",
      "       -126.89210064, -125.20500135]))(247, array([ 144.24178286,   46.29977666,  -64.69551968,  987.44782084,\n",
      "        186.9103887 ,  107.92622516,  -35.94431715, -119.04008263,\n",
      "       -127.6490142 , -104.18406739]))(187, array([ 207.80066174,  -82.71190608,  206.19222864,  -79.57988078,\n",
      "        209.01244722, 1021.28402247,  -81.39063004, -126.41941125,\n",
      "       -126.28419044, -126.59034832]))\n",
      "\n",
      "\n",
      "(208, array([ 202.79171869,  -82.0699473 ,  223.33172849,  -96.76758421,\n",
      "       1019.77852919,  208.55375411,  -74.88337153, -127.32473228,\n",
      "       -126.89210064, -125.20500135]))(187, array([ 207.80066174,  -82.71190608,  206.19222864,  -79.57988078,\n",
      "        209.01244722, 1021.28402247,  -81.39063004, -126.41941125,\n",
      "       -126.28419044, -126.59034832]))\n",
      "\n",
      "(208, array([ 202.79171869,  -82.0699473 ,  223.33172849,  -96.76758421,\n",
      "       1019.77852919,  208.55375411,  -74.88337153, -127.32473228,\n",
      "       -126.89210064, -125.20500135]))(187, array([ 207.80066174,  -82.71190608,  206.19222864,  -79.57988078,\n",
      "        209.01244722, 1021.28402247,  -81.39063004, -126.41941125,\n",
      "       -126.28419044, -126.59034832]))(255, array([  64.44675753,  -23.29649891,  122.27505419,  -25.46833132,\n",
      "        118.65575801,  972.61288449,  111.38417576, -127.18901118,\n",
      "        -97.01276864,  -95.09502677]))(305, array([ -53.726904  ,  965.03382002,   81.87074361,   10.04541916,\n",
      "         97.39820239,   65.23906126,  187.3139601 , -127.11163307,\n",
      "       -121.77821076,  -82.97146557]))(337, array([  45.59197611,  152.09974742,   14.76402467,   67.94644592,\n",
      "        -31.24206347,  133.86844227,  937.8487814 , -110.39701715,\n",
      "        -61.92937708, -127.23796695]))\n",
      "\n",
      "\n",
      "\n",
      "\n",
      "(189, array([ 108.33408143,   45.63037279,  171.12294071,  -49.2898016 ,\n",
      "        988.7293157 ,   93.08083863,    3.0649978 , -120.23963709,\n",
      "       -125.92238023,  -93.19773497]))\n",
      "(262, array([  19.0642784 ,   63.18895165,  -16.27957809,  872.90879969,\n",
      "        179.23738698,   24.05217901,  150.06386928, -127.22110415,\n",
      "       -119.4231792 ,  -24.2786104 ]))(389, array([  98.42884055,    9.41695004,   35.70177476,   17.34124167,\n",
      "        189.98522353,   -5.34684443,  910.13440069,  -90.09698251,\n",
      "       -124.49934676,  -19.75226438]))(350, array([  14.77976654,  968.65818995,  164.96771661,   79.68637719,\n",
      "         70.12028511,  -41.57001628,   87.47621984,  -78.84431993,\n",
      "       -126.33034832, -117.63087754]))(226, array([ 152.54496819,  -39.14553583,   88.18495714,   79.8227932 ,\n",
      "        143.49739977,  980.61454939,  -44.66926595, -104.05845667,\n",
      "       -107.83933556, -127.63908052]))\n",
      "\n",
      "\n",
      "\n",
      "(264, array([ 922.46181324,   33.35648959,  127.8857059 ,  167.56222306,\n",
      "        -30.63350439,   41.19599854,   54.87435421,  -51.94571788,\n",
      "       -127.1241788 , -116.32019033]))\n",
      "(355, array([ 132.42775167,  179.83450912,   43.49373915,  900.5765293 ,\n",
      "         46.8207303 ,  -27.60975226,   34.23576027,  -41.83968326,\n",
      "       -119.33565716, -127.29093397]))(439, array([ 195.32555527,  107.66363721,   35.21492933,   76.90550901,\n",
      "         32.51147249,  886.60549055,  -26.10987714,  -35.75508374,\n",
      "       -126.63647817, -124.41216165]))(408, array([ -13.26581697,   20.66087221,   16.05446114,  877.4471381 ,\n",
      "        154.34778571,   63.795766  ,  167.86667441, -117.27666774,\n",
      "       -126.84367129,  -21.47354842]))\n",
      "\n",
      "\n",
      "(267, array([  12.52201474,   10.52646833,   -7.95765545,  156.39742109,\n",
      "        142.05529284,   82.03097441,  882.3963091 ,  -14.24802221,\n",
      "       -124.92839747, -117.48141221]))(439, array([ 195.32555527,  107.66363721,   35.21492933,   76.90550901,\n",
      "         32.51147249,  886.60549055,  -26.10987714,  -35.75508374,\n",
      "       -126.63647817, -124.41216165]))\n",
      "\n",
      "(442, array([ -13.11340057,  981.66911575,  109.99716889,  -70.46767174,\n",
      "        203.91364658,   31.90313028,  126.91116164, -127.45899456,\n",
      "        -97.98095187, -124.06021123]))(482, array([  10.96676209,  195.33218223,  148.88048218,    9.39937471,\n",
      "         -8.49444182,   85.7264555 ,  841.16391231, -127.27473736,\n",
      "        -11.34397494, -123.04302173]))(284, array([ 2.86446243e+02,  3.21754233e+01,  8.54108706e+02, -3.83701907e+00,\n",
      "        5.13704750e+01, -2.45364931e-02,  6.81842466e+00, -4.72782371e+01,\n",
      "       -3.08861715e+01, -1.27580314e+02]))(381, array([ 3.41643498e+01,  8.71829634e-01,  1.14298957e+02, -2.00770499e+01,\n",
      "        9.31883297e+02,  6.83566951e+01,  1.73333300e+02, -1.27297378e+02,\n",
      "       -9.22090634e+01, -6.20119446e+01]))\n",
      "\n",
      "\n",
      "\n",
      "(442, array([ -13.11340057,  981.66911575,  109.99716889,  -70.46767174,\n",
      "        203.91364658,   31.90313028,  126.91116164, -127.45899456,\n",
      "        -97.98095187, -124.06021123]))\n",
      "(286, array([ 102.86360447,  171.15796107,  -27.30871259,  135.84400182,\n",
      "        -53.50908863,   46.25116502,  993.89910036, -117.1088618 ,\n",
      "       -103.55812194, -127.21805463]))\n",
      "(531, array([ 188.28595079,   25.70066478,  133.52372199,  891.75996429,\n",
      "        -12.10991708,   35.02987158,   15.56409332, -103.25691197,\n",
      "        -26.15906216, -127.02538239]))(456, array([  11.33742672,   15.2393558 ,   -6.73838308,  897.0774153 ,\n",
      "         86.57180017,   27.56658512,  222.94108264, -126.58294537,\n",
      "        -77.5438302 ,  -28.55551394]))\n",
      "\n",
      "(533, array([ 266.44918148,   42.01509005,   47.31935375,  873.33129667,\n",
      "         -2.43936461,   -1.09960275,    8.70108174,  -45.12126872,\n",
      "        -40.55107334, -127.29170112]))(519, array([ -52.87253585,  994.69660994,  106.8076121 ,  -42.20342931,\n",
      "        152.13788136,   46.36524186,  167.25985049, -127.51629082,\n",
      "       -114.44012103, -108.92182558]))(458, array([ -55.88070092,  197.39028687,  238.63444654, 1011.55357237,\n",
      "       -108.29491349,  -72.45013505,  186.56287977, -127.20250887,\n",
      "       -121.33979288, -127.66014116]))\n",
      "\n",
      "\n",
      "(547, array([ 104.60131105,   15.45415156,  214.04989614,  -70.08826842,\n",
      "        107.81435132,  966.79639571,   25.79131852, -127.0306955 ,\n",
      "       -126.4344922 ,  -89.64097503]))(584, array([ 137.23854324,  129.53869238,   55.39938086,  928.56586104,\n",
      "         33.41081509,   26.02536302,  -16.04719019,  -37.05309589,\n",
      "       -124.00408787, -111.76128851]))\n",
      "(458, array([ -55.88070092,  197.39028687,  238.63444654, 1011.55357237,\n",
      "       -108.29491349,  -72.45013505,  186.56287977, -127.20250887,\n",
      "       -121.33979288, -127.66014116]))\n",
      "(547, array([ 104.60131105,   15.45415156,  214.04989614,  -70.08826842,\n",
      "        107.81435132,  966.79639571,   25.79131852, -127.0306955 ,\n",
      "       -126.4344922 ,  -89.64097503]))\n",
      "\n",
      "(553, array([  79.46210378,   -5.33716771,  -25.4685004 ,  999.77262003,\n",
      "        131.13310641,  107.94693729,   63.2606728 , -124.2002377 ,\n",
      "       -108.728092  ,  -96.52844933]))\n",
      "(594, array([ -71.501525  ,  188.18449662,  200.81567163, 1020.65956123,\n",
      "        -75.77726319,  -61.05518157,  196.74197056, -126.55492687,\n",
      "       -124.78217529, -125.41763496]))\n",
      "(561, array([  29.66082324,  183.91524359,   42.31243749,   39.72997747,\n",
      "        -25.73961929,  150.32888936,  884.5576345 , -118.58468792,\n",
      "        -37.24375256, -127.62395271]))(473, array([ -70.91081628,  167.67800703, 1015.47746575,  -28.55334608,\n",
      "        157.36899255,  -44.71434692,  194.27665477, -124.59897204,\n",
      "       -126.39787904, -118.31276658]))(626, array([ 189.86628404,   20.28135879,  127.85593835,  -10.76450355,\n",
      "        114.84496533,  994.62208019,  -63.51137994, -101.85293457,\n",
      "       -126.62703683, -123.40177866]))\n",
      "\n",
      "(594, array([ -71.501525  ,  188.18449662,  200.81567163, 1020.65956123,\n",
      "        -75.77726319,  -61.05518157,  196.74197056, -126.55492687,\n",
      "       -124.78217529, -125.41763496]))\n",
      "\n",
      "(473, array([ -70.91081628,  167.67800703, 1015.47746575,  -28.55334608,\n",
      "        157.36899255,  -44.71434692,  194.27665477, -124.59897204,\n",
      "       -126.39787904, -118.31276658]))(594, array([ -71.501525  ,  188.18449662,  200.81567163, 1020.65956123,\n",
      "        -75.77726319,  -61.05518157,  196.74197056, -126.55492687,\n",
      "       -124.78217529, -125.41763496]))\n",
      "\n",
      "(479, array([  16.70061233,  940.76858605,  101.02681927,  -78.5581994 ,\n",
      "        242.56947601,   32.51618088,  105.22541688, -127.66059521,\n",
      "        -83.86911142, -127.40619224]))(602, array([ -52.92657146,  965.59986085,   79.96594011,  -12.22397599,\n",
      "        110.54421816,   85.01523194,  177.67760503, -127.61708361,\n",
      "       -116.89039812,  -87.83183375]))\n",
      "\n",
      "(637, array([ -82.99499286,  205.47243699, 1021.10902894,  -74.66004474,\n",
      "        201.51585169,  -79.25839852,  208.97376588, -126.28146019,\n",
      "       -126.70937742, -125.85381662]))(479, array([  16.70061233,  940.76858605,  101.02681927,  -78.5581994 ,\n",
      "        242.56947601,   32.51618088,  105.22541688, -127.66059521,\n",
      "        -83.86911142, -127.40619224]))\n",
      "(604, array([  70.11704032,  285.75500972,   20.8475995 ,    4.87524639,\n",
      "        847.58794584,    5.86880465,   -4.73625097,  -20.23520661,\n",
      "       -127.64474194,  -61.12245373]))\n",
      "(683, array([ 3.84143657e+01,  7.09213038e-01,  4.58640792e+00,  2.91211943e+02,\n",
      "        2.74279410e+01,  8.52315343e+02, -1.46117432e+00, -2.72784694e+01,\n",
      "       -3.72864658e+01, -1.27326111e+02]))\n",
      "(637, array([ -82.99499286,  205.47243699, 1021.10902894,  -74.66004474,\n",
      "        201.51585169,  -79.25839852,  208.97376588, -126.28146019,\n",
      "       -126.70937742, -125.85381662]))\n",
      "\n",
      "(637, array([ -82.99499286,  205.47243699, 1021.10902894,  -74.66004474,\n",
      "        201.51585169,  -79.25839852,  208.97376588, -126.28146019,\n",
      "       -126.70937742, -125.85381662]))\n",
      "(607, array([  28.69221384,   -5.07349249,  221.01230165,  904.22899956,\n",
      "         10.89871543,   75.80207058,   13.43828503,  -71.34571265,\n",
      "        -30.3921105 , -125.94827729]))\n",
      "(641, array([ 972.66758899,  -19.2579993 ,  119.48714659,   88.70531443,\n",
      "         -2.41396282,   51.56284219,  114.42835889,  -97.06204185,\n",
      "       -125.76581496,  -81.038439  ]))(610, array([ 5.99131661e+01,  6.51696755e+00,  3.19628118e+02,  8.15845402e+02,\n",
      "        6.26796742e-01,  2.66293881e+00, -6.08749302e-01, -2.65312725e+00,\n",
      "       -5.29546998e+01, -1.27663820e+02]))\n",
      "\n",
      "(645, array([ 185.54341445,  162.01622005,   54.86826909,  863.02977766,\n",
      "         25.26541595,   19.11746032,  -17.29995529,  -24.47969958,\n",
      "       -127.61300537, -119.13490411]))\n",
      "(648, array([  70.97826581,  -57.4545727 ,   67.25028026,  898.81774133,\n",
      "         67.99564755,  240.99908195,   49.23357764, -127.3563853 ,\n",
      "        -61.49348368, -127.65715968]))\n",
      "(648, array([  70.97826581,  -57.4545727 ,   67.25028026,  898.81774133,\n",
      "         67.99564755,  240.99908195,   49.23357764, -127.3563853 ,\n",
      "        -61.49348368, -127.65715968]))\n",
      "(746, array([   8.05964477,   -6.23203428,  105.82553918,  866.23432076,\n",
      "          8.48316121,  170.77310653,  124.84705789, -124.35647142,\n",
      "         -9.91040851, -122.41092297]))(656, array([ -13.89108676,   91.28545503,  136.94554599, 1005.12443461,\n",
      "        -28.4338918 ,   47.9472951 ,  120.75878245, -124.49048027,\n",
      "       -103.11469812, -110.81836306]))(714, array([  35.87952183,   -8.88150051,   13.49254402,  235.73354596,\n",
      "         86.9380751 ,  888.17486171,    7.28059057,  -75.01802579,\n",
      "        -34.92216476, -127.36445496]))\n",
      "\n",
      "\n",
      "(658, array([ 146.11970688,   10.54312832,   65.53591376,   86.83538174,\n",
      "         87.30077543,  976.77657896,  -33.2720716 ,  -80.40948778,\n",
      "       -112.50798778, -125.60894477]))\n",
      "(663, array([ -51.69141619,  974.83150545,   84.39063525,  -14.32025953,\n",
      "        115.34424301,   75.55363219,  172.89914576, -127.48026583,\n",
      "       -116.46933071,  -91.74489624]))\n",
      "(763, array([  45.00663206,  -34.1516531 ,  113.34576529,  880.22095314,\n",
      "         39.33443743,  213.25603552,   58.74572663, -124.95686387,\n",
      "        -41.88807782, -127.59996211]))(667, array([ 8.51660544e+02,  2.55670169e+00,  8.51954266e-02,  2.12365391e+00,\n",
      "        2.93438661e+02,  2.80378150e+01,  1.59699933e+01, -1.26600571e+02,\n",
      "       -1.69692355e+01, -2.89897648e+01]))\n",
      "\n",
      "(763, array([  45.00663206,  -34.1516531 ,  113.34576529,  880.22095314,\n",
      "         39.33443743,  213.25603552,   58.74572663, -124.95686387,\n",
      "        -41.88807782, -127.59996211]))\n",
      "(772, array([ 133.2287248 ,  -83.08305604,  132.05475231,   -4.13271071,\n",
      "        221.34702291,  985.74838121,   -7.02196213, -126.98323529,\n",
      "       -102.71669447, -127.12822944]))\n",
      "(772, array([ 133.2287248 ,  -83.08305604,  132.05475231,   -4.13271071,\n",
      "        221.34702291,  985.74838121,   -7.02196213, -126.98323529,\n",
      "       -102.71669447, -127.12822944]))\n",
      "--- LJr calculated in 1.815802812576294 seconds ---\n",
      "CPU times: user 501 ms, sys: 1.44 s, total: 1.94 s\n",
      "Wall time: 1.85 s\n"
     ]
    }
   ],
   "source": [
    "%%time\n",
    "# names = [\"occupancy\", \"sasa\", \"electrostatic\", \"LJa\", \"LJr\", \"water\"]\n",
    "# names = [\"occupancy\", \"LJa\", \"LJr\"]\n",
    "names = [\"LJr\"]\n",
    "# lgrid = lig_grid.get_ligand_grids(names, [0,0,0])\n",
    "vect = [91,90,120]*lig_grid._spacing\n",
    "lgrid = lig_grid.get_ligand_grids(names, vect)"
   ]
  },
  {
   "cell_type": "code",
   "execution_count": 9,
   "metadata": {},
   "outputs": [
    {
     "ename": "NameError",
     "evalue": "name 'ljr' is not defined",
     "output_type": "error",
     "traceback": [
      "\u001b[0;31m---------------------------------------------------------------------------\u001b[0m",
      "\u001b[0;31mNameError\u001b[0m                                 Traceback (most recent call last)",
      "\u001b[0;32m<ipython-input-9-cb169cec159a>\u001b[0m in \u001b[0;36m<module>\u001b[0;34m\u001b[0m\n\u001b[1;32m      1\u001b[0m \u001b[0;31m# direct grid pairwise multiplication vs fft energy test\u001b[0m\u001b[0;34m\u001b[0m\u001b[0;34m\u001b[0m\u001b[0;34m\u001b[0m\u001b[0m\n\u001b[0;32m----> 2\u001b[0;31m \u001b[0mprint\u001b[0m\u001b[0;34m(\u001b[0m\u001b[0mnp\u001b[0m\u001b[0;34m.\u001b[0m\u001b[0msum\u001b[0m\u001b[0;34m(\u001b[0m\u001b[0mlgrid\u001b[0m\u001b[0;34m[\u001b[0m\u001b[0;34m\"LJr\"\u001b[0m\u001b[0;34m]\u001b[0m\u001b[0;34m*\u001b[0m\u001b[0mljr\u001b[0m\u001b[0;34m)\u001b[0m\u001b[0;34m)\u001b[0m\u001b[0;34m\u001b[0m\u001b[0;34m\u001b[0m\u001b[0m\n\u001b[0m\u001b[1;32m      3\u001b[0m \u001b[0;34m\u001b[0m\u001b[0m\n\u001b[1;32m      4\u001b[0m \u001b[0mlljr_fft\u001b[0m \u001b[0;34m=\u001b[0m \u001b[0mnp\u001b[0m\u001b[0;34m.\u001b[0m\u001b[0mfft\u001b[0m\u001b[0;34m.\u001b[0m\u001b[0mfftn\u001b[0m\u001b[0;34m(\u001b[0m\u001b[0mlgrid\u001b[0m\u001b[0;34m[\u001b[0m\u001b[0;34m\"LJr\"\u001b[0m\u001b[0;34m]\u001b[0m\u001b[0;34m)\u001b[0m\u001b[0;34m\u001b[0m\u001b[0;34m\u001b[0m\u001b[0m\n\u001b[1;32m      5\u001b[0m \u001b[0mrljr_fft\u001b[0m \u001b[0;34m=\u001b[0m \u001b[0mrec_grid\u001b[0m\u001b[0;34m.\u001b[0m\u001b[0m_FFTs\u001b[0m\u001b[0;34m[\u001b[0m\u001b[0;34m\"LJr\"\u001b[0m\u001b[0;34m]\u001b[0m\u001b[0;34m\u001b[0m\u001b[0;34m\u001b[0m\u001b[0m\n",
      "\u001b[0;31mNameError\u001b[0m: name 'ljr' is not defined"
     ]
    }
   ],
   "source": [
    "# direct grid pairwise multiplication vs fft energy test\n",
    "print(np.sum(lgrid[\"LJr\"]*ljr))\n",
    "\n",
    "lljr_fft = np.fft.fftn(lgrid[\"LJr\"])\n",
    "rljr_fft = rec_grid._FFTs[\"LJr\"]\n",
    "ljr_energy = np.fft.ifftn(rljr_fft * lljr_fft.conjugate())\n",
    "ljr_energy = np.real(ljr_energy)\n",
    "print(ljr_energy[0,0,0])\n",
    "print(ljr_energy[91,90,120])\n",
    "\n",
    "print(np.where(ljr_energy == ljr_energy.min()))"
   ]
  },
  {
   "cell_type": "code",
   "execution_count": 14,
   "metadata": {},
   "outputs": [
    {
     "name": "stdout",
     "output_type": "stream",
     "text": [
      "1.476645123333827e-18 -247.9238358100112\n",
      "dict_keys(['CHARGE_E_UNIT', 'R_LJ_CHARGE', 'A_LJ_CHARGE', 'LJ_SIGMA', 'LJ_EPSILON', 'VDW_RADII', 'POINTERS', 'MASS', 'PDB_TEMPLATE'])\n",
      "2047.9999999999986\n",
      "[[49.  66.  72. ]\n",
      " [49.5 66.  71. ]\n",
      " [49.5 66.  71.5]\n",
      " ...\n",
      " [82.  51.  80.5]\n",
      " [82.  51.  82. ]\n",
      " [82.  51.5 92. ]]\n",
      "[132, 134, 135, 136, 137, 138, 142]\n",
      "dict_keys(['ATOM_NAME', 'RES_NAME', 'RES_ORDER'])\n",
      "C 905.5228666356246\n",
      "N 971.7475150469897\n",
      "H 0.3741427227676624\n",
      "CA 1021.3129931612534\n",
      "HA 57.09374965790913\n",
      "CB 1021.3129931612534\n",
      "C 905.5228666356246\n",
      "1021.3129931612534\n",
      "[4, 19, 25, 40, 50, 60, 79, 94, 108, 124, 136, 146, 168, 187, 197, 219, 238, 255, 262, 277, 284, 305, 315, 335, 350, 365, 381, 403, 427, 437, 456, 471, 490, 500, 517, 531, 545, 561, 576, 592, 602, 626, 637, 656, 675, 699, 714, 734, 744, 772]\n",
      "(array([  1,   2,   3,  24,  39,  49,  59,  78,  93, 102, 103, 107, 123,\n",
      "       135, 145, 161, 162, 163, 167, 186, 196, 212, 213, 214, 218, 237,\n",
      "       254, 261, 276, 283, 296, 304, 314, 334, 349, 364, 380, 396, 397,\n",
      "       398, 402, 415, 418, 419, 421, 422, 426, 436, 455, 470, 489, 499,\n",
      "       511, 512, 516, 525, 526, 530, 539, 540, 544, 560, 575, 591, 601,\n",
      "       614, 617, 618, 620, 621, 625, 632, 636, 655, 674, 687, 690, 691,\n",
      "       693, 694, 698, 713, 733, 743]),)\n",
      "C\n",
      "N 971.7475150469897 [78.9243302 50.5029521 93.7942128]\n",
      "CA 1021.3129931612534 [79.9786696 49.6932808 93.1680946]\n",
      "CA 1021.3129931612534 [75.3330765 51.5007064 83.7049525]\n",
      "CB 1021.3129931612534 [74.1776738 51.5813318 82.7002375]\n",
      "N 971.7475150469897 [80.0015268 50.2138088 90.7617884]\n",
      "CD 1021.3129931612534 [79.2659435 49.0337214 90.345078 ]\n",
      "CA 1021.3129931612534 [78.8926992 51.9399933 82.2513442]\n",
      "CG1 1021.3129931612534 [70.0323937 53.1840572 79.1872816]\n",
      "CB 1021.3129931612534 [79.8301587 50.729954  82.0678799]\n",
      "CG1 1021.3129931612534 [70.0323937 53.1840572 79.1872816]\n",
      "C 905.5228666356246 [66.6145966 61.7152224 83.2190113]\n",
      "CB 1021.3129931612534 [68.5775659 63.8207231 80.7790499]\n"
     ]
    }
   ],
   "source": [
    "print(np.min(ljr), lgrid[\"LJr\"].min())\n",
    "print(lig_grid._prmtop.keys())\n",
    "print(lig_grid._prmtop[\"R_LJ_CHARGE\"].max())\n",
    "print((np.array(np.where(lgrid[\"LJr\"] < -30.0)).T)*lig_grid._spacing)\n",
    "di = []\n",
    "for acrd in lig_grid._crd:\n",
    "    d = _distance(acrd, np.array([71.5,58.5,83.5]))\n",
    "    if d < 2.0:\n",
    "        di.append(np.array(np.where(lig_grid._crd == acrd)).T[0][0])\n",
    "print(di)\n",
    "print(lig_grid._prmtop[\"PDB_TEMPLATE\"].keys())\n",
    "for id in di:\n",
    "    print(lig_grid._prmtop[\"PDB_TEMPLATE\"][\"ATOM_NAME\"][id], lig_grid._prmtop[\"R_LJ_CHARGE\"][id])\n",
    "cai = [index for index, value in enumerate(lig_grid._prmtop[\"PDB_TEMPLATE\"][\"ATOM_NAME\"]) if value == 'CA']\n",
    "print(lig_grid._prmtop[\"R_LJ_CHARGE\"][136])\n",
    "print(cai)\n",
    "print(np.where(lig_grid._prmtop[\"R_LJ_CHARGE\"]<1))\n",
    "print(lig_grid._prmtop[\"PDB_TEMPLATE\"][\"ATOM_NAME\"][774])\n",
    "for index in [0,4,50,52,9,10,60,112,62,112,193,199]:\n",
    "    print(lig_grid._prmtop[\"PDB_TEMPLATE\"][\"ATOM_NAME\"][index] , lig_grid._prmtop[\"R_LJ_CHARGE\"][index], lig_grid._crd[index]) \n",
    "print(lig_grid._prmtop[\"R_LJ_CHARGE\"].mean())"
   ]
  },
  {
   "cell_type": "code",
   "execution_count": 8,
   "metadata": {},
   "outputs": [],
   "source": [
    "llja_fft = np.fft.fftn(lgrid[\"LJa\"])\n",
    "rlja_fft = rec_grid._FFTs[\"LJa\"]\n",
    "lljr_fft = np.fft.fftn(lgrid[\"LJr\"])\n",
    "rljr_fft = rec_grid._FFTs[\"LJr\"]\n",
    "l_occ = np.fft.fftn(lgrid[\"occupancy\"]).conjugate()\n",
    "r_occ = rec_grid._FFTs[\"occupancy\"]\n",
    "occ = np.fft.ifftn(r_occ * l_occ)\n",
    "occ = np.real(occ)\n",
    "lja_energy = np.fft.ifftn(rlja_fft * llja_fft.conjugate())\n",
    "lja_energy = np.real(lja_energy)\n",
    "ljr_energy = np.fft.ifftn(rljr_fft * lljr_fft.conjugate())\n",
    "ljr_energy = np.real(ljr_energy)"
   ]
  },
  {
   "cell_type": "code",
   "execution_count": null,
   "metadata": {},
   "outputs": [],
   "source": [
    "max_i, max_j, max_k = lig_grid._max_grid_indices\n",
    "lig_grid._free_of_clash = (occ < 0.001)\n",
    "lig_grid._free_of_clash = lig_grid._free_of_clash[0:max_i, 0:max_j, 0:max_k]"
   ]
  },
  {
   "cell_type": "code",
   "execution_count": null,
   "metadata": {},
   "outputs": [],
   "source": [
    "lig_grid._meaningful_energies = np.zeros(lig_grid._grid[\"counts\"], dtype=float)\n",
    "if np.any(lig_grid._free_of_clash):\n",
    "    grid_func_energy = np.fft.ifftn(rlja_fft * llja_fft.conjugate())\n",
    "    grid_func_energy = np.real(grid_func_energy)\n",
    "    lig_grid._meaningful_energies += grid_func_energy"
   ]
  },
  {
   "cell_type": "code",
   "execution_count": 9,
   "metadata": {},
   "outputs": [],
   "source": [
    "def rmsd(P: np.ndarray, Q: np.ndarray, **kwargs) -> float:\n",
    "    \"\"\"\n",
    "    Calculate Root-mean-square deviation from two sets of vectors V and W.\n",
    "    Parameters\n",
    "    ----------\n",
    "    V : array\n",
    "        (N,D) matrix, where N is points and D is dimension.\n",
    "    W : array\n",
    "        (N,D) matrix, where N is points and D is dimension.\n",
    "    Returns\n",
    "    -------\n",
    "    rmsd : float\n",
    "        Root-mean-square deviation between the two vectors\n",
    "    \"\"\"\n",
    "    diff = P - Q\n",
    "    return np.sqrt((diff * diff).sum() / P.shape[0])"
   ]
  },
  {
   "cell_type": "code",
   "execution_count": 10,
   "metadata": {},
   "outputs": [
    {
     "name": "stdout",
     "output_type": "stream",
     "text": [
      "LJa Min:-2044.75 LJa Max: -0.00\n",
      "LJr Min:-49.54   LJr Max: 2956.79\n"
     ]
    }
   ],
   "source": [
    "# score = lig_grid._meaningful_energies\n",
    "score = lja_energy\n",
    "score2 = ljr_energy\n",
    "print(f\"LJa Min:{np.amin(score):.2f}\", f\"LJa Max: {np.amax(score):.2f}\")\n",
    "print(f\"LJr Min:{np.amin(score2):.2f}\", f\"  LJr Max: {np.amax(score2):.2f}\")\n",
    "k = 2000 # number of scores to save\n",
    "flat_score = score.flatten()\n",
    "flat_argp = np.argpartition(flat_score, k)[:k]\n",
    "flat_score2 = score2.flatten()\n",
    "flat_argp2 = np.argpartition(flat_score2, -k)[-k:]"
   ]
  },
  {
   "cell_type": "code",
   "execution_count": 11,
   "metadata": {},
   "outputs": [
    {
     "name": "stdout",
     "output_type": "stream",
     "text": [
      "Ligand translated by [0. 0. 0.]\n",
      "[2.0160512 1.9921129 2.0055658]\n",
      "Ligand translated by [-1.25 -1.25 -1.25]\n",
      "[2.0160512 1.9921129 2.0055658]\n",
      "rmsd 0.0\n"
     ]
    }
   ],
   "source": [
    "import copy\n",
    "lig_grid._move_ligand_to_lower_corner()\n",
    "lig_grid.translate_ligand(np.array([5,5,5])*lig_grid._spacing)\n",
    "ref = copy.deepcopy(lig_grid._crd)\n",
    "lig_grid._move_ligand_to_lower_corner()\n",
    "lig_grid.translate_ligand(np.array([5,5,5])*lig_grid._spacing)\n",
    "tar = copy.deepcopy(lig_grid._crd)\n",
    "\n",
    "print(\"rmsd\", rmsd(ref, tar))"
   ]
  },
  {
   "cell_type": "code",
   "execution_count": 12,
   "metadata": {},
   "outputs": [],
   "source": [
    "def cat_grids(grid1, grid2):\n",
    "    prmtop = cat_dictionaries(grid1._prmtop,grid2._prmtop)\n",
    "    crd = cat_dictionaries(grid1._crd,grid2._crd)\n",
    "    cat_grid = copy.deepcopy(grid1)\n",
    "    cat_grid._prmtop = prmtop\n",
    "    cat_grid._crd = crd\n",
    "    return cat_grid\n",
    "\n",
    "def cat_dictionaries(dict1, dict2):\n",
    "    dict1_copy = copy.deepcopy(dict1)\n",
    "    dict2_copy = copy.deepcopy(dict2)\n",
    "    \n",
    "    if isinstance(dict1_copy, dict):\n",
    "        keys = list(dict1_copy.keys())\n",
    "        for key in keys:\n",
    "            # print(keys)\n",
    "            # print(key)\n",
    "            dict1_copy[key] = cat_values(dict1[key], dict2[key])\n",
    "        return dict1_copy\n",
    "    \n",
    "    elif isinstance(dict1_copy, np.ndarray):\n",
    "        return np.concatenate((dict1_copy,dict2_copy))\n",
    "\n",
    "def cat_values(a1, a2):\n",
    "    array1 = copy.deepcopy(a1)\n",
    "    array2 = copy.deepcopy(a2)\n",
    "    if isinstance(array1, np.ndarray):\n",
    "        return np.concatenate((array1,array2))\n",
    "    elif isinstance(array1, dict):\n",
    "        return cat_dictionaries(array1, array2)\n",
    "    elif isinstance(array1, (int, np.int64)):\n",
    "        # print(f\"{array1+array2}\")\n",
    "        return array1 + array2\n",
    "    elif isinstance(array1, list):\n",
    "        # print(type(array1))\n",
    "        # print(f'array1:{len(array1)}, array2:{len(array2)}')\n",
    "        array1.extend(array2)\n",
    "        # print(f'complex:{len(array1)}, sum:{len(a1)+len(a2)}')\n",
    "        return array1"
   ]
  },
  {
   "cell_type": "code",
   "execution_count": 24,
   "metadata": {},
   "outputs": [],
   "source": [
    "# for small molecule and ligand testing\n",
    "# x = np.zeros(int(12/lig_grid._spacing[0]))\n",
    "# y = np.zeros(int(12/lig_grid._spacing[0]))\n",
    "# x[:] = 4.625/lig_grid._spacing[0]\n",
    "# y[:] = 4.625/lig_grid._spacing[0]\n",
    "# z = np.arange(0, int(12/lig_grid._spacing[0]), 1)\n",
    "# test_range = np.stack([x,y,z],1)\n",
    "\n",
    "# for crystal pose for proteins\n",
    "native_trans = (rec_disp-lig_grid._displacement)\n",
    "x = np.zeros(int(5/lig_grid._spacing[0]))\n",
    "y = np.zeros(int(5/lig_grid._spacing[0]))\n",
    "x[:] = native_trans[0]/lig_grid._spacing[0]\n",
    "y[:] = native_trans[1]/lig_grid._spacing[0]\n",
    "z = np.arange((native_trans[2]/lig_grid._spacing[0])-17, (native_trans[2]/lig_grid._spacing[0])+3, 1)\n",
    "test_range = np.stack([x,y,z],1)"
   ]
  },
  {
   "cell_type": "code",
   "execution_count": 20,
   "metadata": {},
   "outputs": [],
   "source": [
    "# 4ε[(σ/r)^12 - (σ/r)^6]\n",
    "def lj_components(receptor, ligand):\n",
    "    \"\"\"\n",
    "    Accepts a ligand and receptor grid and calculates the LJa and LJr terms and the overall LJ Potential\n",
    "    receptor    RecGrid\n",
    "    ligand      LigGrid\n",
    "    \"\"\"\n",
    "    r_natoms = receptor.get_natoms()\n",
    "    l_natoms = ligand.get_natoms()\n",
    "    ljr_energy = np.zeros((r_natoms, l_natoms))\n",
    "    lja_energy = np.zeros((r_natoms, l_natoms))\n",
    "    lj_energy = np.zeros((r_natoms, l_natoms))\n",
    "    for i in range(r_natoms):\n",
    "        for j in range(l_natoms):\n",
    "            eps = np.sqrt(receptor._prmtop[\"LJ_EPSILON\"][i]*ligand._prmtop[\"LJ_EPSILON\"][j])\n",
    "            sigma = np.mean([receptor._prmtop[\"LJ_SIGMA\"][i], ligand._prmtop[\"LJ_SIGMA\"][j]])\n",
    "            # sigma = np.sqrt(receptor._prmtop[\"LJ_SIGMA\"][i]*ligand._prmtop[\"LJ_SIGMA\"][j])\n",
    "            ljr = (4*eps)*(sigma/_distance(rec_grid._crd[i], lig_grid._crd[j]))**12\n",
    "            lja = -(4*eps)*(sigma/_distance(rec_grid._crd[i], lig_grid._crd[j]))**6\n",
    "            ljr_energy[i,j] = ljr\n",
    "            lja_energy[i,j] = lja\n",
    "            lj_energy[i,j] = ljr+lja\n",
    "    return ljr_energy.sum(), lja_energy.sum(), lj_energy.sum()"
   ]
  },
  {
   "cell_type": "code",
   "execution_count": 21,
   "metadata": {
    "scrolled": true
   },
   "outputs": [
    {
     "name": "stdout",
     "output_type": "stream",
     "text": [
      "Ligand translated by [-1.25 -1.25 -1.25]\n",
      "[2.0160512 1.9921129 2.0055658]\n",
      "[135 174  72] [33.75 43.5  18.  ]\n",
      "Ligand translated by [-33.75 -43.5  -18.  ]\n",
      "[2.0160512 1.9921129 2.0055658]\n",
      "[135 174  73] [33.75 43.5  18.25]\n",
      "Ligand translated by [-33.75 -43.5  -18.25]\n",
      "[2.0160512 1.9921129 2.0055658]\n",
      "[135 174  74] [33.75 43.5  18.5 ]\n",
      "Ligand translated by [-33.75 -43.5  -18.5 ]\n",
      "[2.0160512 1.9921129 2.0055658]\n",
      "[135 174  75] [33.75 43.5  18.75]\n",
      "Ligand translated by [-33.75 -43.5  -18.75]\n",
      "[2.0160512 1.9921129 2.0055658]\n",
      "[135 174  76] [33.75 43.5  19.  ]\n",
      "Ligand translated by [-33.75 -43.5  -19.  ]\n",
      "[2.0160512 1.9921129 2.0055658]\n",
      "[135 174  77] [33.75 43.5  19.25]\n",
      "Ligand translated by [-33.75 -43.5  -19.25]\n",
      "[2.0160512 1.9921129 2.0055658]\n",
      "[135 174  78] [33.75 43.5  19.5 ]\n",
      "Ligand translated by [-33.75 -43.5  -19.5 ]\n",
      "[2.0160512 1.9921129 2.0055658]\n",
      "[135 174  79] [33.75 43.5  19.75]\n",
      "Ligand translated by [-33.75 -43.5  -19.75]\n",
      "[2.0160512 1.9921129 2.0055658]\n",
      "[135 174  80] [33.75 43.5  20.  ]\n",
      "Ligand translated by [-33.75 -43.5  -20.  ]\n",
      "[2.0160512 1.9921129 2.0055658]\n",
      "[135 174  81] [33.75 43.5  20.25]\n",
      "Ligand translated by [-33.75 -43.5  -20.25]\n",
      "[2.0160512 1.9921129 2.0055658]\n",
      "[135 174  82] [33.75 43.5  20.5 ]\n",
      "Ligand translated by [-33.75 -43.5  -20.5 ]\n",
      "[2.0160512 1.9921129 2.0055658]\n",
      "[135 174  83] [33.75 43.5  20.75]\n",
      "Ligand translated by [-33.75 -43.5  -20.75]\n",
      "[2.0160512 1.9921129 2.0055658]\n",
      "[135 174  84] [33.75 43.5  21.  ]\n",
      "Ligand translated by [-33.75 -43.5  -21.  ]\n",
      "[2.0160512 1.9921129 2.0055658]\n",
      "[135 174  85] [33.75 43.5  21.25]\n",
      "Ligand translated by [-33.75 -43.5  -21.25]\n",
      "[2.0160512 1.9921129 2.0055658]\n",
      "[135 174  86] [33.75 43.5  21.5 ]\n",
      "Ligand translated by [-33.75 -43.5  -21.5 ]\n",
      "[2.0160512 1.9921129 2.0055658]\n",
      "[135 174  87] [33.75 43.5  21.75]\n",
      "Ligand translated by [-33.75 -43.5  -21.75]\n",
      "[2.0160512 1.9921129 2.0055658]\n",
      "[135 174  88] [33.75 43.5  22.  ]\n",
      "Ligand translated by [-33.75 -43.5  -22.  ]\n",
      "[2.0160512 1.9921129 2.0055658]\n",
      "[135 174  89] [33.75 43.5  22.25]\n",
      "Ligand translated by [-33.75 -43.5  -22.25]\n",
      "[2.0160512 1.9921129 2.0055658]\n",
      "[135 174  90] [33.75 43.5  22.5 ]\n",
      "Ligand translated by [-33.75 -43.5  -22.5 ]\n",
      "[2.0160512 1.9921129 2.0055658]\n",
      "[135 174  91] [33.75 43.5  22.75]\n",
      "Distance: 16.3 Angstroms, LJa Energy: grid: -16.14046 direct: -16.39652, LJr Energy: grid: 0.64756 direct: 0.79371, LJ Potential: -15.49290\n",
      "Distance: 16.1 Angstroms, LJa Energy: grid: -18.14323 direct: -18.11461, LJr Energy: grid: 0.83125 direct: 0.82103, LJ Potential: -17.31198\n",
      "Distance: 15.9 Angstroms, LJa Energy: grid: -20.51880 direct: -20.51668, LJr Energy: grid: 1.15408 direct: 1.16821, LJ Potential: -19.36472\n",
      "Distance: 15.6 Angstroms, LJa Energy: grid: -23.15732 direct: -23.29782, LJr Energy: grid: 1.52332 direct: 1.67022, LJ Potential: -21.63400\n",
      "Distance: 15.4 Angstroms, LJa Energy: grid: -26.28266 direct: -25.83775, LJr Energy: grid: 2.09836 direct: 1.78593, LJ Potential: -24.18430\n",
      "Distance: 15.1 Angstroms, LJa Energy: grid: -29.32230 direct: -29.35878, LJr Energy: grid: 2.39345 direct: 2.40370, LJ Potential: -26.92885\n",
      "Distance: 14.9 Angstroms, LJa Energy: grid: -32.72398 direct: -32.53216, LJr Energy: grid: 2.68310 direct: 2.56119, LJ Potential: -30.04088\n",
      "Distance: 14.7 Angstroms, LJa Energy: grid: -37.21282 direct: -37.04455, LJr Energy: grid: 3.47069 direct: 3.34982, LJ Potential: -33.74213\n",
      "Distance: 14.4 Angstroms, LJa Energy: grid: -42.64486 direct: -42.32296, LJr Energy: grid: 4.76626 direct: 4.45134, LJ Potential: -37.87861\n",
      "Distance: 14.2 Angstroms, LJa Energy: grid: -48.06395 direct: -47.83532, LJr Energy: grid: 5.37531 direct: 5.11300, LJ Potential: -42.68865\n",
      "Distance: 14.0 Angstroms, LJa Energy: grid: -54.65917 direct: -54.88691, LJr Energy: grid: 6.75359 direct: 6.78155, LJ Potential: -47.90558\n",
      "Distance: 13.7 Angstroms, LJa Energy: grid: -61.95481 direct: -62.53217, LJr Energy: grid: 7.35807 direct: 8.12407, LJ Potential: -54.59674\n",
      "Distance: 13.5 Angstroms, LJa Energy: grid: -71.87992 direct: -70.85255, LJr Energy: grid: 10.12817 direct: 8.97915, LJ Potential: -61.75175\n",
      "Distance: 13.3 Angstroms, LJa Energy: grid: -82.04495 direct: -82.83910, LJr Energy: grid: 12.14569 direct: 12.93950, LJ Potential: -69.89926\n",
      "Distance: 13.0 Angstroms, LJa Energy: grid: -96.57365 direct: -96.59671, LJr Energy: grid: 17.64332 direct: 17.47124, LJ Potential: -78.93033\n",
      "Distance: 12.8 Angstroms, LJa Energy: grid: -111.89422 direct: -111.91641, LJr Energy: grid: 23.42971 direct: 23.67034, LJ Potential: -88.46451\n",
      "Distance: 12.6 Angstroms, LJa Energy: grid: -127.41756 direct: -127.92194, LJr Energy: grid: 30.19463 direct: 30.87474, LJ Potential: -97.22293\n",
      "Distance: 12.4 Angstroms, LJa Energy: grid: -145.38051 direct: -147.11909, LJr Energy: grid: 40.20500 direct: 42.11869, LJ Potential: -105.17551\n",
      "Distance: 12.1 Angstroms, LJa Energy: grid: -162.06970 direct: -162.36032, LJr Energy: grid: 51.39994 direct: 51.34259, LJ Potential: -110.66976\n",
      "Distance: 11.9 Angstroms, LJa Energy: grid: -178.45307 direct: -177.43608, LJr Energy: grid: 67.60942 direct: 64.53656, LJ Potential: -110.84365\n"
     ]
    }
   ],
   "source": [
    "import copy\n",
    "# result = map(cat_dictionaries, rec_grid._prmtop, lig_grid._prmtop)\n",
    "delta_sasas = []\n",
    "colors = []\n",
    "output = []\n",
    "distances = []\n",
    "a_energies = []\n",
    "da_energies = []\n",
    "r_energies = []\n",
    "dr_energies = []\n",
    "potentials = []\n",
    "ljr_actual = []\n",
    "lja_actual = []\n",
    "lj_actual = []\n",
    "for v,vector in enumerate(test_range):\n",
    "    vector_crd = (np.array(vector).transpose()*lig_grid._spacing[0])\n",
    "    vector = vector.astype(int)\n",
    "    x,y,z = vector\n",
    "    lig_grid._move_ligand_to_lower_corner()\n",
    "    print(vector, vector_crd)\n",
    "    lig_grid.translate_ligand(vector_crd)\n",
    "    com_grid = cat_grids(rec_grid, lig_grid)\n",
    "    rmsd_to_native = rmsd(ref, lig_grid._crd)\n",
    "    if rmsd_to_native < 5.:\n",
    "        # colors.append([255, 0, 0])\n",
    "        colors.append(\"red\")\n",
    "    else:\n",
    "        # colors.append([0, 255, 255])\n",
    "        colors.append(\"black\")\n",
    "    num = str(vector[2]).replace(\".\", \"_\")\n",
    "    com_grid.write_pdb(f'{home}/src/p39/fftanalysis/test_systems/3.analysis/1.pdbs/{system}/complex/complex_{vector[2]:03}.pdb', \"w\")\n",
    "    lig_grid.write_pdb(f'{home}/src/p39/fftanalysis/test_systems/3.analysis/1.pdbs/{system}/ligand/trans{vector[2]:03}.pdb', \"w\")\n",
    "    rec_grid.write_pdb(f'{home}/src/p39/fftanalysis/test_systems/3.analysis/1.pdbs/{system}/receptor/rec.pdb', \"w\")\n",
    "    # if rec_grid._crd.mean(axis=0)[2] > lig_grid._crd.mean(axis=0)[2]:\n",
    "    #     distances.append(_distance(lig_grid._crd.mean(axis=0),rec_grid._crd.mean(axis=0)))\n",
    "    # else:\n",
    "    #     distances.append(-1*(_distance(lig_grid._crd.mean(axis=0),rec_grid._crd.mean(axis=0))))\n",
    "    if lig_grid._crd[34][2] < rec_grid._crd[107][2]:\n",
    "        distances.append(_distance(lig_grid._crd[34],rec_grid._crd[107]))\n",
    "    else:\n",
    "        distances.append(-1*(_distance(lig_grid._crd[34],rec_grid._crd[107])))\n",
    "    a_energies.append(lja_energy[x,y,z])\n",
    "    r_energies.append(ljr_energy[x,y,z])\n",
    "    potentials.append(lja_energy[x,y,z]+ljr_energy[x,y,z])\n",
    "    charges = lig_grid.get_charges()\n",
    "    lja_charge = charges[\"A_LJ_CHARGE\"]\n",
    "    ljr_charge = charges[\"R_LJ_CHARGE\"]\n",
    "    e_charges = charges[\"CHARGE_E_UNIT\"]\n",
    "    zeros = np.zeros(lja_charge.shape)\n",
    "    lja_charges = {\"A_LJ_CHARGE\": lja_charge, \"R_LJ_CHARGE\": zeros, \"CHARGE_E_UNIT\": zeros}\n",
    "    ljr_charges = {\"A_LJ_CHARGE\": zeros, \"R_LJ_CHARGE\": ljr_charge, \"CHARGE_E_UNIT\": zeros}\n",
    "    dr_energies.append(rec_grid.direct_energy(lig_grid._crd, ljr_charges))\n",
    "    da_energies.append(rec_grid.direct_energy(lig_grid._crd, lja_charges))\n",
    "    a,b,c = lj_components(rec_grid, lig_grid)\n",
    "    ljr_actual.append(a)\n",
    "    lja_actual.append(b)\n",
    "    lj_actual.append(c)\n",
    "    output.append(f\"Distance: {_distance(lig_grid._crd[0],rec_grid._crd[0]):.1f} Angstroms, LJa Energy: grid: {lja_energy[x,y,z]:.5f} direct: {da_energies[-1]:.5f}, LJr Energy: grid: {ljr_energy[x,y,z]:.5f} direct: {dr_energies[-1]:.5f}, LJ Potential: {lja_energy[x,y,z]+ljr_energy[x,y,z]:.5f}\")\n",
    "for line in output:\n",
    "    print(line)"
   ]
  },
  {
   "cell_type": "code",
   "execution_count": 23,
   "metadata": {},
   "outputs": [],
   "source": [
    "def get_sigmas(grid):\n",
    "    values= np.unique(grid._prmtop[\"LJ_SIGMA\"])\n",
    "    return values\n",
    "    \n",
    "\n",
    "def add_vertical_lines(x_values):\n",
    "    for ind,x in enumerate(x_values):\n",
    "        plt.axvline(x=x, linestyle='--')\n",
    "        plt.text(x + 0.1, ind + 2, f\"{x:.2f}\", rotation=0, verticalalignment='center')"
   ]
  },
  {
   "cell_type": "code",
   "execution_count": 22,
   "metadata": {},
   "outputs": [
    {
     "ename": "NameError",
     "evalue": "name 'add_vertical_lines' is not defined",
     "output_type": "error",
     "traceback": [
      "\u001b[0;31m---------------------------------------------------------------------------\u001b[0m",
      "\u001b[0;31mNameError\u001b[0m                                 Traceback (most recent call last)",
      "\u001b[0;32m<ipython-input-22-9ec66eaf0993>\u001b[0m in \u001b[0;36m<module>\u001b[0;34m\u001b[0m\n\u001b[1;32m     12\u001b[0m \u001b[0mplt\u001b[0m\u001b[0;34m.\u001b[0m\u001b[0mplot\u001b[0m\u001b[0;34m(\u001b[0m\u001b[0mdistances\u001b[0m\u001b[0;34m[\u001b[0m\u001b[0mcut\u001b[0m\u001b[0;34m:\u001b[0m\u001b[0;34m]\u001b[0m\u001b[0;34m,\u001b[0m \u001b[0mlja_actual\u001b[0m\u001b[0;34m[\u001b[0m\u001b[0mcut\u001b[0m\u001b[0;34m:\u001b[0m\u001b[0;34m]\u001b[0m\u001b[0;34m,\u001b[0m \u001b[0mlabel\u001b[0m\u001b[0;34m=\u001b[0m\u001b[0;34m\"LJa Actual\"\u001b[0m\u001b[0;34m)\u001b[0m\u001b[0;34m\u001b[0m\u001b[0;34m\u001b[0m\u001b[0m\n\u001b[1;32m     13\u001b[0m \u001b[0mplt\u001b[0m\u001b[0;34m.\u001b[0m\u001b[0mplot\u001b[0m\u001b[0;34m(\u001b[0m\u001b[0mdistances\u001b[0m\u001b[0;34m,\u001b[0m \u001b[0mlj_actual\u001b[0m\u001b[0;34m,\u001b[0m \u001b[0mlabel\u001b[0m\u001b[0;34m=\u001b[0m\u001b[0;34m\"LJ Actual\"\u001b[0m\u001b[0;34m)\u001b[0m\u001b[0;34m\u001b[0m\u001b[0;34m\u001b[0m\u001b[0m\n\u001b[0;32m---> 14\u001b[0;31m \u001b[0madd_vertical_lines\u001b[0m\u001b[0;34m(\u001b[0m\u001b[0mget_sigmas\u001b[0m\u001b[0;34m(\u001b[0m\u001b[0mrec_grid\u001b[0m\u001b[0;34m)\u001b[0m\u001b[0;34m)\u001b[0m\u001b[0;34m\u001b[0m\u001b[0;34m\u001b[0m\u001b[0m\n\u001b[0m\u001b[1;32m     15\u001b[0m \u001b[0mplt\u001b[0m\u001b[0;34m.\u001b[0m\u001b[0mxlabel\u001b[0m\u001b[0;34m(\u001b[0m\u001b[0;34m\"Distance Å\"\u001b[0m\u001b[0;34m)\u001b[0m\u001b[0;34m\u001b[0m\u001b[0;34m\u001b[0m\u001b[0m\n\u001b[1;32m     16\u001b[0m \u001b[0mplt\u001b[0m\u001b[0;34m.\u001b[0m\u001b[0mylabel\u001b[0m\u001b[0;34m(\u001b[0m\u001b[0;34m\"Energy KJ/Mol\"\u001b[0m\u001b[0;34m)\u001b[0m\u001b[0;34m\u001b[0m\u001b[0;34m\u001b[0m\u001b[0m\n",
      "\u001b[0;31mNameError\u001b[0m: name 'add_vertical_lines' is not defined"
     ]
    },
    {
     "data": {
      "image/png": "[encoded data removed]",
      "text/plain": [
       "<Figure size 1152x648 with 1 Axes>"
      ]
     },
     "metadata": {
      "needs_background": "light"
     },
     "output_type": "display_data"
    }
   ],
   "source": [
    "import matplotlib.pyplot as plt\n",
    "d_potentials = [sum(x) for x in zip(da_energies, dr_energies)]\n",
    "plt.figure(figsize=(16,9))\n",
    "cut = 0\n",
    "plt.plot(distances, a_energies, label=\"Grid LJa\")\n",
    "plt.plot(distances, r_energies, label=\"Grid LJr\")\n",
    "plt.plot(distances, da_energies, label=\"Direct LJa\")\n",
    "plt.plot(distances, dr_energies, label=\"Direct LJr\")\n",
    "plt.plot(distances, potentials, label=\"Grid LJ Potential\")\n",
    "plt.plot(distances, d_potentials, label=\"Direct LJ Potential\")\n",
    "plt.plot(distances[cut:], ljr_actual[cut:], label=\"LJr Actual\")\n",
    "plt.plot(distances[cut:], lja_actual[cut:], label=\"LJa Actual\")\n",
    "plt.plot(distances, lj_actual, label=\"LJ Actual\")\n",
    "add_vertical_lines(get_sigmas(rec_grid))\n",
    "plt.xlabel(\"Distance Å\")\n",
    "plt.ylabel(\"Energy KJ/Mol\")\n",
    "plt.ylim(-50,24)\n",
    "plt.axvline(x=2.6666947806561088, linestyle='--', color='red')\n",
    "plt.text(2.2, 20, f\"{2.666:.2f}A\", rotation=0, verticalalignment='center', color=\"red\", backgroundcolor=\"black\", size=12)\n",
    "plt.legend()\n",
    "plt.show()"
   ]
  },
  {
   "cell_type": "code",
   "execution_count": 141,
   "metadata": {},
   "outputs": [
    {
     "data": {
      "image/png": "[encoded data removed]",
      "text/plain": [
       "<Figure size 1152x648 with 1 Axes>"
      ]
     },
     "metadata": {
      "needs_background": "light"
     },
     "output_type": "display_data"
    }
   ],
   "source": [
    "import matplotlib.pyplot as plt\n",
    "d_potentials = [sum(x) for x in zip(da_energies, dr_energies)]\n",
    "plt.figure(figsize=(16,9))\n",
    "cut = 0\n",
    "plt.plot(distances_adjusted, a_energies, label=\"Grid LJa\")\n",
    "plt.plot(distances_adjusted, r_energies, label=\"Grid LJr\")\n",
    "# plt.plot(distances_adjusted, da_energies, label=\"Direct LJa\")\n",
    "# plt.plot(distances_adjusted, dr_energies, label=\"Direct LJr\")\n",
    "plt.plot(distances_adjusted, potentials, label=\"Grid LJ Potential\")\n",
    "# plt.plot(distances_adjusted, d_potentials, label=\"Direct LJ Potential\")\n",
    "plt.plot(distances_adjusted[cut:], ljr_actual[cut:], label=\"LJr Actual\")\n",
    "plt.plot(distances_adjusted[cut:], lja_actual[cut:], label=\"LJa Actual\")\n",
    "plt.plot(distances_adjusted, lj_actual, label=\"LJ Actual\")\n",
    "add_vertical_lines(get_sigmas(rec_grid))\n",
    "plt.xlabel(\"Distance Å\")\n",
    "plt.ylabel(\"Energy KJ/Mol\")\n",
    "plt.ylim(-150,50)\n",
    "plt.axvline(x=2.6666947806561088, linestyle='--', color='red')\n",
    "plt.text(2.2, 20, f\"{2.666:.2f}A\", rotation=0, verticalalignment='center', color=\"red\", backgroundcolor=\"black\", size=12)\n",
    "plt.legend()\n",
    "plt.show()"
   ]
  },
  {
   "cell_type": "code",
   "execution_count": 37,
   "metadata": {},
   "outputs": [
    {
     "data": {
      "image/png": "[encoded data removed]",
      "text/plain": [
       "<Figure size 1152x648 with 1 Axes>"
      ]
     },
     "metadata": {
      "needs_background": "light"
     },
     "output_type": "display_data"
    }
   ],
   "source": [
    "import matplotlib.pyplot as plt\n",
    "d_potentials = [sum(x) for x in zip(da_energies, dr_energies)]\n",
    "plt.figure(figsize=(16,9))\n",
    "cut = 0\n",
    "plt.plot(dist_approved, a_energies, label=\"Grid LJa\")\n",
    "plt.plot(dist_approved, r_energies, label=\"Grid LJr\")\n",
    "# plt.plot(dist_approved, da_energies, label=\"Direct LJa\")\n",
    "# plt.plot(dist_approved, dr_energies, label=\"Direct LJr\")\n",
    "plt.plot(dist_approved, potentials, label=\"Grid LJ Potential\")\n",
    "# plt.plot(dist_approved, d_potentials, label=\"Direct LJ Potential\")\n",
    "plt.plot(dist_approved[cut:], ljr_actual[cut:], label=\"LJr Actual\")\n",
    "plt.plot(dist_approved[cut:], lja_actual[cut:], label=\"LJa Actual\")\n",
    "plt.plot(dist_approved, lj_actual, label=\"LJ Actual\")\n",
    "# add_vertical_lines(get_sigmas(rec_grid))\n",
    "plt.xlabel(\"Distance Å\")\n",
    "plt.ylabel(\"Energy KJ/Mol\")\n",
    "plt.ylim(-150,50)\n",
    "plt.axvline(x=0, linestyle='--', color='red')\n",
    "plt.text(0, 20, f\"{2.666:.2f}A\", rotation=0, verticalalignment='center', color=\"red\", backgroundcolor=\"black\", size=12)\n",
    "plt.text(0, 20, f\"Native\", rotation=0, verticalalignment='center', color=\"red\", backgroundcolor=\"black\", size=12)\n",
    "plt.legend()\n",
    "plt.show()"
   ]
  },
  {
   "cell_type": "code",
   "execution_count": null,
   "metadata": {},
   "outputs": [],
   "source": [
    "add_vertical_lines(get_sigmas(rec_grid))"
   ]
  },
  {
   "cell_type": "code",
   "execution_count": null,
   "metadata": {},
   "outputs": [],
   "source": [
    "def write_lig_dx(FN, data, grid):\n",
    "    \"\"\"\n",
    "    Writes a grid in dx format\n",
    "    \"\"\"\n",
    "    n_points = data['counts'][0] * data['counts'][1] * data['counts'][2]\n",
    "    if FN.endswith('.dx'):\n",
    "        F = open(FN, 'w')\n",
    "\n",
    "    F.write(\"\"\"object 1 class gridpositions counts {0[0]} {0[1]} {0[2]}\n",
    "origin {1[0]} {1[1]} {1[2]}\n",
    "delta {2[0]} 0.0 0.0\n",
    "delta 0.0 {2[1]} 0.0\n",
    "delta 0.0 0.0 {2[2]}\n",
    "object 2 class gridconnections counts {0[0]} {0[1]} {0[2]}\n",
    "object 3 class array type double rank 0 items {3} data follows\n",
    "\"\"\".format(data['counts'], data['origin'], data['spacing'], n_points))\n",
    "\n",
    "    for start_n in range(0, len(grid.ravel()), 3):\n",
    "        F.write(' '.join(['%6e' % c\n",
    "                        for c in grid.ravel()[start_n:start_n + 3]]) + '\\n')\n",
    "\n",
    "    F.write('object 4 class field\\n')\n",
    "    F.write('component \"positions\" value 1\\n')\n",
    "    F.write('component \"connections\" value 2\\n')\n",
    "    F.write('component \"data\" value 3\\n')\n",
    "    F.close()"
   ]
  },
  {
   "cell_type": "code",
   "execution_count": null,
   "metadata": {},
   "outputs": [],
   "source": [
    "def write(FN, data, grid, multiplier=None):\n",
    "    \"\"\"\n",
    "    Writes a grid in dx or netcdf format.\n",
    "    The multiplier affects the origin and spacing.\n",
    "    \"\"\"\n",
    "    if multiplier is not None:\n",
    "      data_n = {\n",
    "        'origin': multiplier * data['origin'],\n",
    "        'counts': data['counts'],\n",
    "        'spacing': multiplier * data['spacing'],\n",
    "        'vals': grid\n",
    "      }\n",
    "    else:\n",
    "      data_n = data\n",
    "    if FN.endswith('.nc'):\n",
    "        print('skip')\n",
    "#       _write_nc(FN, data_n)\n",
    "    elif FN.endswith('.dx') or FN.endswith('.dx.gz'):\n",
    "      write_lig_dx(FN, data_n, grid)\n",
    "    else:\n",
    "      raise Exception('File type not supported')"
   ]
  },
  {
   "cell_type": "code",
   "execution_count": null,
   "metadata": {},
   "outputs": [],
   "source": [
    "import bpmfwfft.IO as IO\n",
    "data = {\"origin\": lig_grid._grid['origin'], \"spacing\": lig_grid._spacing, \"counts\": lig_grid._grid[\"counts\"]}\n",
    "FN=f\"{ppi_path}/2.redock/4.receptor_grid/2OOB_A:B/ljr_score.dx\"\n",
    "write(FN, data, l_ones)"
   ]
  },
  {
   "cell_type": "code",
   "execution_count": 49,
   "metadata": {},
   "outputs": [
    {
     "name": "stdout",
     "output_type": "stream",
     "text": [
      "[35.8910512 45.6171129 23.3805658] [69.5144563 68.5886631 69.5205898]\n"
     ]
    }
   ],
   "source": [
    "print(lig_grid._crd.min(axis=0), rec_grid._crd.max(axis=0))"
   ]
  },
  {
   "cell_type": "code",
   "execution_count": 43,
   "metadata": {},
   "outputs": [
    {
     "data": {
      "text/plain": [
       "array([70.2671795, 67.1065984, 54.911315 ])"
      ]
     },
     "execution_count": 43,
     "metadata": {},
     "output_type": "execute_result"
    }
   ],
   "source": [
    "lig_grid._crd.max(axis=0)"
   ]
  },
  {
   "cell_type": "code",
   "execution_count": 51,
   "metadata": {},
   "outputs": [
    {
     "data": {
      "text/plain": [
       "array([64.6702199, 56.5483709, 48.8178034])"
      ]
     },
     "execution_count": 51,
     "metadata": {},
     "output_type": "execute_result"
    }
   ],
   "source": [
    "lig_grid._crd[34]"
   ]
  },
  {
   "cell_type": "code",
   "execution_count": 50,
   "metadata": {},
   "outputs": [
    {
     "data": {
      "text/plain": [
       "masked_array(data=[63.0950694, 58.3378962, 48.8729138],\n",
       "             mask=False,\n",
       "       fill_value=1e+20)"
      ]
     },
     "execution_count": 50,
     "metadata": {},
     "output_type": "execute_result"
    }
   ],
   "source": [
    "rec_grid._crd[107]"
   ]
  },
  {
   "cell_type": "code",
   "execution_count": 85,
   "metadata": {},
   "outputs": [
    {
     "data": {
      "text/plain": [
       "masked_array(data=[32.5, 42.5, 21.5],\n",
       "             mask=False,\n",
       "       fill_value=1e+20)"
      ]
     },
     "execution_count": 85,
     "metadata": {},
     "output_type": "execute_result"
    }
   ],
   "source": [
    "native_trans"
   ]
  },
  {
   "cell_type": "code",
   "execution_count": 109,
   "metadata": {},
   "outputs": [
    {
     "data": {
      "text/plain": [
       "array([28., 29., 30., 31., 32., 33., 34., 35., 36., 37., 38., 39., 40.,\n",
       "       41., 42., 43., 44., 45., 46., 47.])"
      ]
     },
     "execution_count": 109,
     "metadata": {},
     "output_type": "execute_result"
    }
   ],
   "source": [
    "z"
   ]
  },
  {
   "cell_type": "code",
   "execution_count": 90,
   "metadata": {},
   "outputs": [
    {
     "data": {
      "text/plain": [
       "43.0"
      ]
     },
     "execution_count": 90,
     "metadata": {},
     "output_type": "execute_result"
    }
   ],
   "source": [
    "native_trans[2]/.5"
   ]
  },
  {
   "cell_type": "code",
   "execution_count": 99,
   "metadata": {},
   "outputs": [
    {
     "data": {
      "text/plain": [
       "False"
      ]
     },
     "execution_count": 99,
     "metadata": {},
     "output_type": "execute_result"
    }
   ],
   "source": [
    "lig_grid._crd[34][2] > rec_grid._crd[107][2]"
   ]
  },
  {
   "cell_type": "code",
   "execution_count": 100,
   "metadata": {},
   "outputs": [
    {
     "data": {
      "text/plain": [
       "43.8178034"
      ]
     },
     "execution_count": 100,
     "metadata": {},
     "output_type": "execute_result"
    }
   ],
   "source": [
    "lig_grid._crd[34][2]"
   ]
  },
  {
   "cell_type": "code",
   "execution_count": 101,
   "metadata": {},
   "outputs": [
    {
     "data": {
      "text/plain": [
       "48.8729138"
      ]
     },
     "execution_count": 101,
     "metadata": {},
     "output_type": "execute_result"
    }
   ],
   "source": [
    "rec_grid._crd[107][2]"
   ]
  },
  {
   "cell_type": "code",
   "execution_count": null,
   "metadata": {},
   "outputs": [],
   "source": [
    "distances"
   ]
  },
  {
   "cell_type": "code",
   "execution_count": 135,
   "metadata": {},
   "outputs": [],
   "source": [
    "distances_adjusted = np.concatenate([np.array(distances)[:15],2.384646106485934+np.array(distances)[15:]+2.384646106485934])"
   ]
  },
  {
   "cell_type": "code",
   "execution_count": 136,
   "metadata": {},
   "outputs": [
    {
     "data": {
      "text/plain": [
       "array([7.44701837, 6.97516826, 6.50752348, 6.04506009, 5.58906442,\n",
       "       5.14125769, 4.70397919, 4.28045673, 3.87520315, 3.49457995,\n",
       "       3.14753533, 2.84637809, 2.60705923, 2.44778419, 2.38464611,\n",
       "       2.34412693, 2.20485928, 1.98160395, 1.69259017, 1.35447376])"
      ]
     },
     "execution_count": 136,
     "metadata": {},
     "output_type": "execute_result"
    }
   ],
   "source": [
    "distances_adjusted"
   ]
  },
  {
   "cell_type": "code",
   "execution_count": 26,
   "metadata": {},
   "outputs": [
    {
     "data": {
      "text/plain": [
       "array([29., 30., 31., 32., 33., 34., 35., 36., 37., 38., 39., 40., 41.,\n",
       "       42., 43., 44., 45., 46., 47., 48.])"
      ]
     },
     "execution_count": 26,
     "metadata": {},
     "output_type": "execute_result"
    }
   ],
   "source": [
    "z-43"
   ]
  },
  {
   "cell_type": "code",
   "execution_count": 33,
   "metadata": {},
   "outputs": [],
   "source": [
    "dist_approved = -1*z*lig_grid._spacing[0]+21.5"
   ]
  },
  {
   "cell_type": "code",
   "execution_count": null,
   "metadata": {},
   "outputs": [],
   "source": [
    "occ[test_range.astype(int)]"
   ]
  },
  {
   "cell_type": "code",
   "execution_count": 43,
   "metadata": {},
   "outputs": [],
   "source": [
    "inds = test_range.astype(int)"
   ]
  },
  {
   "cell_type": "code",
   "execution_count": 52,
   "metadata": {},
   "outputs": [
    {
     "data": {
      "text/plain": [
       "35.00000000000021"
      ]
     },
     "execution_count": 52,
     "metadata": {},
     "output_type": "execute_result"
    }
   ],
   "source": [
    "occ[135,174,97]"
   ]
  },
  {
   "cell_type": "code",
   "execution_count": 42,
   "metadata": {},
   "outputs": [
    {
     "data": {
      "text/plain": [
       "(20, 3)"
      ]
     },
     "execution_count": 42,
     "metadata": {},
     "output_type": "execute_result"
    }
   ],
   "source": [
    "test_range.shape"
   ]
  },
  {
   "cell_type": "code",
   "execution_count": 46,
   "metadata": {},
   "outputs": [
    {
     "data": {
      "text/plain": [
       "array([[135, 174,  72],\n",
       "       [135, 174,  73],\n",
       "       [135, 174,  74],\n",
       "       [135, 174,  75],\n",
       "       [135, 174,  76],\n",
       "       [135, 174,  77],\n",
       "       [135, 174,  78],\n",
       "       [135, 174,  79],\n",
       "       [135, 174,  80],\n",
       "       [135, 174,  81],\n",
       "       [135, 174,  82],\n",
       "       [135, 174,  83],\n",
       "       [135, 174,  84],\n",
       "       [135, 174,  85],\n",
       "       [135, 174,  86],\n",
       "       [135, 174,  87],\n",
       "       [135, 174,  88],\n",
       "       [135, 174,  89],\n",
       "       [135, 174,  90],\n",
       "       [135, 174,  91]])"
      ]
     },
     "execution_count": 46,
     "metadata": {},
     "output_type": "execute_result"
    }
   ],
   "source": [
    "inds"
   ]
  },
  {
   "cell_type": "code",
   "execution_count": null,
   "metadata": {},
   "outputs": [],
   "source": []
  }
 ],
 "metadata": {
  "kernelspec": {
   "display_name": "Python 3",
   "language": "python",
   "name": "python3"
  },
  "language_info": {
   "codemirror_mode": {
    "name": "ipython",
    "version": 3
   },
   "file_extension": ".py",
   "mimetype": "text/x-python",
   "name": "python",
   "nbconvert_exporter": "python",
   "pygments_lexer": "ipython3",
   "version": "3.7.6"
  }
 },
 "nbformat": 4,
 "nbformat_minor": 5
}
