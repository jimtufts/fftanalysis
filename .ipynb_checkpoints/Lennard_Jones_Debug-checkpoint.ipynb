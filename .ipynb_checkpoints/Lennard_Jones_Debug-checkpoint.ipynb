{
 "cells": [
  {
   "cell_type": "code",
   "execution_count": 2,
   "id": "df112213-ef00-48ac-b3a9-fb812392410a",
   "metadata": {
    "tags": []
   },
   "outputs": [],
   "source": [
    "from os import walk\n",
    "import socket\n",
    "if socket.gethostname() == 'jim-Mint':\n",
    "    ppi_path = '/home/jim/src/p39/fftanalysis/test_systems'\n",
    "    home = '/home/jim'\n",
    "elif socket.gethostname() == 'host252.ent.iit.edu':\n",
    "    ppi_path = '/home/jtufts/Downloads/test_systems'\n",
    "    home = '/home/jtufts'\n",
    "else:\n",
    "    ppi_path = '/home/jtufts/src/p39/fftanalysis/test_systems'\n",
    "    home = '/home/jtufts'"
   ]
  },
  {
   "cell_type": "code",
   "execution_count": 3,
   "id": "919da51d-0c37-4ab3-8154-87b6dd546589",
   "metadata": {},
   "outputs": [],
   "source": [
    "f = {}\n",
    "for (dirpath, dirnames, filenames) in walk(f'{ppi_path}/2.redock/2.minimize'):\n",
    "    if len(filenames) > 0:\n",
    "        if filenames[0] != 'run_me.sh':\n",
    "            if 'ligand.inpcrd' in filenames:\n",
    "                f[dirpath.split('/')[9]] = dirpath + '/ligand.inpcrd'"
   ]
  },
  {
   "cell_type": "code",
   "execution_count": 4,
   "id": "4d8abc0f-f69e-4b1d-a46b-f65a7214d996",
   "metadata": {},
   "outputs": [
    {
     "name": "stdout",
     "output_type": "stream",
     "text": [
      "benzene /home/jim/src/p39/fftanalysis/test_systems/2.redock/2.minimize/benzene/ligand.inpcrd\n"
     ]
    }
   ],
   "source": [
    "keys = list(f.keys())\n",
    "keys.sort()\n",
    "system = keys[1] #36 \n",
    "print(system, f[system])"
   ]
  },
  {
   "cell_type": "code",
   "execution_count": 5,
   "id": "3d683a14-2ab0-4093-ad82-e33e31f93284",
   "metadata": {},
   "outputs": [
    {
     "name": "stderr",
     "output_type": "stream",
     "text": [
      "Warning: importing 'simtk.openmm' is deprecated.  Import 'openmm' instead.\n"
     ]
    }
   ],
   "source": [
    "from bpmfwfft.IO import InpcrdLoad\n",
    "from bpmfwfft.grids import Grid, RecGrid\n",
    "import numpy as np\n",
    "\n",
    "\n",
    "def _distance(coord1, coord2):\n",
    "    assert len(coord1)==len(coord1)==3, \"coord must have len 3\"\n",
    "    d = np.array(coord1) - np.array(coord2)\n",
    "    d = (d**2).sum()\n",
    "    return np.sqrt(d)\n",
    "\n",
    "\n",
    "def _max_inter_atom_distance(inpcrd):\n",
    "    \"\"\"\n",
    "    inpcrd: str, name of inpcrd file\n",
    "    \"\"\"\n",
    "    crd = InpcrdLoad(inpcrd).get_coordinates()\n",
    "    max_d = 0.\n",
    "    for i in range(crd.shape[0]-1):\n",
    "        for j in range(i+1, crd.shape[0]):\n",
    "            d = _distance(crd[i], crd[j])\n",
    "            if d > max_d:\n",
    "                max_d = d\n",
    "    return max_d\n",
    "\n",
    "\n",
    "def _max_box_edge(inpcrd):\n",
    "    \"\"\"\n",
    "    \"\"\"\n",
    "    crd = InpcrdLoad(inpcrd).get_coordinates()\n",
    "    dx = crd[:,0].max() - crd[:,0].min()\n",
    "    dy = crd[:,1].max() - crd[:,1].min()\n",
    "    dz = crd[:,2].max() - crd[:,2].min()\n",
    "    return max([dx, dy, dz])\n",
    "\n",
    "\n",
    "def rec_grid_cal(prmtop, lj_scale, sc_scale, ss_scale, sm_scale, rho,\n",
    "                 rec_inpcrd, lig_inpcrd, spacing, buffer,\n",
    "                 grid_out, pdb_out, box_out, radii_type, exclude_H):\n",
    "    \"\"\"\n",
    "    prmtop: str, prmtop file for receptor\n",
    "    lj_scale:   float, 0 < lj_scale <=1\n",
    "    rc_scale:   float, 0 < rc_scale\n",
    "    rs_scale:   float, 0 < rs_scale\n",
    "    rm_scale:   float, 0 < rm_scale\n",
    "    rec_inpcrd: str, inpcrd file for receptor\n",
    "    lig_inpcrd: str, inpcrd file for ligand, used to determine grid size\n",
    "    spacing:    float, distance between grid points in Angstroms\n",
    "    buffer:     float, extra box padding\n",
    "    grid_out:   str, name of output nc file\n",
    "    pdb_out:    str, name of output pdb file\n",
    "    box_out:    str, name of output box\n",
    "    radii_type: str, name of radii to use, LJ_SIGMA or VDW_RADII\n",
    "    exclude_H:  bool, exclude hydrogen from grid calculation\n",
    "    \"\"\"\n",
    "    #ligand_max_size = _max_inter_atom_distance(lig_inpcrd)\n",
    "    #print \"Ligand maximum inter-atomic distance: %f\"%ligand_max_size\n",
    "\n",
    "    ligand_max_box_edge = _max_box_edge(lig_inpcrd)\n",
    "    print(\"Ligand maximum box edge: %f\" % ligand_max_box_edge)\n",
    "    total_buffer = np.ceil(ligand_max_box_edge + buffer)\n",
    "    print(\"Total buffer for receptor grid: %f\" % total_buffer)\n",
    "\n",
    "    bsite_file = None\n",
    "    potential_grid = RecGrid(prmtop,\n",
    "                             lj_scale,\n",
    "                             sc_scale,\n",
    "                             ss_scale,\n",
    "                             sm_scale,\n",
    "                             rho,\n",
    "                             rec_inpcrd,\n",
    "                             bsite_file,\n",
    "                             grid_out,\n",
    "                             new_calculation=True,\n",
    "                             spacing=spacing,\n",
    "                             extra_buffer=total_buffer,\n",
    "                             radii_type=radii_type,\n",
    "                             exclude_H=exclude_H)\n",
    "    # potential_grid = RecGrid(prmtop, lj_scale, sc_scale, ss_scale, rho, rec_inpcrd, bsite_file, grid_out, new_calculation=True, spacing=spacing, )\n",
    "\n",
    "    potential_grid.write_pdb(pdb_out, \"w\")\n",
    "    potential_grid.write_box(box_out)\n",
    "\n",
    "    return None\n",
    "\n",
    "\n",
    "def is_nc_grid_good(nc_grid_file):\n",
    "    if not os.path.exists(nc_grid_file):\n",
    "        return False\n",
    "\n",
    "    if os.path.getsize(nc_grid_file) == 0:\n",
    "        return False\n",
    "\n",
    "    nc_handle = netCDF4.Dataset(nc_grid_file, \"r\")\n",
    "    nc_keys = nc_handle.variables.keys()\n",
    "    grid_keys = Grid().get_allowed_keys()\n",
    "    for key in grid_keys:\n",
    "        if key not in nc_keys:\n",
    "            return False\n",
    "    return True\n",
    "\n",
    "\n",
    "def get_grid_size_from_nc(grid_nc_file):\n",
    "    nc_handle = netCDF4.Dataset(grid_nc_file, \"r\")\n",
    "    return nc_handle.variables[\"counts\"][0]\n",
    "\n",
    "\n",
    "def get_grid_size_from_lig_rec_crd(rec_inpcrd, lig_inpcrd, buffer):\n",
    "    ligand_max_box_edge = _max_box_edge(lig_inpcrd)\n",
    "    buffer_due_to_ligand = np.ceil(ligand_max_box_edge + buffer)\n",
    "    box_size = _max_box_edge(rec_inpcrd) +  2.0*buffer_due_to_ligand\n",
    "    return box_size"
   ]
  },
  {
   "cell_type": "code",
   "execution_count": 6,
   "id": "494327e0-bc80-41c9-880c-07225b3fc0bd",
   "metadata": {},
   "outputs": [
    {
     "name": "stdout",
     "output_type": "stream",
     "text": [
      "/home/jim/src/p39/fftanalysis/test_systems\n"
     ]
    }
   ],
   "source": [
    "print(ppi_path)"
   ]
  },
  {
   "cell_type": "code",
   "execution_count": 7,
   "id": "15b675a7-eea3-4f45-b99e-04b52323ee34",
   "metadata": {},
   "outputs": [
    {
     "name": "stdout",
     "output_type": "stream",
     "text": [
      "Number of atoms in /home/jim/src/p39/fftanalysis/test_systems/2.redock/2.minimize/benzene/ligand.inpcrd is 12\n",
      "Ligand maximum box edge: 4.770000\n",
      "Total buffer for receptor grid: 6.000000\n",
      "/home/jim/src/p39/fftanalysis\n",
      "[1]\n",
      "['enz']\n",
      "[1.]\n",
      "Number of atoms in /home/jim/src/p39/fftanalysis/test_systems/2.redock/2.minimize/benzene/ligand.inpcrd is 12\n",
      "Writing lj_sigma_scaling_factor into nc file\n",
      "Writing rec_core_scaling into nc file\n",
      "Writing rec_surface_scaling into nc file\n",
      "Writing rec_metal_scaling into nc file\n",
      "Writing rho into nc file\n",
      "Writing molecule_sasa into nc file\n",
      "No binding site specified, box encloses the whole receptor\n",
      "[0. 0. 0.]\n",
      "[0.5 0.  0. ]\n",
      "[0.  0.5 0. ]\n",
      "[0.  0.  0.5]\n",
      "[0.5 0.5 0.5]\n",
      "Receptor enclosing box [7.369642, 7.207642, 3.399670]\n",
      "extra_buffer: 6.000000\n",
      "[41 41 41]\n",
      "counts  [41 41 41]\n",
      "Total box size 20.000000\n",
      "Writing origin into nc file\n",
      "Writing d0 into nc file\n",
      "Writing d1 into nc file\n",
      "Writing d2 into nc file\n",
      "Writing spacing into nc file\n",
      "Writing counts into nc file\n",
      "calculating grid coordinates\n",
      "[ 0.   0.5  1.   1.5  2.   2.5  3.   3.5  4.   4.5  5.   5.5  6.   6.5\n",
      "  7.   7.5  8.   8.5  9.   9.5 10.  10.5 11.  11.5 12.  12.5 13.  13.5\n",
      " 14.  14.5 15.  15.5 16.  16.5 17.  17.5 18.  18.5 19.  19.5 20. ]\n",
      "[ 0.   0.5  1.   1.5  2.   2.5  3.   3.5  4.   4.5  5.   5.5  6.   6.5\n",
      "  7.   7.5  8.   8.5  9.   9.5 10.  10.5 11.  11.5 12.  12.5 13.  13.5\n",
      " 14.  14.5 15.  15.5 16.  16.5 17.  17.5 18.  18.5 19.  19.5 20. ]\n",
      "[ 0.   0.5  1.   1.5  2.   2.5  3.   3.5  4.   4.5  5.   5.5  6.   6.5\n",
      "  7.   7.5  8.   8.5  9.   9.5 10.  10.5 11.  11.5 12.  12.5 13.  13.5\n",
      " 14.  14.5 15.  15.5 16.  16.5 17.  17.5 18.  18.5 19.  19.5 20. ]\n",
      "Writing x into nc file\n",
      "Writing y into nc file\n",
      "Writing z into nc file\n",
      "[41. 41. 41.]\n",
      "11.0\n",
      "11.0\n",
      "2.0\n",
      "receptor_box_center [0.  0.  0.5]\n",
      "lower_receptor_corner_grid_aligned:  [-3.   -3.   -0.75] \n",
      "upper_receptor_corner_grid_aligned:  [2.5  2.5  0.75] \n",
      "lower_receptor_corner:  [-2.385 -2.304  0.   ] \n",
      "upper_receptor_corner:  [2.385 2.304 0.   ] \n",
      "receptor_box_center:  [0.  0.  0.5] \n",
      "receptor_box_center_grid_aligned [-0.25 -0.25  0.  ] \n",
      "grid_center:  [10. 10. 10.] \n",
      "receptor_box_length:  [4.77  4.608 0.   ] \n",
      "receptor_box_length_grid_aligned:  [5.5 5.5 1. ] \n",
      "spacing num [11. 11.  2.]\n",
      "Receptor is translated by  [10.  10.   9.5]\n",
      "Writing displacement into nc file\n",
      "calculating receptor occupancy grid\n",
      "Writing occupancy into nc file\n",
      "calculating receptor sasa grid\n",
      "Writing sasa into nc file\n",
      "calculating receptor water grid\n",
      "Writing water into nc file\n",
      "calculating receptor electrostatic grid\n",
      "Writing electrostatic into nc file\n",
      "calculating receptor LJr grid\n",
      "Writing LJr into nc file\n",
      "calculating receptor LJa grid\n",
      "Writing LJa into nc file\n",
      "Writing trans_crd into nc file\n",
      "/home/jim/src/p39/fftanalysis/test_systems/2.redock/4.receptor_grid/benzene/grid.nc\n",
      "x\n",
      "[ 0.   0.5  1.   1.5  2.   2.5  3.   3.5  4.   4.5  5.   5.5  6.   6.5\n",
      "  7.   7.5  8.   8.5  9.   9.5 10.  10.5 11.  11.5 12.  12.5 13.  13.5\n",
      " 14.  14.5 15.  15.5 16.  16.5 17.  17.5 18.  18.5 19.  19.5 20. ]\n",
      "y\n",
      "[ 0.   0.5  1.   1.5  2.   2.5  3.   3.5  4.   4.5  5.   5.5  6.   6.5\n",
      "  7.   7.5  8.   8.5  9.   9.5 10.  10.5 11.  11.5 12.  12.5 13.  13.5\n",
      " 14.  14.5 15.  15.5 16.  16.5 17.  17.5 18.  18.5 19.  19.5 20. ]\n",
      "z\n",
      "[ 0.   0.5  1.   1.5  2.   2.5  3.   3.5  4.   4.5  5.   5.5  6.   6.5\n",
      "  7.   7.5  8.   8.5  9.   9.5 10.  10.5 11.  11.5 12.  12.5 13.  13.5\n",
      " 14.  14.5 15.  15.5 16.  16.5 17.  17.5 18.  18.5 19.  19.5 20. ]\n",
      "d0\n",
      "[0.5 0.  0. ]\n",
      "d1\n",
      "[0.  0.5 0. ]\n",
      "d2\n",
      "[0.  0.  0.5]\n",
      "spacing\n",
      "[0.5 0.5 0.5]\n",
      "counts\n",
      "[41 41 41]\n",
      "origin\n",
      "[0. 0. 0.]\n",
      "lj_sigma_scaling_factor\n",
      "[1.]\n",
      "rec_core_scaling\n",
      "[0.76]\n",
      "rec_surface_scaling\n",
      "[0.53]\n",
      "rec_metal_scaling\n",
      "[0.55]\n",
      "Doing FFT for occupancy\n",
      "Doing FFT for sasa\n",
      "Doing FFT for water\n",
      "Doing FFT for electrostatic\n",
      "Doing FFT for LJr\n",
      "Doing FFT for LJa\n"
     ]
    }
   ],
   "source": [
    "prmtop = f\"{ppi_path}/2.redock/1.amber/{system}/ligand.prmtop\"\n",
    "lj_scale = 1.0\n",
    "rc_scale = 0.76\n",
    "rs_scale = 0.53\n",
    "rm_scale = 0.55\n",
    "rec_inpcrd = f\"{ppi_path}/2.redock/2.minimize/{system}/ligand.inpcrd\"\n",
    "lig_inpcrd = f\"{ppi_path}/2.redock/2.minimize/{system}/ligand.inpcrd\"\n",
    "rho = 9.0\n",
    "exclude_H = True\n",
    "\n",
    "spacing = 0.5\n",
    "buffer = 1\n",
    "radii_type = \"VDW_RADII\"\n",
    "\n",
    "grid_out = f\"{ppi_path}/2.redock/4.receptor_grid/{system}/grid.nc\"\n",
    "pdb_out = f\"{ppi_path}/2.redock/4.receptor_grid/{system}/receptor_trans.pdb\"\n",
    "box_out = f\"{ppi_path}/2.redock/4.receptor_grid/{system}/box.pdb\"\n",
    "\n",
    "rec_grid_cal(prmtop, lj_scale, rc_scale, rs_scale, rm_scale, rho,\n",
    "             rec_inpcrd, lig_inpcrd, spacing, buffer, grid_out, pdb_out, box_out, radii_type, exclude_H)"
   ]
  },
  {
   "cell_type": "code",
   "execution_count": 8,
   "id": "1e2ad9a6-6f4e-4133-b2f2-6b73e456e46a",
   "metadata": {},
   "outputs": [
    {
     "name": "stdout",
     "output_type": "stream",
     "text": [
      "/home/jim/src/p39/fftanalysis/test_systems/2.redock/4.receptor_grid/benzene\n",
      "CPU times: user 36.5 ms, sys: 0 ns, total: 36.5 ms\n",
      "Wall time: 35.8 ms\n"
     ]
    }
   ],
   "source": [
    "%%time\n",
    "import netCDF4 as nc\n",
    "import numpy as np\n",
    "grid_name = \"grid.nc\"\n",
    "grid_path = f'{ppi_path}/2.redock/4.receptor_grid/{system}'\n",
    "print(grid_path)\n",
    "grid_nc = '%s/%s'%(grid_path,grid_name)\n",
    "\n",
    "\n",
    "#parsing some of the netcdf variables from grid.nc\n",
    "grid_variables = nc.Dataset(grid_nc, 'r').variables\n",
    "counts = nc.Dataset(grid_nc, 'r').variables[\"counts\"][:]\n",
    "x = nc.Dataset(grid_nc, 'r').variables[\"x\"][:]\n",
    "y = nc.Dataset(grid_nc, 'r').variables[\"y\"][:]\n",
    "z = nc.Dataset(grid_nc, 'r').variables[\"z\"][:]\n",
    "electrostatic = nc.Dataset(grid_nc, 'r').variables[\"electrostatic\"][:]\n",
    "lja = nc.Dataset(grid_nc, 'r').variables[\"LJa\"][:]\n",
    "ljr = nc.Dataset(grid_nc, 'r').variables[\"LJr\"][:]\n",
    "sasa = nc.Dataset(grid_nc, 'r').variables[\"sasa\"][:]\n",
    "occupancy = nc.Dataset(grid_nc, 'r').variables[\"occupancy\"][:]\n",
    "trans_crd = nc.Dataset(grid_nc, 'r').variables[\"trans_crd\"][:]\n",
    "rec_disp = nc.Dataset(grid_nc, 'r').variables[\"displacement\"][:]"
   ]
  },
  {
   "cell_type": "code",
   "execution_count": 9,
   "id": "3354560e-ca1d-4381-829d-c4fc4fe62558",
   "metadata": {
    "tags": []
   },
   "outputs": [
    {
     "name": "stdout",
     "output_type": "stream",
     "text": [
      "/home/jim/src/p39/fftanalysis\n",
      "[1]\n",
      "['enz']\n",
      "[1.]\n",
      "/home/jim/src/p39/fftanalysis/test_systems/2.redock/4.receptor_grid/benzene/grid.nc\n",
      "x\n",
      "[ 0.   0.5  1.   1.5  2.   2.5  3.   3.5  4.   4.5  5.   5.5  6.   6.5\n",
      "  7.   7.5  8.   8.5  9.   9.5 10.  10.5 11.  11.5 12.  12.5 13.  13.5\n",
      " 14.  14.5 15.  15.5 16.  16.5 17.  17.5 18.  18.5 19.  19.5 20. ]\n",
      "y\n",
      "[ 0.   0.5  1.   1.5  2.   2.5  3.   3.5  4.   4.5  5.   5.5  6.   6.5\n",
      "  7.   7.5  8.   8.5  9.   9.5 10.  10.5 11.  11.5 12.  12.5 13.  13.5\n",
      " 14.  14.5 15.  15.5 16.  16.5 17.  17.5 18.  18.5 19.  19.5 20. ]\n",
      "z\n",
      "[ 0.   0.5  1.   1.5  2.   2.5  3.   3.5  4.   4.5  5.   5.5  6.   6.5\n",
      "  7.   7.5  8.   8.5  9.   9.5 10.  10.5 11.  11.5 12.  12.5 13.  13.5\n",
      " 14.  14.5 15.  15.5 16.  16.5 17.  17.5 18.  18.5 19.  19.5 20. ]\n",
      "d0\n",
      "[0.5 0.  0. ]\n",
      "d1\n",
      "[0.  0.5 0. ]\n",
      "d2\n",
      "[0.  0.  0.5]\n",
      "spacing\n",
      "[0.5 0.5 0.5]\n",
      "counts\n",
      "[41 41 41]\n",
      "origin\n",
      "[0. 0. 0.]\n",
      "lj_sigma_scaling_factor\n",
      "[1.]\n",
      "rec_core_scaling\n",
      "[0.76]\n",
      "rec_surface_scaling\n",
      "[0.53]\n",
      "rec_metal_scaling\n",
      "[0.55]\n",
      "Doing FFT for occupancy\n",
      "Doing FFT for sasa\n",
      "Doing FFT for water\n",
      "Doing FFT for electrostatic\n",
      "Doing FFT for LJr\n",
      "Doing FFT for LJa\n",
      "Copy entries from receptor_grid ['lj_sigma_scaling_factor', 'x', 'y', 'z', 'd0', 'd1', 'd2', 'spacing', 'counts', 'origin', 'rec_core_scaling', 'rec_surface_scaling', 'rec_metal_scaling']\n",
      "[1.]\n",
      "[ 0.   0.5  1.   1.5  2.   2.5  3.   3.5  4.   4.5  5.   5.5  6.   6.5\n",
      "  7.   7.5  8.   8.5  9.   9.5 10.  10.5 11.  11.5 12.  12.5 13.  13.5\n",
      " 14.  14.5 15.  15.5 16.  16.5 17.  17.5 18.  18.5 19.  19.5 20. ]\n",
      "[ 0.   0.5  1.   1.5  2.   2.5  3.   3.5  4.   4.5  5.   5.5  6.   6.5\n",
      "  7.   7.5  8.   8.5  9.   9.5 10.  10.5 11.  11.5 12.  12.5 13.  13.5\n",
      " 14.  14.5 15.  15.5 16.  16.5 17.  17.5 18.  18.5 19.  19.5 20. ]\n",
      "[ 0.   0.5  1.   1.5  2.   2.5  3.   3.5  4.   4.5  5.   5.5  6.   6.5\n",
      "  7.   7.5  8.   8.5  9.   9.5 10.  10.5 11.  11.5 12.  12.5 13.  13.5\n",
      " 14.  14.5 15.  15.5 16.  16.5 17.  17.5 18.  18.5 19.  19.5 20. ]\n",
      "[0.5 0.  0. ]\n",
      "[0.  0.5 0. ]\n",
      "[0.  0.  0.5]\n",
      "[0.5 0.5 0.5]\n",
      "[41 41 41]\n",
      "[0. 0. 0.]\n",
      "[0.76]\n",
      "[0.53]\n",
      "[0.55]\n",
      "/home/jim/src/p39/fftanalysis\n",
      "[1]\n",
      "['enz']\n",
      "[1.]\n",
      "Number of atoms in /home/jim/src/p39/fftanalysis/test_systems/2.redock/2.minimize/benzene/ligand.inpcrd is 12\n",
      "Ligand translated by [5.5 5.5 4. ]\n",
      "[2.365 2.446 3.25 ]\n",
      "Ligand translated by [0. 0. 0.]\n",
      "[2.365 2.446 3.25 ]\n",
      "CPU times: user 129 ms, sys: 0 ns, total: 129 ms\n",
      "Wall time: 62.4 ms\n"
     ]
    }
   ],
   "source": [
    "%%time\n",
    "from bpmfwfft.grids import RecGrid\n",
    "from bpmfwfft.grids import LigGrid\n",
    "import netCDF4 as nc\n",
    "\n",
    "rec_prmtop = f\"{ppi_path}/2.redock/1.amber/{system}/ligand.prmtop\"\n",
    "lj_sigma_scal_fact = 1.0\n",
    "rec_inpcrd = f\"{ppi_path}/2.redock/2.minimize/{system}/ligand.inpcrd\"\n",
    "\n",
    "bsite_file = None\n",
    "grid_nc_file = f\"{ppi_path}/2.redock/4.receptor_grid/{system}/grid.nc\"\n",
    "\n",
    "lig_prmtop = f\"{ppi_path}/2.redock/1.amber/{system}/ligand.prmtop\"\n",
    "# lig_inpcrd = f\"{ppi_path}/2.redock/2.minimze/2OOB_A:B/ligand.inpcrd\"\n",
    "\n",
    "# rot_nc = f\"{ppi_path}/2.redock/3.ligand_rand_rot/{system}/trajectory.nc\"\n",
    "# lig_rot = nc.Dataset(rot_nc, 'r').variables['positions']\n",
    "lig_inpcrd = f\"{ppi_path}/2.redock/2.minimize/{system}/ligand.inpcrd\"\n",
    "\n",
    "rho = 9.0\n",
    "rc_scale = 0.76\n",
    "rs_scale = 0.53\n",
    "rm_scale = 0.55\n",
    "lc_scale = 0.81\n",
    "ls_scale = 0.50\n",
    "lm_scale = 0.54\n",
    "\n",
    "\n",
    "def _create_rec_grid(rec_prmtop, lj_sigma_scal_fact, rc_scale, rs_scale, rm_scale, rho, rec_inpcrd, bsite_file, grid_nc_file):\n",
    "    rec_grid = RecGrid(rec_prmtop, lj_sigma_scal_fact, rc_scale, rs_scale, rm_scale, rho, rec_inpcrd, bsite_file, \n",
    "                        grid_nc_file, new_calculation=False)\n",
    "    return rec_grid\n",
    "\n",
    "def _create_lig_grid(lig_prmtop, lj_sigma_scal_fact, lc_scale, ls_scale, lm_scale, lig_inpcrd, rec_grid):\n",
    "    lig_grid = LigGrid(lig_prmtop, lj_sigma_scal_fact, lc_scale, ls_scale, lm_scale, lig_inpcrd, rec_grid)\n",
    "    return lig_grid\n",
    "\n",
    "rec_grid = _create_rec_grid(rec_prmtop, lj_sigma_scal_fact, rc_scale, rs_scale, rm_scale, rho, rec_inpcrd, bsite_file, grid_nc_file)\n",
    "\n",
    "lig_grid = _create_lig_grid(lig_prmtop, lj_sigma_scal_fact, lc_scale, ls_scale, lm_scale, lig_inpcrd, rec_grid)\n",
    "# rot_num = 0\n",
    "# lig_grid._crd = np.array(lig_rot[rot_num], dtype=np.float64)\n",
    "lig_grid._move_ligand_to_lower_corner()"
   ]
  },
  {
   "cell_type": "code",
   "execution_count": 10,
   "id": "b8a07436-3606-426b-9825-f1ab01a81fbc",
   "metadata": {},
   "outputs": [
    {
     "name": "stdout",
     "output_type": "stream",
     "text": [
      "calculating Ligand occupancy grid\n",
      "--- occupancy calculated in 0.08297872543334961 seconds ---\n",
      "calculating Ligand sasa grid\n",
      "--- sasa calculated in 0.11781597137451172 seconds ---\n",
      "calculating Ligand electrostatic grid\n",
      "--- electrostatic calculated in 0.06946730613708496 seconds ---\n",
      "calculating Ligand LJa grid\n",
      "--- LJa calculated in 0.06607294082641602 seconds ---\n",
      "calculating Ligand LJr grid\n",
      "--- LJr calculated in 0.06593012809753418 seconds ---\n",
      "calculating Ligand water grid\n",
      "--- water calculated in 0.1911318302154541 seconds ---\n",
      "CPU times: user 164 ms, sys: 266 ms, total: 431 ms\n",
      "Wall time: 599 ms\n"
     ]
    }
   ],
   "source": [
    "%%time\n",
    "names = [\"occupancy\", \"sasa\", \"electrostatic\", \"LJa\", \"LJr\", \"water\"]\n",
    "lgrid = lig_grid.get_ligand_grids(names, [0,0,0])"
   ]
  },
  {
   "cell_type": "code",
   "execution_count": 11,
   "id": "920d7c03-1739-42a1-91d3-654421fe0809",
   "metadata": {},
   "outputs": [],
   "source": [
    "llja_fft = np.fft.fftn(lgrid[\"LJa\"])\n",
    "rlja_fft = rec_grid._FFTs[\"LJa\"]\n",
    "lljr_fft = np.fft.fftn(lgrid[\"LJr\"])\n",
    "rljr_fft = rec_grid._FFTs[\"LJr\"]\n",
    "l_occ = np.fft.fftn(lgrid[\"occupancy\"]).conjugate()\n",
    "r_occ = rec_grid._FFTs[\"occupancy\"]\n",
    "occ = np.fft.ifftn(r_occ * l_occ)\n",
    "occ = np.real(occ)\n",
    "lja_energy = np.fft.ifftn(rlja_fft * llja_fft.conjugate())\n",
    "lja_energy = np.real(lja_energy)\n",
    "ljr_energy = np.fft.ifftn(rljr_fft * lljr_fft.conjugate())\n",
    "ljr_energy = np.real(ljr_energy)"
   ]
  },
  {
   "cell_type": "code",
   "execution_count": 12,
   "id": "4d05947d-b799-4a41-86d1-147714fd93fb",
   "metadata": {},
   "outputs": [],
   "source": [
    "max_i, max_j, max_k = lig_grid._max_grid_indices\n",
    "lig_grid._free_of_clash = (occ < 0.001)\n",
    "lig_grid._free_of_clash = lig_grid._free_of_clash[0:max_i, 0:max_j, 0:max_k]"
   ]
  },
  {
   "cell_type": "code",
   "execution_count": 13,
   "id": "626f990f-db20-40ac-8034-f674169d3351",
   "metadata": {},
   "outputs": [],
   "source": [
    "lig_grid._meaningful_energies = np.zeros(lig_grid._grid[\"counts\"], dtype=float)\n",
    "if np.any(lig_grid._free_of_clash):\n",
    "    grid_func_energy = np.fft.ifftn(rlja_fft * llja_fft.conjugate())\n",
    "    grid_func_energy = np.real(grid_func_energy)\n",
    "    lig_grid._meaningful_energies += grid_func_energy"
   ]
  },
  {
   "cell_type": "code",
   "execution_count": 14,
   "id": "3996591c-ab83-4e10-81af-ac1f98810147",
   "metadata": {},
   "outputs": [],
   "source": [
    "def rmsd(P: np.ndarray, Q: np.ndarray, **kwargs) -> float:\n",
    "    \"\"\"\n",
    "    Calculate Root-mean-square deviation from two sets of vectors V and W.\n",
    "    Parameters\n",
    "    ----------\n",
    "    V : array\n",
    "        (N,D) matrix, where N is points and D is dimension.\n",
    "    W : array\n",
    "        (N,D) matrix, where N is points and D is dimension.\n",
    "    Returns\n",
    "    -------\n",
    "    rmsd : float\n",
    "        Root-mean-square deviation between the two vectors\n",
    "    \"\"\"\n",
    "    diff = P - Q\n",
    "    return np.sqrt((diff * diff).sum() / P.shape[0])"
   ]
  },
  {
   "cell_type": "code",
   "execution_count": 15,
   "id": "33116ddd-bb67-49c3-9aa3-f7e05db5f626",
   "metadata": {},
   "outputs": [
    {
     "name": "stdout",
     "output_type": "stream",
     "text": [
      "-7.733286832240729\n",
      "6.8825085080076045\n"
     ]
    }
   ],
   "source": [
    "# score = lig_grid._meaningful_energies\n",
    "score = lja_energy\n",
    "score2 = ljr_energy\n",
    "print(np.amin(score))\n",
    "print(np.amax(score2))\n",
    "k = 2000 # number of scores to save\n",
    "flat_score = score.flatten()\n",
    "flat_argp = np.argpartition(flat_score, k)[:k]\n",
    "flat_score2 = score2.flatten()\n",
    "flat_argp2 = np.argpartition(flat_score2, -k)[-k:]"
   ]
  },
  {
   "cell_type": "code",
   "execution_count": 16,
   "id": "dac2262d-f8ab-4002-ba9e-957fee5ca321",
   "metadata": {},
   "outputs": [
    {
     "name": "stdout",
     "output_type": "stream",
     "text": [
      "Ligand translated by [0. 0. 0.]\n",
      "[2.365 2.446 3.25 ]\n",
      "Ligand translated by [-2.5 -2.5 -2.5]\n",
      "[2.365 2.446 3.25 ]\n",
      "rmsd 0.0\n"
     ]
    }
   ],
   "source": [
    "import copy\n",
    "lig_grid._move_ligand_to_lower_corner()\n",
    "lig_grid.translate_ligand(np.array([5,5,5])*lig_grid._spacing)\n",
    "ref = copy.deepcopy(lig_grid._crd)\n",
    "lig_grid._move_ligand_to_lower_corner()\n",
    "lig_grid.translate_ligand(np.array([5,5,5])*lig_grid._spacing)\n",
    "tar = copy.deepcopy(lig_grid._crd)\n",
    "\n",
    "print(\"rmsd\", rmsd(ref, tar))"
   ]
  },
  {
   "cell_type": "code",
   "execution_count": 17,
   "id": "78c6fe96-d415-4dab-9fa9-4928c36665b1",
   "metadata": {},
   "outputs": [],
   "source": [
    "def cat_grids(grid1, grid2):\n",
    "    prmtop = cat_dictionaries(grid1._prmtop,grid2._prmtop)\n",
    "    crd = cat_dictionaries(grid1._crd,grid2._crd)\n",
    "    cat_grid = copy.deepcopy(grid1)\n",
    "    cat_grid._prmtop = prmtop\n",
    "    cat_grid._crd = crd\n",
    "    return cat_grid\n",
    "\n",
    "def cat_dictionaries(dict1, dict2):\n",
    "    dict1_copy = copy.deepcopy(dict1)\n",
    "    dict2_copy = copy.deepcopy(dict2)\n",
    "    \n",
    "    if isinstance(dict1_copy, dict):\n",
    "        keys = list(dict1_copy.keys())\n",
    "        for key in keys:\n",
    "            # print(keys)\n",
    "            # print(key)\n",
    "            dict1_copy[key] = cat_values(dict1[key], dict2[key])\n",
    "        return dict1_copy\n",
    "    \n",
    "    elif isinstance(dict1_copy, np.ndarray):\n",
    "        return np.concatenate((dict1_copy,dict2_copy))\n",
    "\n",
    "def cat_values(a1, a2):\n",
    "    array1 = copy.deepcopy(a1)\n",
    "    array2 = copy.deepcopy(a2)\n",
    "    if isinstance(array1, np.ndarray):\n",
    "        return np.concatenate((array1,array2))\n",
    "    elif isinstance(array1, dict):\n",
    "        return cat_dictionaries(array1, array2)\n",
    "    elif isinstance(array1, (int, np.int64)):\n",
    "        # print(f\"{array1+array2}\")\n",
    "        return array1 + array2\n",
    "    elif isinstance(array1, list):\n",
    "        # print(type(array1))\n",
    "        # print(f'array1:{len(array1)}, array2:{len(array2)}')\n",
    "        array1.extend(array2)\n",
    "        # print(f'complex:{len(array1)}, sum:{len(a1)+len(a2)}')\n",
    "        return array1"
   ]
  },
  {
   "cell_type": "code",
   "execution_count": 19,
   "id": "78eb7bd1-c461-4c8e-bbb0-0856bd5625d3",
   "metadata": {},
   "outputs": [],
   "source": [
    "x = np.zeros(int(12/lig_grid._spacing[0]))\n",
    "y = np.zeros(int(12/lig_grid._spacing[0]))\n",
    "x[:] = 4.625/lig_grid._spacing[0]\n",
    "y[:] = 4.625/lig_grid._spacing[0]\n",
    "z = np.arange(0, int(12/lig_grid._spacing[0]), 1)\n",
    "test_range = np.stack([x,y,z],1)"
   ]
  },
  {
   "cell_type": "code",
   "execution_count": 24,
   "id": "cb54174e-2272-4b25-8e8f-0acdfdcf26ed",
   "metadata": {},
   "outputs": [],
   "source": [
    "# 4ε[(σ/r)^12 - (σ/r)^6]\n",
    "def lj_components(receptor, ligand):\n",
    "    \"\"\"\n",
    "    Accepts a ligand and receptor grid and calculates the LJa and LJr terms and the overall LJ Potential\n",
    "    receptor    RecGrid\n",
    "    ligand      LigGrid\n",
    "    \"\"\"\n",
    "    r_natoms = receptor.get_natoms()\n",
    "    l_natoms = ligand.get_natoms()\n",
    "    ljr_energy = np.zeros((r_natoms, l_natoms))\n",
    "    lja_energy = np.zeros((r_natoms, l_natoms))\n",
    "    lj_energy = np.zeros((r_natoms, l_natoms))\n",
    "    for i in range(r_natoms):\n",
    "        for j in range(l_natoms):\n",
    "            eps = np.sqrt(receptor._prmtop[\"LJ_EPSILON\"][i]*ligand._prmtop[\"LJ_EPSILON\"][j])\n",
    "            sigma = np.mean([receptor._prmtop[\"LJ_SIGMA\"][i], ligand._prmtop[\"LJ_SIGMA\"][j]])\n",
    "            # sigma = np.sqrt(receptor._prmtop[\"LJ_SIGMA\"][i]*ligand._prmtop[\"LJ_SIGMA\"][j])\n",
    "            ljr = (4*eps)*(sigma/_distance(rec_grid._crd[i], lig_grid._crd[j]))**12\n",
    "            lja = -(4*eps)*(sigma/_distance(rec_grid._crd[i], lig_grid._crd[j]))**6\n",
    "            ljr_energy[i,j] = ljr\n",
    "            lja_energy[i,j] = lja\n",
    "            lj_energy[i,j] = ljr+lja\n",
    "    return ljr_energy.sum(), lja_energy.sum(), lj_energy.sum()"
   ]
  },
  {
   "cell_type": "code",
   "execution_count": 25,
   "id": "64f08b14-e886-4cd1-b75e-37fd4c243811",
   "metadata": {
    "scrolled": true
   },
   "outputs": [
    {
     "name": "stdout",
     "output_type": "stream",
     "text": [
      "Ligand translated by [ -5.   -5.  -11.5]\n",
      "[2.365 2.446 3.25 ]\n",
      "[9 9 0] [4.625 4.625 0.   ]\n",
      "Ligand translated by [-4.5 -4.5  0. ]\n",
      "[2.49  2.571 3.25 ]\n",
      "[9 9 1] [4.625 4.625 0.5  ]\n",
      "Ligand translated by [-4.5 -4.5 -0.5]\n",
      "[2.615 2.696 3.25 ]\n",
      "[9 9 2] [4.625 4.625 1.   ]\n",
      "Ligand translated by [-4.5 -4.5 -1. ]\n",
      "[2.74  2.821 3.25 ]\n",
      "[9 9 3] [4.625 4.625 1.5  ]\n",
      "Ligand translated by [-5.  -5.  -1.5]\n",
      "[2.365 2.446 3.25 ]\n",
      "[9 9 4] [4.625 4.625 2.   ]\n",
      "Ligand translated by [-4.5 -4.5 -2. ]\n",
      "[2.49  2.571 3.25 ]\n",
      "[9 9 5] [4.625 4.625 2.5  ]\n",
      "Ligand translated by [-4.5 -4.5 -2.5]\n",
      "[2.615 2.696 3.25 ]\n",
      "[9 9 6] [4.625 4.625 3.   ]\n",
      "Ligand translated by [-4.5 -4.5 -3. ]\n",
      "[2.74  2.821 3.25 ]\n",
      "[9 9 7] [4.625 4.625 3.5  ]\n",
      "Ligand translated by [-5.  -5.  -3.5]\n",
      "[2.365 2.446 3.25 ]\n",
      "[9 9 8] [4.625 4.625 4.   ]\n",
      "Ligand translated by [-4.5 -4.5 -4. ]\n",
      "[2.49  2.571 3.25 ]\n",
      "[9 9 9] [4.625 4.625 4.5  ]\n",
      "Ligand translated by [-4.5 -4.5 -4.5]\n",
      "[2.615 2.696 3.25 ]\n",
      "[ 9  9 10] [4.625 4.625 5.   ]\n",
      "Ligand translated by [-4.5 -4.5 -5. ]\n",
      "[2.74  2.821 3.25 ]\n",
      "[ 9  9 11] [4.625 4.625 5.5  ]\n",
      "Ligand translated by [-5.  -5.  -5.5]\n",
      "[2.365 2.446 3.25 ]\n",
      "[ 9  9 12] [4.625 4.625 6.   ]\n",
      "Ligand translated by [-4.5 -4.5 -6. ]\n",
      "[2.49  2.571 3.25 ]\n",
      "[ 9  9 13] [4.625 4.625 6.5  ]\n",
      "Ligand translated by [-4.5 -4.5 -6.5]\n",
      "[2.615 2.696 3.25 ]\n",
      "[ 9  9 14] [4.625 4.625 7.   ]\n",
      "Ligand translated by [-4.5 -4.5 -7. ]\n",
      "[2.74  2.821 3.25 ]\n",
      "[ 9  9 15] [4.625 4.625 7.5  ]\n",
      "Ligand translated by [-5.  -5.  -7.5]\n",
      "[2.365 2.446 3.25 ]\n",
      "[ 9  9 16] [4.625 4.625 8.   ]\n",
      "Ligand translated by [-4.5 -4.5 -8. ]\n",
      "[2.49  2.571 3.25 ]\n",
      "[ 9  9 17] [4.625 4.625 8.5  ]\n",
      "Ligand translated by [-4.5 -4.5 -8.5]\n",
      "[2.615 2.696 3.25 ]\n",
      "[ 9  9 18] [4.625 4.625 9.   ]\n",
      "Ligand translated by [-4.5 -4.5 -9. ]\n",
      "[2.74  2.821 3.25 ]\n",
      "[ 9  9 19] [4.625 4.625 9.5  ]\n",
      "Ligand translated by [-5.  -5.  -9.5]\n",
      "[2.365 2.446 3.25 ]\n",
      "[ 9  9 20] [ 4.625  4.625 10.   ]\n",
      "Ligand translated by [ -4.5  -4.5 -10. ]\n",
      "[2.49  2.571 3.25 ]\n",
      "[ 9  9 21] [ 4.625  4.625 10.5  ]\n",
      "Ligand translated by [ -4.5  -4.5 -10.5]\n",
      "[2.615 2.696 3.25 ]\n",
      "[ 9  9 22] [ 4.625  4.625 11.   ]\n",
      "Ligand translated by [ -4.5  -4.5 -11. ]\n",
      "[2.74  2.821 3.25 ]\n",
      "[ 9  9 23] [ 4.625  4.625 11.5  ]\n",
      "Distance: 5.5 Angstroms, LJa Energy: grid: -0.65737 direct: -0.65654, LJr Energy: grid: 0.02394 direct: 0.02390, LJ Potential: -0.63343\n",
      "Distance: 5.0 Angstroms, LJa Energy: grid: -1.09312 direct: -1.08551, LJr Energy: grid: 0.06847 direct: 0.06770, LJ Potential: -1.02466\n",
      "Distance: 4.5 Angstroms, LJa Energy: grid: -1.90152 direct: -1.86712, LJr Energy: grid: 0.21689 direct: 0.21044, LJ Potential: -1.68463\n",
      "Distance: 4.1 Angstroms, LJa Energy: grid: -3.49326 direct: -3.36602, LJr Energy: grid: 0.78047 direct: 0.73214, LJ Potential: -2.71279\n",
      "Distance: 3.5 Angstroms, LJa Energy: grid: -6.86992 direct: -6.85753, LJr Energy: grid: 3.30950 direct: 3.29847, LJ Potential: -3.56042\n",
      "Distance: 3.0 Angstroms, LJa Energy: grid: -5.18404 direct: -6.21062, LJr Energy: grid: 2.35678 direct: 3.29669, LJ Potential: -2.82726\n",
      "Distance: 2.6 Angstroms, LJa Energy: grid: -7.73329 direct: -5.37404, LJr Energy: grid: 6.88251 direct: 3.66939, LJ Potential: -0.85078\n",
      "Distance: 2.1 Angstroms, LJa Energy: grid: -4.44366 direct: -4.88982, LJr Energy: grid: 4.01295 direct: 4.62717, LJ Potential: -0.43071\n",
      "Distance: 1.5 Angstroms, LJa Energy: grid: -2.88159 direct: -3.26926, LJr Energy: grid: 2.92951 direct: 3.47245, LJ Potential: 0.04792\n",
      "Distance: 1.1 Angstroms, LJa Energy: grid: -1.82144 direct: -2.07983, LJr Energy: grid: 0.82829 direct: 1.62892, LJ Potential: -0.99314\n",
      "Distance: 0.7 Angstroms, LJa Energy: grid: -1.57508 direct: -2.24327, LJr Energy: grid: 0.54416 direct: 1.89217, LJ Potential: -1.03092\n",
      "Distance: 0.7 Angstroms, LJa Energy: grid: -1.54061 direct: -3.03276, LJr Energy: grid: 0.54932 direct: 3.21114, LJ Potential: -0.99129\n",
      "Distance: 0.5 Angstroms, LJa Energy: grid: -1.57508 direct: -1.71872, LJr Energy: grid: 0.54416 direct: 0.78658, LJ Potential: -1.03092\n",
      "Distance: 1.1 Angstroms, LJa Energy: grid: -1.82144 direct: -2.07983, LJr Energy: grid: 0.82829 direct: 1.62892, LJ Potential: -0.99314\n",
      "Distance: 1.6 Angstroms, LJa Energy: grid: -2.88159 direct: -2.86046, LJr Energy: grid: 2.92951 direct: 2.08576, LJ Potential: 0.04792\n",
      "Distance: 2.1 Angstroms, LJa Energy: grid: -4.44366 direct: -4.88982, LJr Energy: grid: 4.01295 direct: 4.62717, LJ Potential: -0.43071\n",
      "Distance: 2.5 Angstroms, LJa Energy: grid: -7.73329 direct: -6.10526, LJr Energy: grid: 6.88251 direct: 5.27263, LJ Potential: -0.85078\n",
      "Distance: 3.0 Angstroms, LJa Energy: grid: -5.18404 direct: -6.21062, LJr Energy: grid: 2.35678 direct: 3.29669, LJ Potential: -2.82726\n",
      "Distance: 3.5 Angstroms, LJa Energy: grid: -6.86992 direct: -6.70838, LJr Energy: grid: 3.30950 direct: 3.16226, LJ Potential: -3.56042\n",
      "Distance: 4.1 Angstroms, LJa Energy: grid: -3.49326 direct: -3.36602, LJr Energy: grid: 0.78047 direct: 0.73214, LJ Potential: -2.71279\n",
      "Distance: 4.5 Angstroms, LJa Energy: grid: -1.90152 direct: -1.89874, LJr Energy: grid: 0.21689 direct: 0.21641, LJ Potential: -1.68463\n",
      "Distance: 5.0 Angstroms, LJa Energy: grid: -1.09312 direct: -1.08551, LJr Energy: grid: 0.06847 direct: 0.06770, LJ Potential: -1.02466\n",
      "Distance: 5.5 Angstroms, LJa Energy: grid: -0.65737 direct: -0.64772, LJr Energy: grid: 0.02394 direct: 0.02337, LJ Potential: -0.63343\n",
      "Distance: 6.0 Angstroms, LJa Energy: grid: -0.41066 direct: -0.40090, LJr Energy: grid: 0.00911 direct: 0.00876, LJ Potential: -0.40155\n"
     ]
    }
   ],
   "source": [
    "import copy\n",
    "# result = map(cat_dictionaries, rec_grid._prmtop, lig_grid._prmtop)\n",
    "delta_sasas = []\n",
    "colors = []\n",
    "output = []\n",
    "distances = []\n",
    "a_energies = []\n",
    "da_energies = []\n",
    "r_energies = []\n",
    "dr_energies = []\n",
    "potentials = []\n",
    "ljr_actual = []\n",
    "lja_actual = []\n",
    "lj_actual = []\n",
    "for v,vector in enumerate(test_range):\n",
    "    vector_crd = (np.array(vector).transpose()*lig_grid._spacing[0])\n",
    "    vector = vector.astype(int)\n",
    "    x,y,z = vector\n",
    "    lig_grid._move_ligand_to_lower_corner()\n",
    "    print(vector, vector_crd)\n",
    "    lig_grid.translate_ligand(vector_crd)\n",
    "    com_grid = cat_grids(rec_grid, lig_grid)\n",
    "    rmsd_to_native = rmsd(ref, lig_grid._crd)\n",
    "    if rmsd_to_native < 5.:\n",
    "        # colors.append([255, 0, 0])\n",
    "        colors.append(\"red\")\n",
    "    else:\n",
    "        # colors.append([0, 255, 255])\n",
    "        colors.append(\"black\")\n",
    "    num = str(vector[2]).replace(\".\", \"_\")\n",
    "    com_grid.write_pdb(f'{home}/src/p39/fftanalysis/test_systems/3.analysis/1.pdbs/{system}/complex/complex_{vector[2]}.pdb', \"w\")\n",
    "    lig_grid.write_pdb(f'{home}/src/p39/fftanalysis/test_systems/3.analysis/1.pdbs/{system}/ligand/trans{vector[2]}.pdb', \"w\")\n",
    "    rec_grid.write_pdb(f'{home}/src/p39/fftanalysis/test_systems/3.analysis/1.pdbs/{system}/receptor/rec.pdb', \"w\")\n",
    "    if rec_grid._crd.mean(axis=0)[2] > lig_grid._crd.mean(axis=0)[2]:\n",
    "        distances.append(_distance(lig_grid._crd.mean(axis=0),rec_grid._crd.mean(axis=0)))\n",
    "    else:\n",
    "        distances.append(-1*(_distance(lig_grid._crd.mean(axis=0),rec_grid._crd.mean(axis=0))))\n",
    "    a_energies.append(lja_energy[x,y,z])\n",
    "    r_energies.append(ljr_energy[x,y,z])\n",
    "    potentials.append(lja_energy[x,y,z]+ljr_energy[x,y,z])\n",
    "    charges = lig_grid.get_charges()\n",
    "    lja_charge = charges[\"A_LJ_CHARGE\"]\n",
    "    ljr_charge = charges[\"R_LJ_CHARGE\"]\n",
    "    e_charges = charges[\"CHARGE_E_UNIT\"]\n",
    "    zeros = np.zeros(lja_charge.shape)\n",
    "    lja_charges = {\"A_LJ_CHARGE\": lja_charge, \"R_LJ_CHARGE\": zeros, \"CHARGE_E_UNIT\": zeros}\n",
    "    ljr_charges = {\"A_LJ_CHARGE\": zeros, \"R_LJ_CHARGE\": ljr_charge, \"CHARGE_E_UNIT\": zeros}\n",
    "    dr_energies.append(rec_grid.direct_energy(lig_grid._crd, ljr_charges))\n",
    "    da_energies.append(rec_grid.direct_energy(lig_grid._crd, lja_charges))\n",
    "    a,b,c = lj_components(rec_grid, lig_grid)\n",
    "    ljr_actual.append(a)\n",
    "    lja_actual.append(b)\n",
    "    lj_actual.append(c)\n",
    "    output.append(f\"Distance: {_distance(lig_grid._crd[0],rec_grid._crd[0]):.1f} Angstroms, LJa Energy: grid: {lja_energy[x,y,z]:.5f} direct: {da_energies[-1]:.5f}, LJr Energy: grid: {ljr_energy[x,y,z]:.5f} direct: {dr_energies[-1]:.5f}, LJ Potential: {lja_energy[x,y,z]+ljr_energy[x,y,z]:.5f}\")\n",
    "for line in output:\n",
    "    print(line)"
   ]
  },
  {
   "cell_type": "code",
   "execution_count": 26,
   "id": "feae53e3-be2e-476a-bcb4-2cb8d11f0969",
   "metadata": {},
   "outputs": [],
   "source": [
    "def get_sigmas(grid):\n",
    "    values= np.unique(grid._prmtop[\"LJ_SIGMA\"])\n",
    "    return values\n",
    "    \n",
    "\n",
    "def add_vertical_lines(x_values):\n",
    "    for ind,x in enumerate(x_values):\n",
    "        plt.axvline(x=x, linestyle='--')\n",
    "        plt.text(x + 0.1, ind + 2, f\"{x:.2f}\", rotation=0, verticalalignment='center')"
   ]
  },
  {
   "cell_type": "code",
   "execution_count": 27,
   "id": "7eb5ce85-2103-4164-9b83-d0225f8be8f7",
   "metadata": {},
   "outputs": [
    {
     "data": {
      "image/png": "[encoded data removed]",
      "text/plain": [
       "<Figure size 1152x648 with 1 Axes>"
      ]
     },
     "metadata": {
      "needs_background": "light"
     },
     "output_type": "display_data"
    }
   ],
   "source": [
    "import matplotlib.pyplot as plt\n",
    "d_potentials = [sum(x) for x in zip(da_energies, dr_energies)]\n",
    "plt.figure(figsize=(16,9))\n",
    "cut = 0\n",
    "plt.plot(distances, a_energies, label=\"Grid LJa\")\n",
    "plt.plot(distances, r_energies, label=\"Grid LJr\")\n",
    "plt.plot(distances, da_energies, label=\"Direct LJa\")\n",
    "plt.plot(distances, dr_energies, label=\"Direct LJr\")\n",
    "plt.plot(distances, potentials, label=\"Grid LJ Potential\")\n",
    "plt.plot(distances, d_potentials, label=\"Direct LJ Potential\")\n",
    "plt.plot(distances[cut:], ljr_actual[cut:], label=\"LJr Actual\")\n",
    "plt.plot(distances[cut:], lja_actual[cut:], label=\"LJa Actual\")\n",
    "plt.plot(distances, lj_actual, label=\"LJ Actual\")\n",
    "add_vertical_lines(get_sigmas(rec_grid))\n",
    "plt.xlabel(\"Distance Å\")\n",
    "plt.ylabel(\"Energy KJ/Mol\")\n",
    "plt.ylim(-15,24)\n",
    "plt.legend()\n",
    "plt.show()"
   ]
  },
  {
   "cell_type": "code",
   "execution_count": 98,
   "id": "caf5aa1f-3ee0-4491-ba00-b43fad25fd40",
   "metadata": {},
   "outputs": [
    {
     "data": {
      "image/png": "[encoded data removed]",
      "text/plain": [
       "<Figure size 432x288 with 1 Axes>"
      ]
     },
     "metadata": {
      "needs_background": "light"
     },
     "output_type": "display_data"
    }
   ],
   "source": [
    "add_vertical_lines(get_sigmas(rec_grid))"
   ]
  },
  {
   "cell_type": "code",
   "execution_count": 23,
   "id": "a32efeea-acfa-42d4-a2e2-f73f1fbeaecc",
   "metadata": {},
   "outputs": [
    {
     "data": {
      "text/plain": [
       "7.867059488779781"
      ]
     },
     "execution_count": 23,
     "metadata": {},
     "output_type": "execute_result"
    }
   ],
   "source": [
    "_distance(lig_grid._crd[0],rec_grid._crd[0])"
   ]
  },
  {
   "cell_type": "code",
   "execution_count": 53,
   "id": "16e8b270-70a6-483c-8cd6-1716951314fe",
   "metadata": {},
   "outputs": [
    {
     "data": {
      "text/plain": [
       "dict_keys(['CHARGE_E_UNIT', 'R_LJ_CHARGE', 'A_LJ_CHARGE', 'LJ_SIGMA', 'LJ_EPSILON', 'VDW_RADII', 'POINTERS', 'MASS', 'PDB_TEMPLATE'])"
      ]
     },
     "execution_count": 53,
     "metadata": {},
     "output_type": "execute_result"
    }
   ],
   "source": [
    "rec_grid._prmtop.keys()"
   ]
  },
  {
   "cell_type": "code",
   "execution_count": 22,
   "id": "1ff4f92f-16ac-4c04-be38-6ecd74be06b4",
   "metadata": {},
   "outputs": [
    {
     "data": {
      "text/plain": [
       "masked_array(data=[10.091,  8.96 ,  8.625],\n",
       "             mask=False,\n",
       "       fill_value=1e+20)"
      ]
     },
     "execution_count": 22,
     "metadata": {},
     "output_type": "execute_result"
    }
   ],
   "source": [
    "rec_grid._crd[0]"
   ]
  },
  {
   "cell_type": "code",
   "execution_count": 21,
   "id": "00846324-2a49-4304-9c87-789c92b4ea16",
   "metadata": {},
   "outputs": [
    {
     "data": {
      "text/plain": [
       "masked_array(data=[ 0.625,  0.625, -5.5  ],\n",
       "             mask=False,\n",
       "       fill_value=1e+20)"
      ]
     },
     "execution_count": 21,
     "metadata": {},
     "output_type": "execute_result"
    }
   ],
   "source": [
    "rec_grid._crd[0]-lig_grid._crd[0]"
   ]
  },
  {
   "cell_type": "code",
   "execution_count": 43,
   "id": "daa86cc4-2126-404e-97a8-36cc9b7c2c69",
   "metadata": {},
   "outputs": [
    {
     "data": {
      "text/plain": [
       "9.708305555555556"
      ]
     },
     "execution_count": 43,
     "metadata": {},
     "output_type": "execute_result"
    }
   ],
   "source": [
    "np.mean(rec_grid._crd)"
   ]
  },
  {
   "cell_type": "code",
   "execution_count": 48,
   "id": "5ae0d132-a449-4a2d-95fe-4e06f0d7fccb",
   "metadata": {},
   "outputs": [
    {
     "data": {
      "text/plain": [
       "9.75"
      ]
     },
     "execution_count": 48,
     "metadata": {},
     "output_type": "execute_result"
    }
   ],
   "source": [
    "78*lig_grid._spacing[0]"
   ]
  },
  {
   "cell_type": "code",
   "execution_count": 57,
   "id": "ecaa4c81-6cc4-42de-b6f2-29083badeae3",
   "metadata": {},
   "outputs": [
    {
     "data": {
      "text/plain": [
       "45.0"
      ]
     },
     "execution_count": 57,
     "metadata": {},
     "output_type": "execute_result"
    }
   ],
   "source": [
    "5.625/lig_grid._spacing[0]"
   ]
  },
  {
   "cell_type": "code",
   "execution_count": 24,
   "id": "dfdbea4d-e339-4bb8-888c-54cf1ac251ab",
   "metadata": {},
   "outputs": [
    {
     "data": {
      "text/plain": [
       "32.0"
      ]
     },
     "execution_count": 24,
     "metadata": {},
     "output_type": "execute_result"
    }
   ],
   "source": [
    "4/lig_grid._spacing[0]"
   ]
  },
  {
   "cell_type": "code",
   "execution_count": 25,
   "id": "f38a97b5-00b2-4e5a-8f16-e208de3f6d70",
   "metadata": {},
   "outputs": [
    {
     "data": {
      "text/plain": [
       "37.0"
      ]
     },
     "execution_count": 25,
     "metadata": {},
     "output_type": "execute_result"
    }
   ],
   "source": [
    "4.625/lig_grid._spacing[0]"
   ]
  },
  {
   "cell_type": "code",
   "execution_count": 23,
   "id": "aeaa1d12-9e38-43fd-9848-e86e14737828",
   "metadata": {},
   "outputs": [
    {
     "data": {
      "text/plain": [
       "-0.17009145559272942"
      ]
     },
     "execution_count": 23,
     "metadata": {},
     "output_type": "execute_result"
    }
   ],
   "source": [
    "rec_grid.direct_energy(lig_grid._crd, charges)"
   ]
  },
  {
   "cell_type": "code",
   "execution_count": 29,
   "id": "37f15b7d-8bb7-4188-8214-cfdbfa4d0464",
   "metadata": {},
   "outputs": [
    {
     "data": {
      "text/plain": [
       "0.02393257153854228"
      ]
     },
     "execution_count": 29,
     "metadata": {},
     "output_type": "execute_result"
    }
   ],
   "source": [
    "charges = lig_grid.get_charges()\n",
    "charges[\"CHARGE_E_UNIT\"][:] = 0\n",
    "charges[\"A_LJ_CHARGE\"][:] = 0\n",
    "rec_grid.direct_energy(lig_grid._crd, charges)"
   ]
  },
  {
   "cell_type": "code",
   "execution_count": 28,
   "id": "bbcc7891-bd7f-4aa3-838f-6013d9d86f9a",
   "metadata": {},
   "outputs": [
    {
     "data": {
      "text/plain": [
       "dict_keys(['CHARGE_E_UNIT', 'R_LJ_CHARGE', 'A_LJ_CHARGE'])"
      ]
     },
     "execution_count": 28,
     "metadata": {},
     "output_type": "execute_result"
    }
   ],
   "source": [
    "charges.keys()"
   ]
  },
  {
   "cell_type": "code",
   "execution_count": 27,
   "id": "d704ae6f-d53e-4761-94d2-1c5fd3ac1dd2",
   "metadata": {},
   "outputs": [
    {
     "data": {
      "text/plain": [
       "array([0.086, 0.086, 0.086, 0.086, 0.086, 0.086, 0.015, 0.015, 0.015,\n",
       "       0.015, 0.015, 0.015])"
      ]
     },
     "execution_count": 27,
     "metadata": {},
     "output_type": "execute_result"
    }
   ],
   "source": [
    "rec_grid._prmtop[\"LJ_EPSILON\"]"
   ]
  },
  {
   "cell_type": "code",
   "execution_count": 28,
   "id": "a297cc4f-da7b-4f96-89fe-e4dc20fd989c",
   "metadata": {},
   "outputs": [
    {
     "data": {
      "text/plain": [
       "array([3.39966951, 3.39966951, 3.39966951, 3.39966951, 3.39966951,\n",
       "       3.39966951, 2.59964246, 2.59964246, 2.59964246, 2.59964246,\n",
       "       2.59964246, 2.59964246])"
      ]
     },
     "execution_count": 28,
     "metadata": {},
     "output_type": "execute_result"
    }
   ],
   "source": [
    "rec_grid._prmtop[\"LJ_SIGMA\"]"
   ]
  },
  {
   "cell_type": "code",
   "execution_count": 65,
   "id": "e4a50388-21f8-4cd3-96ef-4be0ba3687f6",
   "metadata": {},
   "outputs": [
    {
     "data": {
      "text/plain": [
       "0.035101936656941196"
      ]
     },
     "execution_count": 65,
     "metadata": {},
     "output_type": "execute_result"
    }
   ],
   "source": [
    "lj_components(rec_grid, lig_grid)"
   ]
  },
  {
   "cell_type": "code",
   "execution_count": 49,
   "id": "fff350ad-10ff-495c-a58b-144b1c857e22",
   "metadata": {},
   "outputs": [
    {
     "data": {
      "text/plain": [
       "3.399669507944831"
      ]
     },
     "execution_count": 49,
     "metadata": {},
     "output_type": "execute_result"
    }
   ],
   "source": [
    "rec_grid._prmtop[\"LJ_SIGMA\"][0]"
   ]
  },
  {
   "cell_type": "code",
   "execution_count": 37,
   "id": "7cb2fdce-6a57-4421-bb42-601c76bd2584",
   "metadata": {},
   "outputs": [
    {
     "data": {
      "text/plain": [
       "dict_keys(['CHARGE_E_UNIT', 'R_LJ_CHARGE', 'A_LJ_CHARGE', 'LJ_SIGMA', 'LJ_EPSILON', 'VDW_RADII', 'POINTERS', 'MASS', 'PDB_TEMPLATE'])"
      ]
     },
     "execution_count": 37,
     "metadata": {},
     "output_type": "execute_result"
    }
   ],
   "source": [
    "rec_grid._prmtop.keys()"
   ]
  },
  {
   "cell_type": "code",
   "execution_count": 1,
   "id": "c0cc22df-ed6c-4d14-bc05-6908ca23d0ea",
   "metadata": {},
   "outputs": [],
   "source": [
    "import numpy as np"
   ]
  },
  {
   "cell_type": "code",
   "execution_count": 31,
   "id": "cefd3547-9e74-4b8c-8910-851dba297fd8",
   "metadata": {},
   "outputs": [
    {
     "data": {
      "text/plain": [
       "array([[ 6.753,  8.357,  2.801],\n",
       "       [ 8.195,  8.371,  2.858],\n",
       "       [ 9.006,  7.316,  2.532],\n",
       "       [10.311,  7.718,  2.718],\n",
       "       [10.281,  9.062,  3.166],\n",
       "       [ 8.959,  9.442,  3.241],\n",
       "       [ 6.396,  7.361,  3.075],\n",
       "       [ 6.358,  9.092,  3.507],\n",
       "       [ 6.447,  8.606,  1.782],\n",
       "       [ 8.595,  6.372,  2.2  ],\n",
       "       [11.188,  7.109,  2.549],\n",
       "       [11.13 ,  9.686,  3.408],\n",
       "       [ 8.506, 10.379,  3.537]])"
      ]
     },
     "execution_count": 31,
     "metadata": {},
     "output_type": "execute_result"
    }
   ],
   "source": [
    "lig_grid._crd"
   ]
  },
  {
   "cell_type": "code",
   "execution_count": 33,
   "id": "720ef894-283d-410e-95a4-b7b0aa45e75f",
   "metadata": {},
   "outputs": [
    {
     "data": {
      "text/plain": [
       "array([8.625     , 8.37469231, 2.87492308])"
      ]
     },
     "execution_count": 33,
     "metadata": {},
     "output_type": "execute_result"
    }
   ],
   "source": [
    "lig_grid._crd.mean(axis=0)"
   ]
  },
  {
   "cell_type": "code",
   "execution_count": null,
   "id": "2139f292-457b-4b74-b228-4fe8b331ceed",
   "metadata": {},
   "outputs": [],
   "source": []
  }
 ],
 "metadata": {
  "kernelspec": {
   "display_name": "Python 3",
   "language": "python",
   "name": "python3"
  },
  "language_info": {
   "codemirror_mode": {
    "name": "ipython",
    "version": 3
   },
   "file_extension": ".py",
   "mimetype": "text/x-python",
   "name": "python",
   "nbconvert_exporter": "python",
   "pygments_lexer": "ipython3",
   "version": "3.9.4"
  }
 },
 "nbformat": 4,
 "nbformat_minor": 5
}
