{
 "cells": [
  {
   "cell_type": "code",
   "execution_count": 2,
   "id": "afa23e4c",
   "metadata": {},
   "outputs": [],
   "source": [
    "import netCDF4 as nc\n",
    "import numpy as np\n",
    "\n",
    "grid_path = '/home/jtufts/Desktop/FFT_PPI/2.redock/4.receptor_grid/1ACB_E:I'\n",
    "grid_nc = '%s/grid.nc'%grid_path\n",
    "\n",
    "\n",
    "#parsing some of the netcdf variables from grid.nc\n",
    "grid_variables = nc.Dataset(grid_nc, 'r').variables\n",
    "counts = nc.Dataset(grid_nc, 'r').variables[\"counts\"][:]\n",
    "x = nc.Dataset(grid_nc, 'r').variables[\"x\"][:]\n",
    "y = nc.Dataset(grid_nc, 'r').variables[\"y\"][:]\n",
    "z = nc.Dataset(grid_nc, 'r').variables[\"z\"][:]\n",
    "electrostatic = nc.Dataset(grid_nc, 'r').variables[\"electrostatic\"][:]\n",
    "lja = nc.Dataset(grid_nc, 'r').variables[\"LJa\"][:]\n",
    "ljr = nc.Dataset(grid_nc, 'r').variables[\"LJr\"][:]\n",
    "sasai = nc.Dataset(grid_nc, 'r').variables[\"SASAi\"][:]\n",
    "sasar = nc.Dataset(grid_nc, 'r').variables[\"SASAr\"][:]\n",
    "trans_crd = nc.Dataset(grid_nc, 'r').variables[\"trans_crd\"][:]\n",
    "\n"
   ]
  },
  {
   "cell_type": "code",
   "execution_count": null,
   "id": "03c18ef6",
   "metadata": {},
   "outputs": [],
   "source": [
    "for segment in sasar:\n",
    "    if 1 in segment:\n",
    "        print(segment)"
   ]
  },
  {
   "cell_type": "code",
   "execution_count": 5,
   "id": "ad01cbd1",
   "metadata": {},
   "outputs": [
    {
     "name": "stdout",
     "output_type": "stream",
     "text": [
      "(263, 263, 263)\n"
     ]
    }
   ],
   "source": [
    "print(sasar.shape)"
   ]
  },
  {
   "cell_type": "code",
   "execution_count": 7,
   "id": "e3c62e21",
   "metadata": {},
   "outputs": [
    {
     "data": {
      "text/plain": [
       "126974.0"
      ]
     },
     "execution_count": 7,
     "metadata": {},
     "output_type": "execute_result"
    }
   ],
   "source": [
    "np.sum(sasar)"
   ]
  },
  {
   "cell_type": "code",
   "execution_count": 8,
   "id": "562ebba3",
   "metadata": {},
   "outputs": [],
   "source": [
    "import netCDF4 as nc\n",
    "import numpy as np\n",
    "\n",
    "grid_path = '/home/jtufts/Desktop/FFT_PPI/2.redock/4.receptor_grid/1AHW_AB:C'\n",
    "grid_nc = '%s/grid.nc'%grid_path\n",
    "\n",
    "\n",
    "#parsing some of the netcdf variables from grid.nc\n",
    "grid_variables = nc.Dataset(grid_nc, 'r').variables\n",
    "counts = nc.Dataset(grid_nc, 'r').variables[\"counts\"][:]\n",
    "x = nc.Dataset(grid_nc, 'r').variables[\"x\"][:]\n",
    "y = nc.Dataset(grid_nc, 'r').variables[\"y\"][:]\n",
    "z = nc.Dataset(grid_nc, 'r').variables[\"z\"][:]\n",
    "electrostatic = nc.Dataset(grid_nc, 'r').variables[\"electrostatic\"][:]\n",
    "lja = nc.Dataset(grid_nc, 'r').variables[\"LJa\"][:]\n",
    "ljr = nc.Dataset(grid_nc, 'r').variables[\"LJr\"][:]\n",
    "sasai = nc.Dataset(grid_nc, 'r').variables[\"SASAi\"][:]\n",
    "sasar = nc.Dataset(grid_nc, 'r').variables[\"SASAr\"][:]\n",
    "trans_crd = nc.Dataset(grid_nc, 'r').variables[\"trans_crd\"][:]\n",
    "\n"
   ]
  },
  {
   "cell_type": "code",
   "execution_count": 9,
   "id": "65bb48b7",
   "metadata": {},
   "outputs": [
    {
     "name": "stdout",
     "output_type": "stream",
     "text": [
      "234374.0\n"
     ]
    }
   ],
   "source": [
    "print(np.sum(sasar))"
   ]
  },
  {
   "cell_type": "code",
   "execution_count": 10,
   "id": "c09a6082",
   "metadata": {},
   "outputs": [],
   "source": [
    "import netCDF4 as nc\n",
    "import numpy as np\n",
    "\n",
    "grid_path = '/home/jtufts/Desktop/FFT_PPI/2.redock/4.receptor_grid/'\n",
    "nc_1a2k = '%s1A2K_C:AB/grid.nc'%grid_path\n",
    "nc_1ak4 = '%s1AK4_A:D/grid.nc'%grid_path\n",
    "nc_1akj = '%s1AKJ_AB:DE/grid.nc'%grid_path\n",
    "nc_1avx = '%s1AVX_A:B/grid.nc'%grid_path\n",
    "\n",
    "\n",
    "sasar_1a2k = nc.Dataset(nc_1a2k, 'r').variables[\"SASAr\"][:]\n",
    "sasar_1ak4 = nc.Dataset(nc_1ak4, 'r').variables[\"SASAr\"][:]\n",
    "sasar_1akj = nc.Dataset(nc_1akj, 'r').variables[\"SASAr\"][:]\n",
    "sasar_1avx = nc.Dataset(nc_1avx, 'r').variables[\"SASAr\"][:]\n"
   ]
  },
  {
   "cell_type": "code",
   "execution_count": 11,
   "id": "1d62c992",
   "metadata": {},
   "outputs": [
    {
     "name": "stdout",
     "output_type": "stream",
     "text": [
      "155789.0\n",
      "95598.0\n",
      "227707.0\n",
      "114460.0\n"
     ]
    }
   ],
   "source": [
    "print(np.sum(sasar_1a2k))\n",
    "print(np.sum(sasar_1ak4))\n",
    "print(np.sum(sasar_1akj))\n",
    "print(np.sum(sasar_1avx))"
   ]
  },
  {
   "cell_type": "code",
   "execution_count": null,
   "id": "7484abff",
   "metadata": {},
   "outputs": [],
   "source": []
  }
 ],
 "metadata": {
  "kernelspec": {
   "display_name": "Python 3 (ipykernel)",
   "language": "python",
   "name": "python3"
  },
  "language_info": {
   "codemirror_mode": {
    "name": "ipython",
    "version": 3
   },
   "file_extension": ".py",
   "mimetype": "text/x-python",
   "name": "python",
   "nbconvert_exporter": "python",
   "pygments_lexer": "ipython3",
   "version": "3.9.6"
  }
 },
 "nbformat": 4,
 "nbformat_minor": 5
}
