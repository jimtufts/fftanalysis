{
 "cells": [
  {
   "cell_type": "code",
   "execution_count": 1,
   "id": "ee2e4acf-96f1-49ec-b646-e39e2e6d2267",
   "metadata": {},
   "outputs": [
    {
     "name": "stderr",
     "output_type": "stream",
     "text": [
      "Warning: importing 'simtk.openmm' is deprecated.  Import 'openmm' instead.\n"
     ]
    }
   ],
   "source": [
    "import mdtraj as md\n",
    "import numpy as np\n",
    "import MDAnalysis as mda"
   ]
  },
  {
   "cell_type": "code",
   "execution_count": 2,
   "id": "e83a5727-3287-42f1-b0ea-121d78fad8e4",
   "metadata": {},
   "outputs": [],
   "source": [
    "# 6Y2E as reference structure.\n",
    "def translate(xyz, displacement):\n",
    "    \"\"\"\n",
    "    translate the ligand by displacement in nanometers\n",
    "    \"\"\"\n",
    "    for atom_ind in range(xyz.shape[1]):\n",
    "        xyz[0,atom_ind,:] += displacement\n",
    "    return None\n",
    "\n",
    "# stolen from MDAnalysis\n",
    "def rotate(ref, R, point=(0, 0, 0)):\n",
    "    R = np.asarray(R)\n",
    "    # point = np.asarray(point)\n",
    "    point = np.mean(ref.xyz[0],axis=(0))\n",
    "    \n",
    "\n",
    "    # changes the coordinates (in place)\n",
    "    # translate(ref.xyz, -point)\n",
    "    x = ref.xyz[0]\n",
    "    idx = ref.topology.select(\"all\")\n",
    "    x[idx] = np.dot(x, R.T)\n",
    "    translate(ref.xyz, point)\n",
    "\n",
    "    return ref\n",
    "    "
   ]
  },
  {
   "cell_type": "code",
   "execution_count": 3,
   "id": "4580adab-c42d-48c6-9276-54eeaa90f3ba",
   "metadata": {},
   "outputs": [],
   "source": [
    "def generate_structures(pdb, ref):\n",
    "    import MDAnalysis.analysis.align as align\n",
    "    import copy\n",
    "    R = np.array([[-1.0, 0.0, 0.0],\n",
    "              [ 0.0, 1.0, 0.0],\n",
    "              [ 0.0, 0.0,-1.0]])\n",
    "    T = np.array([-8.72884, 0.0, 43.91490])\n",
    "    u = mda.Universe(pdb)\n",
    "    u2 = mda.Universe(pdb)\n",
    "    ref = mda.Universe(ref)\n",
    "    refA = ref.select_atoms(\"resid 0 to 305\")\n",
    "    A = u.select_atoms(\"chainID A\")\n",
    "    A_flip = u2.select_atoms(\"chainID A\")\n",
    "    align.alignto(A, refA, select=\"protein and name CA\", weights=\"mass\")\n",
    "    align.alignto(A_flip, refA, select=\"protein and name CA\", weights=\"mass\")\n",
    "    AB = u.select_atoms(\"all\")\n",
    "    AB.write(\"test/AB_original.pdb\")\n",
    "    # A = u.select_atoms(\"index 0 to 4681\")\n",
    "\n",
    "    A.write(\"test/A_original.pdb\")\n",
    "    B = u.select_atoms(\"index 4682 to 9364\")\n",
    "    B.write(\"test/B_original.pdb\")\n",
    "    # A.rotate(((-1,0,0),(0,1,0),(0,0,-1)), point=(-8.72884, 0.0, 43.91490))\n",
    "    # B.rotate(((-1,0,0),(0,1,0),(0,0,-1)), point=(-8.72884, 0.0, 43.91490))\n",
    "    # A_flip = u.select_atoms(\"chainID A\")\n",
    "    B_flip = u2.select_atoms(\"index 4682 to 9364\")\n",
    "    A_flip.atoms.rotate(R)\n",
    "    A_flip.atoms.translate(T)\n",
    "    B_flip.atoms.rotate(R)\n",
    "    B_flip.atoms.translate(T)\n",
    "    \n",
    "    AA = mda.Merge(A,A_flip)\n",
    "    BB = mda.Merge(B,B_flip)\n",
    "    BA = mda.Merge(A_flip, B_flip)\n",
    "    # AA.write(\"test/AA.pdb\")\n",
    "    # BB.write(\"test/BB.pdb\")\n",
    "    # AB.write(\"test/AB_flip.pdb\")\n",
    "    return AA, BB, BA"
   ]
  },
  {
   "cell_type": "code",
   "execution_count": 4,
   "id": "16e84c21-654a-4b73-bf7e-36631b942e53",
   "metadata": {},
   "outputs": [],
   "source": [
    "import glob\n",
    "files = glob.glob('cluster_centers/*.pdb')\n",
    "files.sort()"
   ]
  },
  {
   "cell_type": "code",
   "execution_count": null,
   "id": "a5ffea44-9710-4fab-95d6-b30803e47bff",
   "metadata": {},
   "outputs": [],
   "source": [
    "files"
   ]
  },
  {
   "cell_type": "code",
   "execution_count": 11,
   "id": "64e0797f-033e-44eb-9c28-b3006857a6cb",
   "metadata": {},
   "outputs": [],
   "source": [
    "import re\n",
    "structs = {}\n",
    "files.sort()\n",
    "for file in files:\n",
    "    match = re.search(r'\\d+', file)\n",
    "    if match:\n",
    "        number = int(match.group())\n",
    "        padded_number = str(number).zfill(4)\n",
    "        structs[padded_number] = file\n",
    "structs = {k: structs[k] for k in sorted(structs)}\n",
    "    "
   ]
  },
  {
   "cell_type": "code",
   "execution_count": 13,
   "id": "ba796e2b-fb4b-45f4-ba1a-0a6faa4affc0",
   "metadata": {},
   "outputs": [
    {
     "name": "stderr",
     "output_type": "stream",
     "text": [
      "/home/jim/anaconda3/envs/FFTp39/lib/python3.9/site-packages/Bio/pairwise2.py:278: BiopythonDeprecationWarning: Bio.pairwise2 has been deprecated, and we intend to remove it in a future release of Biopython. As an alternative, please consider using Bio.Align.PairwiseAligner as a replacement, and contact the Biopython developers if you still need the Bio.pairwise2 module.\n",
      "  warnings.warn(\n",
      "/home/jim/anaconda3/envs/FFTp39/lib/python3.9/site-packages/MDAnalysis/coordinates/PDB.py:749: UserWarning: Unit cell dimensions not found. CRYST1 record set to unitary values.\n",
      "  warnings.warn(\"Unit cell dimensions not found. \"\n"
     ]
    }
   ],
   "source": [
    "names = list(structs.keys())\n",
    "results = []\n",
    "for name in names:\n",
    "    pdb = structs[name]\n",
    "    aa,bb,ba = generate_structures(pdb, \"6y2e.pdb\")\n",
    "    aa.atoms.write(f'cluster_center_results/{name}_AA.pdb')\n",
    "    bb.atoms.write(f'cluster_center_results/{name}_BB.pdb')\n",
    "    ba.atoms.write(f'cluster_center_results/{name}_BA.pdb')   \n",
    "    "
   ]
  },
  {
   "cell_type": "code",
   "execution_count": 40,
   "id": "f86d2220-751e-4e99-84f3-561b0cadd34d",
   "metadata": {},
   "outputs": [],
   "source": []
  },
  {
   "cell_type": "code",
   "execution_count": 45,
   "id": "b2066cd8-63fc-4b64-a031-afd08f337407",
   "metadata": {},
   "outputs": [],
   "source": [
    "import MDAnalysis.analysis.align as align\n",
    "u = mda.Universe(\"selected_frs_TS0_1_black.pdb\")\n",
    "ref = mda.Universe(\"6y2e.pdb\")\n",
    "refA = ref.select_atoms(\"resid 0 to 305\")\n",
    "A = u.select_atoms(\"chainID A\")\n",
    "align.alignto(A, refA, select=\"protein and name CA\", weights=\"mass\")\n",
    "AB = u.select_atoms(\"all\")\n",
    "AB.write(\"test/AB_original.pdb\")\n",
    "# A = u.select_atoms(\"index 0 to 4681\")\n",
    "\n",
    "A.write(\"test/A_original.pdb\")\n",
    "B = u.select_atoms(\"index 4682 to 9364\")\n",
    "B.write(\"test/B_original.pdb\")\n",
    "# A.rotate(((-1,0,0),(0,1,0),(0,0,-1)), point=(-8.72884, 0.0, 43.91490))\n",
    "# B.rotate(((-1,0,0),(0,1,0),(0,0,-1)), point=(-8.72884, 0.0, 43.91490))\n",
    "A.atoms.rotate(R)\n",
    "A.atoms.translate(T)\n",
    "B.atoms.rotate(R)\n",
    "B.atoms.translate(T)\n",
    "\n",
    "A.write(\"test/A_flip.pdb\")\n",
    "B.write(\"test/B_flip.pdb\")\n",
    "AB.write(\"test/AB_flip.pdb\")"
   ]
  },
  {
   "cell_type": "code",
   "execution_count": 34,
   "id": "68b23a90-e05e-46c1-be12-aa4b243e80b2",
   "metadata": {},
   "outputs": [
    {
     "data": {
      "text/plain": [
       "<AtomGroup with 306 atoms>"
      ]
     },
     "execution_count": 34,
     "metadata": {},
     "output_type": "execute_result"
    }
   ],
   "source": [
    "refA"
   ]
  },
  {
   "cell_type": "code",
   "execution_count": 160,
   "id": "a92f3405-12ad-4991-a6d2-c90b0fb3a58f",
   "metadata": {},
   "outputs": [],
   "source": [
    "flipped.save_pdb('pink_flipped_test.pdb')\n",
    "ap.save_pdb('a_test.pdb')\n",
    "bp.save_pdb('b_test.pdb')\n",
    "# a_copy.save_pdb('a_copy_test.pdb')\n",
    "# b_copy.save_pdb('b_copy_test.pdb')"
   ]
  },
  {
   "cell_type": "code",
   "execution_count": 168,
   "id": "b51d7dc0-be62-4e82-a7f5-e1438df16f22",
   "metadata": {},
   "outputs": [],
   "source": [
    "df = flipped.topology.to_dataframe()"
   ]
  },
  {
   "cell_type": "code",
   "execution_count": 178,
   "id": "29386306-08f7-47f0-ba04-d442ddc3cbb3",
   "metadata": {
    "tags": []
   },
   "outputs": [
    {
     "data": {
      "text/plain": [
       "array([[4.000e+00, 1.100e+01, 0.000e+00, 0.000e+00],\n",
       "       [1.100e+01, 1.200e+01, 0.000e+00, 0.000e+00],\n",
       "       [4.000e+00, 6.000e+00, 0.000e+00, 0.000e+00],\n",
       "       ...,\n",
       "       [9.346e+03, 9.347e+03, 0.000e+00, 0.000e+00],\n",
       "       [9.358e+03, 9.359e+03, 0.000e+00, 0.000e+00],\n",
       "       [9.358e+03, 9.360e+03, 0.000e+00, 0.000e+00]])"
      ]
     },
     "execution_count": 178,
     "metadata": {},
     "output_type": "execute_result"
    }
   ],
   "source": [
    "df[1]"
   ]
  },
  {
   "cell_type": "code",
   "execution_count": 11,
   "id": "60b58e7f-8c05-4b01-bbbb-612ec781fcc4",
   "metadata": {
    "tags": []
   },
   "outputs": [
    {
     "ename": "NameError",
     "evalue": "name 'flipped' is not defined",
     "output_type": "error",
     "traceback": [
      "\u001b[0;31m---------------------------------------------------------------------------\u001b[0m",
      "\u001b[0;31mNameError\u001b[0m                                 Traceback (most recent call last)",
      "\u001b[0;32m<ipython-input-11-eb6e1adb9649>\u001b[0m in \u001b[0;36m<module>\u001b[0;34m\u001b[0m\n\u001b[0;32m----> 1\u001b[0;31m \u001b[0mprint\u001b[0m\u001b[0;34m(\u001b[0m\u001b[0mflipped\u001b[0m\u001b[0;34m.\u001b[0m\u001b[0mxyz\u001b[0m\u001b[0;34m.\u001b[0m\u001b[0msum\u001b[0m\u001b[0;34m(\u001b[0m\u001b[0;34m)\u001b[0m\u001b[0;34m)\u001b[0m\u001b[0;34m\u001b[0m\u001b[0;34m\u001b[0m\u001b[0m\n\u001b[0m\u001b[1;32m      2\u001b[0m \u001b[0mR\u001b[0m \u001b[0;34m=\u001b[0m \u001b[0;34m[\u001b[0m \u001b[0;34m[\u001b[0m\u001b[0;34m-\u001b[0m\u001b[0;36m1.0\u001b[0m\u001b[0;34m,\u001b[0m \u001b[0;36m0.0\u001b[0m\u001b[0;34m,\u001b[0m \u001b[0;36m0.0\u001b[0m\u001b[0;34m]\u001b[0m\u001b[0;34m,\u001b[0m\u001b[0;34m[\u001b[0m \u001b[0;36m0.0\u001b[0m\u001b[0;34m,\u001b[0m \u001b[0;36m1.0\u001b[0m\u001b[0;34m,\u001b[0m \u001b[0;36m0.0\u001b[0m\u001b[0;34m]\u001b[0m\u001b[0;34m,\u001b[0m\u001b[0;34m[\u001b[0m \u001b[0;36m0.0\u001b[0m\u001b[0;34m,\u001b[0m \u001b[0;36m0.0\u001b[0m\u001b[0;34m,\u001b[0m\u001b[0;34m-\u001b[0m\u001b[0;36m1.0\u001b[0m\u001b[0;34m]\u001b[0m\u001b[0;34m]\u001b[0m\u001b[0;34m\u001b[0m\u001b[0;34m\u001b[0m\u001b[0m\n\u001b[1;32m      3\u001b[0m \u001b[0mT\u001b[0m \u001b[0;34m=\u001b[0m \u001b[0;34m[\u001b[0m\u001b[0;34m-\u001b[0m\u001b[0;36m8.72884\u001b[0m\u001b[0;34m,\u001b[0m \u001b[0;36m0.00\u001b[0m\u001b[0;34m,\u001b[0m \u001b[0;36m43.91490\u001b[0m\u001b[0;34m]\u001b[0m\u001b[0;34m\u001b[0m\u001b[0;34m\u001b[0m\u001b[0m\n\u001b[1;32m      4\u001b[0m \u001b[0mtest\u001b[0m \u001b[0;34m=\u001b[0m \u001b[0mrotate\u001b[0m\u001b[0;34m(\u001b[0m\u001b[0mflipped\u001b[0m\u001b[0;34m,\u001b[0m \u001b[0mR\u001b[0m\u001b[0;34m,\u001b[0m \u001b[0mT\u001b[0m\u001b[0;34m)\u001b[0m\u001b[0;34m\u001b[0m\u001b[0;34m\u001b[0m\u001b[0m\n\u001b[1;32m      5\u001b[0m \u001b[0mprint\u001b[0m\u001b[0;34m(\u001b[0m\u001b[0mflipped\u001b[0m\u001b[0;34m.\u001b[0m\u001b[0mxyz\u001b[0m\u001b[0;34m.\u001b[0m\u001b[0msum\u001b[0m\u001b[0;34m(\u001b[0m\u001b[0;34m)\u001b[0m\u001b[0;34m,\u001b[0m \u001b[0mtest\u001b[0m\u001b[0;34m.\u001b[0m\u001b[0mxyz\u001b[0m\u001b[0;34m.\u001b[0m\u001b[0msum\u001b[0m\u001b[0;34m(\u001b[0m\u001b[0;34m)\u001b[0m\u001b[0;34m)\u001b[0m\u001b[0;34m\u001b[0m\u001b[0;34m\u001b[0m\u001b[0m\n",
      "\u001b[0;31mNameError\u001b[0m: name 'flipped' is not defined"
     ]
    }
   ],
   "source": [
    "print(flipped.xyz.sum())\n",
    "R = [ [-1.0, 0.0, 0.0],[ 0.0, 1.0, 0.0],[ 0.0, 0.0,-1.0]]\n",
    "T = [-8.72884, 0.00, 43.91490]\n",
    "test = rotate(flipped, R, T)\n",
    "print(flipped.xyz.sum(), test.xyz.sum())"
   ]
  },
  {
   "cell_type": "code",
   "execution_count": 10,
   "id": "00e42427-1e6b-4a7d-bfb6-75acb77a17b2",
   "metadata": {},
   "outputs": [],
   "source": []
  },
  {
   "cell_type": "code",
   "execution_count": null,
   "id": "2d45cada-b205-4289-be31-a2d93056e9be",
   "metadata": {},
   "outputs": [],
   "source": [
    "# original rotation and transform tests that didn't work due to lack of alignment to xtal"
   ]
  },
  {
   "cell_type": "code",
   "execution_count": null,
   "id": "2115caee-4ecf-4e3a-b68c-57f6e1f87480",
   "metadata": {},
   "outputs": [],
   "source": [
    "import numpy as np\n",
    "\n",
    "u = mda.Universe(\"selected_frs_TS0_1_black.pdb\")\n",
    "\n",
    "# define rotation matrix and translation vector\n",
    "rot_mat = np.array([[-1, 0, 0], [0, 1, 0], [0, 0, -1]])\n",
    "trans_vec = np.array([-8.72884, 0.0, 43.91490])\n",
    "\n",
    "from MDAnalysis.transformations import rotate, translate\n",
    "\n",
    "# apply rotation matrix\n",
    "rotate.rotation_matrix(u.atoms.positions, rot_mat)\n",
    "\n",
    "# apply translation vector\n",
    "translate(u.atoms.positions, trans_vec)\n",
    "\n",
    "from MDAnalysis.coordinates import PDBWriter\n",
    "\n",
    "# save transformed structure to new PDB file\n",
    "with PDBWriter(\"results/transformed_protein.pdb\") as writer:\n",
    "    writer.write(u.atoms)\n"
   ]
  },
  {
   "cell_type": "code",
   "execution_count": 9,
   "id": "072ebc37-d979-4eee-9487-a1740ba5ac00",
   "metadata": {},
   "outputs": [],
   "source": [
    "u = mda.Universe(\"selected_frs_TS0_1_black.pdb\")\n",
    "\n",
    "rot_mat1 = np.array([[1, 0, 0], [0, 1, 0], [0, 0, 1]])\n",
    "trans_vec1 = np.array([0.0, 0.0, 0.0])\n",
    "trans_mat1 = np.eye(4)\n",
    "trans_mat1[:3, :3] = rot_mat1\n",
    "trans_mat1[:3, 3] = trans_vec1\n",
    "trans_mat1[3, :] = [0, 0, 0, 1]\n",
    "\n",
    "rot_mat2 = np.array([[-1, 0, 0], [0, 1, 0], [0, 0, -1]])\n",
    "trans_vec2 = np.array([-8.72884, 0.0, 43.91490])\n",
    "trans_mat2 = np.eye(4)\n",
    "trans_mat2[:3, :3] = rot_mat2\n",
    "trans_mat2[:3, 3] = trans_vec2\n",
    "trans_mat2[3, :] = [0, 0, 0, 1]\n",
    "\n",
    "\n",
    "s = u.select_atoms(\"index 0 to 4681\")\n",
    "s.write(\"results/A_reg.pdb\")\n",
    "s.transform(trans_mat1)\n",
    "s.write(\"results/A_mat1.pdb\")\n",
    "s.transform(trans_mat2)\n",
    "s.write(\"results/A_flip.pdb\")"
   ]
  },
  {
   "cell_type": "code",
   "execution_count": null,
   "id": "82ba2e24-10b8-473e-89d7-9cfb03a21336",
   "metadata": {},
   "outputs": [],
   "source": []
  },
  {
   "cell_type": "code",
   "execution_count": null,
   "id": "a0752b20-66a4-47bc-b156-9dfb04b56480",
   "metadata": {},
   "outputs": [],
   "source": []
  },
  {
   "cell_type": "code",
   "execution_count": null,
   "id": "08f36708-7a36-446c-9938-4d647e257e40",
   "metadata": {},
   "outputs": [],
   "source": [
    "# Non working original method using alignment..."
   ]
  },
  {
   "cell_type": "code",
   "execution_count": 3,
   "id": "8fc0d20b-2fd0-49e4-adb5-21025a047395",
   "metadata": {},
   "outputs": [],
   "source": [
    "def flip_protomers(ref):\n",
    "    import copy\n",
    "    ref2 = copy.copy(ref)\n",
    "    a = ref.topology.select(\"index 0 to 4681\")\n",
    "    b = ref.topology.select(\"index 4682 to 9364\")\n",
    "    top_a = ref.topology.subset(a)\n",
    "    top_b = ref.topology.subset(b)\n",
    "    traj_a = md.Trajectory(ref.xyz[0,0:4682,:], top_a)\n",
    "    traj_a_copy = copy.deepcopy(traj_a)\n",
    "    traj_b = md.Trajectory(ref.xyz[0,4682::,:], top_b)\n",
    "    traj_b_copy = copy.deepcopy(traj_b)\n",
    "    traj_a.superpose(traj_b_copy,frame=0,atom_indices=a,ref_atom_indices=a)\n",
    "    traj_b.superpose(traj_a_copy,frame=0,atom_indices=a,ref_atom_indices=a)\n",
    "    # traj_a.superpose(traj_b_copy,frame=0)\n",
    "    # traj_b.superpose(traj_a_copy,frame=0)\n",
    "    xyz = np.concatenate((traj_a.xyz,traj_b.xyz), axis=1)\n",
    "    # print(xyz.shape, xyz)\n",
    "    pdb = md.Trajectory(xyz, ref.topology)\n",
    "    \n",
    "    return pdb, traj_a, traj_b"
   ]
  },
  {
   "cell_type": "code",
   "execution_count": 4,
   "id": "48db552a-4bde-46c5-bbf7-c49af909b767",
   "metadata": {},
   "outputs": [],
   "source": [
    "def double_A(ref):\n",
    "    import copy\n",
    "    ref2 = copy.deepcopy(ref)\n",
    "    a1 = ref.topology.select(\"index 0 to 4681\")\n",
    "    a2 = ref2.topology.select(\"index 0 to 4681\")\n",
    "    b = ref.topology.select(\"index 4682 to 9364\")\n",
    "    top_a1 = ref.topology.subset(a1)\n",
    "    top_a2 = ref.topology.subset(a2)\n",
    "    top_b = ref.topology.subset(b)\n",
    "    traj_a1 = md.Trajectory(ref.xyz[0,0:4682,:], top_a1)\n",
    "    traj_a1_copy = copy.deepcopy(traj_a1)\n",
    "    traj_a2 = md.Trajectory(ref.xyz[0,0:4682,:], top_a2)\n",
    "    traj_a2_copy = copy.deepcopy(traj_a2)\n",
    "    traj_b = md.Trajectory(ref.xyz[0,4682::,:], top_b)\n",
    "    traj_b_copy = copy.deepcopy(traj_b)\n",
    "    # print(traj_a1.xyz.sum(), traj_a2.xyz.sum(), traj_b.xyz.sum(), ref2.xyz[0,0:4682,:].sum())\n",
    "    traj_a2.superpose(traj_b_copy,frame=0,atom_indices=a1,ref_atom_indices=a2)\n",
    "    # print(traj_a1.xyz.sum(), traj_a2.xyz.sum(), traj_b.xyz.sum(), ref2.xyz[0,0:4682,:].sum())\n",
    "    xyz = np.concatenate((traj_a1.xyz,ref2.xyz[:,0:4682,:]), axis=1)\n",
    "    # print(xyz.shape, xyz)\n",
    "    traj_a_test = md.Trajectory(ref2.xyz[0,0:4682,:], ref2.topology.subset(a2))\n",
    "    # print(traj_a_test.xyz.sum())\n",
    "    pdb = md.Trajectory(xyz, ref.topology)\n",
    "    \n",
    "    return pdb, traj_a2, traj_a_test"
   ]
  },
  {
   "cell_type": "code",
   "execution_count": 5,
   "id": "1e590d18-3cb7-4546-833a-73a04d4c5be8",
   "metadata": {},
   "outputs": [],
   "source": [
    "def double_B(ref):\n",
    "    import copy\n",
    "    ref2 = copy.deepcopy(ref)\n",
    "    a = ref.topology.select(\"index 0 to 4681\")\n",
    "    b1 = ref.topology.select(\"index 4682 to 9364\")\n",
    "    b2 = ref2.topology.select(\"index 4682 to 9364\")\n",
    "    top_b1 = ref.topology.subset(b1)\n",
    "    top_b2 = ref.topology.subset(b2)\n",
    "    top_a = ref.topology.subset(a)\n",
    "    traj_b1 = md.Trajectory(ref.xyz[0,4682::,:], top_b1)\n",
    "    traj_b1_copy = copy.deepcopy(traj_b1)\n",
    "    traj_b2 = md.Trajectory(ref.xyz[0,4682::,:], top_b2)\n",
    "    traj_b2_copy = copy.deepcopy(traj_b2)\n",
    "    traj_a = md.Trajectory(ref.xyz[0,0:4682,:], top_a)\n",
    "    traj_a_copy = copy.deepcopy(traj_a)\n",
    "    # print(traj_b1.xyz.sum(), traj_b2.xyz.sum(), traj_a.xyz.sum(), ref2.xyz[0,4682::,:].sum())\n",
    "    traj_b2.superpose(traj_a_copy,frame=0,atom_indices=a,ref_atom_indices=a)\n",
    "    # print(traj_b1.xyz.sum(), traj_b2.xyz.sum(), traj_a.xyz.sum(), ref2.xyz[0,4682::,:].sum())\n",
    "    # print(traj_b1.xyz.shape,ref2.xyz[0,4682::,:].shape)\n",
    "    xyz = np.concatenate((traj_b1.xyz,ref2.xyz[:,4682::,:]), axis=1)\n",
    "    # print(xyz.shape, xyz)\n",
    "    traj_b_test = md.Trajectory(ref2.xyz[:,4682::,:], ref2.topology.subset(b2))\n",
    "    # print(traj_b_test.xyz.sum())\n",
    "    pdb = md.Trajectory(xyz, ref.topology)\n",
    "    \n",
    "    return pdb, traj_b2, traj_b_test"
   ]
  },
  {
   "cell_type": "code",
   "execution_count": 6,
   "id": "d76a7921-4e02-45a4-bb6f-6d33eed7cd28",
   "metadata": {},
   "outputs": [],
   "source": [
    "def make_double_protomers(ref):\n",
    "    import copy\n",
    "    ref2 = copy.deepcopy(ref)\n",
    "    ref3 = copy.deepcopy(ref)\n",
    "    ref4 = copy.deepcopy(ref)\n",
    "    a1 = ref.topology.select(\"index 0 to 4681\")\n",
    "    a2 = ref2.topology.select(\"index 0 to 4681\")\n",
    "    b = ref.topology.select(\"index 4682 to 9364\")\n",
    "    top_a1 = ref.topology.subset(a1)\n",
    "    top_a2 = ref.topology.subset(a2)\n",
    "    top_b = ref.topology.subset(b)\n",
    "    traj_a1 = md.Trajectory(ref.xyz[0,0:4682,:], top_a1)\n",
    "    traj_a1_copy = copy.deepcopy(traj_a1)\n",
    "    traj_a2 = md.Trajectory(ref.xyz[0,0:4682,:], top_a2)\n",
    "    traj_a2_copy = copy.deepcopy(traj_a2)\n",
    "    traj_b = md.Trajectory(ref.xyz[0,4682::,:], top_b)\n",
    "    traj_b_copy = copy.deepcopy(traj_b)\n",
    "    a = ref3.topology.select(\"index 0 to 4681\")\n",
    "    b1 = ref3.topology.select(\"index 4682 to 9364\")\n",
    "    b2 = ref4.topology.select(\"index 4682 to 9364\")\n",
    "    top_b1 = ref3.topology.subset(b1)\n",
    "    top_b2 = ref3.topology.subset(b2)\n",
    "    top_a = ref3.topology.subset(a)\n",
    "    traj_b1 = md.Trajectory(ref3.xyz[0,4682::,:], top_b1)\n",
    "    traj_b1_copy = copy.deepcopy(traj_b1)\n",
    "    traj_b2 = md.Trajectory(ref3.xyz[0,4682::,:], top_b2)\n",
    "    traj_b2_copy = copy.deepcopy(traj_b2)\n",
    "    traj_a = md.Trajectory(ref3.xyz[0,0:4682,:], top_a)\n",
    "    traj_a_copy = copy.deepcopy(traj_a)\n",
    "    # traj_a.superpose(traj_b_copy,frame=0,atom_indices=a,ref_atom_indices=a)\n",
    "    # traj_b.superpose(traj_a_copy,frame=0,atom_indices=a,ref_atom_indices=a)\n",
    "    rotate(traj_a1_copy, ((-1,0,0),(0,1,0),(0,0,-1)), (-.872884, 0.0, 4.391490))\n",
    "    rotate(traj_b1_copy, ((-1,0,0),(0,1,0),(0,0,-1)), (-.872884, 0.0, 4.391490))\n",
    "    # traj_a.superpose(traj_b_copy,frame=0)\n",
    "    # traj_b.superpose(traj_a_copy,frame=0)\n",
    "    xyz_aa = np.concatenate((traj_a1_copy.xyz,ref2.xyz[:,0:4682,:]), axis=1)\n",
    "    xyz_bb = np.concatenate((traj_b1_copy.xyz,ref4.xyz[:,4682::,:]), axis=1)\n",
    "    xyz_ba = np.concatenate((traj_b1_copy.xyz,traj_a1_copy.xyz), axis=1)\n",
    "    # print(xyz.shape, xyz)\n",
    "    pdb_aa = md.Trajectory(xyz_aa, ref.topology)\n",
    "    pdb_bb = md.Trajectory(xyz_bb, ref.topology)\n",
    "    pdb_ba = md.Trajectory(xyz_ba, ref.topology)\n",
    "    \n",
    "    \n",
    "    return pdb_aa, pdb_bb, pdb_ba, traj_a, traj_b"
   ]
  },
  {
   "cell_type": "code",
   "execution_count": null,
   "id": "9eed5bf2-77f8-468d-a358-4773340a4cae",
   "metadata": {},
   "outputs": [],
   "source": []
  }
 ],
 "metadata": {
  "kernelspec": {
   "display_name": "Python 3",
   "language": "python",
   "name": "python3"
  },
  "language_info": {
   "codemirror_mode": {
    "name": "ipython",
    "version": 3
   },
   "file_extension": ".py",
   "mimetype": "text/x-python",
   "name": "python",
   "nbconvert_exporter": "python",
   "pygments_lexer": "ipython3",
   "version": "3.9.4"
  }
 },
 "nbformat": 4,
 "nbformat_minor": 5
}
