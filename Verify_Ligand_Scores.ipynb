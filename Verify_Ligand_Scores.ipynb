{
 "cells": [
  {
   "cell_type": "code",
   "execution_count": 1,
   "id": "82c2a749-00cf-495c-9b90-6f1b3cce89d6",
   "metadata": {},
   "outputs": [
    {
     "name": "stderr",
     "output_type": "stream",
     "text": [
      "Warning: importing 'simtk.openmm' is deprecated.  Import 'openmm' instead.\n"
     ]
    }
   ],
   "source": [
    "import mdtraj as md\n",
    "import bpmfwfft.grids as grids\n",
    "import numpy as np"
   ]
  },
  {
   "cell_type": "code",
   "execution_count": 2,
   "id": "604cc001-c83c-4854-aae4-8e7029a5c28a",
   "metadata": {},
   "outputs": [],
   "source": [
    "from os import walk\n",
    "import socket\n",
    "if socket.gethostname() == 'jim-Mint':\n",
    "    ppi_path = '/media/jim/Research_TWO/FFT_PPI'\n",
    "    home = '/home/jim'\n",
    "else:\n",
    "    ppi_path = '/home/jtufts/Desktop/FFT_PPI'\n",
    "    home = '/home/jtufts'"
   ]
  },
  {
   "cell_type": "code",
   "execution_count": 3,
   "id": "2619c466-19c2-491c-8b77-b2f3a709387c",
   "metadata": {},
   "outputs": [],
   "source": [
    "f = {}\n",
    "for (dirpath, dirnames, filenames) in walk(f'{ppi_path}/2.redock/2.minimize'):\n",
    "    if filenames[0] != 'run_me.sh':\n",
    "        if 'complex.pdb' in filenames:\n",
    "            f[dirpath.split('/')[7]] = dirpath + '/complex.pdb'"
   ]
  },
  {
   "cell_type": "code",
   "execution_count": 4,
   "id": "aabee536-3322-43d3-a76a-799dd58e693d",
   "metadata": {},
   "outputs": [],
   "source": [
    "import netCDF4 as nc\n",
    "import numpy as np\n",
    "\n",
    "grid_path = f'{ppi_path}/2.redock/4.receptor_grid/2OOB_A:B'\n",
    "grid_nc = '%s/grid.nc'%grid_path\n",
    "\n",
    "\n",
    "#parsing some of the netcdf variables from grid.nc\n",
    "grid_variables = nc.Dataset(grid_nc, 'r').variables\n",
    "counts = nc.Dataset(grid_nc, 'r').variables[\"counts\"][:]\n",
    "x = nc.Dataset(grid_nc, 'r').variables[\"x\"][:]\n",
    "y = nc.Dataset(grid_nc, 'r').variables[\"y\"][:]\n",
    "z = nc.Dataset(grid_nc, 'r').variables[\"z\"][:]\n",
    "electrostatic = nc.Dataset(grid_nc, 'r').variables[\"electrostatic\"][:]\n",
    "lja = nc.Dataset(grid_nc, 'r').variables[\"LJa\"][:]\n",
    "ljr = nc.Dataset(grid_nc, 'r').variables[\"LJr\"][:]\n",
    "sasai = nc.Dataset(grid_nc, 'r').variables[\"SASAi\"][:]\n",
    "sasar = nc.Dataset(grid_nc, 'r').variables[\"SASAr\"][:]\n",
    "trans_crd = nc.Dataset(grid_nc, 'r').variables[\"trans_crd\"][:]\n",
    "rec_disp = nc.Dataset(grid_nc, 'r').variables[\"displacement\"][:]"
   ]
  },
  {
   "cell_type": "code",
   "execution_count": 5,
   "id": "9e383ab4-a1a2-4421-8ad8-bde31b48dabf",
   "metadata": {
    "scrolled": true,
    "tags": []
   },
   "outputs": [
    {
     "name": "stdout",
     "output_type": "stream",
     "text": [
      "/home/jim/src/p39/fftanalysis\n",
      "[1.]\n",
      "/media/jim/Research_TWO/FFT_PPI/2.redock/4.receptor_grid/2OOB_A:B/grid.nc\n",
      "[  0.     0.25   0.5    0.75   1.     1.25   1.5    1.75   2.     2.25\n",
      "   2.5    2.75   3.     3.25   3.5    3.75   4.     4.25   4.5    4.75\n",
      "   5.     5.25   5.5    5.75   6.     6.25   6.5    6.75   7.     7.25\n",
      "   7.5    7.75   8.     8.25   8.5    8.75   9.     9.25   9.5    9.75\n",
      "  10.    10.25  10.5   10.75  11.    11.25  11.5   11.75  12.    12.25\n",
      "  12.5   12.75  13.    13.25  13.5   13.75  14.    14.25  14.5   14.75\n",
      "  15.    15.25  15.5   15.75  16.    16.25  16.5   16.75  17.    17.25\n",
      "  17.5   17.75  18.    18.25  18.5   18.75  19.    19.25  19.5   19.75\n",
      "  20.    20.25  20.5   20.75  21.    21.25  21.5   21.75  22.    22.25\n",
      "  22.5   22.75  23.    23.25  23.5   23.75  24.    24.25  24.5   24.75\n",
      "  25.    25.25  25.5   25.75  26.    26.25  26.5   26.75  27.    27.25\n",
      "  27.5   27.75  28.    28.25  28.5   28.75  29.    29.25  29.5   29.75\n",
      "  30.    30.25  30.5   30.75  31.    31.25  31.5   31.75  32.    32.25\n",
      "  32.5   32.75  33.    33.25  33.5   33.75  34.    34.25  34.5   34.75\n",
      "  35.    35.25  35.5   35.75  36.    36.25  36.5   36.75  37.    37.25\n",
      "  37.5   37.75  38.    38.25  38.5   38.75  39.    39.25  39.5   39.75\n",
      "  40.    40.25  40.5   40.75  41.    41.25  41.5   41.75  42.    42.25\n",
      "  42.5   42.75  43.    43.25  43.5   43.75  44.    44.25  44.5   44.75\n",
      "  45.    45.25  45.5   45.75  46.    46.25  46.5   46.75  47.    47.25\n",
      "  47.5   47.75  48.    48.25  48.5   48.75  49.    49.25  49.5   49.75\n",
      "  50.    50.25  50.5   50.75  51.    51.25  51.5   51.75  52.    52.25\n",
      "  52.5   52.75  53.    53.25  53.5   53.75  54.    54.25  54.5   54.75\n",
      "  55.    55.25  55.5   55.75  56.    56.25  56.5   56.75  57.    57.25\n",
      "  57.5   57.75  58.    58.25  58.5   58.75  59.    59.25  59.5   59.75\n",
      "  60.    60.25  60.5   60.75  61.    61.25  61.5   61.75  62.    62.25\n",
      "  62.5   62.75  63.    63.25  63.5   63.75  64.    64.25  64.5   64.75\n",
      "  65.    65.25  65.5   65.75  66.    66.25  66.5   66.75  67.    67.25\n",
      "  67.5   67.75  68.    68.25  68.5   68.75  69.    69.25  69.5   69.75\n",
      "  70.    70.25  70.5   70.75  71.    71.25  71.5   71.75  72.    72.25\n",
      "  72.5   72.75  73.    73.25  73.5   73.75  74.    74.25  74.5   74.75\n",
      "  75.    75.25  75.5   75.75  76.    76.25  76.5   76.75  77.    77.25\n",
      "  77.5   77.75  78.    78.25  78.5   78.75  79.    79.25  79.5   79.75\n",
      "  80.    80.25  80.5   80.75  81.    81.25  81.5   81.75  82.    82.25\n",
      "  82.5   82.75  83.    83.25  83.5   83.75  84.    84.25  84.5   84.75\n",
      "  85.    85.25  85.5   85.75  86.    86.25  86.5   86.75  87.    87.25\n",
      "  87.5   87.75  88.    88.25  88.5   88.75  89.    89.25  89.5   89.75\n",
      "  90.    90.25  90.5   90.75  91.    91.25  91.5   91.75  92.    92.25\n",
      "  92.5   92.75  93.    93.25  93.5   93.75  94.    94.25  94.5   94.75\n",
      "  95.    95.25  95.5   95.75  96.    96.25  96.5   96.75  97.    97.25\n",
      "  97.5   97.75  98.    98.25  98.5   98.75  99.    99.25  99.5   99.75\n",
      " 100.   100.25 100.5  100.75 101.   101.25 101.5  101.75 102.   102.25\n",
      " 102.5  102.75 103.   103.25 103.5  103.75 104.   104.25 104.5  104.75\n",
      " 105.   105.25 105.5  105.75 106.   106.25 106.5  106.75 107.  ]\n",
      "[  0.     0.25   0.5    0.75   1.     1.25   1.5    1.75   2.     2.25\n",
      "   2.5    2.75   3.     3.25   3.5    3.75   4.     4.25   4.5    4.75\n",
      "   5.     5.25   5.5    5.75   6.     6.25   6.5    6.75   7.     7.25\n",
      "   7.5    7.75   8.     8.25   8.5    8.75   9.     9.25   9.5    9.75\n",
      "  10.    10.25  10.5   10.75  11.    11.25  11.5   11.75  12.    12.25\n",
      "  12.5   12.75  13.    13.25  13.5   13.75  14.    14.25  14.5   14.75\n",
      "  15.    15.25  15.5   15.75  16.    16.25  16.5   16.75  17.    17.25\n",
      "  17.5   17.75  18.    18.25  18.5   18.75  19.    19.25  19.5   19.75\n",
      "  20.    20.25  20.5   20.75  21.    21.25  21.5   21.75  22.    22.25\n",
      "  22.5   22.75  23.    23.25  23.5   23.75  24.    24.25  24.5   24.75\n",
      "  25.    25.25  25.5   25.75  26.    26.25  26.5   26.75  27.    27.25\n",
      "  27.5   27.75  28.    28.25  28.5   28.75  29.    29.25  29.5   29.75\n",
      "  30.    30.25  30.5   30.75  31.    31.25  31.5   31.75  32.    32.25\n",
      "  32.5   32.75  33.    33.25  33.5   33.75  34.    34.25  34.5   34.75\n",
      "  35.    35.25  35.5   35.75  36.    36.25  36.5   36.75  37.    37.25\n",
      "  37.5   37.75  38.    38.25  38.5   38.75  39.    39.25  39.5   39.75\n",
      "  40.    40.25  40.5   40.75  41.    41.25  41.5   41.75  42.    42.25\n",
      "  42.5   42.75  43.    43.25  43.5   43.75  44.    44.25  44.5   44.75\n",
      "  45.    45.25  45.5   45.75  46.    46.25  46.5   46.75  47.    47.25\n",
      "  47.5   47.75  48.    48.25  48.5   48.75  49.    49.25  49.5   49.75\n",
      "  50.    50.25  50.5   50.75  51.    51.25  51.5   51.75  52.    52.25\n",
      "  52.5   52.75  53.    53.25  53.5   53.75  54.    54.25  54.5   54.75\n",
      "  55.    55.25  55.5   55.75  56.    56.25  56.5   56.75  57.    57.25\n",
      "  57.5   57.75  58.    58.25  58.5   58.75  59.    59.25  59.5   59.75\n",
      "  60.    60.25  60.5   60.75  61.    61.25  61.5   61.75  62.    62.25\n",
      "  62.5   62.75  63.    63.25  63.5   63.75  64.    64.25  64.5   64.75\n",
      "  65.    65.25  65.5   65.75  66.    66.25  66.5   66.75  67.    67.25\n",
      "  67.5   67.75  68.    68.25  68.5   68.75  69.    69.25  69.5   69.75\n",
      "  70.    70.25  70.5   70.75  71.    71.25  71.5   71.75  72.    72.25\n",
      "  72.5   72.75  73.    73.25  73.5   73.75  74.    74.25  74.5   74.75\n",
      "  75.    75.25  75.5   75.75  76.    76.25  76.5   76.75  77.    77.25\n",
      "  77.5   77.75  78.    78.25  78.5   78.75  79.    79.25  79.5   79.75\n",
      "  80.    80.25  80.5   80.75  81.    81.25  81.5   81.75  82.    82.25\n",
      "  82.5   82.75  83.    83.25  83.5   83.75  84.    84.25  84.5   84.75\n",
      "  85.    85.25  85.5   85.75  86.    86.25  86.5   86.75  87.    87.25\n",
      "  87.5   87.75  88.    88.25  88.5   88.75  89.    89.25  89.5   89.75\n",
      "  90.    90.25  90.5   90.75  91.    91.25  91.5   91.75  92.    92.25\n",
      "  92.5   92.75  93.    93.25  93.5   93.75  94.    94.25  94.5   94.75\n",
      "  95.    95.25  95.5   95.75  96.    96.25  96.5   96.75  97.    97.25\n",
      "  97.5   97.75  98.    98.25  98.5   98.75  99.    99.25  99.5   99.75\n",
      " 100.   100.25 100.5  100.75 101.   101.25 101.5  101.75 102.   102.25\n",
      " 102.5  102.75 103.   103.25 103.5  103.75 104.   104.25 104.5  104.75\n",
      " 105.   105.25 105.5  105.75 106.   106.25 106.5  106.75 107.  ]\n",
      "[  0.     0.25   0.5    0.75   1.     1.25   1.5    1.75   2.     2.25\n",
      "   2.5    2.75   3.     3.25   3.5    3.75   4.     4.25   4.5    4.75\n",
      "   5.     5.25   5.5    5.75   6.     6.25   6.5    6.75   7.     7.25\n",
      "   7.5    7.75   8.     8.25   8.5    8.75   9.     9.25   9.5    9.75\n",
      "  10.    10.25  10.5   10.75  11.    11.25  11.5   11.75  12.    12.25\n",
      "  12.5   12.75  13.    13.25  13.5   13.75  14.    14.25  14.5   14.75\n",
      "  15.    15.25  15.5   15.75  16.    16.25  16.5   16.75  17.    17.25\n",
      "  17.5   17.75  18.    18.25  18.5   18.75  19.    19.25  19.5   19.75\n",
      "  20.    20.25  20.5   20.75  21.    21.25  21.5   21.75  22.    22.25\n",
      "  22.5   22.75  23.    23.25  23.5   23.75  24.    24.25  24.5   24.75\n",
      "  25.    25.25  25.5   25.75  26.    26.25  26.5   26.75  27.    27.25\n",
      "  27.5   27.75  28.    28.25  28.5   28.75  29.    29.25  29.5   29.75\n",
      "  30.    30.25  30.5   30.75  31.    31.25  31.5   31.75  32.    32.25\n",
      "  32.5   32.75  33.    33.25  33.5   33.75  34.    34.25  34.5   34.75\n",
      "  35.    35.25  35.5   35.75  36.    36.25  36.5   36.75  37.    37.25\n",
      "  37.5   37.75  38.    38.25  38.5   38.75  39.    39.25  39.5   39.75\n",
      "  40.    40.25  40.5   40.75  41.    41.25  41.5   41.75  42.    42.25\n",
      "  42.5   42.75  43.    43.25  43.5   43.75  44.    44.25  44.5   44.75\n",
      "  45.    45.25  45.5   45.75  46.    46.25  46.5   46.75  47.    47.25\n",
      "  47.5   47.75  48.    48.25  48.5   48.75  49.    49.25  49.5   49.75\n",
      "  50.    50.25  50.5   50.75  51.    51.25  51.5   51.75  52.    52.25\n",
      "  52.5   52.75  53.    53.25  53.5   53.75  54.    54.25  54.5   54.75\n",
      "  55.    55.25  55.5   55.75  56.    56.25  56.5   56.75  57.    57.25\n",
      "  57.5   57.75  58.    58.25  58.5   58.75  59.    59.25  59.5   59.75\n",
      "  60.    60.25  60.5   60.75  61.    61.25  61.5   61.75  62.    62.25\n",
      "  62.5   62.75  63.    63.25  63.5   63.75  64.    64.25  64.5   64.75\n",
      "  65.    65.25  65.5   65.75  66.    66.25  66.5   66.75  67.    67.25\n",
      "  67.5   67.75  68.    68.25  68.5   68.75  69.    69.25  69.5   69.75\n",
      "  70.    70.25  70.5   70.75  71.    71.25  71.5   71.75  72.    72.25\n",
      "  72.5   72.75  73.    73.25  73.5   73.75  74.    74.25  74.5   74.75\n",
      "  75.    75.25  75.5   75.75  76.    76.25  76.5   76.75  77.    77.25\n",
      "  77.5   77.75  78.    78.25  78.5   78.75  79.    79.25  79.5   79.75\n",
      "  80.    80.25  80.5   80.75  81.    81.25  81.5   81.75  82.    82.25\n",
      "  82.5   82.75  83.    83.25  83.5   83.75  84.    84.25  84.5   84.75\n",
      "  85.    85.25  85.5   85.75  86.    86.25  86.5   86.75  87.    87.25\n",
      "  87.5   87.75  88.    88.25  88.5   88.75  89.    89.25  89.5   89.75\n",
      "  90.    90.25  90.5   90.75  91.    91.25  91.5   91.75  92.    92.25\n",
      "  92.5   92.75  93.    93.25  93.5   93.75  94.    94.25  94.5   94.75\n",
      "  95.    95.25  95.5   95.75  96.    96.25  96.5   96.75  97.    97.25\n",
      "  97.5   97.75  98.    98.25  98.5   98.75  99.    99.25  99.5   99.75\n",
      " 100.   100.25 100.5  100.75 101.   101.25 101.5  101.75 102.   102.25\n",
      " 102.5  102.75 103.   103.25 103.5  103.75 104.   104.25 104.5  104.75\n",
      " 105.   105.25 105.5  105.75 106.   106.25 106.5  106.75 107.  ]\n",
      "[0.25 0.   0.  ]\n",
      "[0.   0.25 0.  ]\n",
      "[0.   0.   0.25]\n",
      "[0.25 0.25 0.25]\n",
      "[429 429 429]\n",
      "[0. 0. 0.]\n",
      "[1.]\n",
      "[0.76]\n",
      "[0.53]\n",
      "[0.55]\n",
      "Doing FFT for electrostatic\n",
      "Doing FFT for LJr\n",
      "Doing FFT for LJa\n",
      "Doing FFT for SASA\n",
      "Copy entries from receptor_grid ['lj_sigma_scaling_factor', 'x', 'y', 'z', 'd0', 'd1', 'd2', 'spacing', 'counts', 'origin', 'rec_core_scaling', 'rec_surface_scaling', 'rec_metal_scaling']\n",
      "[1.]\n",
      "[  0.     0.25   0.5    0.75   1.     1.25   1.5    1.75   2.     2.25\n",
      "   2.5    2.75   3.     3.25   3.5    3.75   4.     4.25   4.5    4.75\n",
      "   5.     5.25   5.5    5.75   6.     6.25   6.5    6.75   7.     7.25\n",
      "   7.5    7.75   8.     8.25   8.5    8.75   9.     9.25   9.5    9.75\n",
      "  10.    10.25  10.5   10.75  11.    11.25  11.5   11.75  12.    12.25\n",
      "  12.5   12.75  13.    13.25  13.5   13.75  14.    14.25  14.5   14.75\n",
      "  15.    15.25  15.5   15.75  16.    16.25  16.5   16.75  17.    17.25\n",
      "  17.5   17.75  18.    18.25  18.5   18.75  19.    19.25  19.5   19.75\n",
      "  20.    20.25  20.5   20.75  21.    21.25  21.5   21.75  22.    22.25\n",
      "  22.5   22.75  23.    23.25  23.5   23.75  24.    24.25  24.5   24.75\n",
      "  25.    25.25  25.5   25.75  26.    26.25  26.5   26.75  27.    27.25\n",
      "  27.5   27.75  28.    28.25  28.5   28.75  29.    29.25  29.5   29.75\n",
      "  30.    30.25  30.5   30.75  31.    31.25  31.5   31.75  32.    32.25\n",
      "  32.5   32.75  33.    33.25  33.5   33.75  34.    34.25  34.5   34.75\n",
      "  35.    35.25  35.5   35.75  36.    36.25  36.5   36.75  37.    37.25\n",
      "  37.5   37.75  38.    38.25  38.5   38.75  39.    39.25  39.5   39.75\n",
      "  40.    40.25  40.5   40.75  41.    41.25  41.5   41.75  42.    42.25\n",
      "  42.5   42.75  43.    43.25  43.5   43.75  44.    44.25  44.5   44.75\n",
      "  45.    45.25  45.5   45.75  46.    46.25  46.5   46.75  47.    47.25\n",
      "  47.5   47.75  48.    48.25  48.5   48.75  49.    49.25  49.5   49.75\n",
      "  50.    50.25  50.5   50.75  51.    51.25  51.5   51.75  52.    52.25\n",
      "  52.5   52.75  53.    53.25  53.5   53.75  54.    54.25  54.5   54.75\n",
      "  55.    55.25  55.5   55.75  56.    56.25  56.5   56.75  57.    57.25\n",
      "  57.5   57.75  58.    58.25  58.5   58.75  59.    59.25  59.5   59.75\n",
      "  60.    60.25  60.5   60.75  61.    61.25  61.5   61.75  62.    62.25\n",
      "  62.5   62.75  63.    63.25  63.5   63.75  64.    64.25  64.5   64.75\n",
      "  65.    65.25  65.5   65.75  66.    66.25  66.5   66.75  67.    67.25\n",
      "  67.5   67.75  68.    68.25  68.5   68.75  69.    69.25  69.5   69.75\n",
      "  70.    70.25  70.5   70.75  71.    71.25  71.5   71.75  72.    72.25\n",
      "  72.5   72.75  73.    73.25  73.5   73.75  74.    74.25  74.5   74.75\n",
      "  75.    75.25  75.5   75.75  76.    76.25  76.5   76.75  77.    77.25\n",
      "  77.5   77.75  78.    78.25  78.5   78.75  79.    79.25  79.5   79.75\n",
      "  80.    80.25  80.5   80.75  81.    81.25  81.5   81.75  82.    82.25\n",
      "  82.5   82.75  83.    83.25  83.5   83.75  84.    84.25  84.5   84.75\n",
      "  85.    85.25  85.5   85.75  86.    86.25  86.5   86.75  87.    87.25\n",
      "  87.5   87.75  88.    88.25  88.5   88.75  89.    89.25  89.5   89.75\n",
      "  90.    90.25  90.5   90.75  91.    91.25  91.5   91.75  92.    92.25\n",
      "  92.5   92.75  93.    93.25  93.5   93.75  94.    94.25  94.5   94.75\n",
      "  95.    95.25  95.5   95.75  96.    96.25  96.5   96.75  97.    97.25\n",
      "  97.5   97.75  98.    98.25  98.5   98.75  99.    99.25  99.5   99.75\n",
      " 100.   100.25 100.5  100.75 101.   101.25 101.5  101.75 102.   102.25\n",
      " 102.5  102.75 103.   103.25 103.5  103.75 104.   104.25 104.5  104.75\n",
      " 105.   105.25 105.5  105.75 106.   106.25 106.5  106.75 107.  ]\n",
      "[  0.     0.25   0.5    0.75   1.     1.25   1.5    1.75   2.     2.25\n",
      "   2.5    2.75   3.     3.25   3.5    3.75   4.     4.25   4.5    4.75\n",
      "   5.     5.25   5.5    5.75   6.     6.25   6.5    6.75   7.     7.25\n",
      "   7.5    7.75   8.     8.25   8.5    8.75   9.     9.25   9.5    9.75\n",
      "  10.    10.25  10.5   10.75  11.    11.25  11.5   11.75  12.    12.25\n",
      "  12.5   12.75  13.    13.25  13.5   13.75  14.    14.25  14.5   14.75\n",
      "  15.    15.25  15.5   15.75  16.    16.25  16.5   16.75  17.    17.25\n",
      "  17.5   17.75  18.    18.25  18.5   18.75  19.    19.25  19.5   19.75\n",
      "  20.    20.25  20.5   20.75  21.    21.25  21.5   21.75  22.    22.25\n",
      "  22.5   22.75  23.    23.25  23.5   23.75  24.    24.25  24.5   24.75\n",
      "  25.    25.25  25.5   25.75  26.    26.25  26.5   26.75  27.    27.25\n",
      "  27.5   27.75  28.    28.25  28.5   28.75  29.    29.25  29.5   29.75\n",
      "  30.    30.25  30.5   30.75  31.    31.25  31.5   31.75  32.    32.25\n",
      "  32.5   32.75  33.    33.25  33.5   33.75  34.    34.25  34.5   34.75\n",
      "  35.    35.25  35.5   35.75  36.    36.25  36.5   36.75  37.    37.25\n",
      "  37.5   37.75  38.    38.25  38.5   38.75  39.    39.25  39.5   39.75\n",
      "  40.    40.25  40.5   40.75  41.    41.25  41.5   41.75  42.    42.25\n",
      "  42.5   42.75  43.    43.25  43.5   43.75  44.    44.25  44.5   44.75\n",
      "  45.    45.25  45.5   45.75  46.    46.25  46.5   46.75  47.    47.25\n",
      "  47.5   47.75  48.    48.25  48.5   48.75  49.    49.25  49.5   49.75\n",
      "  50.    50.25  50.5   50.75  51.    51.25  51.5   51.75  52.    52.25\n",
      "  52.5   52.75  53.    53.25  53.5   53.75  54.    54.25  54.5   54.75\n",
      "  55.    55.25  55.5   55.75  56.    56.25  56.5   56.75  57.    57.25\n",
      "  57.5   57.75  58.    58.25  58.5   58.75  59.    59.25  59.5   59.75\n",
      "  60.    60.25  60.5   60.75  61.    61.25  61.5   61.75  62.    62.25\n",
      "  62.5   62.75  63.    63.25  63.5   63.75  64.    64.25  64.5   64.75\n",
      "  65.    65.25  65.5   65.75  66.    66.25  66.5   66.75  67.    67.25\n",
      "  67.5   67.75  68.    68.25  68.5   68.75  69.    69.25  69.5   69.75\n",
      "  70.    70.25  70.5   70.75  71.    71.25  71.5   71.75  72.    72.25\n",
      "  72.5   72.75  73.    73.25  73.5   73.75  74.    74.25  74.5   74.75\n",
      "  75.    75.25  75.5   75.75  76.    76.25  76.5   76.75  77.    77.25\n",
      "  77.5   77.75  78.    78.25  78.5   78.75  79.    79.25  79.5   79.75\n",
      "  80.    80.25  80.5   80.75  81.    81.25  81.5   81.75  82.    82.25\n",
      "  82.5   82.75  83.    83.25  83.5   83.75  84.    84.25  84.5   84.75\n",
      "  85.    85.25  85.5   85.75  86.    86.25  86.5   86.75  87.    87.25\n",
      "  87.5   87.75  88.    88.25  88.5   88.75  89.    89.25  89.5   89.75\n",
      "  90.    90.25  90.5   90.75  91.    91.25  91.5   91.75  92.    92.25\n",
      "  92.5   92.75  93.    93.25  93.5   93.75  94.    94.25  94.5   94.75\n",
      "  95.    95.25  95.5   95.75  96.    96.25  96.5   96.75  97.    97.25\n",
      "  97.5   97.75  98.    98.25  98.5   98.75  99.    99.25  99.5   99.75\n",
      " 100.   100.25 100.5  100.75 101.   101.25 101.5  101.75 102.   102.25\n",
      " 102.5  102.75 103.   103.25 103.5  103.75 104.   104.25 104.5  104.75\n",
      " 105.   105.25 105.5  105.75 106.   106.25 106.5  106.75 107.  ]\n",
      "[  0.     0.25   0.5    0.75   1.     1.25   1.5    1.75   2.     2.25\n",
      "   2.5    2.75   3.     3.25   3.5    3.75   4.     4.25   4.5    4.75\n",
      "   5.     5.25   5.5    5.75   6.     6.25   6.5    6.75   7.     7.25\n",
      "   7.5    7.75   8.     8.25   8.5    8.75   9.     9.25   9.5    9.75\n",
      "  10.    10.25  10.5   10.75  11.    11.25  11.5   11.75  12.    12.25\n",
      "  12.5   12.75  13.    13.25  13.5   13.75  14.    14.25  14.5   14.75\n",
      "  15.    15.25  15.5   15.75  16.    16.25  16.5   16.75  17.    17.25\n",
      "  17.5   17.75  18.    18.25  18.5   18.75  19.    19.25  19.5   19.75\n",
      "  20.    20.25  20.5   20.75  21.    21.25  21.5   21.75  22.    22.25\n",
      "  22.5   22.75  23.    23.25  23.5   23.75  24.    24.25  24.5   24.75\n",
      "  25.    25.25  25.5   25.75  26.    26.25  26.5   26.75  27.    27.25\n",
      "  27.5   27.75  28.    28.25  28.5   28.75  29.    29.25  29.5   29.75\n",
      "  30.    30.25  30.5   30.75  31.    31.25  31.5   31.75  32.    32.25\n",
      "  32.5   32.75  33.    33.25  33.5   33.75  34.    34.25  34.5   34.75\n",
      "  35.    35.25  35.5   35.75  36.    36.25  36.5   36.75  37.    37.25\n",
      "  37.5   37.75  38.    38.25  38.5   38.75  39.    39.25  39.5   39.75\n",
      "  40.    40.25  40.5   40.75  41.    41.25  41.5   41.75  42.    42.25\n",
      "  42.5   42.75  43.    43.25  43.5   43.75  44.    44.25  44.5   44.75\n",
      "  45.    45.25  45.5   45.75  46.    46.25  46.5   46.75  47.    47.25\n",
      "  47.5   47.75  48.    48.25  48.5   48.75  49.    49.25  49.5   49.75\n",
      "  50.    50.25  50.5   50.75  51.    51.25  51.5   51.75  52.    52.25\n",
      "  52.5   52.75  53.    53.25  53.5   53.75  54.    54.25  54.5   54.75\n",
      "  55.    55.25  55.5   55.75  56.    56.25  56.5   56.75  57.    57.25\n",
      "  57.5   57.75  58.    58.25  58.5   58.75  59.    59.25  59.5   59.75\n",
      "  60.    60.25  60.5   60.75  61.    61.25  61.5   61.75  62.    62.25\n",
      "  62.5   62.75  63.    63.25  63.5   63.75  64.    64.25  64.5   64.75\n",
      "  65.    65.25  65.5   65.75  66.    66.25  66.5   66.75  67.    67.25\n",
      "  67.5   67.75  68.    68.25  68.5   68.75  69.    69.25  69.5   69.75\n",
      "  70.    70.25  70.5   70.75  71.    71.25  71.5   71.75  72.    72.25\n",
      "  72.5   72.75  73.    73.25  73.5   73.75  74.    74.25  74.5   74.75\n",
      "  75.    75.25  75.5   75.75  76.    76.25  76.5   76.75  77.    77.25\n",
      "  77.5   77.75  78.    78.25  78.5   78.75  79.    79.25  79.5   79.75\n",
      "  80.    80.25  80.5   80.75  81.    81.25  81.5   81.75  82.    82.25\n",
      "  82.5   82.75  83.    83.25  83.5   83.75  84.    84.25  84.5   84.75\n",
      "  85.    85.25  85.5   85.75  86.    86.25  86.5   86.75  87.    87.25\n",
      "  87.5   87.75  88.    88.25  88.5   88.75  89.    89.25  89.5   89.75\n",
      "  90.    90.25  90.5   90.75  91.    91.25  91.5   91.75  92.    92.25\n",
      "  92.5   92.75  93.    93.25  93.5   93.75  94.    94.25  94.5   94.75\n",
      "  95.    95.25  95.5   95.75  96.    96.25  96.5   96.75  97.    97.25\n",
      "  97.5   97.75  98.    98.25  98.5   98.75  99.    99.25  99.5   99.75\n",
      " 100.   100.25 100.5  100.75 101.   101.25 101.5  101.75 102.   102.25\n",
      " 102.5  102.75 103.   103.25 103.5  103.75 104.   104.25 104.5  104.75\n",
      " 105.   105.25 105.5  105.75 106.   106.25 106.5  106.75 107.  ]\n",
      "[0.25 0.   0.  ]\n",
      "[0.   0.25 0.  ]\n",
      "[0.   0.   0.25]\n",
      "[0.25 0.25 0.25]\n",
      "[429 429 429]\n",
      "[0. 0. 0.]\n",
      "[0.76]\n",
      "[0.53]\n",
      "[0.55]\n",
      "/home/jim/src/p39/fftanalysis\n",
      "[1.]\n",
      "Number of atoms in /media/jim/Research_TWO/FFT_PPI/2.redock/2.minimize/2OOB_A:B/ligand.inpcrd is 777\n",
      "Ligand translated by [ 5.5  11.5   3.25]\n",
      "[0.5160512 0.7421129 0.5055658]\n",
      "Ligand translated by [ 5.5  11.5   3.25]\n",
      "[0.51605129 0.74211311 0.50556588]\n"
     ]
    }
   ],
   "source": [
    "from bpmfwfft.grids import RecGrid\n",
    "from bpmfwfft.grids import LigGrid\n",
    "\n",
    "rec_prmtop = f\"{ppi_path}/2.redock/1.amber/2OOB_A:B/receptor.prmtop\"\n",
    "lj_sigma_scal_fact = 1.0\n",
    "rec_inpcrd = f\"{ppi_path}/2.redock/2.minimize/2OOB_A:B/receptor.inpcrd\"\n",
    "\n",
    "bsite_file = None\n",
    "grid_nc_file = f\"{ppi_path}/2.redock/4.receptor_grid/2OOB_A:B/grid.nc\"\n",
    "\n",
    "lig_prmtop = f\"{ppi_path}/2.redock/1.amber/2OOB_A:B/ligand.prmtop\"\n",
    "# lig_inpcrd = f\"{ppi_path}/2.redock/2.minimze/2OOB_A:B/ligand.inpcrd\"\n",
    "\n",
    "rot_nc = f\"{ppi_path}/2.redock/3.ligand_rand_rot/2OOB_A:B/rotation.nc\"\n",
    "lig_rot = nc.Dataset(rot_nc, 'r').variables['positions']\n",
    "lig_inpcrd = f\"{ppi_path}/2.redock/2.minimize/2OOB_A:B/ligand.inpcrd\"\n",
    "\n",
    "rho = 9.0\n",
    "rc_scale = 0.76\n",
    "rs_scale = 0.53\n",
    "rm_scale = 0.55\n",
    "lc_scale = 0.81\n",
    "ls_scale = 0.50\n",
    "lm_scale = 0.54\n",
    "\n",
    "\n",
    "def _create_rec_grid(rec_prmtop, lj_sigma_scal_fact, rc_scale, rs_scale, rm_scale, rho, rec_inpcrd, bsite_file, grid_nc_file):\n",
    "    rec_grid = RecGrid(rec_prmtop, lj_sigma_scal_fact, rc_scale, rs_scale, rm_scale, rho, rec_inpcrd, bsite_file, \n",
    "                        grid_nc_file, new_calculation=False)\n",
    "    return rec_grid\n",
    "\n",
    "def _create_lig_grid(lig_prmtop, lj_sigma_scal_fact, lc_scale, ls_scale, lm_scale, lig_inpcrd, rec_grid):\n",
    "    lig_grid = LigGrid(lig_prmtop, lj_sigma_scal_fact, lc_scale, ls_scale, lm_scale, lig_inpcrd, rec_grid)\n",
    "    return lig_grid\n",
    "\n",
    "rec_grid = _create_rec_grid(rec_prmtop, lj_sigma_scal_fact, rc_scale, rs_scale, rm_scale, rho, rec_inpcrd, bsite_file, grid_nc_file)\n",
    "\n",
    "lig_grid = _create_lig_grid(lig_prmtop, lj_sigma_scal_fact, lc_scale, ls_scale, lm_scale, lig_inpcrd, rec_grid)\n",
    "\n",
    "lig_grid._crd = np.array(lig_rot[0], dtype=np.float64)\n",
    "lig_grid._move_ligand_to_lower_corner()"
   ]
  },
  {
   "cell_type": "code",
   "execution_count": 46,
   "id": "ef994898-9846-44c5-b1ca-2ae649057bb2",
   "metadata": {},
   "outputs": [],
   "source": [
    "names = [\"SASA\"]\n",
    "lgrid = lig_grid.get_ligand_grids(names, [0,0,0])"
   ]
  },
  {
   "cell_type": "code",
   "execution_count": 47,
   "id": "3645d89e-207e-4586-b985-fe1f74d6f440",
   "metadata": {},
   "outputs": [],
   "source": [
    "import numpy as np\n",
    "rgrid = np.add(sasar, sasai*1.j)"
   ]
  },
  {
   "cell_type": "code",
   "execution_count": 8,
   "id": "c3583b3d-4490-460d-a8b3-90701cdaf98b",
   "metadata": {},
   "outputs": [
    {
     "name": "stdout",
     "output_type": "stream",
     "text": [
      "0j\n"
     ]
    }
   ],
   "source": [
    "print((lgrid[\"SASA\"]*rgrid).sum())"
   ]
  },
  {
   "cell_type": "code",
   "execution_count": 9,
   "id": "87ae65b9-33d9-492b-8be4-2683c1169a3d",
   "metadata": {},
   "outputs": [],
   "source": [
    "lgrid_trans = grids.translate_grid(lgrid[\"SASA\"], np.array([68,87,45]))"
   ]
  },
  {
   "cell_type": "code",
   "execution_count": 10,
   "id": "ae913610-f53e-4428-bc06-ada37faacb37",
   "metadata": {},
   "outputs": [
    {
     "name": "stdout",
     "output_type": "stream",
     "text": [
      "(551+0j)\n"
     ]
    }
   ],
   "source": [
    "print((lgrid_trans*rgrid).sum())"
   ]
  },
  {
   "cell_type": "code",
   "execution_count": 71,
   "id": "a8c21659-e27c-4b98-b353-1e3ea303f9f4",
   "metadata": {},
   "outputs": [],
   "source": [
    "# fft test\n",
    "lfft = np.fft.fftn(lgrid[\"SASA\"].conjugate())\n",
    "rfft = np.fft.fftn(rgrid)\n",
    "cfft = np.fft.ifftn(rfft*lfft.conjugate())\n",
    "score = np.real(cfft) - np.imag(cfft)*1000000"
   ]
  },
  {
   "cell_type": "code",
   "execution_count": 49,
   "id": "1e648f26-6b43-4e07-b168-c20a60112476",
   "metadata": {},
   "outputs": [],
   "source": [
    "def rmsd(P: np.ndarray, Q: np.ndarray, **kwargs) -> float:\n",
    "    \"\"\"\n",
    "    Calculate Root-mean-square deviation from two sets of vectors V and W.\n",
    "    Parameters\n",
    "    ----------\n",
    "    V : array\n",
    "        (N,D) matrix, where N is points and D is dimension.\n",
    "    W : array\n",
    "        (N,D) matrix, where N is points and D is dimension.\n",
    "    Returns\n",
    "    -------\n",
    "    rmsd : float\n",
    "        Root-mean-square deviation between the two vectors\n",
    "    \"\"\"\n",
    "    diff = P - Q\n",
    "    return np.sqrt((diff * diff).sum() / P.shape[0])"
   ]
  },
  {
   "cell_type": "code",
   "execution_count": 72,
   "id": "87457d7e-1eb9-42ba-a55d-94dce844538a",
   "metadata": {},
   "outputs": [
    {
     "name": "stdout",
     "output_type": "stream",
     "text": [
      "Ligand translated by [-33.5 -44.  -24.5]\n",
      "[1.14105129 1.36711311 1.38056588]\n",
      "Ligand translated by [-34.  -43.5 -22.5]\n",
      "[1.14105129 1.36711311 1.38056588]\n",
      "rmsd 0.5\n"
     ]
    }
   ],
   "source": [
    "import copy\n",
    "lig_grid._move_ligand_to_lower_corner()\n",
    "lig_grid.translate_ligand(np.array([68,87,45])*lig_grid._spacing)\n",
    "ref = copy.deepcopy(lig_grid._crd)\n",
    "lig_grid._move_ligand_to_lower_corner()\n",
    "lig_grid.translate_ligand(np.array([69,87,45])*lig_grid._spacing)\n",
    "tar = copy.deepcopy(lig_grid._crd)\n",
    "\n",
    "print(\"rmsd\", rmsd(ref, tar))"
   ]
  },
  {
   "cell_type": "code",
   "execution_count": 73,
   "id": "32a3220c-07ff-49c9-81bc-2331bcf672ef",
   "metadata": {},
   "outputs": [
    {
     "name": "stdout",
     "output_type": "stream",
     "text": [
      "1386.0000002326615\n"
     ]
    }
   ],
   "source": [
    "print(np.amax(score))\n",
    "k = 200  # number of scores to save\n",
    "flat_score = score.flatten()\n",
    "flat_argp = np.argpartition(flat_score, -k)[-k:]"
   ]
  },
  {
   "cell_type": "code",
   "execution_count": 74,
   "id": "8525988b-cf03-4298-94b4-5dd2930bc41f",
   "metadata": {},
   "outputs": [],
   "source": [
    "top_scores = flat_score[flat_argp]\n",
    "top_scores.sort()\n",
    "translations = []\n",
    "trans_scores = []\n",
    "\n",
    "for score_val in top_scores:\n",
    "    t = np.where(score == score_val)\n",
    "    a = np.array(t)\n",
    "    if a.shape == (3,2):\n",
    "        for x,y,z in a.transpose():\n",
    "            x = np.array([x])\n",
    "            y = np.array([y])\n",
    "            z = np.array([z])\n",
    "            translations.append((x,y,z))\n",
    "            trans_scores.append(score[x,y,z])\n",
    "            # print((x,y,z),  score[x,y,z], cfft[x,y,z])\n",
    "    else:\n",
    "        translations.append(t)\n",
    "        trans_scores.append(score[t])\n",
    "        # print(t, score[t], cfft[t])"
   ]
  },
  {
   "cell_type": "code",
   "execution_count": null,
   "id": "eff21db6-aa55-4238-88c6-92918dd6d957",
   "metadata": {},
   "outputs": [],
   "source": [
    "def cat_grids(grid1, grid2):\n",
    "    prmtop = cat_dictionaries(grid1._prmtop,grid2._prmtop)\n",
    "    crd = cat_dictionaries(grid1._crd,grid2._crd)\n",
    "    cat_grid = copy.deepcopy(grid1)\n",
    "    cat_grid._prmtop = prmtop\n",
    "    cat_grid._crd = crd\n",
    "    return cat_grid\n",
    "\n",
    "def cat_dictionaries(dict1, dict2):\n",
    "    dict1_copy = copy.deepcopy(dict1)\n",
    "    dict2_copy = copy.deepcopy(dict2)\n",
    "    \n",
    "    if isinstance(dict1_copy, dict):\n",
    "        keys = list(dict1_copy.keys())\n",
    "        for key in keys:\n",
    "            # print(keys)\n",
    "            # print(key)\n",
    "            dict1_copy[key] = cat_values(dict1[key], dict2[key])\n",
    "        return dict1_copy\n",
    "    \n",
    "    elif isinstance(dict1_copy, np.ndarray):\n",
    "        return np.concatenate((dict1_copy,dict2_copy))\n",
    "\n",
    "def cat_values(a1, a2):\n",
    "    array1 = copy.deepcopy(a1)\n",
    "    array2 = copy.deepcopy(a2)\n",
    "    if isinstance(array1, np.ndarray):\n",
    "        return np.concatenate((array1,array2))\n",
    "    elif isinstance(array1, dict):\n",
    "        return cat_dictionaries(array1, array2)\n",
    "    elif isinstance(array1, (int, np.int64)):\n",
    "        # print(f\"{array1+array2}\")\n",
    "        return array1 + array2\n",
    "    elif isinstance(array1, list):\n",
    "        # print(type(array1))\n",
    "        # print(f'array1:{len(array1)}, array2:{len(array2)}')\n",
    "        array1.extend(array2)\n",
    "        # print(f'complex:{len(array1)}, sum:{len(a1)+len(a2)}')\n",
    "        return array1\n",
    "\n",
    "        \n",
    "        \n",
    "import copy\n",
    "# result = map(cat_dictionaries, rec_grid._prmtop, lig_grid._prmtop)\n",
    "delta_sasas = []\n",
    "colors = []\n",
    "for v,vector in enumerate(translations):\n",
    "    vector = (np.array(vector).transpose()*lig_grid._spacing)[0]\n",
    "    lig_grid._move_ligand_to_lower_corner()\n",
    "    print(vector)\n",
    "    lig_grid.translate_ligand(vector)\n",
    "    com_grid = cat_grids(rec_grid, lig_grid)\n",
    "    c_sasa = com_grid._get_molecule_sasa(0.14, 960).sum()\n",
    "    l_sasa = lig_grid._get_molecule_sasa(0.14, 960).sum()\n",
    "    r_sasa = rec_grid._get_molecule_sasa(0.14, 960).sum()\n",
    "    d_sasa = (l_sasa + r_sasa) - c_sasa\n",
    "    delta_sasas.append(d_sasa)\n",
    "    rmsd_to_native = rmsd(ref, lig_grid._crd)\n",
    "    if rmsd_to_native < 5.:\n",
    "        # colors.append([255, 0, 0])\n",
    "        colors.append(\"red\")\n",
    "    else:\n",
    "        # colors.append([0, 255, 255])\n",
    "        colors.append(\"black\")\n",
    "        \n",
    "    print(c_sasa, l_sasa + r_sasa, d_sasa)\n",
    "    com_grid.write_pdb(f'{home}/Desktop/translations/com/trans{v}.pdb', \"w\")\n",
    "    lig_grid.write_pdb(f'{home}/Desktop/translations/lig/trans{v}.pdb', \"w\")\n",
    "    rec_grid.write_pdb(f'{home}/Desktop/translations/lig/rec.pdb', \"w\")\n"
   ]
  },
  {
   "cell_type": "code",
   "execution_count": 76,
   "id": "40206c2a-4e77-4bbf-86d1-4e946cb9f6b2",
   "metadata": {},
   "outputs": [
    {
     "data": {
      "image/png": "[encoded data removed]",
      "text/plain": [
       "<Figure size 432x288 with 1 Axes>"
      ]
     },
     "metadata": {
      "needs_background": "light"
     },
     "output_type": "display_data"
    }
   ],
   "source": [
    "import matplotlib.pyplot as plt\n",
    "plt.scatter(trans_scores, delta_sasas)\n",
    "plt.show()"
   ]
  },
  {
   "cell_type": "code",
   "execution_count": null,
   "id": "dc541ab1-66f2-4076-a7b2-fd447180f35c",
   "metadata": {},
   "outputs": [],
   "source": [
    "for u in range(len(translations)):\n",
    "    print(score[translations[u]], delta_sasas[u])"
   ]
  },
  {
   "cell_type": "code",
   "execution_count": 12,
   "id": "0a72279c-5c5e-44d0-a2bc-fdefa3a569f8",
   "metadata": {},
   "outputs": [
    {
     "name": "stdout",
     "output_type": "stream",
     "text": [
      "NATOM:2008\n"
     ]
    }
   ],
   "source": [
    "com_grid.write_pdb('/home/jtufts/Desktop/test.pdb', \"w\")\n",
    "com_grid.write_box('/home/jtufts/Desktop/testbox.pdb')"
   ]
  },
  {
   "cell_type": "code",
   "execution_count": 134,
   "id": "9415e9dd-53e3-4b52-855f-0390d1d3f864",
   "metadata": {},
   "outputs": [
    {
     "name": "stdout",
     "output_type": "stream",
     "text": [
      "7170.8086\n",
      "3486.3755\n",
      "4483.7715\n",
      "7970.147\n"
     ]
    }
   ],
   "source": [
    "# print(cat_dictionaries(rec_grid._prmtop['POINTERS'], lig_grid._prmtop['POINTERS']))\n",
    "print(com_grid._get_molecule_sasa(0.14, 960).sum())\n",
    "print(lig_grid._get_molecule_sasa(0.14, 960).sum())\n",
    "print(rec_grid._get_molecule_sasa(0.14, 960).sum())\n",
    "print(rec_grid._get_molecule_sasa(0.14, 960).sum()+lig_grid._get_molecule_sasa(0.14, 960).sum())"
   ]
  },
  {
   "cell_type": "code",
   "execution_count": 119,
   "id": "d1357300-6a00-4317-9457-3a62518bd9ab",
   "metadata": {},
   "outputs": [
    {
     "name": "stdout",
     "output_type": "stream",
     "text": [
      "5823.7266\n"
     ]
    }
   ],
   "source": [
    "print(lig_grid._molecule_sasa.sum())"
   ]
  },
  {
   "cell_type": "code",
   "execution_count": 140,
   "id": "9e971531-9821-442e-ade6-c67de7779f73",
   "metadata": {},
   "outputs": [],
   "source": [
    "import pickle as p\n",
    "f1 = np.load('/home/jtufts/Desktop/npy/delta_sasa_complex_minus_rl.npy')\n",
    "f2 = p.load(open('/home/jtufts/src/p39/fftanalysis/data/lig_sasa_sums.p', \"rb\"))\n",
    "f3 = p.load(open('/home/jtufts/src/p39/fftanalysis/data/rec_sasa_sums.p', \"rb\"))\n",
    "f4 = p.load(open('/home/jtufts/src/p39/fftanalysis/data/lig_sasas.p', \"rb\"))\n",
    "f5 = p.load(open('/home/jtufts/src/p39/fftanalysis/data/rec_sasas.p', \"rb\"))\n",
    "f6 = p.load(open('/home/jtufts/src/p39/fftanalysis/data/complex_sasas.p', \"rb\"))\n",
    "# f4"
   ]
  },
  {
   "cell_type": "code",
   "execution_count": 138,
   "id": "b1bf97b8-c99d-4095-afb9-4787a4c0b675",
   "metadata": {},
   "outputs": [
    {
     "name": "stdout",
     "output_type": "stream",
     "text": [
      "2OOB_A:B 7970.235824584961\n"
     ]
    }
   ],
   "source": [
    "k2 = list(f2.keys())\n",
    "k2.sort()\n",
    "print(k2[127],f2[k2[127]]*100+f3[k2[127]]*100)"
   ]
  },
  {
   "cell_type": "code",
   "execution_count": null,
   "id": "ba8f8fd3-8748-4352-a5f2-a33b1cbe04f1",
   "metadata": {},
   "outputs": [],
   "source": [
    "lig_grid._move_ligand_to_lower_corner()\n",
    "ls = lig_grid._get_molecule_sasa(0.14, 960)\n",
    "rs = rec_grid._get_molecule_sasa(0.14, 960)\n",
    "\n",
    "for m,val in enumerate(f4[k2[127]][0]):\n",
    "    print(val,ls[0][m])"
   ]
  },
  {
   "cell_type": "code",
   "execution_count": null,
   "id": "2c02cdff-225b-468e-aef8-1e89b2df3acd",
   "metadata": {},
   "outputs": [],
   "source": [
    "for p,l in enumerate(delta_sasas):\n",
    "    print(l, f1[127]*100)"
   ]
  },
  {
   "cell_type": "code",
   "execution_count": 165,
   "id": "d3fd80f5-1aea-4075-baba-666799ddae6b",
   "metadata": {},
   "outputs": [
    {
     "data": {
      "text/plain": [
       "masked_array(data=[68.0, 87.0, 45.0],\n",
       "             mask=[False, False, False],\n",
       "       fill_value=1e+20)"
      ]
     },
     "execution_count": 165,
     "metadata": {},
     "output_type": "execute_result"
    }
   ],
   "source": [
    "(rec_disp - lig_grid._displacement)/0.5"
   ]
  },
  {
   "cell_type": "code",
   "execution_count": 160,
   "id": "29a9e2c8-3ffb-4fdb-ac75-0a32bbdd5f74",
   "metadata": {},
   "outputs": [
    {
     "data": {
      "text/plain": [
       "masked_array(data=[40.5, 56. , 27. ],\n",
       "             mask=False,\n",
       "       fill_value=1e+20)"
      ]
     },
     "execution_count": 160,
     "metadata": {},
     "output_type": "execute_result"
    }
   ],
   "source": [
    "rec_disp"
   ]
  },
  {
   "cell_type": "code",
   "execution_count": 166,
   "id": "9d86513c-1fd4-4d47-a3f0-7efe4698a4c1",
   "metadata": {},
   "outputs": [
    {
     "data": {
      "text/plain": [
       "591.9999999999999"
      ]
     },
     "execution_count": 166,
     "metadata": {},
     "output_type": "execute_result"
    }
   ],
   "source": [
    "score[68,87,45]"
   ]
  },
  {
   "cell_type": "code",
   "execution_count": 167,
   "id": "844ae29b-5855-4419-87c4-d56ebd2eaef6",
   "metadata": {},
   "outputs": [
    {
     "data": {
      "text/plain": [
       "(592.0000000000001+2.326614353372607e-13j)"
      ]
     },
     "execution_count": 167,
     "metadata": {},
     "output_type": "execute_result"
    }
   ],
   "source": [
    "cfft[68,87,45]"
   ]
  },
  {
   "cell_type": "code",
   "execution_count": 81,
   "id": "6b1af7f7-c488-4119-81a6-cb2813422863",
   "metadata": {},
   "outputs": [],
   "source": [
    "def regplot(trans_scores, delta_sasas, colors, name):\n",
    "    import numpy as np\n",
    "    import matplotlib.pyplot as plt\n",
    "    from scipy.stats import linregress\n",
    "    from sklearn.linear_model import LinearRegression\n",
    "\n",
    "    x = np.array(trans_scores)\n",
    "    y = np.array(delta_sasas)\n",
    "    C = np.array(colors, dtype=str)\n",
    "\n",
    "    change = np.where(C == 'yellow')\n",
    "    C[change] = \"black\"\n",
    "\n",
    "    indicies = np.where(y < 1525)\n",
    "    # indicies = np.where(y == 0)\n",
    "\n",
    "    indicies = indicies[::-1]\n",
    "\n",
    "    for i in indicies:\n",
    "        x = np.delete(x, i)\n",
    "        y = np.delete(y, i)\n",
    "        C = np.delete(C, i)\n",
    "\n",
    "    indicies = np.where(x == 0)\n",
    "    indicies = indicies[::-1] \n",
    "\n",
    "    for i in indicies:\n",
    "        x = np.delete(x, i)\n",
    "        y = np.delete(y, i)\n",
    "        C = np.delete(C, i)\n",
    "\n",
    "    x = x.reshape((-1,1))\n",
    "\n",
    "    model = LinearRegression().fit(x, y)\n",
    "    r_sq = model.score(x, y)\n",
    "\n",
    "    print('coefficient of determination:', r_sq)\n",
    "    print('intercept:', model.intercept_)\n",
    "    print('slope:', model.coef_)\n",
    "\n",
    "\n",
    "    # scatter plot\n",
    "    fig, ax = plt.subplots()\n",
    "    ax.scatter(x, y, 10, c=C, alpha=0.5, marker='+',\n",
    "            label=\"SC SCORE vs Delta SASA\")\n",
    "    # regression plot\n",
    "    rx = np.linspace(x.min(), x.max(), 165)\n",
    "    ry = model.coef_*rx + model.intercept_\n",
    "\n",
    "    ax.plot(rx, ry, '-r', label=f'DELTA_SASA={float(model.coef_):.4f}*SC_SCORE + {float(model.intercept_):.2f}')\n",
    "    plt.xlabel(\"SC_score\")\n",
    "    plt.ylabel(\"Delta_SASA (nm^2)\")\n",
    "    ax.set_title(f'R2: {r_sq}')\n",
    "    ax.legend(loc='upper left')\n",
    "    plt.savefig(f'{name}')"
   ]
  },
  {
   "cell_type": "code",
   "execution_count": null,
   "id": "a68aa7aa-519e-4de3-bbd6-38e040f92abb",
   "metadata": {},
   "outputs": [],
   "source": [
    "for i in range(9):\n",
    "    # rx,ry,rz = np.random.randint(0, counts[0], 3)\n",
    "    # rx = np.random.randint(19, 39, 1)\n",
    "    # ry = np.random.randint(81, 101, 1)\n",
    "    # rz = np.random.randint(74, 94, 1)\n",
    "    rx = np.random.randint(26, 32, 1)\n",
    "    ry = np.random.randint(113, 119, 1)\n",
    "    rz = np.random.randint(49, 55, 1)\n",
    "    lgrid_trans = grids.translate_grid(lgrid[\"SASA\"], [rx,ry,rz])\n",
    "    result = (lgrid_trans*rgrid).sum()\n",
    "    print((rx,ry,rz), result, cfft[rx,ry,rz], (np.real(result)-np.imag(result)), score[rx,ry,rz])"
   ]
  },
  {
   "cell_type": "code",
   "execution_count": null,
   "id": "b9c077f7-b477-4338-b6c9-a1a3b30e2ad8",
   "metadata": {},
   "outputs": [],
   "source": [
    "for i in range(len(colors)):\n",
    "    print(i, colors[i])"
   ]
  },
  {
   "cell_type": "code",
   "execution_count": null,
   "id": "2cc76fb7-fffa-400e-8e0a-10d8827de620",
   "metadata": {},
   "outputs": [],
   "source": [
    "rec_grid._prmtop"
   ]
  },
  {
   "cell_type": "code",
   "execution_count": null,
   "id": "96c5e745-57db-4715-8e80-8bd336b87253",
   "metadata": {},
   "outputs": [],
   "source": []
  }
 ],
 "metadata": {
  "kernelspec": {
   "display_name": "Python 3",
   "language": "python",
   "name": "python3"
  },
  "language_info": {
   "codemirror_mode": {
    "name": "ipython",
    "version": 3
   },
   "file_extension": ".py",
   "mimetype": "text/x-python",
   "name": "python",
   "nbconvert_exporter": "python",
   "pygments_lexer": "ipython3",
   "version": "3.9.4"
  }
 },
 "nbformat": 4,
 "nbformat_minor": 5
}
