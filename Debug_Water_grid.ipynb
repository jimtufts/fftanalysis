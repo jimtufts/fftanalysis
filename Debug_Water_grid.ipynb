{
 "cells": [
  {
   "cell_type": "code",
   "execution_count": 4,
   "id": "7649153b-f95e-4da9-8b39-41a21442942a",
   "metadata": {},
   "outputs": [],
   "source": [
    "from os import walk\n",
    "import os\n",
    "\n",
    "location = \"home\"\n",
    "if location == \"home\":\n",
    "    ppipath = \"/media/jim/Research_TWO\"\n",
    "    bpmfpath = \"/home/jim/src/p39\"\n",
    "elif location == \"ccb\":\n",
    "    ppipath = \"/home/jtufts\"\n",
    "    bpmfpath = \"/home/jtufts/opt/src\"\n",
    "elif location == \"expanse\":\n",
    "    ppipath = \"/expanse/lustre/projects/iit103/jtufts\"\n",
    "    bpmfpath = \"/home/jtufts/src/p39\"\n",
    "\n",
    "f = []\n",
    "for root, dirs, files in walk(\"/media/jim/Research_TWO/FFT_PPI/2.redock/4.receptor_grid\", topdown=False):\n",
    "   # for name in files:\n",
    "   #    print(os.path.join(root, name))\n",
    "    for name in dirs:\n",
    "        # print(os.path.join(name))\n",
    "        if name[0] != '.':\n",
    "            f.append(name)"
   ]
  },
  {
   "cell_type": "code",
   "execution_count": 7,
   "id": "98aa5930-eb0d-4823-aa28-b6ab375be8d7",
   "metadata": {},
   "outputs": [
    {
     "name": "stdout",
     "output_type": "stream",
     "text": [
      "1OC0_A:B\n",
      "1EMV_A:B\n",
      "1DE4_AB:CF\n",
      "3HI6_XY:B\n",
      "2W9E_HL:A\n",
      "1UUG_A:B\n",
      "1ZM4_A:B\n",
      "1HIA_AB:I\n",
      "2PCB_A:B\n",
      "1RLB_ABCD:E\n",
      "1EFN_B:A\n",
      "2WPT_A:B\n",
      "3G6D_LH:A\n",
      "1KXQ_H:A\n",
      "1DQJ_AB:C\n",
      "1LFD_B:A\n",
      "2SIC_E:I\n",
      "3SGB_E:I\n",
      "3PC8_A:C\n",
      "1XU1_ABD:T\n",
      "3AAA_AB:C\n",
      "1FLE_E:I\n",
      "1GCQ_B:C\n",
      "2OOR_AB:C\n",
      "1XD3_A:B\n",
      "2AJF_A:E\n",
      "4M76_A:B is missing\n",
      "1OPH_A:B\n",
      "2HQS_A:H\n",
      "1MLC_AB:E\n",
      "3BIW_A:E\n",
      "1J2J_A:B\n",
      "2FJU_B:A\n",
      "3BZD_A:B\n",
      "3LVK_AC:B\n",
      "1KKL_ABC:H\n",
      "1BRS_A:D\n",
      "4DN4_LH:M\n",
      "1ZLI_A:B\n",
      "2SNI_E:I\n",
      "4G6J_HL:A\n",
      "2X9A_D:C\n",
      "1NSN_HL:S\n",
      "3MXW_LH:A\n",
      "2PCC_A:B\n",
      "3RVW_CD:A\n",
      "1IQD_AB:C\n",
      "1FSK_BC:A\n",
      "1AY7_A:B\n",
      "1FFW_A:B\n",
      "4CPA_A:I\n",
      "4G6M_HL:A\n",
      "1GLA_G:F\n",
      "1CBW_ABC:D\n",
      "2PTC_E:I\n",
      "1ATN_A:D\n",
      "1HE8_B:A\n",
      "2VXT_HL:I\n",
      "2BTF_A:P\n",
      "1DFJ_E:I\n",
      "1WEJ_HL:F\n",
      "1P2C_AB:C\n",
      "2NYZ_AB:D\n",
      "1T6B_X:Y\n",
      "3L5W_LH:I\n",
      "3EOA_LH:I\n",
      "1R0R_E:I\n",
      "1I2M_A:B\n",
      "1M27_AB:C\n",
      "1AVZ_B:C\n",
      "1GL1_A:I\n",
      "4IZ7_A:B\n",
      "2OOB_A:B\n",
      "['1OC0_A:B', '1EMV_A:B', '1DE4_AB:CF', '3HI6_XY:B', '2W9E_HL:A', '1UUG_A:B', '1ZM4_A:B', '1HIA_AB:I', '2PCB_A:B', '1RLB_ABCD:E', '1EFN_B:A', '2WPT_A:B', '3G6D_LH:A', '1KXQ_H:A', '1DQJ_AB:C', '1LFD_B:A', '2SIC_E:I', '3SGB_E:I', '3PC8_A:C', '1XU1_ABD:T', '3AAA_AB:C', '1FLE_E:I', '1GCQ_B:C', '2OOR_AB:C', '1XD3_A:B', '2AJF_A:E', '4M76_A:B is missing', '1OPH_A:B', '2HQS_A:H', '1MLC_AB:E', '3BIW_A:E', '1J2J_A:B', '2FJU_B:A', '3BZD_A:B', '3LVK_AC:B', '1KKL_ABC:H', '1BRS_A:D', '4DN4_LH:M', '1ZLI_A:B', '2SNI_E:I', '4G6J_HL:A', '2X9A_D:C', '1NSN_HL:S', '3MXW_LH:A', '2PCC_A:B', '3RVW_CD:A', '1IQD_AB:C', '1FSK_BC:A', '1AY7_A:B', '1FFW_A:B', '4CPA_A:I', '4G6M_HL:A', '1GLA_G:F', '1CBW_ABC:D', '2PTC_E:I', '1ATN_A:D', '1HE8_B:A', '2VXT_HL:I', '2BTF_A:P', '1DFJ_E:I', '1WEJ_HL:F', '1P2C_AB:C', '2NYZ_AB:D', '1T6B_X:Y', '3L5W_LH:I', '3EOA_LH:I', '1R0R_E:I', '1I2M_A:B', '1M27_AB:C', '1AVZ_B:C', '1GL1_A:I', '4IZ7_A:B', '2OOB_A:B']\n"
     ]
    }
   ],
   "source": [
    "import netCDF4 as nc\n",
    "import numpy as np\n",
    "import math\n",
    "\n",
    "bad_sys = []\n",
    "for system in f:\n",
    "    if os.path.exists(f\"{ppipath}/FFT_PPI/2.redock/4.receptor_grid/{system}/sasa.nc\"):\n",
    "        water = nc.Dataset(f\"{ppipath}/FFT_PPI/2.redock/4.receptor_grid/{system}/sasa.nc\", \"r\").variables[\"water\"][:]\n",
    "        if math.isnan(water.sum()):\n",
    "            print(system)\n",
    "            bad_sys.append(system)\n",
    "    else:\n",
    "        print(system+\" is missing\")\n",
    "        bad_sys.append(system+\" is missing\")\n",
    "print(bad_sys)"
   ]
  },
  {
   "cell_type": "code",
   "execution_count": 15,
   "id": "16e357de-6a6c-4709-b58d-039daa1b96bd",
   "metadata": {},
   "outputs": [],
   "source": [
    "water = nc.Dataset(f\"{ppipath}/FFT_PPI/2.redock/4.receptor_grid/1AVZ_B:C/sasa.nc\", \"r\").variables[\"water\"][:]"
   ]
  },
  {
   "cell_type": "code",
   "execution_count": 16,
   "id": "cb441c70-967f-4517-a1cc-622a5f286fac",
   "metadata": {},
   "outputs": [
    {
     "data": {
      "text/plain": [
       "(247, 247, 247)"
      ]
     },
     "execution_count": 16,
     "metadata": {},
     "output_type": "execute_result"
    }
   ],
   "source": [
    "water.shape"
   ]
  },
  {
   "cell_type": "code",
   "execution_count": 9,
   "id": "eb45cf86-1121-4569-b095-3b47d77cb923",
   "metadata": {},
   "outputs": [],
   "source": [
    "bad_sys.sort()"
   ]
  },
  {
   "cell_type": "code",
   "execution_count": 10,
   "id": "71ccf211-ee3b-4cb7-9b0e-e988aef27313",
   "metadata": {},
   "outputs": [
    {
     "data": {
      "text/plain": [
       "['1ATN_A:D',\n",
       " '1AVZ_B:C',\n",
       " '1AY7_A:B',\n",
       " '1BRS_A:D',\n",
       " '1CBW_ABC:D',\n",
       " '1DE4_AB:CF',\n",
       " '1DFJ_E:I',\n",
       " '1DQJ_AB:C',\n",
       " '1EFN_B:A',\n",
       " '1EMV_A:B',\n",
       " '1FFW_A:B',\n",
       " '1FLE_E:I',\n",
       " '1FSK_BC:A',\n",
       " '1GCQ_B:C',\n",
       " '1GL1_A:I',\n",
       " '1GLA_G:F',\n",
       " '1HE8_B:A',\n",
       " '1HIA_AB:I',\n",
       " '1I2M_A:B',\n",
       " '1IQD_AB:C',\n",
       " '1J2J_A:B',\n",
       " '1KKL_ABC:H',\n",
       " '1KXQ_H:A',\n",
       " '1LFD_B:A',\n",
       " '1M27_AB:C',\n",
       " '1MLC_AB:E',\n",
       " '1NSN_HL:S',\n",
       " '1OC0_A:B',\n",
       " '1OPH_A:B',\n",
       " '1P2C_AB:C',\n",
       " '1R0R_E:I',\n",
       " '1RLB_ABCD:E',\n",
       " '1T6B_X:Y',\n",
       " '1UUG_A:B',\n",
       " '1WEJ_HL:F',\n",
       " '1XD3_A:B',\n",
       " '1XU1_ABD:T',\n",
       " '1ZLI_A:B',\n",
       " '1ZM4_A:B',\n",
       " '2AJF_A:E',\n",
       " '2BTF_A:P',\n",
       " '2FJU_B:A',\n",
       " '2HQS_A:H',\n",
       " '2NYZ_AB:D',\n",
       " '2OOB_A:B',\n",
       " '2OOR_AB:C',\n",
       " '2PCB_A:B',\n",
       " '2PCC_A:B',\n",
       " '2PTC_E:I',\n",
       " '2SIC_E:I',\n",
       " '2SNI_E:I',\n",
       " '2VXT_HL:I',\n",
       " '2W9E_HL:A',\n",
       " '2WPT_A:B',\n",
       " '2X9A_D:C',\n",
       " '3AAA_AB:C',\n",
       " '3BIW_A:E',\n",
       " '3BZD_A:B',\n",
       " '3EOA_LH:I',\n",
       " '3G6D_LH:A',\n",
       " '3HI6_XY:B',\n",
       " '3L5W_LH:I',\n",
       " '3LVK_AC:B',\n",
       " '3MXW_LH:A',\n",
       " '3PC8_A:C',\n",
       " '3RVW_CD:A',\n",
       " '3SGB_E:I',\n",
       " '4CPA_A:I',\n",
       " '4DN4_LH:M',\n",
       " '4G6J_HL:A',\n",
       " '4G6M_HL:A',\n",
       " '4IZ7_A:B',\n",
       " '4M76_A:B is missing']"
      ]
     },
     "execution_count": 10,
     "metadata": {},
     "output_type": "execute_result"
    }
   ],
   "source": [
    "bad_sys"
   ]
  },
  {
   "cell_type": "code",
   "execution_count": null,
   "id": "815e309c-cb79-4642-827b-ab27f639e6f1",
   "metadata": {},
   "outputs": [],
   "source": []
  }
 ],
 "metadata": {
  "kernelspec": {
   "display_name": "Python 3",
   "language": "python",
   "name": "python3"
  },
  "language_info": {
   "codemirror_mode": {
    "name": "ipython",
    "version": 3
   },
   "file_extension": ".py",
   "mimetype": "text/x-python",
   "name": "python",
   "nbconvert_exporter": "python",
   "pygments_lexer": "ipython3",
   "version": "3.9.4"
  }
 },
 "nbformat": 4,
 "nbformat_minor": 5
}
