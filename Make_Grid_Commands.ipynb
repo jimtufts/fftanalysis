{
 "cells": [
  {
   "cell_type": "code",
   "execution_count": 12,
   "id": "774bd382-8aea-44c4-af02-d80895622bc3",
   "metadata": {},
   "outputs": [],
   "source": [
    "from os import walk\n",
    "import os\n",
    "\n",
    "location = \"ccb\"\n",
    "if location == \"home\":\n",
    "    ppipath = \"/media/jim/Research_TWO\"\n",
    "    bpmfpath = \"/home/jim/src/p39\"\n",
    "elif location == \"ccb\":\n",
    "    ppipath = \"/home/jtufts\"\n",
    "    bpmfpath = \"/home/jtufts/opt/src\"\n",
    "\n",
    "f = []\n",
    "for root, dirs, files in walk(\"/media/jim/Research_TWO/FFT_PPI/2.redock/4.receptor_grid\", topdown=False):\n",
    "   # for name in files:\n",
    "   #    print(os.path.join(root, name))\n",
    "    for name in dirs:\n",
    "        # print(os.path.join(name))\n",
    "        if name[0] != '.':\n",
    "            f.append(name)"
   ]
  },
  {
   "cell_type": "code",
   "execution_count": null,
   "id": "74e11928-f951-4569-bb93-2e11cba6edcd",
   "metadata": {},
   "outputs": [],
   "source": [
    "from math import sqrt\n",
    "\n",
    "grid_type = 'shrakerupley'\n",
    "f.sort()\n",
    "for dirname in f[:-1]:\n",
    "    # print(f\"\"\"python /home/jim/src/p39/bpmfwfft/protein_protein_scripts/run_receptor_grid_cal.py --amber_dir /media/jim/Research_TWO/FFT_PPI/2.redock/1.amber/{dirname} --coord_dir /media/jim/Research_TWO/FFT_PPI/2.redock/2.minimize/{dirname} --out_dir /media/jim/Research_TWO/FFT_PPI/2.redock/4.receptor_grid/{dirname} --lj_scale 1.000000 ----spacing 0.500000 --buffer 1.000000\"\"\")\n",
    "    # print(f\"\"\"python /home/jim/src/p39/bpmfwfft/protein_protein_scripts/run_receptor_grid_cal.py\\\n",
    "    # --amber_dir /media/jim/Research_TWO/FFT_PPI/2.redock/1.amber/{dirname}\\\n",
    "    # --coord_dir /media/jim/Research_TWO/FFT_PPI/2.redock/2.minimize/{dirname}\\\n",
    "    # --out_dir /media/jim/Research_TWO/FFT_PPI/2.redock/4.receptor_grid/{dirname}\\\n",
    "    # --lj_scale 1.000000 --sc_score {sqrt(1.5)} --ss_score {sqrt(0.8)}\\\n",
    "    # --spacing 0.500000 --buffer 1.000000\"\"\")\n",
    "    if grid_type == 'sasa':\n",
    "        print(f\"\"\"python {bpmfpath}/bpmfwfft/protein_protein_scripts/run_receptor_grid_cal.py\\\n",
    "        --amber_dir {ppipath}/FFT_PPI/2.redock/1.amber/{dirname}\\\n",
    "        --coord_dir {ppipath}/FFT_PPI/2.redock/2.minimize/{dirname}\\\n",
    "        --out_dir {ppipath}/FFT_PPI/2.redock/4.receptor_grid/{dirname}\\\n",
    "        --grid_file_name sasa_grid_noH.nc\\\n",
    "        --lj_scale 1.000000\\\n",
    "        --spacing 0.500000 --buffer 1.000000\\\n",
    "        --exclude_H True\n",
    "        \"\"\")\n",
    "        print('')\n",
    "    elif grid_type == 'empty':\n",
    "        print(f\"\"\"python {bpmfpath}/bpmfwfft/protein_protein_scripts/run_receptor_grid_cal.py\\\n",
    "        --amber_dir {ppipath}/FFT_PPI/2.redock/1.amber/{dirname}\\\n",
    "        --coord_dir {ppipath}/FFT_PPI/2.redock/2.minimize/{dirname}\\\n",
    "        --out_dir {ppipath}/FFT_PPI/2.redock/4.receptor_grid/{dirname}\\\n",
    "        --grid_file_name empty_grid.nc\\\n",
    "        --lj_scale 1.000000\\\n",
    "        --rc_scale 0.760000\\\n",
    "        --rs_scale 0.530000\\\n",
    "        --rm_scale 0.550000\\\n",
    "        --spacing 0.500000\\\n",
    "        --buffer 1.000000\n",
    "        \"\"\")\n",
    "    elif grid_type == 'all_noH':\n",
    "        if '2OOB' in dirname:\n",
    "            print(f\"\"\"python {bpmfpath}/bpmfwfft/protein_protein_scripts/run_receptor_grid_cal.py\\\n",
    "        --amber_dir {ppipath}/FFT_PPI/2.redock/1.amber/{dirname}\\\n",
    "        --coord_dir {ppipath}/FFT_PPI/2.redock/2.minimize/{dirname}\\\n",
    "        --out_dir {ppipath}/FFT_PPI/2.redock/4.receptor_grid/{dirname}\\\n",
    "        --grid_file_name all_grid_noH.nc\\\n",
    "        --lj_scale 1.000000\\\n",
    "        --rc_scale 0.760000\\\n",
    "        --rs_scale 0.530000\\\n",
    "        --rm_scale 0.550000\\\n",
    "        --spacing 0.500000\\\n",
    "        --buffer 1.000000\n",
    "        \"\"\")\n",
    "    elif grid_type == 'shrakerupley':\n",
    "            print(f\"\"\"python {bpmfpath}/bpmfwfft/protein_protein_scripts/run_receptor_grid_cal.py\\\n",
    "        --amber_dir {ppipath}/FFT_PPI/2.redock/1.amber/{dirname}\\\n",
    "        --coord_dir {ppipath}/FFT_PPI/2.redock/2.minimize/{dirname}\\\n",
    "        --out_dir {ppipath}/FFT_PPI/2.redock/4.receptor_grid/{dirname}\\\n",
    "        --grid_file_name shrakerupley.nc\\\n",
    "        --lj_scale 1.000000\\\n",
    "        --rc_scale 0.760000\\\n",
    "        --rs_scale 0.530000\\\n",
    "        --rm_scale 0.550000\\\n",
    "        --spacing 0.500000\\\n",
    "        --buffer 1.000000\n",
    "        \"\"\")\n",
    "    else:\n",
    "        print(f\"\"\"python {bpmfpath}/bpmfwfft/protein_protein_scripts/run_receptor_grid_cal.py\\\n",
    "        --amber_dir {ppipath}/FFT_PPI/2.redock/1.amber/{dirname}\\\n",
    "        --coord_dir {ppipath}/FFT_PPI/2.redock/2.minimize/{dirname}\\\n",
    "        --out_dir {ppipath}/FFT_PPI/2.redock/4.receptor_grid/{dirname}\\\n",
    "        --grid_file_name all_grid.nc\\\n",
    "        --lj_scale 1.000000\\\n",
    "        --rc_scale 0.760000\\\n",
    "        --rs_scale 0.530000\\\n",
    "        --rm_scale 0.550000\\\n",
    "        --spacing 0.500000\\\n",
    "        --buffer 1.000000\n",
    "        \"\"\")\n",
    "        "
   ]
  },
  {
   "cell_type": "code",
   "execution_count": null,
   "id": "af92cec7-dcb1-41e3-b4ba-272159055a6e",
   "metadata": {},
   "outputs": [],
   "source": [
    "system_name = \"2OOB_A:B\"\n",
    "for n,i in enumerate([1.0, sqrt(1.1), sqrt(1.2), sqrt(1.3), sqrt(1.4), sqrt(1.5)]):\n",
    "    fn = n+1\n",
    "    print(f\"\"\"python /home/jim/src/p39/bpmfwfft/protein_protein_scripts/run_receptor_grid_cal.py\\\n",
    "        --amber_dir /media/jim/Research_TWO/FFT_PPI/2.redock/1.amber/{system_name}\\\n",
    "        --coord_dir /media/jim/Research_TWO/FFT_PPI/2.redock/2.minimize/{system_name}\\\n",
    "        --out_dir /media/jim/Research_TWO/FFT_PPI/2.redock/4.receptor_grid/{system_name}\\\n",
    "        --grid_file_name grid_sc_sqrt1_{n}.nc\\\n",
    "        --lj_scale 1.000000\\\n",
    "        --sc_scale {i}\\\n",
    "        --spacing 0.500000 --buffer 1.000000\"\"\")\n",
    "    print('')"
   ]
  },
  {
   "cell_type": "code",
   "execution_count": 5,
   "id": "bd10875b-1f92-4dc1-89b1-0d7fe993c3d1",
   "metadata": {},
   "outputs": [],
   "source": [
    "# create directories if needed\n",
    "import os.path \n",
    "parent = '/media/jim/Research_TWO/FFT_PPI/2.redock/6.postprocess/'\n",
    "for name in f:\n",
    "    path = os.path.join(parent, name)\n",
    "    if not os.path.isdir(path):\n",
    "        os.mkdir(path)\n",
    "        \n"
   ]
  },
  {
   "cell_type": "code",
   "execution_count": null,
   "id": "62fd4ec3-26e3-4a65-80a6-f756a29be7bb",
   "metadata": {},
   "outputs": [],
   "source": [
    "# make FFT commands for local\n",
    "f.sort()\n",
    "for dirname in f:\n",
    "    print(f'python /home/jim/src/p39/bpmfwfft/protein_protein_scripts/run_fft_sampling.py\\\n",
    "    --amber_dir /media/jim/Research_TWO/FFT_PPI/2.redock/1.amber/{dirname}\\\n",
    "    --coord_dir /media/jim/Research_TWO/FFT_PPI/2.redock/2.minimize/{dirname}\\\n",
    "    --grid_dir /media/jim/Research_TWO/FFT_PPI/2.redock/4.receptor_grid/{dirname}\\\n",
    "    --lig_ensemble_dir /media/jim/Research_TWO/FFT_PPI/2.redock/3.ligand_rand_rot/{dirname}\\\n",
    "    --out_dir /media/jim/Research_TWO/FFT_PPI/2.redock/5.fft_sampling/{dirname}\\\n",
    "    --lj_scale 1.000000 --nr_lig_conf 500  --start_index 0 --energy_sample_size_per_ligand 1000')\n",
    "    print('')"
   ]
  },
  {
   "cell_type": "code",
   "execution_count": null,
   "id": "5a0b1f0c-78fd-432c-bcf3-a9e168e91749",
   "metadata": {},
   "outputs": [],
   "source": [
    "# make FFT commands for server\n",
    "f.sort()\n",
    "for dirname in f:\n",
    "    print(f'python /home/jtufts/src/p39/bpmfwfft/protein_protein_scripts/run_fft_sampling.py\\\n",
    "    --amber_dir /home/jtufts/FFT_PPI/2.redock/1.amber/{dirname}\\\n",
    "    --coord_dir /home/jtufts/FFT_PPI/2.redock/2.minimize/{dirname}\\\n",
    "    --grid_dir /home/jtufts/FFT_PPI/2.redock/4.receptor_grid/{dirname}\\\n",
    "    --lig_ensemble_dir /home/jtufts/FFT_PPI/2.redock/3.ligand_rand_rot/{dirname}\\\n",
    "    --out_dir /home/jtufts/FFT_PPI/2.redock/5.fft_sampling/{dirname}\\\n",
    "    --lj_scale 1.000000 --nr_lig_conf 500  --start_index 0 --energy_sample_size_per_ligand 1000')\n",
    "    print('')"
   ]
  },
  {
   "cell_type": "code",
   "execution_count": null,
   "id": "3334dfa5-5fa1-48b1-93a0-4b4d9059991b",
   "metadata": {},
   "outputs": [],
   "source": [
    "# make rotation commands\n",
    "f.sort()\n",
    "for dirname in f:   \n",
    "    print(f'python /home/jim/src/p39/bpmfwfft/protein_protein_scripts/run_ligand_rotation.py\\\n",
    "    --inpcrd /media/jim/Research_TWO/FFT_PPI/2.redock/2.minimize/{dirname}/ligand.inpcrd\\\n",
    "    --nc /media/jim/Research_TWO/FFT_PPI/2.redock/3.ligand_rand_rot/{dirname}/rotation.nc\\\n",
    "    --count 100')\n",
    "    print('')"
   ]
  },
  {
   "cell_type": "code",
   "execution_count": 18,
   "id": "f3fe3797-efbd-42e5-b15d-aa3b5cea2a4a",
   "metadata": {},
   "outputs": [],
   "source": [
    "import os\n",
    "system = f\"/media/jim/Research_TWO/FFT_PPI/2.redock/7.analysis/1A2K_C:AB/sasa\"\n",
    "if not os.path.exists(system):\n",
    "    os.mkdir(system)"
   ]
  },
  {
   "cell_type": "code",
   "execution_count": null,
   "id": "6ec4a1e6-bd57-4767-b842-16a201d61cd6",
   "metadata": {},
   "outputs": [],
   "source": [
    "# make post processing commands for local\n",
    "f.sort()\n",
    "for dirname in f:   \n",
    "    print(f'python /home/jim/src/p39/bpmfwfft/protein_protein_scripts/run_postprocess.py\\\n",
    "    --amber_dir /media/jim/Research_TWO/FFT_PPI/2.redock/1.amber/{dirname}\\\n",
    "    --sampling_dir /media/jim/Research_TWO/FFT_PPI/2.redock/5.fft_sampling/{dirname}\\\n",
    "    --out_dir /media/jim/Research_TWO/FFT_PPI/2.redock/6.postprocess/{dirname}\\\n",
    "    --nr_resample 1000 2>&1 | tee /media/jim/Research_TWO/FFT_PPI/2.redock/6.postprocess/{dirname}/{dirname[:4].lower()}.log')\n",
    "    print('')"
   ]
  },
  {
   "cell_type": "code",
   "execution_count": null,
   "id": "9bf44d6c-0af1-4d48-a49f-7732e35ccdda",
   "metadata": {},
   "outputs": [],
   "source": [
    "# make post processing commands for server\n",
    "f.sort()\n",
    "for dirname in f:   \n",
    "    print(f'python /home/jtufts/src/p39/bpmfwfft/protein_protein_scripts/run_postprocess.py\\\n",
    "    --amber_dir /home/jtufts/FFT_PPI/2.redock/1.amber/{dirname}\\\n",
    "    --sampling_dir /home/jtufts/FFT_PPI/2.redock/5.fft_sampling/{dirname}\\\n",
    "    --out_dir /home/jtufts/FFT_PPI/2.redock/6.postprocess/{dirname}\\\n",
    "    --nr_resample 100')\n",
    "    print('')"
   ]
  },
  {
   "cell_type": "code",
   "execution_count": null,
   "id": "3dafe92b-76bc-4c5b-9aba-2207eb3e2b03",
   "metadata": {},
   "outputs": [],
   "source": [
    "# make rsync commands to send grids... From local to server. \n",
    "f.sort()\n",
    "for dirname in f:\n",
    "    print(f'rsync -av --relative /media/jim/Research_TWO/FFT_PPI/2.redock/4.receptor_grid/./{dirname}/sasa_grid_noH.nc jtufts@megahub:/home/jtufts/FFT_PPI/2.redock/4.receptor_grid/')\n",
    "    print('')"
   ]
  },
  {
   "cell_type": "code",
   "execution_count": null,
   "id": "92a85a63-7447-46bf-99c3-63fe80127c90",
   "metadata": {},
   "outputs": [],
   "source": [
    "# make rsync commands to receive fft results... From server to local\n",
    "f.sort()\n",
    "for dirname in f:\n",
    "    print(f'rsync -av jtufts@megahub:/home/jtufts/FFT_PPI/2.redock/5.fft_sampling/{dirname} /media/jim/Research_TWO/FFT_PPI/2.redock/5.fft_sampling/ ')\n",
    "    print('')"
   ]
  },
  {
   "cell_type": "code",
   "execution_count": 23,
   "id": "6d23afc5-e34d-4fea-aa59-1bc59a06dd84",
   "metadata": {},
   "outputs": [
    {
     "name": "stdout",
     "output_type": "stream",
     "text": [
      "python /home/jim/src/p39/fftanalysis/ShrakeRupelyGridvsdSASA_plot_sysparam.py --system 1A2K_C:AB\n",
      "python /home/jim/src/p39/fftanalysis/ShrakeRupelyGridvsdSASA_plot_sysparam.py --system 1ACB_E:I\n",
      "python /home/jim/src/p39/fftanalysis/ShrakeRupelyGridvsdSASA_plot_sysparam.py --system 1AHW_AB:C\n",
      "python /home/jim/src/p39/fftanalysis/ShrakeRupelyGridvsdSASA_plot_sysparam.py --system 1AK4_A:D\n",
      "python /home/jim/src/p39/fftanalysis/ShrakeRupelyGridvsdSASA_plot_sysparam.py --system 1AKJ_AB:DE\n",
      "python /home/jim/src/p39/fftanalysis/ShrakeRupelyGridvsdSASA_plot_sysparam.py --system 1ATN_A:D\n",
      "python /home/jim/src/p39/fftanalysis/ShrakeRupelyGridvsdSASA_plot_sysparam.py --system 1AVX_A:B\n",
      "python /home/jim/src/p39/fftanalysis/ShrakeRupelyGridvsdSASA_plot_sysparam.py --system 1AVZ_B:C\n",
      "python /home/jim/src/p39/fftanalysis/ShrakeRupelyGridvsdSASA_plot_sysparam.py --system 1AY7_A:B\n",
      "python /home/jim/src/p39/fftanalysis/ShrakeRupelyGridvsdSASA_plot_sysparam.py --system 1B6C_A:B\n",
      "python /home/jim/src/p39/fftanalysis/ShrakeRupelyGridvsdSASA_plot_sysparam.py --system 1BJ1_HL:VW\n",
      "python /home/jim/src/p39/fftanalysis/ShrakeRupelyGridvsdSASA_plot_sysparam.py --system 1BRS_A:D\n",
      "python /home/jim/src/p39/fftanalysis/ShrakeRupelyGridvsdSASA_plot_sysparam.py --system 1BUH_A:B\n",
      "python /home/jim/src/p39/fftanalysis/ShrakeRupelyGridvsdSASA_plot_sysparam.py --system 1BVK_DE:F\n",
      "python /home/jim/src/p39/fftanalysis/ShrakeRupelyGridvsdSASA_plot_sysparam.py --system 1BVN_P:T\n",
      "python /home/jim/src/p39/fftanalysis/ShrakeRupelyGridvsdSASA_plot_sysparam.py --system 1CBW_ABC:D\n",
      "python /home/jim/src/p39/fftanalysis/ShrakeRupelyGridvsdSASA_plot_sysparam.py --system 1DE4_AB:CF\n",
      "python /home/jim/src/p39/fftanalysis/ShrakeRupelyGridvsdSASA_plot_sysparam.py --system 1DFJ_E:I\n",
      "python /home/jim/src/p39/fftanalysis/ShrakeRupelyGridvsdSASA_plot_sysparam.py --system 1DQJ_AB:C\n",
      "python /home/jim/src/p39/fftanalysis/ShrakeRupelyGridvsdSASA_plot_sysparam.py --system 1E4K_AB:C\n",
      "python /home/jim/src/p39/fftanalysis/ShrakeRupelyGridvsdSASA_plot_sysparam.py --system 1E6E_A:B\n",
      "python /home/jim/src/p39/fftanalysis/ShrakeRupelyGridvsdSASA_plot_sysparam.py --system 1E6J_HL:P\n",
      "python /home/jim/src/p39/fftanalysis/ShrakeRupelyGridvsdSASA_plot_sysparam.py --system 1E96_A:B\n",
      "python /home/jim/src/p39/fftanalysis/ShrakeRupelyGridvsdSASA_plot_sysparam.py --system 1EAW_A:B\n",
      "python /home/jim/src/p39/fftanalysis/ShrakeRupelyGridvsdSASA_plot_sysparam.py --system 1EER_A:BC\n",
      "python /home/jim/src/p39/fftanalysis/ShrakeRupelyGridvsdSASA_plot_sysparam.py --system 1EFN_B:A\n",
      "python /home/jim/src/p39/fftanalysis/ShrakeRupelyGridvsdSASA_plot_sysparam.py --system 1EMV_A:B\n",
      "python /home/jim/src/p39/fftanalysis/ShrakeRupelyGridvsdSASA_plot_sysparam.py --system 1EWY_A:C\n",
      "python /home/jim/src/p39/fftanalysis/ShrakeRupelyGridvsdSASA_plot_sysparam.py --system 1EZU_C:AB\n",
      "python /home/jim/src/p39/fftanalysis/ShrakeRupelyGridvsdSASA_plot_sysparam.py --system 1F34_A:B\n",
      "python /home/jim/src/p39/fftanalysis/ShrakeRupelyGridvsdSASA_plot_sysparam.py --system 1F6M_A:C\n",
      "python /home/jim/src/p39/fftanalysis/ShrakeRupelyGridvsdSASA_plot_sysparam.py --system 1FC2_C:D\n",
      "python /home/jim/src/p39/fftanalysis/ShrakeRupelyGridvsdSASA_plot_sysparam.py --system 1FFW_A:B\n",
      "python /home/jim/src/p39/fftanalysis/ShrakeRupelyGridvsdSASA_plot_sysparam.py --system 1FLE_E:I\n",
      "python /home/jim/src/p39/fftanalysis/ShrakeRupelyGridvsdSASA_plot_sysparam.py --system 1FQJ_A:B\n",
      "python /home/jim/src/p39/fftanalysis/ShrakeRupelyGridvsdSASA_plot_sysparam.py --system 1FSK_BC:A\n",
      "python /home/jim/src/p39/fftanalysis/ShrakeRupelyGridvsdSASA_plot_sysparam.py --system 1GCQ_B:C\n",
      "python /home/jim/src/p39/fftanalysis/ShrakeRupelyGridvsdSASA_plot_sysparam.py --system 1GL1_A:I\n",
      "python /home/jim/src/p39/fftanalysis/ShrakeRupelyGridvsdSASA_plot_sysparam.py --system 1GLA_G:F\n",
      "python /home/jim/src/p39/fftanalysis/ShrakeRupelyGridvsdSASA_plot_sysparam.py --system 1GPW_A:B\n",
      "python /home/jim/src/p39/fftanalysis/ShrakeRupelyGridvsdSASA_plot_sysparam.py --system 1GRN_A:B\n",
      "python /home/jim/src/p39/fftanalysis/ShrakeRupelyGridvsdSASA_plot_sysparam.py --system 1GXD_A:C\n",
      "python /home/jim/src/p39/fftanalysis/ShrakeRupelyGridvsdSASA_plot_sysparam.py --system 1H1V_A:G\n",
      "python /home/jim/src/p39/fftanalysis/ShrakeRupelyGridvsdSASA_plot_sysparam.py --system 1H9D_A:B\n",
      "python /home/jim/src/p39/fftanalysis/ShrakeRupelyGridvsdSASA_plot_sysparam.py --system 1HCF_AB:X\n",
      "python /home/jim/src/p39/fftanalysis/ShrakeRupelyGridvsdSASA_plot_sysparam.py --system 1HE8_B:A\n",
      "python /home/jim/src/p39/fftanalysis/ShrakeRupelyGridvsdSASA_plot_sysparam.py --system 1HIA_AB:I\n",
      "python /home/jim/src/p39/fftanalysis/ShrakeRupelyGridvsdSASA_plot_sysparam.py --system 1I2M_A:B\n",
      "python /home/jim/src/p39/fftanalysis/ShrakeRupelyGridvsdSASA_plot_sysparam.py --system 1I4D_D:AB\n",
      "python /home/jim/src/p39/fftanalysis/ShrakeRupelyGridvsdSASA_plot_sysparam.py --system 1IB1_AB:E\n",
      "python /home/jim/src/p39/fftanalysis/ShrakeRupelyGridvsdSASA_plot_sysparam.py --system 1IBR_A:B\n",
      "python /home/jim/src/p39/fftanalysis/ShrakeRupelyGridvsdSASA_plot_sysparam.py --system 1IJK_A:BC\n",
      "python /home/jim/src/p39/fftanalysis/ShrakeRupelyGridvsdSASA_plot_sysparam.py --system 1IQD_AB:C\n",
      "python /home/jim/src/p39/fftanalysis/ShrakeRupelyGridvsdSASA_plot_sysparam.py --system 1J2J_A:B\n",
      "python /home/jim/src/p39/fftanalysis/ShrakeRupelyGridvsdSASA_plot_sysparam.py --system 1JIW_P:I\n",
      "python /home/jim/src/p39/fftanalysis/ShrakeRupelyGridvsdSASA_plot_sysparam.py --system 1JMO_A:HL\n",
      "python /home/jim/src/p39/fftanalysis/ShrakeRupelyGridvsdSASA_plot_sysparam.py --system 1JPS_HL:T\n",
      "python /home/jim/src/p39/fftanalysis/ShrakeRupelyGridvsdSASA_plot_sysparam.py --system 1JTD_B:A\n",
      "python /home/jim/src/p39/fftanalysis/ShrakeRupelyGridvsdSASA_plot_sysparam.py --system 1JTG_B:A\n",
      "python /home/jim/src/p39/fftanalysis/ShrakeRupelyGridvsdSASA_plot_sysparam.py --system 1JWH_CD:A\n",
      "python /home/jim/src/p39/fftanalysis/ShrakeRupelyGridvsdSASA_plot_sysparam.py --system 1K5D_AB:C\n",
      "python /home/jim/src/p39/fftanalysis/ShrakeRupelyGridvsdSASA_plot_sysparam.py --system 1KAC_A:B\n",
      "python /home/jim/src/p39/fftanalysis/ShrakeRupelyGridvsdSASA_plot_sysparam.py --system 1KKL_ABC:H\n",
      "python /home/jim/src/p39/fftanalysis/ShrakeRupelyGridvsdSASA_plot_sysparam.py --system 1KLU_AB:D\n",
      "python /home/jim/src/p39/fftanalysis/ShrakeRupelyGridvsdSASA_plot_sysparam.py --system 1KTZ_A:B\n",
      "python /home/jim/src/p39/fftanalysis/ShrakeRupelyGridvsdSASA_plot_sysparam.py --system 1KXP_A:D\n",
      "python /home/jim/src/p39/fftanalysis/ShrakeRupelyGridvsdSASA_plot_sysparam.py --system 1KXQ_H:A\n",
      "python /home/jim/src/p39/fftanalysis/ShrakeRupelyGridvsdSASA_plot_sysparam.py --system 1LFD_B:A\n",
      "python /home/jim/src/p39/fftanalysis/ShrakeRupelyGridvsdSASA_plot_sysparam.py --system 1M10_A:B\n",
      "python /home/jim/src/p39/fftanalysis/ShrakeRupelyGridvsdSASA_plot_sysparam.py --system 1M27_AB:C\n",
      "python /home/jim/src/p39/fftanalysis/ShrakeRupelyGridvsdSASA_plot_sysparam.py --system 1MAH_A:F\n",
      "python /home/jim/src/p39/fftanalysis/ShrakeRupelyGridvsdSASA_plot_sysparam.py --system 1MLC_AB:E\n",
      "python /home/jim/src/p39/fftanalysis/ShrakeRupelyGridvsdSASA_plot_sysparam.py --system 1MQ8_A:B\n",
      "python /home/jim/src/p39/fftanalysis/ShrakeRupelyGridvsdSASA_plot_sysparam.py --system 1NB5_AP:I\n",
      "python /home/jim/src/p39/fftanalysis/ShrakeRupelyGridvsdSASA_plot_sysparam.py --system 1NCA_HL:N\n",
      "python /home/jim/src/p39/fftanalysis/ShrakeRupelyGridvsdSASA_plot_sysparam.py --system 1NSN_HL:S\n",
      "python /home/jim/src/p39/fftanalysis/ShrakeRupelyGridvsdSASA_plot_sysparam.py --system 1NVU_Q:S\n",
      "python /home/jim/src/p39/fftanalysis/ShrakeRupelyGridvsdSASA_plot_sysparam.py --system 1NVU_R:S\n",
      "python /home/jim/src/p39/fftanalysis/ShrakeRupelyGridvsdSASA_plot_sysparam.py --system 1NW9_B:A\n",
      "python /home/jim/src/p39/fftanalysis/ShrakeRupelyGridvsdSASA_plot_sysparam.py --system 1OC0_A:B\n",
      "python /home/jim/src/p39/fftanalysis/ShrakeRupelyGridvsdSASA_plot_sysparam.py --system 1OPH_A:B\n",
      "python /home/jim/src/p39/fftanalysis/ShrakeRupelyGridvsdSASA_plot_sysparam.py --system 1P2C_AB:C\n",
      "python /home/jim/src/p39/fftanalysis/ShrakeRupelyGridvsdSASA_plot_sysparam.py --system 1PPE_E:I\n",
      "python /home/jim/src/p39/fftanalysis/ShrakeRupelyGridvsdSASA_plot_sysparam.py --system 1PVH_A:B\n",
      "python /home/jim/src/p39/fftanalysis/ShrakeRupelyGridvsdSASA_plot_sysparam.py --system 1PXV_A:C\n",
      "python /home/jim/src/p39/fftanalysis/ShrakeRupelyGridvsdSASA_plot_sysparam.py --system 1QA9_A:B\n",
      "python /home/jim/src/p39/fftanalysis/ShrakeRupelyGridvsdSASA_plot_sysparam.py --system 1R0R_E:I\n",
      "python /home/jim/src/p39/fftanalysis/ShrakeRupelyGridvsdSASA_plot_sysparam.py --system 1R6Q_A:C\n",
      "python /home/jim/src/p39/fftanalysis/ShrakeRupelyGridvsdSASA_plot_sysparam.py --system 1RLB_ABCD:E\n",
      "python /home/jim/src/p39/fftanalysis/ShrakeRupelyGridvsdSASA_plot_sysparam.py --system 1RV6_VW:X\n",
      "python /home/jim/src/p39/fftanalysis/ShrakeRupelyGridvsdSASA_plot_sysparam.py --system 1S1Q_A:B\n",
      "python /home/jim/src/p39/fftanalysis/ShrakeRupelyGridvsdSASA_plot_sysparam.py --system 1T6B_X:Y\n",
      "python /home/jim/src/p39/fftanalysis/ShrakeRupelyGridvsdSASA_plot_sysparam.py --system 1US7_A:B\n",
      "python /home/jim/src/p39/fftanalysis/ShrakeRupelyGridvsdSASA_plot_sysparam.py --system 1UUG_A:B\n",
      "python /home/jim/src/p39/fftanalysis/ShrakeRupelyGridvsdSASA_plot_sysparam.py --system 1VFB_AB:C\n",
      "python /home/jim/src/p39/fftanalysis/ShrakeRupelyGridvsdSASA_plot_sysparam.py --system 1WDW_BD:A\n",
      "python /home/jim/src/p39/fftanalysis/ShrakeRupelyGridvsdSASA_plot_sysparam.py --system 1WEJ_HL:F\n",
      "python /home/jim/src/p39/fftanalysis/ShrakeRupelyGridvsdSASA_plot_sysparam.py --system 1WQ1_R:G\n",
      "python /home/jim/src/p39/fftanalysis/ShrakeRupelyGridvsdSASA_plot_sysparam.py --system 1XD3_A:B\n",
      "python /home/jim/src/p39/fftanalysis/ShrakeRupelyGridvsdSASA_plot_sysparam.py --system 1XQS_A:C\n",
      "python /home/jim/src/p39/fftanalysis/ShrakeRupelyGridvsdSASA_plot_sysparam.py --system 1XU1_ABD:T\n",
      "python /home/jim/src/p39/fftanalysis/ShrakeRupelyGridvsdSASA_plot_sysparam.py --system 1YVB_A:I\n",
      "python /home/jim/src/p39/fftanalysis/ShrakeRupelyGridvsdSASA_plot_sysparam.py --system 1Z0K_A:B\n",
      "python /home/jim/src/p39/fftanalysis/ShrakeRupelyGridvsdSASA_plot_sysparam.py --system 1ZHI_A:B\n",
      "python /home/jim/src/p39/fftanalysis/ShrakeRupelyGridvsdSASA_plot_sysparam.py --system 1ZLI_A:B\n",
      "python /home/jim/src/p39/fftanalysis/ShrakeRupelyGridvsdSASA_plot_sysparam.py --system 1ZM4_A:B\n",
      "python /home/jim/src/p39/fftanalysis/ShrakeRupelyGridvsdSASA_plot_sysparam.py --system 2A9K_A:B\n",
      "python /home/jim/src/p39/fftanalysis/ShrakeRupelyGridvsdSASA_plot_sysparam.py --system 2ABZ_B:E\n",
      "python /home/jim/src/p39/fftanalysis/ShrakeRupelyGridvsdSASA_plot_sysparam.py --system 2AJF_A:E\n",
      "python /home/jim/src/p39/fftanalysis/ShrakeRupelyGridvsdSASA_plot_sysparam.py --system 2AQ3_A:B\n",
      "python /home/jim/src/p39/fftanalysis/ShrakeRupelyGridvsdSASA_plot_sysparam.py --system 2B42_A:B\n",
      "python /home/jim/src/p39/fftanalysis/ShrakeRupelyGridvsdSASA_plot_sysparam.py --system 2B4J_AB:C\n",
      "python /home/jim/src/p39/fftanalysis/ShrakeRupelyGridvsdSASA_plot_sysparam.py --system 2BTF_A:P\n",
      "python /home/jim/src/p39/fftanalysis/ShrakeRupelyGridvsdSASA_plot_sysparam.py --system 2C0L_A:B\n",
      "python /home/jim/src/p39/fftanalysis/ShrakeRupelyGridvsdSASA_plot_sysparam.py --system 2FJU_B:A\n",
      "python /home/jim/src/p39/fftanalysis/ShrakeRupelyGridvsdSASA_plot_sysparam.py --system 2GAF_D:A\n",
      "python /home/jim/src/p39/fftanalysis/ShrakeRupelyGridvsdSASA_plot_sysparam.py --system 2GOX_A:B\n",
      "python /home/jim/src/p39/fftanalysis/ShrakeRupelyGridvsdSASA_plot_sysparam.py --system 2HLE_A:B\n",
      "python /home/jim/src/p39/fftanalysis/ShrakeRupelyGridvsdSASA_plot_sysparam.py --system 2HQS_A:H\n",
      "python /home/jim/src/p39/fftanalysis/ShrakeRupelyGridvsdSASA_plot_sysparam.py --system 2HRK_A:B\n",
      "python /home/jim/src/p39/fftanalysis/ShrakeRupelyGridvsdSASA_plot_sysparam.py --system 2I25_N:L\n",
      "python /home/jim/src/p39/fftanalysis/ShrakeRupelyGridvsdSASA_plot_sysparam.py --system 2I9B_E:A\n",
      "python /home/jim/src/p39/fftanalysis/ShrakeRupelyGridvsdSASA_plot_sysparam.py --system 2J0T_A:D\n",
      "python /home/jim/src/p39/fftanalysis/ShrakeRupelyGridvsdSASA_plot_sysparam.py --system 2JEL_HL:P\n",
      "python /home/jim/src/p39/fftanalysis/ShrakeRupelyGridvsdSASA_plot_sysparam.py --system 2MTA_HL:A\n",
      "python /home/jim/src/p39/fftanalysis/ShrakeRupelyGridvsdSASA_plot_sysparam.py --system 2NYZ_AB:D\n",
      "python /home/jim/src/p39/fftanalysis/ShrakeRupelyGridvsdSASA_plot_sysparam.py --system 2O3B_A:B\n",
      "python /home/jim/src/p39/fftanalysis/ShrakeRupelyGridvsdSASA_plot_sysparam.py --system 2OOB_A:B\n",
      "python /home/jim/src/p39/fftanalysis/ShrakeRupelyGridvsdSASA_plot_sysparam.py --system 2OOR_AB:C\n",
      "python /home/jim/src/p39/fftanalysis/ShrakeRupelyGridvsdSASA_plot_sysparam.py --system 2OUL_A:B\n",
      "python /home/jim/src/p39/fftanalysis/ShrakeRupelyGridvsdSASA_plot_sysparam.py --system 2OZA_B:A\n",
      "python /home/jim/src/p39/fftanalysis/ShrakeRupelyGridvsdSASA_plot_sysparam.py --system 2PCB_A:B\n",
      "python /home/jim/src/p39/fftanalysis/ShrakeRupelyGridvsdSASA_plot_sysparam.py --system 2PCC_A:B\n",
      "python /home/jim/src/p39/fftanalysis/ShrakeRupelyGridvsdSASA_plot_sysparam.py --system 2PTC_E:I\n",
      "python /home/jim/src/p39/fftanalysis/ShrakeRupelyGridvsdSASA_plot_sysparam.py --system 2SIC_E:I\n",
      "python /home/jim/src/p39/fftanalysis/ShrakeRupelyGridvsdSASA_plot_sysparam.py --system 2SNI_E:I\n",
      "python /home/jim/src/p39/fftanalysis/ShrakeRupelyGridvsdSASA_plot_sysparam.py --system 2TGP_Z:I\n",
      "python /home/jim/src/p39/fftanalysis/ShrakeRupelyGridvsdSASA_plot_sysparam.py --system 2UUY_A:B\n",
      "python /home/jim/src/p39/fftanalysis/ShrakeRupelyGridvsdSASA_plot_sysparam.py --system 2VDB_A:B\n",
      "python /home/jim/src/p39/fftanalysis/ShrakeRupelyGridvsdSASA_plot_sysparam.py --system 2VIR_AB:C\n",
      "python /home/jim/src/p39/fftanalysis/ShrakeRupelyGridvsdSASA_plot_sysparam.py --system 2VIS_AB:C\n",
      "python /home/jim/src/p39/fftanalysis/ShrakeRupelyGridvsdSASA_plot_sysparam.py --system 2VXT_HL:I\n",
      "python /home/jim/src/p39/fftanalysis/ShrakeRupelyGridvsdSASA_plot_sysparam.py --system 2W9E_HL:A\n",
      "python /home/jim/src/p39/fftanalysis/ShrakeRupelyGridvsdSASA_plot_sysparam.py --system 2WPT_A:B\n",
      "python /home/jim/src/p39/fftanalysis/ShrakeRupelyGridvsdSASA_plot_sysparam.py --system 2X9A_D:C\n",
      "python /home/jim/src/p39/fftanalysis/ShrakeRupelyGridvsdSASA_plot_sysparam.py --system 3A4S_A:D\n",
      "python /home/jim/src/p39/fftanalysis/ShrakeRupelyGridvsdSASA_plot_sysparam.py --system 3AAA_AB:C\n",
      "python /home/jim/src/p39/fftanalysis/ShrakeRupelyGridvsdSASA_plot_sysparam.py --system 3BIW_A:E\n",
      "python /home/jim/src/p39/fftanalysis/ShrakeRupelyGridvsdSASA_plot_sysparam.py --system 3BP8_AB:C\n",
      "python /home/jim/src/p39/fftanalysis/ShrakeRupelyGridvsdSASA_plot_sysparam.py --system 3BX7_A:C\n",
      "python /home/jim/src/p39/fftanalysis/ShrakeRupelyGridvsdSASA_plot_sysparam.py --system 3BZD_A:B\n",
      "python /home/jim/src/p39/fftanalysis/ShrakeRupelyGridvsdSASA_plot_sysparam.py --system 3CPH_G:A\n",
      "python /home/jim/src/p39/fftanalysis/ShrakeRupelyGridvsdSASA_plot_sysparam.py --system 3DAW_A:B\n",
      "python /home/jim/src/p39/fftanalysis/ShrakeRupelyGridvsdSASA_plot_sysparam.py --system 3EOA_LH:I\n",
      "python /home/jim/src/p39/fftanalysis/ShrakeRupelyGridvsdSASA_plot_sysparam.py --system 3F1P_A:B\n",
      "python /home/jim/src/p39/fftanalysis/ShrakeRupelyGridvsdSASA_plot_sysparam.py --system 3G6D_LH:A\n",
      "python /home/jim/src/p39/fftanalysis/ShrakeRupelyGridvsdSASA_plot_sysparam.py --system 3H2V_A:E\n",
      "python /home/jim/src/p39/fftanalysis/ShrakeRupelyGridvsdSASA_plot_sysparam.py --system 3HI6_XY:B\n",
      "python /home/jim/src/p39/fftanalysis/ShrakeRupelyGridvsdSASA_plot_sysparam.py --system 3K75_D:B\n",
      "python /home/jim/src/p39/fftanalysis/ShrakeRupelyGridvsdSASA_plot_sysparam.py --system 3L5W_LH:I\n",
      "python /home/jim/src/p39/fftanalysis/ShrakeRupelyGridvsdSASA_plot_sysparam.py --system 3L89_ABC:M\n",
      "python /home/jim/src/p39/fftanalysis/ShrakeRupelyGridvsdSASA_plot_sysparam.py --system 3LVK_AC:B\n",
      "python /home/jim/src/p39/fftanalysis/ShrakeRupelyGridvsdSASA_plot_sysparam.py --system 3MXW_LH:A\n",
      "python /home/jim/src/p39/fftanalysis/ShrakeRupelyGridvsdSASA_plot_sysparam.py --system 3PC8_A:C\n",
      "python /home/jim/src/p39/fftanalysis/ShrakeRupelyGridvsdSASA_plot_sysparam.py --system 3R9A_AC:B\n",
      "python /home/jim/src/p39/fftanalysis/ShrakeRupelyGridvsdSASA_plot_sysparam.py --system 3RVW_CD:A\n",
      "python /home/jim/src/p39/fftanalysis/ShrakeRupelyGridvsdSASA_plot_sysparam.py --system 3S9D_B:A\n",
      "python /home/jim/src/p39/fftanalysis/ShrakeRupelyGridvsdSASA_plot_sysparam.py --system 3SGB_E:I\n",
      "python /home/jim/src/p39/fftanalysis/ShrakeRupelyGridvsdSASA_plot_sysparam.py --system 3SZK_DE:F\n",
      "python /home/jim/src/p39/fftanalysis/ShrakeRupelyGridvsdSASA_plot_sysparam.py --system 3V6Z_AB:F\n",
      "python /home/jim/src/p39/fftanalysis/ShrakeRupelyGridvsdSASA_plot_sysparam.py --system 4CPA_A:I\n",
      "python /home/jim/src/p39/fftanalysis/ShrakeRupelyGridvsdSASA_plot_sysparam.py --system 4DN4_LH:M\n",
      "python /home/jim/src/p39/fftanalysis/ShrakeRupelyGridvsdSASA_plot_sysparam.py --system 4FQI_HL:ABEFCD\n",
      "python /home/jim/src/p39/fftanalysis/ShrakeRupelyGridvsdSASA_plot_sysparam.py --system 4G6J_HL:A\n",
      "python /home/jim/src/p39/fftanalysis/ShrakeRupelyGridvsdSASA_plot_sysparam.py --system 4G6M_HL:A\n",
      "python /home/jim/src/p39/fftanalysis/ShrakeRupelyGridvsdSASA_plot_sysparam.py --system 4GXU_MN:ABEFCD\n",
      "python /home/jim/src/p39/fftanalysis/ShrakeRupelyGridvsdSASA_plot_sysparam.py --system 4HX3_BD:A\n",
      "python /home/jim/src/p39/fftanalysis/ShrakeRupelyGridvsdSASA_plot_sysparam.py --system 4IZ7_A:B\n",
      "python /home/jim/src/p39/fftanalysis/ShrakeRupelyGridvsdSASA_plot_sysparam.py --system 4M76_A:B\n"
     ]
    }
   ],
   "source": [
    "f.sort()\n",
    "for dirname in f:\n",
    "    print(f\"python /home/jim/src/p39/fftanalysis/ShrakeRupelyGridvsdSASA_plot_sysparam.py --system {dirname}\")"
   ]
  },
  {
   "cell_type": "code",
   "execution_count": 8,
   "id": "2f7e2c3b-bfdd-4e99-b53a-2339c303981c",
   "metadata": {},
   "outputs": [],
   "source": [
    "# Pairwise multplication test\n",
    "# Create test cases where scores are known\n",
    "# Tests required:\n",
    "# Score of 1\n",
    "#     -A single overlap between the real part of the SASA grids\n",
    "#     -This may be a problem depending on the shape of the protein\n",
    "#     -Create a function to count the number of grid points involved in overlap\n",
    "#         this will be the same as the score\n",
    "# Series of scores:\n",
    "#     -Increasing scores along a single axis until negative\n",
    "#     -Translate along axis from side to side, build 1D slice of score function\n",
    "# Score of 0:\n",
    "#     -No overlap sanity check\n"
   ]
  },
  {
   "cell_type": "code",
   "execution_count": 9,
   "id": "39839a0f-bfff-40df-9dcf-e72140ddb5fe",
   "metadata": {},
   "outputs": [],
   "source": [
    "##Get list of complex names\n",
    "from os import walk\n",
    "import os\n",
    "\n",
    "f = []\n",
    "for root, dirs, files in walk(\"/home/jim/src/p27/FFT_PPI/2.redock/4.receptor_grid\", topdown=False):\n",
    "    for name in dirs:\n",
    "        f.append(name)\n",
    "f.sort()"
   ]
  },
  {
   "cell_type": "code",
   "execution_count": 10,
   "id": "f3608174-b8f4-435b-b6d1-f73d5e7800e0",
   "metadata": {},
   "outputs": [
    {
     "name": "stdout",
     "output_type": "stream",
     "text": [
      "2OOB_A:B\n"
     ]
    }
   ],
   "source": [
    "##Set target system TODO: This is for testing, should be automated\n",
    "system = f[127] # 127 is 200B_A:B\n",
    "print(system)"
   ]
  },
  {
   "cell_type": "code",
   "execution_count": 11,
   "id": "1852f137-16d0-467d-9af0-05c97a211c4a",
   "metadata": {},
   "outputs": [],
   "source": [
    "##Load receptor grid from disk\n",
    "import netCDF4 as nc\n",
    "import numpy as np\n",
    "\n",
    "grid_path = f'/home/jim/src/p27/FFT_PPI/2.redock/4.receptor_grid/{system}'\n",
    "grid_nc = f'{grid_path}/grid.nc'\n",
    "\n",
    "\n",
    "#parsing some of the netcdf variables from grid.nc\n",
    "grid_variables = nc.Dataset(grid_nc, 'r').variables\n",
    "counts = nc.Dataset(grid_nc, 'r').variables[\"counts\"][:]\n",
    "x = nc.Dataset(grid_nc, 'r').variables[\"x\"][:]\n",
    "y = nc.Dataset(grid_nc, 'r').variables[\"y\"][:]\n",
    "z = nc.Dataset(grid_nc, 'r').variables[\"z\"][:]\n",
    "electrostatic = nc.Dataset(grid_nc, 'r').variables[\"electrostatic\"][:]\n",
    "lja = nc.Dataset(grid_nc, 'r').variables[\"LJa\"][:]\n",
    "ljr = nc.Dataset(grid_nc, 'r').variables[\"LJr\"][:]\n",
    "SASAi = nc.Dataset(grid_nc, 'r').variables[\"SASAi\"][:]\n",
    "SASAr = nc.Dataset(grid_nc, 'r').variables[\"SASAr\"][:]\n",
    "trans_crd = nc.Dataset(grid_nc, 'r').variables[\"trans_crd\"][:]\n",
    "rec_displacement = nc.Dataset(grid_nc, 'r').variables[\"displacement\"][:]\n"
   ]
  },
  {
   "cell_type": "code",
   "execution_count": null,
   "id": "3ee3dc6f-774b-4013-9020-fd004d09a79d",
   "metadata": {},
   "outputs": [],
   "source": [
    "# Create the receptor and ligand grid objects by loading an existing grid calculation result\n",
    "\n",
    "from bpmfwfft.grids import RecGrid\n",
    "from bpmfwfft.grids import LigGrid\n",
    "\n",
    "rec_prmtop = f'/home/jim/src/p27/FFT_PPI/2.redock/1.amber/{system}/receptor.prmtop'\n",
    "lj_sigma_scal_fact = 0.8\n",
    "rec_inpcrd = f'/home/jim/src/p27/FFT_PPI/2.redock/2.minimize/{system}/receptor.inpcrd'\n",
    "\n",
    "bsite_file = None\n",
    "grid_nc_file = f'/home/jim/src/p27/FFT_PPI/2.redock/4.receptor_grid/{system}/grid.nc'\n",
    "\n",
    "lig_prmtop = f'/home/jim/src/p27/FFT_PPI/2.redock/1.amber/{system}/ligand.prmtop'\n",
    "lig_inpcrd = f'/home/jim/src/p27/FFT_PPI/2.redock/2.minimize/{system}/ligand.inpcrd'\n",
    "\n",
    "\n",
    "\n",
    "def _create_rec_grid(rec_prmtop, lj_sigma_scal_fact, rec_inpcrd, bsite_file, grid_nc_file):\n",
    "    rec_grid = RecGrid(rec_prmtop, lj_sigma_scal_fact, rec_inpcrd, bsite_file, \n",
    "                        grid_nc_file, new_calculation=False)\n",
    "    return rec_grid\n",
    "\n",
    "def _create_lig_grid(lig_prmtop, lj_sigma_scal_fact, lig_inpcrd, rec_grid):\n",
    "    lig_grid = LigGrid(lig_prmtop, lj_sigma_scal_fact, lig_inpcrd, rec_grid)\n",
    "    return lig_grid\n",
    "\n",
    "rec_grid = _create_rec_grid(rec_prmtop, lj_sigma_scal_fact, rec_inpcrd, bsite_file, grid_nc_file)\n",
    "\n",
    "lig_grid = _create_lig_grid(lig_prmtop, lj_sigma_scal_fact, lig_inpcrd, rec_grid)"
   ]
  },
  {
   "cell_type": "code",
   "execution_count": 6,
   "id": "5b226b89-f80c-4258-86e5-752de4cf144c",
   "metadata": {},
   "outputs": [],
   "source": [
    "# Translate Ligand to crystal pose before calculation\n",
    "diff_vector = rec_displacement-lig_grid._displacement\n",
    "displacement = np.array(diff_vector)\n",
    "lig_grid.translate_ligand(displacement)"
   ]
  },
  {
   "cell_type": "code",
   "execution_count": 13,
   "id": "1fa715a5-016e-46ed-bbb7-46fbd5edf2c3",
   "metadata": {},
   "outputs": [
    {
     "name": "stdout",
     "output_type": "stream",
     "text": [
      "[ 6 40 19]\n",
      "9179\n"
     ]
    }
   ],
   "source": [
    "#Calculate Ligand SASAi and SASAr grids\n",
    "\n",
    "grid_x = np.linspace(\n",
    "        lig_grid._origin_crd[0],\n",
    "        lig_grid._origin_crd[0] + ((lig_grid._grid[\"counts\"][0]-1) * lig_grid._grid[\"spacing\"][0]),\n",
    "        num=lig_grid._grid[\"counts\"][0]\n",
    "    )\n",
    "grid_y = np.linspace(\n",
    "    lig_grid._origin_crd[1],\n",
    "    lig_grid._origin_crd[1] + ((lig_grid._grid[\"counts\"][1] - 1) * lig_grid._grid[\"spacing\"][1]),\n",
    "    num=lig_grid._grid[\"counts\"][1]\n",
    ")\n",
    "grid_z = np.linspace(\n",
    "    lig_grid._origin_crd[2],\n",
    "    lig_grid._origin_crd[2] + ((lig_grid._grid[\"counts\"][2] - 1) * lig_grid._grid[\"spacing\"][2]),\n",
    "    num=lig_grid._grid[\"counts\"][2]\n",
    ")\n",
    "\n",
    "uper_most_corner_crd = lig_grid._origin_crd + (lig_grid._grid[\"counts\"] - 1.) * lig_grid._grid[\"spacing\"]\n",
    "uper_most_corner = (lig_grid._grid[\"counts\"] - 1)\n",
    "\n",
    "lig_SASAi_grid, lig_SASAr_grid = lig_grid.get_SASA_grids(\"SASAi\", lig_grid._crd,\n",
    "                                         grid_x, grid_y, grid_z, \n",
    "                                         lig_grid._origin_crd, uper_most_corner_crd, uper_most_corner, \n",
    "                       lig_grid._grid[\"spacing\"], lig_grid._eight_corner_shifts, lig_grid._six_corner_shifts,\n",
    "                       lig_grid._nearest_neighbor_shifts, lig_grid._grid[\"counts\"], lig_grid._get_charges(\"SASAi\"),\n",
    "                       lig_grid._prmtop[\"LJ_SIGMA\"], lig_grid._molecule_sasa)"
   ]
  },
  {
   "cell_type": "code",
   "execution_count": 14,
   "id": "77c6fed6-504e-4fe9-97f9-56e636aec813",
   "metadata": {},
   "outputs": [],
   "source": [
    "### Construct complex SASA grids\n",
    "rec_sasa_grid = np.add(SASAr, SASAi*1.j)\n",
    "lig_sasa_grid = np.add(lig_SASAr_grid, lig_SASAi_grid*1.j)\n"
   ]
  },
  {
   "cell_type": "code",
   "execution_count": 17,
   "id": "d59f5197-14c5-44b5-b698-aa0d7c3a334c",
   "metadata": {},
   "outputs": [],
   "source": [
    "# Find the last index in Ligand with value of 1+0.j\n",
    "# Find the first index in Receptor with value of 1+0.j\n",
    "target = 1. + 0.j\n",
    "lig_last_index = np.array(np.where(lig_sasa_grid == target)).transpose()[-1]\n",
    "rec_first_index = np.array(np.where(rec_sasa_grid == target)).transpose()[0]\n"
   ]
  },
  {
   "cell_type": "code",
   "execution_count": 23,
   "id": "b0350f73-53e2-4cb2-b443-367fcce18aaa",
   "metadata": {},
   "outputs": [
    {
     "name": "stdout",
     "output_type": "stream",
     "text": [
      "[-13 117  36]\n"
     ]
    }
   ],
   "source": [
    "print(rec_first_index-lig_last_index)"
   ]
  },
  {
   "cell_type": "code",
   "execution_count": 19,
   "id": "1607a33b-4ab5-4d4f-951e-0313fc3536ba",
   "metadata": {},
   "outputs": [
    {
     "name": "stdout",
     "output_type": "stream",
     "text": [
      "[ 62 127  77]\n"
     ]
    }
   ],
   "source": [
    "print(rec_first_index)"
   ]
  },
  {
   "cell_type": "code",
   "execution_count": 13,
   "id": "8e8cf1cf-b0f5-4775-9719-0ce254085776",
   "metadata": {},
   "outputs": [],
   "source": [
    "import numpy as np\n",
    "grid1 = np.array([[[1,1,1],[1,1,1],[1,1,1]],[[1,1,1],[0,0,0],[1,1,1]],[[1,1,1],[1,1,1],[1,1,1]]])\n",
    "grid2 = np.array([[[0,0,0],[0,0,0],[0,0,0]],[[0,0,0],[9,9,9],[0,0,0]],[[0,0,0],[0,0,0],[0,0,0]]])\n",
    "complex_grid = np.add(grid1, grid2*1.j)\n",
    "pairwise = np.multiply(complex_grid, complex_grid)"
   ]
  },
  {
   "cell_type": "code",
   "execution_count": 21,
   "id": "301b9545-c170-4236-bde3-11d425c585b1",
   "metadata": {},
   "outputs": [
    {
     "name": "stdout",
     "output_type": "stream",
     "text": [
      "Pairwise multiplication score: (-219+0j)\n"
     ]
    }
   ],
   "source": [
    "print(\"Pairwise multiplication score:\", pairwise.sum())"
   ]
  },
  {
   "cell_type": "code",
   "execution_count": 20,
   "id": "67ae376f-86d3-4934-aef3-2e2b7d0d3dee",
   "metadata": {},
   "outputs": [
    {
     "name": "stdout",
     "output_type": "stream",
     "text": [
      "FFT convolution theorem score: 0j\n"
     ]
    }
   ],
   "source": [
    "fft = np.fft.fftn(grid1*grid2.conjugate())\n",
    "corr_func = np.fft.ifftn(fft)\n",
    "print(\"complex FFT convolution theorem score:\", corr_func[0][0][0])"
   ]
  },
  {
   "cell_type": "code",
   "execution_count": 22,
   "id": "c4dc710b-2ce2-4ac7-aa02-48c39dd84dd6",
   "metadata": {},
   "outputs": [
    {
     "name": "stdout",
     "output_type": "stream",
     "text": [
      "Alternate FFT convolution theorem score: (-218.99999999999991+9.473903143468002e-15j)\n"
     ]
    }
   ],
   "source": [
    "fft_real = np.fft.fftn(grid1)\n",
    "fft_imag = np.fft.fftn(grid2*1.j)\n",
    "fft_rr = fft_real*fft_real.conjugate() \n",
    "fft_ri = fft_real*fft_imag.conjugate()\n",
    "fft_ir = fft_imag*fft_real.conjugate()\n",
    "fft_ii = fft_imag*fft_imag.conjugate()\n",
    "\n",
    "# (fft_real + fft_imag)(fft_real - fft_imag) = fft_rr - fft_ri + fft_ir - fft_ii\n",
    "\n",
    "corr_func_parts = np.fft.ifftn(fft_rr - fft_ri + fft_ir - fft_ii)\n",
    "print(\"Alternate FFT convolution theorem score:\", corr_func_parts[0][0][0])"
   ]
  },
  {
   "cell_type": "code",
   "execution_count": null,
   "id": "aa0c49c6-462d-47fa-a8a2-72bc2b1a9841",
   "metadata": {},
   "outputs": [],
   "source": []
  }
 ],
 "metadata": {
  "kernelspec": {
   "display_name": "Python 3",
   "language": "python",
   "name": "python3"
  },
  "language_info": {
   "codemirror_mode": {
    "name": "ipython",
    "version": 3
   },
   "file_extension": ".py",
   "mimetype": "text/x-python",
   "name": "python",
   "nbconvert_exporter": "python",
   "pygments_lexer": "ipython3",
   "version": "3.9.4"
  }
 },
 "nbformat": 4,
 "nbformat_minor": 5
}
