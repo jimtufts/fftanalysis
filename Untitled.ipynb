{
 "cells": [
  {
   "cell_type": "code",
   "execution_count": 4,
   "id": "80494f26-c80c-4a89-a034-5ee987599c44",
   "metadata": {},
   "outputs": [],
   "source": [
    "import os\n",
    "import glob\n",
    "\n",
    "# os.chdir('/home/ssuthaha/Project_01_ERalpha/1GWR-Ligands')\n",
    "ligands = glob.glob('001.structure/Ligands/agonist_bla/*.mol2')\n",
    "\n",
    "path = '/home/ssuthaha/Project_01_ERalpha/1GWR-Ligands/'\n",
    "if os.path.isdir('005.dock') == False:\n",
    "        os.mkdir('005.dock')\n",
    "full_p_sphere = path + '002.surface_spheres/selected_spheres.sph'\n",
    "\n",
    "for lig in ligands:\n",
    "    if os.path.isdir(f'005.dock/{lig[34:39]}') == False:\n",
    "        os.mkdir(f'005.dock/{lig[34:39]}')\n",
    "    full_p_lig = path + lig\n",
    "    out_name = path + f'005.dock/{lig[34:39]}/anchor_and_grow'\n",
    "    grid = path + f'003.gridbox/grid'\n",
    "    slurm_script = f'''\n",
    "[PARAMETERS GO HERE, I removed them due to size]\n",
    "F = open(f'005.dock/{lig[34:37]}/anchor_and_grow.in', 'w')\n",
    "        F.write(slurm_script)\n",
    "        F.close()\n",
    "        slurm_script1 = f'''#!/bin/bash\n",
    "#PBS -S /bin/bash\n",
    "#PBS -o /home/ssuthaha/Project_01_ERalpha/1GWR-Ligands/005.dock/{lig[34:39]}/{lig[34:39]}.log\n",
    "#PBS -j oe\n",
    "#PBS -l nodes=1:ppn=1,mem=5gb,walltime=100:00:00\n",
    "\n",
    "# module load miniconda/3\n",
    "# source activate bayes\n",
    "# date\n",
    "# free -h\n",
    "# cd /home/ssuthaha/Project_01_ERalpha/1GWR-Ligands/005.dock/{lig[34:39]}\n",
    "# dock6 -i anchor_and_grow.in'''\n",
    "#         print(slurm_script1)\n",
    "#         F1 = open(f'005.dock/{lig[34:39]}/{lig[34:39]}.job', 'w')\n",
    "#         F1.write(slurm_script1)\n",
    "#         F1.close()\n",
    "#         os.system(f'qsub 005.dock/{lig[34:39]}/{lig[34:39]}.job')\n"
   ]
  },
  {
   "cell_type": "code",
   "execution_count": null,
   "id": "162ed82d-c1e4-4695-8224-a2482705065b",
   "metadata": {},
   "outputs": [],
   "source": []
  }
 ],
 "metadata": {
  "kernelspec": {
   "display_name": "Python 3 (ipykernel)",
   "language": "python",
   "name": "python3"
  },
  "language_info": {
   "codemirror_mode": {
    "name": "ipython",
    "version": 3
   },
   "file_extension": ".py",
   "mimetype": "text/x-python",
   "name": "python",
   "nbconvert_exporter": "python",
   "pygments_lexer": "ipython3",
   "version": "3.9.6"
  }
 },
 "nbformat": 4,
 "nbformat_minor": 5
}
