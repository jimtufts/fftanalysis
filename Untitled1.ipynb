{
 "cells": [
  {
   "cell_type": "code",
   "execution_count": 41,
   "id": "39be2a3c-0acb-4522-84c1-7cc06712bce4",
   "metadata": {},
   "outputs": [],
   "source": [
    "import numpy as np"
   ]
  },
  {
   "cell_type": "code",
   "execution_count": 60,
   "id": "fb18b006-21a9-411e-9e32-163e1511f535",
   "metadata": {},
   "outputs": [],
   "source": [
    "test = np.linspace(0,2,3)\n",
    "zeros = np.zeros((3,3))"
   ]
  },
  {
   "cell_type": "code",
   "execution_count": 61,
   "id": "0725cf75-93d2-49a7-8eab-a39158b22a6c",
   "metadata": {},
   "outputs": [
    {
     "name": "stdout",
     "output_type": "stream",
     "text": [
      "[0. 1. 2.]\n",
      "[[0. 0. 0.]\n",
      " [0. 0. 0.]\n",
      " [0. 0. 0.]]\n"
     ]
    }
   ],
   "source": [
    "print(test)\n",
    "print(zeros)"
   ]
  },
  {
   "cell_type": "code",
   "execution_count": 62,
   "id": "a775bf30-9a98-4988-ba2d-a992cb76f3b8",
   "metadata": {},
   "outputs": [],
   "source": [
    "test = np.stack([test,test+3,test+6])"
   ]
  },
  {
   "cell_type": "code",
   "execution_count": 63,
   "id": "ca92199b-8f53-4142-8797-292c061455e2",
   "metadata": {},
   "outputs": [],
   "source": [
    "# test = np.stack([test,test+9,test+18])\n",
    "test = np.stack([zeros,test+9,zeros])"
   ]
  },
  {
   "cell_type": "code",
   "execution_count": 64,
   "id": "dc014fa6-85d2-413b-8887-c868992a5801",
   "metadata": {},
   "outputs": [
    {
     "name": "stdout",
     "output_type": "stream",
     "text": [
      "[[[ 0.  0.  0.]\n",
      "  [ 0.  0.  0.]\n",
      "  [ 0.  0.  0.]]\n",
      "\n",
      " [[ 9. 10. 11.]\n",
      "  [12. 13. 14.]\n",
      "  [15. 16. 17.]]\n",
      "\n",
      " [[ 0.  0.  0.]\n",
      "  [ 0.  0.  0.]\n",
      "  [ 0.  0.  0.]]]\n"
     ]
    }
   ],
   "source": [
    "print(test)"
   ]
  },
  {
   "cell_type": "code",
   "execution_count": 96,
   "id": "fea82c7e-a585-40f9-9cda-219c75f86042",
   "metadata": {},
   "outputs": [],
   "source": [
    "center = np.stack([zeros,zeros,zeros])\n",
    "center[0][0][0] = 1."
   ]
  },
  {
   "cell_type": "code",
   "execution_count": 97,
   "id": "7b855f3b-6061-44d8-a181-3e781ea0e111",
   "metadata": {},
   "outputs": [
    {
     "name": "stdout",
     "output_type": "stream",
     "text": [
      "[[[1. 0. 0.]\n",
      "  [0. 0. 0.]\n",
      "  [0. 0. 0.]]\n",
      "\n",
      " [[0. 0. 0.]\n",
      "  [0. 0. 0.]\n",
      "  [0. 0. 0.]]\n",
      "\n",
      " [[0. 0. 0.]\n",
      "  [0. 0. 0.]\n",
      "  [0. 0. 0.]]]\n"
     ]
    }
   ],
   "source": [
    "print(center)"
   ]
  },
  {
   "cell_type": "code",
   "execution_count": 98,
   "id": "de121862-9793-44e5-8797-42787b42d6e2",
   "metadata": {},
   "outputs": [],
   "source": [
    "translated = np.concatenate((center[:1][:1][:1], center[:-1][:][:]))"
   ]
  },
  {
   "cell_type": "code",
   "execution_count": 128,
   "id": "a72876b2-0a19-429f-99c8-2a9d3db83eaa",
   "metadata": {},
   "outputs": [],
   "source": [
    "def translate_grid(grid, displacement):\n",
    "    x,y,z = displacement\n",
    "    grid = np.roll(grid,x,axis=0)\n",
    "    grid = np.roll(grid,y,axis=1)\n",
    "    grid = np.roll(grid,z,axis=2)\n",
    "    return grid"
   ]
  },
  {
   "cell_type": "code",
   "execution_count": 132,
   "id": "7a307bf4-4b34-4104-9f46-ea0ca4c74346",
   "metadata": {},
   "outputs": [
    {
     "name": "stdout",
     "output_type": "stream",
     "text": [
      "[[[0. 0. 0.]\n",
      "  [0. 0. 0.]\n",
      "  [0. 0. 0.]]\n",
      "\n",
      " [[0. 0. 0.]\n",
      "  [0. 0. 0.]\n",
      "  [0. 0. 0.]]\n",
      "\n",
      " [[1. 0. 0.]\n",
      "  [0. 0. 0.]\n",
      "  [0. 0. 0.]]]\n"
     ]
    }
   ],
   "source": [
    "print(translate_grid(center,[2,0,0]))"
   ]
  },
  {
   "cell_type": "markdown",
   "id": "150ad19e-3060-4511-87b1-fa7980762c40",
   "metadata": {
    "tags": []
   },
   "source": []
  },
  {
   "cell_type": "code",
   "execution_count": null,
   "id": "fe86f4a7-d0f5-4131-b0b2-ddb5cb004c8d",
   "metadata": {},
   "outputs": [],
   "source": []
  }
 ],
 "metadata": {
  "kernelspec": {
   "display_name": "Python 3 (ipykernel)",
   "language": "python",
   "name": "python3"
  },
  "language_info": {
   "codemirror_mode": {
    "name": "ipython",
    "version": 3
   },
   "file_extension": ".py",
   "mimetype": "text/x-python",
   "name": "python",
   "nbconvert_exporter": "python",
   "pygments_lexer": "ipython3",
   "version": "3.9.6"
  }
 },
 "nbformat": 4,
 "nbformat_minor": 5
}
