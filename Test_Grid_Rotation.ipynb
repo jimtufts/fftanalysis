{
 "cells": [
  {
   "cell_type": "code",
   "execution_count": 6,
   "id": "1fa2303e-ceb8-4812-b1ca-95c75b5a9b49",
   "metadata": {},
   "outputs": [
    {
     "ename": "IndexError",
     "evalue": "index 11 is out of bounds for axis 0 with size 3",
     "output_type": "error",
     "traceback": [
      "\u001b[0;31m---------------------------------------------------------------------------\u001b[0m",
      "\u001b[0;31mIndexError\u001b[0m                                Traceback (most recent call last)",
      "\u001b[0;32m<ipython-input-6-ce53c577744c>\u001b[0m in \u001b[0;36m<module>\u001b[0;34m\u001b[0m\n\u001b[1;32m     39\u001b[0m \u001b[0;31m# Convert rotated indices back to original indices using inverse rotation\u001b[0m\u001b[0;34m\u001b[0m\u001b[0;34m\u001b[0m\u001b[0;34m\u001b[0m\u001b[0m\n\u001b[1;32m     40\u001b[0m \u001b[0minverse_indices\u001b[0m \u001b[0;34m=\u001b[0m \u001b[0mnp\u001b[0m\u001b[0;34m.\u001b[0m\u001b[0mround\u001b[0m\u001b[0;34m(\u001b[0m\u001b[0mnp\u001b[0m\u001b[0;34m.\u001b[0m\u001b[0mdot\u001b[0m\u001b[0;34m(\u001b[0m\u001b[0minverse_rotation\u001b[0m\u001b[0;34m,\u001b[0m \u001b[0mnp\u001b[0m\u001b[0;34m.\u001b[0m\u001b[0marray\u001b[0m\u001b[0;34m(\u001b[0m\u001b[0mrotated_indices\u001b[0m\u001b[0;34m)\u001b[0m \u001b[0;34m+\u001b[0m \u001b[0;36m0.5\u001b[0m\u001b[0;34m)\u001b[0m\u001b[0;34m)\u001b[0m\u001b[0;34m.\u001b[0m\u001b[0mastype\u001b[0m\u001b[0;34m(\u001b[0m\u001b[0mint\u001b[0m\u001b[0;34m)\u001b[0m\u001b[0;34m\u001b[0m\u001b[0;34m\u001b[0m\u001b[0m\n\u001b[0;32m---> 41\u001b[0;31m \u001b[0minverse_value\u001b[0m \u001b[0;34m=\u001b[0m \u001b[0marr\u001b[0m\u001b[0;34m[\u001b[0m\u001b[0minverse_indices\u001b[0m\u001b[0;34m]\u001b[0m\u001b[0;34m\u001b[0m\u001b[0;34m\u001b[0m\u001b[0m\n\u001b[0m\u001b[1;32m     42\u001b[0m \u001b[0;34m\u001b[0m\u001b[0m\n\u001b[1;32m     43\u001b[0m \u001b[0mprint\u001b[0m\u001b[0;34m(\u001b[0m\u001b[0;34m\"Original Array:\"\u001b[0m\u001b[0;34m)\u001b[0m\u001b[0;34m\u001b[0m\u001b[0;34m\u001b[0m\u001b[0m\n",
      "\u001b[0;31mIndexError\u001b[0m: index 11 is out of bounds for axis 0 with size 3"
     ]
    }
   ],
   "source": [
    "import numpy as np\n",
    "\n",
    "def rotate_3d_array(array, direction):\n",
    "    \"\"\"\n",
    "    Rotate a 3D NumPy array in 90-degree increments in the specified direction.\n",
    "    \n",
    "    Args:\n",
    "        array (ndarray): The input 3D NumPy array.\n",
    "        direction (str): The rotation direction. Options: 'x', 'y', 'z' for axis rotation.\n",
    "    \n",
    "    Returns:\n",
    "        ndarray: The rotated 3D NumPy array.\n",
    "        ndarray: The inverse rotation matrix to convert rotated indices back to original indices.\n",
    "    \"\"\"\n",
    "    if direction == 'x':\n",
    "        rotated_array = np.rot90(array, k=1, axes=(1, 2))\n",
    "        inverse_rotation = np.rot90(rotated_array, k=-1, axes=(1, 2))\n",
    "    elif direction == 'y':\n",
    "        rotated_array = np.rot90(array, k=1, axes=(0, 2))\n",
    "        inverse_rotation = np.rot90(rotated_array, k=-1, axes=(0, 2))\n",
    "    elif direction == 'z':\n",
    "        rotated_array = np.rot90(array, k=1, axes=(0, 1))\n",
    "        inverse_rotation = np.rot90(rotated_array, k=-1, axes=(0, 1))\n",
    "    else:\n",
    "        raise ValueError(\"Invalid rotation direction. Please use 'x', 'y', or 'z'.\")\n",
    "    \n",
    "    return rotated_array, inverse_rotation\n",
    "\n",
    "# Create a sample 3D array\n",
    "arr = np.arange(1, 28).reshape(3, 3, 3)\n",
    "\n",
    "# Rotate the array in a specific direction\n",
    "rotated_array, inverse_rotation = rotate_3d_array(arr, 'x')\n",
    "\n",
    "# Perform some operations on the rotated array\n",
    "rotated_indices = (1, 2, 1)  # Example rotated indices\n",
    "rotated_value = rotated_array[rotated_indices]\n",
    "\n",
    "# Convert rotated indices back to original indices using inverse rotation\n",
    "inverse_indices = np.round(np.dot(inverse_rotation, np.array(rotated_indices) + 0.5)).astype(int)\n",
    "inverse_value = arr[inverse_indices]\n",
    "\n",
    "print(\"Original Array:\")\n",
    "print(arr)\n",
    "\n",
    "print(\"Rotated Array:\")\n",
    "print(rotated_array)\n",
    "\n",
    "print(\"Rotated Indices:\", rotated_indices)\n",
    "print(\"Rotated Value:\", rotated_value)\n",
    "\n",
    "print(\"Inverse Indices:\", inverse_indices)\n",
    "print(\"Inverse Value:\", inverse_value)\n"
   ]
  },
  {
   "cell_type": "code",
   "execution_count": 3,
   "id": "933841e5-8070-46ac-a0c4-b0c6d7f7c6ec",
   "metadata": {},
   "outputs": [
    {
     "data": {
      "text/plain": [
       "array([[[ 3,  6,  9],\n",
       "        [ 2,  5,  8],\n",
       "        [ 1,  4,  7]],\n",
       "\n",
       "       [[12, 15, 18],\n",
       "        [11, 14, 17],\n",
       "        [10, 13, 16]],\n",
       "\n",
       "       [[21, 24, 27],\n",
       "        [20, 23, 26],\n",
       "        [19, 22, 25]]])"
      ]
     },
     "execution_count": 3,
     "metadata": {},
     "output_type": "execute_result"
    }
   ],
   "source": []
  },
  {
   "cell_type": "code",
   "execution_count": null,
   "id": "b9da08fd-2b6a-4d1e-a4d9-cc88b6d409a7",
   "metadata": {},
   "outputs": [],
   "source": []
  }
 ],
 "metadata": {
  "kernelspec": {
   "display_name": "Python 3",
   "language": "python",
   "name": "python3"
  },
  "language_info": {
   "codemirror_mode": {
    "name": "ipython",
    "version": 3
   },
   "file_extension": ".py",
   "mimetype": "text/x-python",
   "name": "python",
   "nbconvert_exporter": "python",
   "pygments_lexer": "ipython3",
   "version": "3.9.4"
  }
 },
 "nbformat": 4,
 "nbformat_minor": 5
}
