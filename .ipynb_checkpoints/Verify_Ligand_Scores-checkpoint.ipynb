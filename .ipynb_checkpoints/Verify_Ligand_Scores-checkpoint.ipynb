{
 "cells": [
  {
   "cell_type": "code",
   "execution_count": 1,
   "id": "82c2a749-00cf-495c-9b90-6f1b3cce89d6",
   "metadata": {},
   "outputs": [],
   "source": [
    "import mdtraj as md\n",
    "import bpmfwfft.grids as grids\n",
    "import numpy as np"
   ]
  },
  {
   "cell_type": "code",
   "execution_count": 2,
   "id": "604cc001-c83c-4854-aae4-8e7029a5c28a",
   "metadata": {},
   "outputs": [],
   "source": [
    "from os import walk"
   ]
  },
  {
   "cell_type": "code",
   "execution_count": 3,
   "id": "2619c466-19c2-491c-8b77-b2f3a709387c",
   "metadata": {},
   "outputs": [],
   "source": [
    "f = {}\n",
    "for (dirpath, dirnames, filenames) in walk('/home/jtufts/Desktop/FFT_PPI/2.redock/2.minimize'):\n",
    "    if filenames[0] != 'run_me.sh':\n",
    "        if 'complex.pdb' in filenames:\n",
    "            f[dirpath.split('/')[7]] = dirpath + '/complex.pdb'"
   ]
  },
  {
   "cell_type": "code",
   "execution_count": 4,
   "id": "aabee536-3322-43d3-a76a-799dd58e693d",
   "metadata": {},
   "outputs": [],
   "source": [
    "import netCDF4 as nc\n",
    "import numpy as np\n",
    "\n",
    "grid_path = '/home/jtufts/Desktop/FFT_PPI/2.redock/4.receptor_grid/2OOB_A:B'\n",
    "grid_nc = '%s/grid.nc'%grid_path\n",
    "\n",
    "\n",
    "#parsing some of the netcdf variables from grid.nc\n",
    "grid_variables = nc.Dataset(grid_nc, 'r').variables\n",
    "counts = nc.Dataset(grid_nc, 'r').variables[\"counts\"][:]\n",
    "x = nc.Dataset(grid_nc, 'r').variables[\"x\"][:]\n",
    "y = nc.Dataset(grid_nc, 'r').variables[\"y\"][:]\n",
    "z = nc.Dataset(grid_nc, 'r').variables[\"z\"][:]\n",
    "electrostatic = nc.Dataset(grid_nc, 'r').variables[\"electrostatic\"][:]\n",
    "lja = nc.Dataset(grid_nc, 'r').variables[\"LJa\"][:]\n",
    "ljr = nc.Dataset(grid_nc, 'r').variables[\"LJr\"][:]\n",
    "sasai = nc.Dataset(grid_nc, 'r').variables[\"SASAi\"][:]\n",
    "sasar = nc.Dataset(grid_nc, 'r').variables[\"SASAr\"][:]\n",
    "trans_crd = nc.Dataset(grid_nc, 'r').variables[\"trans_crd\"][:]"
   ]
  },
  {
   "cell_type": "code",
   "execution_count": 5,
   "id": "9e383ab4-a1a2-4421-8ad8-bde31b48dabf",
   "metadata": {},
   "outputs": [
    {
     "name": "stdout",
     "output_type": "stream",
     "text": [
      "/home/jtufts/src/p39/fftanalysis\n",
      "[1.]\n",
      "/home/jtufts/Desktop/FFT_PPI/2.redock/4.receptor_grid/2OOB_A:B/grid.nc\n",
      "[  0.    0.5   1.    1.5   2.    2.5   3.    3.5   4.    4.5   5.    5.5\n",
      "   6.    6.5   7.    7.5   8.    8.5   9.    9.5  10.   10.5  11.   11.5\n",
      "  12.   12.5  13.   13.5  14.   14.5  15.   15.5  16.   16.5  17.   17.5\n",
      "  18.   18.5  19.   19.5  20.   20.5  21.   21.5  22.   22.5  23.   23.5\n",
      "  24.   24.5  25.   25.5  26.   26.5  27.   27.5  28.   28.5  29.   29.5\n",
      "  30.   30.5  31.   31.5  32.   32.5  33.   33.5  34.   34.5  35.   35.5\n",
      "  36.   36.5  37.   37.5  38.   38.5  39.   39.5  40.   40.5  41.   41.5\n",
      "  42.   42.5  43.   43.5  44.   44.5  45.   45.5  46.   46.5  47.   47.5\n",
      "  48.   48.5  49.   49.5  50.   50.5  51.   51.5  52.   52.5  53.   53.5\n",
      "  54.   54.5  55.   55.5  56.   56.5  57.   57.5  58.   58.5  59.   59.5\n",
      "  60.   60.5  61.   61.5  62.   62.5  63.   63.5  64.   64.5  65.   65.5\n",
      "  66.   66.5  67.   67.5  68.   68.5  69.   69.5  70.   70.5  71.   71.5\n",
      "  72.   72.5  73.   73.5  74.   74.5  75.   75.5  76.   76.5  77.   77.5\n",
      "  78.   78.5  79.   79.5  80.   80.5  81.   81.5  82.   82.5  83.   83.5\n",
      "  84.   84.5  85.   85.5  86.   86.5  87.   87.5  88.   88.5  89.   89.5\n",
      "  90.   90.5  91.   91.5  92.   92.5  93.   93.5  94.   94.5  95.   95.5\n",
      "  96.   96.5  97.   97.5  98.   98.5  99.   99.5 100.  100.5 101.  101.5\n",
      " 102.  102.5 103.  103.5 104.  104.5 105.  105.5 106.  106.5 107. ]\n",
      "[  0.    0.5   1.    1.5   2.    2.5   3.    3.5   4.    4.5   5.    5.5\n",
      "   6.    6.5   7.    7.5   8.    8.5   9.    9.5  10.   10.5  11.   11.5\n",
      "  12.   12.5  13.   13.5  14.   14.5  15.   15.5  16.   16.5  17.   17.5\n",
      "  18.   18.5  19.   19.5  20.   20.5  21.   21.5  22.   22.5  23.   23.5\n",
      "  24.   24.5  25.   25.5  26.   26.5  27.   27.5  28.   28.5  29.   29.5\n",
      "  30.   30.5  31.   31.5  32.   32.5  33.   33.5  34.   34.5  35.   35.5\n",
      "  36.   36.5  37.   37.5  38.   38.5  39.   39.5  40.   40.5  41.   41.5\n",
      "  42.   42.5  43.   43.5  44.   44.5  45.   45.5  46.   46.5  47.   47.5\n",
      "  48.   48.5  49.   49.5  50.   50.5  51.   51.5  52.   52.5  53.   53.5\n",
      "  54.   54.5  55.   55.5  56.   56.5  57.   57.5  58.   58.5  59.   59.5\n",
      "  60.   60.5  61.   61.5  62.   62.5  63.   63.5  64.   64.5  65.   65.5\n",
      "  66.   66.5  67.   67.5  68.   68.5  69.   69.5  70.   70.5  71.   71.5\n",
      "  72.   72.5  73.   73.5  74.   74.5  75.   75.5  76.   76.5  77.   77.5\n",
      "  78.   78.5  79.   79.5  80.   80.5  81.   81.5  82.   82.5  83.   83.5\n",
      "  84.   84.5  85.   85.5  86.   86.5  87.   87.5  88.   88.5  89.   89.5\n",
      "  90.   90.5  91.   91.5  92.   92.5  93.   93.5  94.   94.5  95.   95.5\n",
      "  96.   96.5  97.   97.5  98.   98.5  99.   99.5 100.  100.5 101.  101.5\n",
      " 102.  102.5 103.  103.5 104.  104.5 105.  105.5 106.  106.5 107. ]\n",
      "[  0.    0.5   1.    1.5   2.    2.5   3.    3.5   4.    4.5   5.    5.5\n",
      "   6.    6.5   7.    7.5   8.    8.5   9.    9.5  10.   10.5  11.   11.5\n",
      "  12.   12.5  13.   13.5  14.   14.5  15.   15.5  16.   16.5  17.   17.5\n",
      "  18.   18.5  19.   19.5  20.   20.5  21.   21.5  22.   22.5  23.   23.5\n",
      "  24.   24.5  25.   25.5  26.   26.5  27.   27.5  28.   28.5  29.   29.5\n",
      "  30.   30.5  31.   31.5  32.   32.5  33.   33.5  34.   34.5  35.   35.5\n",
      "  36.   36.5  37.   37.5  38.   38.5  39.   39.5  40.   40.5  41.   41.5\n",
      "  42.   42.5  43.   43.5  44.   44.5  45.   45.5  46.   46.5  47.   47.5\n",
      "  48.   48.5  49.   49.5  50.   50.5  51.   51.5  52.   52.5  53.   53.5\n",
      "  54.   54.5  55.   55.5  56.   56.5  57.   57.5  58.   58.5  59.   59.5\n",
      "  60.   60.5  61.   61.5  62.   62.5  63.   63.5  64.   64.5  65.   65.5\n",
      "  66.   66.5  67.   67.5  68.   68.5  69.   69.5  70.   70.5  71.   71.5\n",
      "  72.   72.5  73.   73.5  74.   74.5  75.   75.5  76.   76.5  77.   77.5\n",
      "  78.   78.5  79.   79.5  80.   80.5  81.   81.5  82.   82.5  83.   83.5\n",
      "  84.   84.5  85.   85.5  86.   86.5  87.   87.5  88.   88.5  89.   89.5\n",
      "  90.   90.5  91.   91.5  92.   92.5  93.   93.5  94.   94.5  95.   95.5\n",
      "  96.   96.5  97.   97.5  98.   98.5  99.   99.5 100.  100.5 101.  101.5\n",
      " 102.  102.5 103.  103.5 104.  104.5 105.  105.5 106.  106.5 107. ]\n",
      "[0.5 0.  0. ]\n",
      "[0.  0.5 0. ]\n",
      "[0.  0.  0.5]\n",
      "[0.5 0.5 0.5]\n",
      "[215 215 215]\n",
      "[0. 0. 0.]\n",
      "[1.]\n",
      "[0.76]\n",
      "[0.53]\n",
      "[0.55]\n",
      "Doing FFT for electrostatic\n",
      "Doing FFT for LJr\n",
      "Doing FFT for LJa\n",
      "Doing FFT for SASA\n",
      "Copy entries from receptor_grid ['lj_sigma_scaling_factor', 'x', 'y', 'z', 'd0', 'd1', 'd2', 'spacing', 'counts', 'origin', 'rec_core_scaling', 'rec_surface_scaling', 'rec_metal_scaling']\n",
      "[1.]\n",
      "[  0.    0.5   1.    1.5   2.    2.5   3.    3.5   4.    4.5   5.    5.5\n",
      "   6.    6.5   7.    7.5   8.    8.5   9.    9.5  10.   10.5  11.   11.5\n",
      "  12.   12.5  13.   13.5  14.   14.5  15.   15.5  16.   16.5  17.   17.5\n",
      "  18.   18.5  19.   19.5  20.   20.5  21.   21.5  22.   22.5  23.   23.5\n",
      "  24.   24.5  25.   25.5  26.   26.5  27.   27.5  28.   28.5  29.   29.5\n",
      "  30.   30.5  31.   31.5  32.   32.5  33.   33.5  34.   34.5  35.   35.5\n",
      "  36.   36.5  37.   37.5  38.   38.5  39.   39.5  40.   40.5  41.   41.5\n",
      "  42.   42.5  43.   43.5  44.   44.5  45.   45.5  46.   46.5  47.   47.5\n",
      "  48.   48.5  49.   49.5  50.   50.5  51.   51.5  52.   52.5  53.   53.5\n",
      "  54.   54.5  55.   55.5  56.   56.5  57.   57.5  58.   58.5  59.   59.5\n",
      "  60.   60.5  61.   61.5  62.   62.5  63.   63.5  64.   64.5  65.   65.5\n",
      "  66.   66.5  67.   67.5  68.   68.5  69.   69.5  70.   70.5  71.   71.5\n",
      "  72.   72.5  73.   73.5  74.   74.5  75.   75.5  76.   76.5  77.   77.5\n",
      "  78.   78.5  79.   79.5  80.   80.5  81.   81.5  82.   82.5  83.   83.5\n",
      "  84.   84.5  85.   85.5  86.   86.5  87.   87.5  88.   88.5  89.   89.5\n",
      "  90.   90.5  91.   91.5  92.   92.5  93.   93.5  94.   94.5  95.   95.5\n",
      "  96.   96.5  97.   97.5  98.   98.5  99.   99.5 100.  100.5 101.  101.5\n",
      " 102.  102.5 103.  103.5 104.  104.5 105.  105.5 106.  106.5 107. ]\n",
      "[  0.    0.5   1.    1.5   2.    2.5   3.    3.5   4.    4.5   5.    5.5\n",
      "   6.    6.5   7.    7.5   8.    8.5   9.    9.5  10.   10.5  11.   11.5\n",
      "  12.   12.5  13.   13.5  14.   14.5  15.   15.5  16.   16.5  17.   17.5\n",
      "  18.   18.5  19.   19.5  20.   20.5  21.   21.5  22.   22.5  23.   23.5\n",
      "  24.   24.5  25.   25.5  26.   26.5  27.   27.5  28.   28.5  29.   29.5\n",
      "  30.   30.5  31.   31.5  32.   32.5  33.   33.5  34.   34.5  35.   35.5\n",
      "  36.   36.5  37.   37.5  38.   38.5  39.   39.5  40.   40.5  41.   41.5\n",
      "  42.   42.5  43.   43.5  44.   44.5  45.   45.5  46.   46.5  47.   47.5\n",
      "  48.   48.5  49.   49.5  50.   50.5  51.   51.5  52.   52.5  53.   53.5\n",
      "  54.   54.5  55.   55.5  56.   56.5  57.   57.5  58.   58.5  59.   59.5\n",
      "  60.   60.5  61.   61.5  62.   62.5  63.   63.5  64.   64.5  65.   65.5\n",
      "  66.   66.5  67.   67.5  68.   68.5  69.   69.5  70.   70.5  71.   71.5\n",
      "  72.   72.5  73.   73.5  74.   74.5  75.   75.5  76.   76.5  77.   77.5\n",
      "  78.   78.5  79.   79.5  80.   80.5  81.   81.5  82.   82.5  83.   83.5\n",
      "  84.   84.5  85.   85.5  86.   86.5  87.   87.5  88.   88.5  89.   89.5\n",
      "  90.   90.5  91.   91.5  92.   92.5  93.   93.5  94.   94.5  95.   95.5\n",
      "  96.   96.5  97.   97.5  98.   98.5  99.   99.5 100.  100.5 101.  101.5\n",
      " 102.  102.5 103.  103.5 104.  104.5 105.  105.5 106.  106.5 107. ]\n",
      "[  0.    0.5   1.    1.5   2.    2.5   3.    3.5   4.    4.5   5.    5.5\n",
      "   6.    6.5   7.    7.5   8.    8.5   9.    9.5  10.   10.5  11.   11.5\n",
      "  12.   12.5  13.   13.5  14.   14.5  15.   15.5  16.   16.5  17.   17.5\n",
      "  18.   18.5  19.   19.5  20.   20.5  21.   21.5  22.   22.5  23.   23.5\n",
      "  24.   24.5  25.   25.5  26.   26.5  27.   27.5  28.   28.5  29.   29.5\n",
      "  30.   30.5  31.   31.5  32.   32.5  33.   33.5  34.   34.5  35.   35.5\n",
      "  36.   36.5  37.   37.5  38.   38.5  39.   39.5  40.   40.5  41.   41.5\n",
      "  42.   42.5  43.   43.5  44.   44.5  45.   45.5  46.   46.5  47.   47.5\n",
      "  48.   48.5  49.   49.5  50.   50.5  51.   51.5  52.   52.5  53.   53.5\n",
      "  54.   54.5  55.   55.5  56.   56.5  57.   57.5  58.   58.5  59.   59.5\n",
      "  60.   60.5  61.   61.5  62.   62.5  63.   63.5  64.   64.5  65.   65.5\n",
      "  66.   66.5  67.   67.5  68.   68.5  69.   69.5  70.   70.5  71.   71.5\n",
      "  72.   72.5  73.   73.5  74.   74.5  75.   75.5  76.   76.5  77.   77.5\n",
      "  78.   78.5  79.   79.5  80.   80.5  81.   81.5  82.   82.5  83.   83.5\n",
      "  84.   84.5  85.   85.5  86.   86.5  87.   87.5  88.   88.5  89.   89.5\n",
      "  90.   90.5  91.   91.5  92.   92.5  93.   93.5  94.   94.5  95.   95.5\n",
      "  96.   96.5  97.   97.5  98.   98.5  99.   99.5 100.  100.5 101.  101.5\n",
      " 102.  102.5 103.  103.5 104.  104.5 105.  105.5 106.  106.5 107. ]\n",
      "[0.5 0.  0. ]\n",
      "[0.  0.5 0. ]\n",
      "[0.  0.  0.5]\n",
      "[0.5 0.5 0.5]\n",
      "[215 215 215]\n",
      "[0. 0. 0.]\n",
      "[0.76]\n",
      "[0.53]\n",
      "[0.55]\n",
      "/home/jtufts/src/p39/fftanalysis\n",
      "[1.]\n",
      "Number of atoms in /home/jtufts/Desktop/FFT_PPI/2.redock/1.amber/2OOB_A:B/ligand.inpcrd is 777\n",
      "Ligand translated by [ 9.5 12.   5. ]\n",
      "[1.0249821 1.0339973 1.121    ]\n"
     ]
    }
   ],
   "source": [
    "from bpmfwfft.grids import RecGrid\n",
    "from bpmfwfft.grids import LigGrid\n",
    "\n",
    "rec_prmtop = \"/home/jtufts/Desktop/FFT_PPI/2.redock/1.amber/2OOB_A:B/receptor.prmtop\"\n",
    "lj_sigma_scal_fact = 1.0\n",
    "rec_inpcrd = \"/home/jtufts/Desktop/FFT_PPI/2.redock/1.amber/2OOB_A:B/receptor.inpcrd\"\n",
    "\n",
    "bsite_file = None\n",
    "grid_nc_file = \"/home/jtufts/Desktop/FFT_PPI/2.redock/4.receptor_grid/2OOB_A:B/grid.nc\"\n",
    "\n",
    "lig_prmtop = \"/home/jtufts/Desktop/FFT_PPI/2.redock/1.amber/2OOB_A:B/ligand.prmtop\"\n",
    "lig_inpcrd = \"/home/jtufts/Desktop/FFT_PPI/2.redock/1.amber/2OOB_A:B/ligand.inpcrd\"\n",
    "\n",
    "rho = 9.0\n",
    "rc_scale = 0.76\n",
    "rs_scale = 0.53\n",
    "rm_scale = 0.55\n",
    "lc_scale = 0.81\n",
    "ls_scale = 0.50\n",
    "lm_scale = 0.54\n",
    "\n",
    "\n",
    "def _create_rec_grid(rec_prmtop, lj_sigma_scal_fact, rc_scale, rs_scale, rm_scale, rho, rec_inpcrd, bsite_file, grid_nc_file):\n",
    "    rec_grid = RecGrid(rec_prmtop, lj_sigma_scal_fact, rc_scale, rs_scale, rm_scale, rho, rec_inpcrd, bsite_file, \n",
    "                        grid_nc_file, new_calculation=False)\n",
    "    return rec_grid\n",
    "\n",
    "def _create_lig_grid(lig_prmtop, lj_sigma_scal_fact, lc_scale, ls_scale, lm_scale, lig_inpcrd, rec_grid):\n",
    "    lig_grid = LigGrid(lig_prmtop, lj_sigma_scal_fact, lc_scale, ls_scale, lm_scale, lig_inpcrd, rec_grid)\n",
    "    return lig_grid\n",
    "\n",
    "rec_grid = _create_rec_grid(rec_prmtop, lj_sigma_scal_fact, rc_scale, rs_scale, rm_scale, rho, rec_inpcrd, bsite_file, grid_nc_file)\n",
    "\n",
    "lig_grid = _create_lig_grid(lig_prmtop, lj_sigma_scal_fact, lc_scale, ls_scale, lm_scale, lig_inpcrd, rec_grid)"
   ]
  },
  {
   "cell_type": "code",
   "execution_count": 6,
   "id": "ef994898-9846-44c5-b1ca-2ae649057bb2",
   "metadata": {},
   "outputs": [],
   "source": [
    "names = [\"SASA\"]\n",
    "lgrid = lig_grid.get_ligand_grids(names, [0,0,0])"
   ]
  },
  {
   "cell_type": "code",
   "execution_count": 7,
   "id": "3645d89e-207e-4586-b985-fe1f74d6f440",
   "metadata": {},
   "outputs": [],
   "source": [
    "import numpy as np\n",
    "rgrid = np.add(sasar, sasai*1.j)"
   ]
  },
  {
   "cell_type": "code",
   "execution_count": 8,
   "id": "c3583b3d-4490-460d-a8b3-90701cdaf98b",
   "metadata": {},
   "outputs": [
    {
     "name": "stdout",
     "output_type": "stream",
     "text": [
      "0j\n"
     ]
    }
   ],
   "source": [
    "print((lgrid[\"SASA\"]*rgrid).sum())"
   ]
  },
  {
   "cell_type": "code",
   "execution_count": 9,
   "id": "87ae65b9-33d9-492b-8be4-2683c1169a3d",
   "metadata": {},
   "outputs": [],
   "source": [
    "lgrid_trans = grids.translate_grid(lgrid[\"SASA\"], np.array([68,87,45]))"
   ]
  },
  {
   "cell_type": "code",
   "execution_count": 10,
   "id": "ae913610-f53e-4428-bc06-ada37faacb37",
   "metadata": {},
   "outputs": [
    {
     "name": "stdout",
     "output_type": "stream",
     "text": [
      "(551+0j)\n"
     ]
    }
   ],
   "source": [
    "print((lgrid_trans*rgrid).sum())"
   ]
  },
  {
   "cell_type": "code",
   "execution_count": 30,
   "id": "a8c21659-e27c-4b98-b353-1e3ea303f9f4",
   "metadata": {},
   "outputs": [],
   "source": [
    "# fft test\n",
    "lfft = np.fft.fftn(lgrid[\"SASA\"].conjugate())\n",
    "rfft = np.fft.fftn(rgrid)\n",
    "cfft = np.fft.ifftn(rfft*lfft.conjugate())\n",
    "score = np.real(cfft) - np.imag(cfft)"
   ]
  },
  {
   "cell_type": "code",
   "execution_count": null,
   "id": "1e648f26-6b43-4e07-b168-c20a60112476",
   "metadata": {},
   "outputs": [],
   "source": []
  },
  {
   "cell_type": "code",
   "execution_count": 34,
   "id": "a68aa7aa-519e-4de3-bbd6-38e040f92abb",
   "metadata": {},
   "outputs": [
    {
     "name": "stdout",
     "output_type": "stream",
     "text": [
      "(array([29]), array([115]), array([49])) (1324+432j) [1324.+432.j] 892.0 [892.]\n",
      "(array([30]), array([115]), array([53])) (1523+837j) [1523.+837.j] 686.0 [686.]\n",
      "(array([26]), array([117]), array([54])) (1295+504j) [1295.+504.j] 791.0 [791.]\n",
      "(array([28]), array([114]), array([51])) (1426+738j) [1426.+738.j] 688.0 [688.]\n",
      "(array([27]), array([113]), array([49])) (1281+990j) [1281.+990.j] 291.0 [291.]\n",
      "(array([31]), array([114]), array([49])) (1395+756j) [1395.+756.j] 639.0 [639.]\n",
      "(array([28]), array([116]), array([52])) (1363+234j) [1363.+234.j] 1129.0 [1129.]\n",
      "(array([30]), array([117]), array([50])) (1251+216j) [1251.+216.j] 1035.0 [1035.]\n",
      "(array([31]), array([114]), array([54])) (1584+1728j) [1584.+1728.j] -144.0 [-144.]\n"
     ]
    }
   ],
   "source": [
    "for i in range(9):\n",
    "    # rx,ry,rz = np.random.randint(0, counts[0], 3)\n",
    "    # rx = np.random.randint(19, 39, 1)\n",
    "    # ry = np.random.randint(81, 101, 1)\n",
    "    # rz = np.random.randint(74, 94, 1)\n",
    "    rx = np.random.randint(26, 32, 1)\n",
    "    ry = np.random.randint(113, 119, 1)\n",
    "    rz = np.random.randint(49, 55, 1)\n",
    "    lgrid_trans = grids.translate_grid(lgrid[\"SASA\"], [rx,ry,rz])\n",
    "    result = (lgrid_trans*rgrid).sum()\n",
    "    print((rx,ry,rz), result, cfft[rx,ry,rz], (np.real(result)-np.imag(result)), score[rx,ry,rz])"
   ]
  },
  {
   "cell_type": "code",
   "execution_count": 32,
   "id": "1699674b-5628-41d0-9bac-ef4a59ac385a",
   "metadata": {},
   "outputs": [
    {
     "name": "stdout",
     "output_type": "stream",
     "text": [
      "(4354.999999999999+9981j) (array([53]), array([91]), array([84]))\n",
      "1246.0 (array([29]), array([116]), array([52]))\n"
     ]
    }
   ],
   "source": [
    "test = np.where(cfft == np.amax(cfft))\n",
    "\n",
    "test2 = np.where(score == np.amax(score))\n",
    "\n",
    "print(np.amax(cfft), test)\n",
    "print(np.amax(score), test2)\n"
   ]
  },
  {
   "cell_type": "code",
   "execution_count": 37,
   "id": "5c515ed1-2c35-4566-a4a0-27d6a4ebce6e",
   "metadata": {},
   "outputs": [],
   "source": [
    "rec_grid._crd = np.concatenate((rec_grid._crd, lig_grid._crd)) "
   ]
  },
  {
   "cell_type": "code",
   "execution_count": 40,
   "id": "0e95ab43-eac8-415b-b806-c35eaf6d5470",
   "metadata": {},
   "outputs": [],
   "source": [
    "import copy\n",
    "test1 = copy.deepcopy(rec_grid)"
   ]
  },
  {
   "cell_type": "code",
   "execution_count": 43,
   "id": "58046f37-8e39-40fd-bc38-294177dd145a",
   "metadata": {},
   "outputs": [
    {
     "name": "stdout",
     "output_type": "stream",
     "text": [
      "<bpmfwfft.grids.RecGrid object at 0x7fa55bde16d0> <bpmfwfft.grids.RecGrid object at 0x7fa55e4703a0>\n"
     ]
    }
   ],
   "source": [
    "print(test1, rec_grid)"
   ]
  },
  {
   "cell_type": "code",
   "execution_count": 44,
   "id": "b592d4ed-05a4-404a-8903-1592431b7ca1",
   "metadata": {},
   "outputs": [
    {
     "data": {
      "text/plain": [
       "dict_keys(['CHARGE_E_UNIT', 'R_LJ_CHARGE', 'A_LJ_CHARGE', 'LJ_SIGMA', 'LJ_EPSILON', 'VDW_RADII', 'POINTERS', 'MASS', 'PDB_TEMPLATE'])"
      ]
     },
     "execution_count": 44,
     "metadata": {},
     "output_type": "execute_result"
    }
   ],
   "source": [
    "rec_grid._prmtop.keys()"
   ]
  },
  {
   "cell_type": "code",
   "execution_count": 49,
   "id": "72e59a85-5ba3-42e6-bc54-84d3bd201cbc",
   "metadata": {},
   "outputs": [
    {
     "name": "stdout",
     "output_type": "stream",
     "text": [
      "CHARGE_E_UNIT (1231,)\n",
      "R_LJ_CHARGE (1231,)\n",
      "A_LJ_CHARGE (1231,)\n",
      "LJ_SIGMA (1231,)\n",
      "LJ_EPSILON (1231,)\n",
      "VDW_RADII (1231,)\n"
     ]
    },
    {
     "ename": "AttributeError",
     "evalue": "'dict' object has no attribute 'shape'",
     "output_type": "error",
     "traceback": [
      "\u001b[0;31m---------------------------------------------------------------------------\u001b[0m",
      "\u001b[0;31mAttributeError\u001b[0m                            Traceback (most recent call last)",
      "\u001b[0;32m/tmp/ipykernel_4148/267657786.py\u001b[0m in \u001b[0;36m<module>\u001b[0;34m\u001b[0m\n\u001b[1;32m      4\u001b[0m \u001b[0mcomplex_test\u001b[0m \u001b[0;34m=\u001b[0m \u001b[0mcopy\u001b[0m\u001b[0;34m.\u001b[0m\u001b[0mdeepcopy\u001b[0m\u001b[0;34m(\u001b[0m\u001b[0mrec_grid\u001b[0m\u001b[0;34m)\u001b[0m\u001b[0;34m\u001b[0m\u001b[0;34m\u001b[0m\u001b[0m\n\u001b[1;32m      5\u001b[0m \u001b[0;32mfor\u001b[0m \u001b[0mkey\u001b[0m \u001b[0;32min\u001b[0m \u001b[0mkeys\u001b[0m\u001b[0;34m:\u001b[0m\u001b[0;34m\u001b[0m\u001b[0;34m\u001b[0m\u001b[0m\n\u001b[0;32m----> 6\u001b[0;31m     \u001b[0;32mif\u001b[0m \u001b[0mcomplex_test\u001b[0m\u001b[0;34m.\u001b[0m\u001b[0m_prmtop\u001b[0m\u001b[0;34m[\u001b[0m\u001b[0mkey\u001b[0m\u001b[0;34m]\u001b[0m\u001b[0;34m.\u001b[0m\u001b[0mshape\u001b[0m \u001b[0;34m!=\u001b[0m \u001b[0;36m0\u001b[0m\u001b[0;34m:\u001b[0m\u001b[0;34m\u001b[0m\u001b[0;34m\u001b[0m\u001b[0m\n\u001b[0m\u001b[1;32m      7\u001b[0m         \u001b[0mprint\u001b[0m\u001b[0;34m(\u001b[0m\u001b[0mkey\u001b[0m\u001b[0;34m,\u001b[0m \u001b[0mcomplex_test\u001b[0m\u001b[0;34m.\u001b[0m\u001b[0m_prmtop\u001b[0m\u001b[0;34m[\u001b[0m\u001b[0mkey\u001b[0m\u001b[0;34m]\u001b[0m\u001b[0;34m.\u001b[0m\u001b[0mshape\u001b[0m\u001b[0;34m)\u001b[0m\u001b[0;34m\u001b[0m\u001b[0;34m\u001b[0m\u001b[0m\n\u001b[1;32m      8\u001b[0m         \u001b[0mcomplex_test\u001b[0m\u001b[0;34m.\u001b[0m\u001b[0m_prmtop\u001b[0m\u001b[0;34m[\u001b[0m\u001b[0mkey\u001b[0m\u001b[0;34m]\u001b[0m \u001b[0;34m=\u001b[0m \u001b[0mnp\u001b[0m\u001b[0;34m.\u001b[0m\u001b[0mconcatenate\u001b[0m\u001b[0;34m(\u001b[0m\u001b[0;34m(\u001b[0m\u001b[0mrec_grid\u001b[0m\u001b[0;34m.\u001b[0m\u001b[0m_prmtop\u001b[0m\u001b[0;34m[\u001b[0m\u001b[0mkey\u001b[0m\u001b[0;34m]\u001b[0m\u001b[0;34m,\u001b[0m\u001b[0mlig_grid\u001b[0m\u001b[0;34m.\u001b[0m\u001b[0m_prmtop\u001b[0m\u001b[0;34m[\u001b[0m\u001b[0mkey\u001b[0m\u001b[0;34m]\u001b[0m\u001b[0;34m)\u001b[0m\u001b[0;34m)\u001b[0m\u001b[0;34m\u001b[0m\u001b[0;34m\u001b[0m\u001b[0m\n",
      "\u001b[0;31mAttributeError\u001b[0m: 'dict' object has no attribute 'shape'"
     ]
    }
   ],
   "source": [
    "keys = list(rec_grid._prmtop.keys())\n",
    "\n",
    "import copy\n",
    "complex_grid = copy.deepcopy(rec_grid)\n",
    "for key in keys:\n",
    "    if isinstance(complex_grid._prmtop[key], np.ndarray):\n",
    "        print(key, complex_grid._prmtop[key].shape)\n",
    "        complex_grid._prmtop[key] = np.concatenate((rec_grid._prmtop[key],lig_grid._prmtop[key]))\n",
    "    else:\n",
    "        keys2 = \n",
    "\n",
    "print(rec_grid._prmtop[\"VDW_RADII\"].shape(), complex_grid._prmtop[\"VDW_RADII\"])"
   ]
  },
  {
   "cell_type": "code",
   "execution_count": 50,
   "id": "6feb97d2-7548-4889-9754-a63dc69b123c",
   "metadata": {},
   "outputs": [
    {
     "name": "stdout",
     "output_type": "stream",
     "text": [
      "<class 'numpy.ndarray'>\n"
     ]
    }
   ],
   "source": [
    "print(type(rec_grid._prmtop[\"VDW_RADII\"]))"
   ]
  },
  {
   "cell_type": "code",
   "execution_count": 51,
   "id": "6acc9a81-550d-48db-a4d9-960dd8936b6f",
   "metadata": {},
   "outputs": [
    {
     "name": "stdout",
     "output_type": "stream",
     "text": [
      "true\n"
     ]
    }
   ],
   "source": [
    "if isinstance(rec_grid._prmtop[\"VDW_RADII\"], np.ndarray):\n",
    "    print('true')"
   ]
  },
  {
   "cell_type": "code",
   "execution_count": null,
   "id": "4912ac6e-cabd-4e8f-9691-5f5cd8f934a2",
   "metadata": {},
   "outputs": [],
   "source": []
  }
 ],
 "metadata": {
  "kernelspec": {
   "display_name": "Python 3 (ipykernel)",
   "language": "python",
   "name": "python3"
  },
  "language_info": {
   "codemirror_mode": {
    "name": "ipython",
    "version": 3
   },
   "file_extension": ".py",
   "mimetype": "text/x-python",
   "name": "python",
   "nbconvert_exporter": "python",
   "pygments_lexer": "ipython3",
   "version": "3.9.6"
  }
 },
 "nbformat": 4,
 "nbformat_minor": 5
}
