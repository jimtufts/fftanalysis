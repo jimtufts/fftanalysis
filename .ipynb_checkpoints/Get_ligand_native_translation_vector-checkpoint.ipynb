{
 "cells": [
  {
   "cell_type": "code",
   "execution_count": 1,
   "metadata": {},
   "outputs": [
    {
     "name": "stdout",
     "output_type": "stream",
     "text": [
      "[ 70.99998898  16.25003728 -43.7500335 ]\n"
     ]
    },
    {
     "name": "stderr",
     "output_type": "stream",
     "text": [
      "/home/jim/anaconda3/envs/fftanalysis/lib/python3.6/site-packages/MDAnalysis/topology/PDBParser.py:330: UserWarning: Element information is absent or missing for a few atoms. Elements attributes will not be populated.\n",
      "  warnings.warn(\"Element information is absent or missing for a few \"\n"
     ]
    }
   ],
   "source": [
    "from prody import *\n",
    "from pylab import *\n",
    "import MDAnalysis as mda\n",
    "\n",
    "orig_receptor_inpcrd_path = '/home/jim/Desktop/FFT_notebook/2.minimize/1AVZ_B:C/receptor.inpcrd'\n",
    "orig_receptor_prmtop_path = '/home/jim/Desktop/FFT_notebook/1.amber/1AVZ_B:C/receptor.prmtop'\n",
    "trans_receptor_path = '/home/jim/Desktop/FFT_notebook/4.receptor_grid/1AVZ_B:C/receptor_trans.pdb'\n",
    "orig_ligand_inpcrd_path = '/home/jim/Desktop/FFT_notebook/2.minimize/1AVZ_B:C/ligand.inpcrd'\n",
    "orig_ligand_prmtop_path = '/home/jim/Desktop/FFT_notebook/1.amber/1AVZ_B:C/ligand.prmtop'\n",
    "\n",
    "\n",
    "orig_receptor = mda.Universe(orig_receptor_prmtop_path, orig_receptor_inpcrd_path)\n",
    "trans_receptor = mda.Universe(trans_receptor_path)\n",
    "\n",
    "orig_ligand = mda.Universe(orig_ligand_prmtop_path, orig_ligand_inpcrd_path)\n",
    "\n",
    "#trans_ligand = orig_ligand.coord.positions\n",
    "\n",
    "#print(trans_ligand)\n",
    "\n",
    "# print(orig_receptor.coord[0])\n",
    "# print(trans_receptor.coord[0][0]-orig_receptor.coord[0][0])\n",
    "# print(trans_receptor.coord[0][1]-orig_receptor.coord[0][1])\n",
    "# print(trans_receptor.coord[0][2]-orig_receptor.coord[0][2])\n",
    "\n",
    "vector = calcTransformation(orig_receptor.coord.positions, trans_receptor.coord.positions)\n",
    "\n",
    "print(vector.getTranslation())\n",
    "#trans_ligand\n",
    "\n",
    "translation = [trans_receptor.coord[0][0]-orig_receptor.coord[0][0], \n",
    "               trans_receptor.coord[0][1]-orig_receptor.coord[0][1], \n",
    "               trans_receptor.coord[0][2]-orig_receptor.coord[0][2]]\n"
   ]
  },
  {
   "cell_type": "code",
   "execution_count": 2,
   "metadata": {},
   "outputs": [],
   "source": [
    "trans_ligand = orig_ligand.atoms.translate(vector.getTranslation())\n",
    "        "
   ]
  },
  {
   "cell_type": "code",
   "execution_count": 34,
   "metadata": {},
   "outputs": [
    {
     "name": "stdout",
     "output_type": "stream",
     "text": [
      "[[64.71324  58.65832  29.365316]\n",
      " [64.52568  57.74833  28.95999 ]\n",
      " [64.56123  58.54252  30.361898]\n",
      " ...\n",
      " [64.22611  55.205795 29.478918]\n",
      " [63.887478 56.168003 28.754057]\n",
      " [63.44074  54.32787  29.897161]]\n"
     ]
    }
   ],
   "source": [
    "print(trans_ligand.positions)"
   ]
  },
  {
   "cell_type": "code",
   "execution_count": 3,
   "metadata": {},
   "outputs": [
    {
     "name": "stderr",
     "output_type": "stream",
     "text": [
      "/home/jim/anaconda3/envs/fftanalysis/lib/python3.6/site-packages/MDAnalysis/coordinates/PDB.py:722: UserWarning: Unit cell dimensions not found. CRYST1 record set to unitary values.\n",
      "  warnings.warn(\"Unit cell dimensions not found. \"\n",
      "/home/jim/anaconda3/envs/fftanalysis/lib/python3.6/site-packages/MDAnalysis/coordinates/PDB.py:1028: UserWarning: Found no information for attr: 'altLocs' Using default value of ' '\n",
      "  \"\".format(attrname, default))\n",
      "/home/jim/anaconda3/envs/fftanalysis/lib/python3.6/site-packages/MDAnalysis/coordinates/PDB.py:1028: UserWarning: Found no information for attr: 'icodes' Using default value of ' '\n",
      "  \"\".format(attrname, default))\n",
      "/home/jim/anaconda3/envs/fftanalysis/lib/python3.6/site-packages/MDAnalysis/coordinates/PDB.py:1028: UserWarning: Found no information for attr: 'occupancies' Using default value of '1.0'\n",
      "  \"\".format(attrname, default))\n",
      "/home/jim/anaconda3/envs/fftanalysis/lib/python3.6/site-packages/MDAnalysis/coordinates/PDB.py:1028: UserWarning: Found no information for attr: 'tempfactors' Using default value of '0.0'\n",
      "  \"\".format(attrname, default))\n",
      "/home/jim/anaconda3/envs/fftanalysis/lib/python3.6/site-packages/MDAnalysis/core/topologyattrs.py:2011: VisibleDeprecationWarning: Creating an ndarray from ragged nested sequences (which is a list-or-tuple of lists-or-tuples-or ndarrays with different lengths or shapes) is deprecated. If you meant to do this, you must specify 'dtype=object' when creating the ndarray\n",
      "  np.array(sorted(unique_bonds)), 4)\n"
     ]
    }
   ],
   "source": [
    "trans_ligand.atoms.write(\"trans_ligand_test.pdb\")"
   ]
  },
  {
   "cell_type": "code",
   "execution_count": null,
   "metadata": {},
   "outputs": [],
   "source": []
  }
 ],
 "metadata": {
  "kernelspec": {
   "display_name": "Python 3",
   "language": "python",
   "name": "python3"
  },
  "language_info": {
   "codemirror_mode": {
    "name": "ipython",
    "version": 3
   },
   "file_extension": ".py",
   "mimetype": "text/x-python",
   "name": "python",
   "nbconvert_exporter": "python",
   "pygments_lexer": "ipython3",
   "version": "3.7.6"
  }
 },
 "nbformat": 4,
 "nbformat_minor": 2
}
